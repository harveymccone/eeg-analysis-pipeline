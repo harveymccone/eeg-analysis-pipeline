{
 "cells": [
  {
   "cell_type": "markdown",
   "metadata": {
    "id": "vAYSQjOvFBLM"
   },
   "source": [
    "# Script Set Up"
   ]
  },
  {
   "cell_type": "code",
   "execution_count": null,
   "metadata": {
    "id": "bJW-Y2dFE-zI"
   },
   "outputs": [],
   "source": [
    "%matplotlib inline"
   ]
  },
  {
   "cell_type": "code",
   "execution_count": null,
   "metadata": {
    "colab": {
     "base_uri": "https://localhost:8080/"
    },
    "executionInfo": {
     "elapsed": 22053,
     "status": "ok",
     "timestamp": 1702306792756,
     "user": {
      "displayName": "Harvey McCone",
      "userId": "11012039386955284988"
     },
     "user_tz": 0
    },
    "id": "GOjs4ohiFPwL",
    "outputId": "8273f9a2-02a3-4c80-a9d9-3284e7536ceb"
   },
   "outputs": [],
   "source": [
    "!pip install mne"
   ]
  },
  {
   "cell_type": "code",
   "execution_count": null,
   "metadata": {
    "id": "G1MKm3O-FbsR"
   },
   "outputs": [],
   "source": [
    "import os\n",
    "import numpy as np\n",
    "from matplotlib import pyplot as plt\n",
    "from scipy import stats\n",
    "import pandas as pd\n",
    "import seaborn as sns\n",
    "import mne\n",
    "import statistics"
   ]
  },
  {
   "cell_type": "code",
   "execution_count": null,
   "metadata": {
    "colab": {
     "base_uri": "https://localhost:8080/"
    },
    "executionInfo": {
     "elapsed": 37864,
     "status": "ok",
     "timestamp": 1702306840021,
     "user": {
      "displayName": "Harvey McCone",
      "userId": "11012039386955284988"
     },
     "user_tz": 0
    },
    "id": "JT21nKThSSIc",
    "outputId": "628622f5-7512-4bf2-fc2c-ae1c404b33b6"
   },
   "outputs": [],
   "source": [
    "!pip install pingouin"
   ]
  },
  {
   "cell_type": "code",
   "execution_count": null,
   "metadata": {
    "id": "KHkMHVUSSVMa"
   },
   "outputs": [],
   "source": [
    "import pingouin as pg"
   ]
  },
  {
   "cell_type": "code",
   "execution_count": null,
   "metadata": {
    "colab": {
     "base_uri": "https://localhost:8080/"
    },
    "executionInfo": {
     "elapsed": 18839,
     "status": "ok",
     "timestamp": 1702306861060,
     "user": {
      "displayName": "Harvey McCone",
      "userId": "11012039386955284988"
     },
     "user_tz": 0
    },
    "id": "94eTuNOJFRLr",
    "outputId": "025f9f53-1333-42ef-9938-882da8719c1f"
   },
   "outputs": [],
   "source": [
    "from google.colab import drive\n",
    "drive.mount('/content/gdrive')"
   ]
  },
  {
   "cell_type": "markdown",
   "metadata": {
    "id": "pV6G_B56QshT"
   },
   "source": [
    "# Load Behaviour\n",
    "Metadata (dataframes) with no trials rejected"
   ]
  },
  {
   "cell_type": "code",
   "execution_count": null,
   "metadata": {
    "colab": {
     "base_uri": "https://localhost:8080/"
    },
    "executionInfo": {
     "elapsed": 19567,
     "status": "ok",
     "timestamp": 1702306880624,
     "user": {
      "displayName": "Harvey McCone",
      "userId": "11012039386955284988"
     },
     "user_tz": 0
    },
    "id": "eJccIrXcQ7bE",
    "outputId": "e0b7c303-b750-4579-ffbf-314fe90893ac"
   },
   "outputs": [],
   "source": [
    "ID_list = ['P1', 'P3', 'P4', 'P7', 'P10', 'P12', 'P15', 'P17', 'P19', 'P21', 'P22', 'P23', 'P24',\n",
    "           'P26', 'P27', 'P28', 'P29', 'P30']\n",
    "\n",
    "group_behaviour_encode = []\n",
    "group_behaviour_repo = []\n",
    "group_behaviour_RL = []\n",
    "\n",
    "for ID in ID_list:\n",
    "  fname = \"/content/gdrive/MyDrive/Time_Reproduction/Metadata/\" + ID + \"_Encoding_Metadata_All.csv\"\n",
    "  df = pd.read_csv(fname,  index_col = 0)\n",
    "  df[\"ID\"] = ID # adding ID column\n",
    "  temp_cols=df.columns.tolist()\n",
    "  new_cols=temp_cols[-1:] + temp_cols[:-1]\n",
    "  df=df[new_cols]\n",
    "  group_behaviour_encode.append(df)\n",
    "\n",
    "  fname = \"/content/gdrive/MyDrive/Time_Reproduction/Metadata/\" + ID + \"_Repo_Metadata_All.csv\"\n",
    "  df = pd.read_csv(fname,  index_col = 0)\n",
    "  group_behaviour_repo.append(df)\n",
    "\n",
    "  fname = \"/content/gdrive/MyDrive/Time_Reproduction/Metadata/\" + ID + \"_RL_Metadata_All.csv\"\n",
    "  df = pd.read_csv(fname,  index_col = 0)\n",
    "  group_behaviour_RL.append(df)\n",
    "\n",
    "group_behaviour_df = pd.concat(group_behaviour_encode, ignore_index = True)\n",
    "print(group_behaviour_df.shape)\n",
    "\n",
    "group_behaviour_repo_df = pd.concat(group_behaviour_repo, ignore_index = True)\n",
    "print(group_behaviour_repo_df.shape)\n",
    "\n",
    "group_behaviour_RL_df = pd.concat(group_behaviour_RL, ignore_index = True)\n",
    "print(group_behaviour_RL_df.shape)"
   ]
  },
  {
   "cell_type": "code",
   "execution_count": null,
   "metadata": {
    "colab": {
     "base_uri": "https://localhost:8080/",
     "height": 206
    },
    "executionInfo": {
     "elapsed": 30,
     "status": "ok",
     "timestamp": 1702306880624,
     "user": {
      "displayName": "Harvey McCone",
      "userId": "11012039386955284988"
     },
     "user_tz": 0
    },
    "id": "-MfIBEykQrUw",
    "outputId": "c9f99b51-65af-484b-a4e5-2fdc7e7f9277"
   },
   "outputs": [],
   "source": [
    "group_behaviour_df.head()"
   ]
  },
  {
   "cell_type": "markdown",
   "metadata": {
    "id": "uFZ9_UDkamkn"
   },
   "source": [
    "# Removing Outlier RTs\n",
    "Removing RTs < 150ms abd RTs > 1500ms"
   ]
  },
  {
   "cell_type": "code",
   "execution_count": null,
   "metadata": {
    "colab": {
     "base_uri": "https://localhost:8080/"
    },
    "executionInfo": {
     "elapsed": 17,
     "status": "ok",
     "timestamp": 1702306880626,
     "user": {
      "displayName": "Harvey McCone",
      "userId": "11012039386955284988"
     },
     "user_tz": 0
    },
    "id": "tACrgj30ar7c",
    "outputId": "e0882b90-ca4d-4663-f8d3-ef366528e956"
   },
   "outputs": [],
   "source": [
    "print(group_behaviour_df.shape[0])\n",
    "group_behaviour_df_outliers = group_behaviour_df.query(\"Response_Time < 150\").index\n",
    "print(group_behaviour_df_outliers)\n",
    "group_behaviour_df_outliers = list(group_behaviour_df_outliers)\n",
    "print(group_behaviour_df_outliers)\n",
    "print(len(group_behaviour_df_outliers))\n",
    "group_behaviour_df_outliers += list(group_behaviour_df.query(\"Response_Time > 1500\").index)\n",
    "group_behaviour_df = group_behaviour_df.drop(group_behaviour_df_outliers)\n",
    "print(group_behaviour_df.shape[0])"
   ]
  },
  {
   "cell_type": "markdown",
   "metadata": {
    "id": "1hi66lKvwTF7"
   },
   "source": [
    "# Subtracting 50ms from response times"
   ]
  },
  {
   "cell_type": "code",
   "execution_count": null,
   "metadata": {
    "colab": {
     "base_uri": "https://localhost:8080/"
    },
    "executionInfo": {
     "elapsed": 15,
     "status": "ok",
     "timestamp": 1702306880626,
     "user": {
      "displayName": "Harvey McCone",
      "userId": "11012039386955284988"
     },
     "user_tz": 0
    },
    "id": "EM_lrBEbwZqg",
    "outputId": "9a8f7e2d-a8b4-4596-90b2-bcf579b3496c"
   },
   "outputs": [],
   "source": [
    "copy_df = group_behaviour_df.copy()\n",
    "print(group_behaviour_df[\"Response_Time\"].mean())\n",
    "group_behaviour_df[\"Response_Time\"] = group_behaviour_df[\"Response_Time\"] - 50\n",
    "print(group_behaviour_df[\"Response_Time\"].mean())"
   ]
  },
  {
   "cell_type": "markdown",
   "metadata": {
    "id": "arKc6-Zukxlk"
   },
   "source": [
    "# Relabel the Trigger Column"
   ]
  },
  {
   "cell_type": "code",
   "execution_count": null,
   "metadata": {
    "id": "c7Rsg0l9k26Y"
   },
   "outputs": [],
   "source": [
    "replace_dict = {51: 600, 52: 650, 53: 700, 54: 750, 55: 800, 56: 850, 57: 900, 58: 950, 59: 1000}\n",
    "group_behaviour_df[\"Trigger\"].replace(replace_dict, inplace = True)\n",
    "\n",
    "group_behaviour_df.rename(columns = {\"Trigger\": \"SI\"}, inplace = True)\n",
    "\n",
    "copy_df[\"Trigger\"].replace(replace_dict, inplace = True)\n",
    "copy_df.rename(columns = {\"Trigger\": \"SI\"}, inplace = True)"
   ]
  },
  {
   "cell_type": "code",
   "execution_count": null,
   "metadata": {
    "colab": {
     "base_uri": "https://localhost:8080/",
     "height": 424
    },
    "executionInfo": {
     "elapsed": 531,
     "status": "ok",
     "timestamp": 1702306881144,
     "user": {
      "displayName": "Harvey McCone",
      "userId": "11012039386955284988"
     },
     "user_tz": 0
    },
    "id": "qESQn0fEoRta",
    "outputId": "989d90af-75c2-44da-efe7-adc320a4e028"
   },
   "outputs": [],
   "source": [
    "group_behaviour_df"
   ]
  },
  {
   "cell_type": "markdown",
   "metadata": {
    "id": "NXEhN31Sj6Zj"
   },
   "source": [
    "# Relationship between sample interval and RT"
   ]
  },
  {
   "cell_type": "markdown",
   "metadata": {
    "id": "ZB7U5-a5kU9w"
   },
   "source": [
    "## Get conditions\n",
    "Within participant, get mean or median RT for each sample interval"
   ]
  },
  {
   "cell_type": "code",
   "execution_count": null,
   "metadata": {
    "id": "nfYnkmVUkBmc"
   },
   "outputs": [],
   "source": [
    "SIs = np.unique(group_behaviour_df[\"SI\"])\n",
    "n_bins = len(SIs)\n",
    "mean_RTs = pd.DataFrame({\"ID\": list(\"0\") * (len(ID_list) * n_bins),\n",
    "                         \"SI\": np.zeros(len(ID_list) * n_bins),\n",
    "                          \"Mean_RT\": np.zeros(len(ID_list) * n_bins),\n",
    "                          \"Median_RT\": np.zeros(len(ID_list) * n_bins)})\n",
    "\n",
    "i  = -1\n",
    "\n",
    "for ID in ID_list:\n",
    "  participant_df = group_behaviour_df[group_behaviour_df[\"ID\"] == ID]\n",
    "\n",
    "  for j in range(0, n_bins):\n",
    "    i += 1\n",
    "    mean_RTs.at[i, \"ID\"] = ID\n",
    "    mean_RTs.at[i, \"SI\"] = SIs[j]\n",
    "    mean_RTs.at[i, \"Mean_RT\"] = participant_df[\"Response_Time\"][participant_df[\"SI\"] ==  SIs[j]].mean()\n",
    "    mean_RTs.at[i, \"Median_RT\"] = participant_df[\"Response_Time\"][participant_df[\"SI\"] ==  SIs[j]].median()"
   ]
  },
  {
   "cell_type": "code",
   "execution_count": null,
   "metadata": {
    "colab": {
     "base_uri": "https://localhost:8080/",
     "height": 424
    },
    "executionInfo": {
     "elapsed": 5,
     "status": "ok",
     "timestamp": 1702306881144,
     "user": {
      "displayName": "Harvey McCone",
      "userId": "11012039386955284988"
     },
     "user_tz": 0
    },
    "id": "OCBbN525ma75",
    "outputId": "bb58d32e-5630-4124-e2bc-11b72831e2b7"
   },
   "outputs": [],
   "source": [
    "mean_RTs"
   ]
  },
  {
   "cell_type": "markdown",
   "metadata": {
    "id": "7UJwPWrdYcwq"
   },
   "source": [
    "## Plot Mean"
   ]
  },
  {
   "cell_type": "code",
   "execution_count": null,
   "metadata": {
    "colab": {
     "base_uri": "https://localhost:8080/",
     "height": 486
    },
    "executionInfo": {
     "elapsed": 2666,
     "status": "ok",
     "timestamp": 1702306883806,
     "user": {
      "displayName": "Harvey McCone",
      "userId": "11012039386955284988"
     },
     "user_tz": 0
    },
    "id": "924rZnSpYCyh",
    "outputId": "47e01148-4161-4e1f-90b3-ce78083102ec"
   },
   "outputs": [],
   "source": [
    "fig, ax = plt.subplots()\n",
    "\n",
    "group_mean = []\n",
    "\n",
    "for SI in SIs:\n",
    "  group_mean.append(mean_RTs[\"Mean_RT\"][mean_RTs[\"SI\"] == SI].mean())\n",
    "\n",
    "ax.plot(SIs, group_mean, color = \"b\", marker = \"o\", markersize = 12, linewidth = 3, label = \"Group Mean RT\")\n",
    "for ID in ID_list:\n",
    "  participant_df = mean_RTs[mean_RTs[\"ID\"] == ID]\n",
    "  if ID == ID_list[0]:\n",
    "    ax.plot(SIs, participant_df[\"Mean_RT\"], color = \"b\", marker = \"o\", linewidth = 2, alpha = 0.1, label = \"Participant Mean RT\")\n",
    "  else:\n",
    "    ax.plot(SIs, participant_df[\"Mean_RT\"], color = \"b\", marker = \"o\", linewidth = 2, alpha = 0.1)\n",
    "\n",
    "sns.despine()\n",
    "plt.ylabel(\"Mean RT (ms)\")\n",
    "plt.ylim(500, 1150)\n",
    "\n",
    "plt.plot(SIs, SIs, \"--\", color = \"forestgreen\", linewidth = 3, label = \"Veridical Response\")\n",
    "plt.plot(SIs, np.mean(SIs) + np.zeros(len(SIs)), color = \"darkorange\", linestyle = \"--\", linewidth = 3, label = \"Average Response\")\n",
    "print(np.mean(SIs) + np.zeros(len(SIs)))\n",
    "\n",
    "plt.xlabel(\"Sample Interval (ms)\", fontsize = \"xx-large\")\n",
    "plt.ylabel(\"Mean Reproduction Time (ms)\", fontsize = \"xx-large\")\n",
    "ax = plt.gca()\n",
    "ax.tick_params(labelsize = \"xx-large\")\n",
    "plt.legend(fontsize = \"x-large\")\n",
    "\n",
    "fname = \"/content/gdrive/MyDrive/Time_Reproduction/Plots/Behaviour/\" + \"Mean_Reproduction_Time.png\"\n",
    "plt.savefig(fname, dpi = 300, bbox_inches = \"tight\")"
   ]
  },
  {
   "cell_type": "markdown",
   "metadata": {
    "id": "WkI9SukyplGH"
   },
   "source": [
    "### Calculate Linear Regression for each participant"
   ]
  },
  {
   "cell_type": "code",
   "execution_count": null,
   "metadata": {
    "colab": {
     "base_uri": "https://localhost:8080/",
     "height": 580
    },
    "executionInfo": {
     "elapsed": 586,
     "status": "ok",
     "timestamp": 1702306884386,
     "user": {
      "displayName": "Harvey McCone",
      "userId": "11012039386955284988"
     },
     "user_tz": 0
    },
    "id": "dGkvuVFZpsGJ",
    "outputId": "5b518a14-cb58-4e3e-ff5d-c5dd61d4124f"
   },
   "outputs": [],
   "source": [
    "weights = np.zeros(len(ID_list))\n",
    "intercepts = np.zeros(len(ID_list))\n",
    "r_squareds = np.zeros(len(ID_list))\n",
    "pvalues = np.zeros(len(ID_list))\n",
    "\n",
    "for i in range(0, len(ID_list)):\n",
    "  participant_df = group_behaviour_df[group_behaviour_df[\"ID\"] == ID_list[i]]\n",
    "  result = stats.linregress(participant_df[\"SI\"], participant_df[\"Response_Time\"])\n",
    "  weights[i] = result.slope\n",
    "  intercepts[i] = result.intercept\n",
    "  r_squareds[i] = result.rvalue ** 2\n",
    "  pvalues[i] = result.pvalue\n",
    "\n",
    "## Plot ##\n",
    "fig, ax = plt.subplots(figsize = (8, 6))\n",
    "\n",
    "sns.despine()\n",
    "\n",
    "plt.plot(ID_list, weights, \"o\", markersize = \"8\")\n",
    "plt.plot(ID_list, np.ones(len(ID_list)) / 2, \"k--\")\n",
    "plt.ylim(0, 1)\n",
    "plt.xlabel(\"Participant\", fontsize = \"xx-large\")\n",
    "ax.tick_params(axis = \"y\", labelsize = \"x-large\")\n",
    "ax.tick_params(axis = \"x\", labelsize = \"large\")\n",
    "plt.ylabel(\"Beta Value for Sample Interval\", fontsize = \"xx-large\")"
   ]
  },
  {
   "cell_type": "code",
   "execution_count": null,
   "metadata": {
    "colab": {
     "base_uri": "https://localhost:8080/",
     "height": 489
    },
    "executionInfo": {
     "elapsed": 2071,
     "status": "ok",
     "timestamp": 1702306886454,
     "user": {
      "displayName": "Harvey McCone",
      "userId": "11012039386955284988"
     },
     "user_tz": 0
    },
    "id": "VKqtytHfjfFj",
    "outputId": "b0c4c30d-2835-499d-d860-32fa22bc3d5b"
   },
   "outputs": [],
   "source": [
    "fig, ax = plt.subplots(figsize = (7, 5))\n",
    "\n",
    "plt.plot(np.arange(1, len(ID_list) + 1), np.sort(weights), \"bo\", markersize = \"8\")\n",
    "plt.plot(np.arange(1, len(ID_list) + 1), np.ones(len(ID_list)), \"--\", color = \"forestgreen\", linewidth = 2)\n",
    "#plt.plot(np.arange(1, len(ID_list) + 1), np.zeros(len(ID_list)), \"--\", color = \"darkorange\", linewidth = 2)\n",
    "\n",
    "ax.text(x = 18.5, y = 0.975, s = \"Veridical Responder\", fontsize = \"x-large\", color = \"forestgreen\")\n",
    "#ax.text(x = 18.5, y = -0.025, s = \"Average Responder\", fontsize = \"x-large\", color = \"darkorange\")\n",
    "\n",
    "sns.despine()\n",
    "plt.ylim(-0.1, 1)\n",
    "plt.xlabel(\"Participant\", fontsize = \"xx-large\")\n",
    "plt.xticks(np.linspace(1, 18, dtype = int))\n",
    "ax.tick_params(axis = \"y\", labelsize = \"xx-large\")\n",
    "ax.tick_params(axis = \"x\", labelsize = \"x-large\")\n",
    "plt.ylabel(\"Beta Weight Sample Interval\", fontsize = \"xx-large\")\n",
    "\n",
    "fname = \"/content/gdrive/MyDrive/Time_Reproduction/Plots/Behaviour/\" + \"SI_Beta_Weights.png\"\n",
    "plt.savefig(fname, dpi = 300, bbox_inches = \"tight\")"
   ]
  },
  {
   "cell_type": "markdown",
   "metadata": {
    "id": "EQ5LFVmjneD6"
   },
   "source": [
    "# Relationship between gap and RT"
   ]
  },
  {
   "cell_type": "markdown",
   "metadata": {
    "id": "Mp4BPps7OgMz"
   },
   "source": [
    "## Z-Score gap duration within participant and then plot as a group"
   ]
  },
  {
   "cell_type": "code",
   "execution_count": null,
   "metadata": {
    "id": "ARgqIWo8Ol_k"
   },
   "outputs": [],
   "source": [
    "standardized_gaps = list(np.zeros(len(ID_list)))\n",
    "\n",
    "for i in range(0, len(ID_list)):\n",
    "  ID = ID_list[i]\n",
    "  participant_df = group_behaviour_df.query(\"ID == @ID\")\n",
    "  standardized_gaps[i] = np.array((participant_df[\"Gap\"] - np.nanmean(participant_df[\"Gap\"])) / np.nanstd(participant_df[\"Gap\"]))\n",
    "\n",
    "group_behaviour_df[\"Gap\"] = np.concatenate(standardized_gaps)"
   ]
  },
  {
   "cell_type": "markdown",
   "metadata": {
    "id": "u2DF8VnqP6N7"
   },
   "source": [
    "## Break up into gap bins for each participant and get mean RT for each bin"
   ]
  },
  {
   "cell_type": "code",
   "execution_count": null,
   "metadata": {
    "id": "DBfIbi5FQCWL"
   },
   "outputs": [],
   "source": [
    "mean_RT = np.zeros((len(ID_list), 3))\n",
    "mean_gap_bins = np.zeros((len(ID_list), 3))\n",
    "\n",
    "for i in range(0, len(ID_list)): # iterate through participants\n",
    "  ID = ID_list[i]\n",
    "  gap_cutoff_1 = 0\n",
    "  gap_cutoff_2 = 0\n",
    "  participant_df = group_behaviour_df.query(\"ID == @ID\").copy()\n",
    "  sorted_gap = np.sort(participant_df[\"Gap\"])\n",
    "  cutoff_1 = int(len(sorted_gap) / 3)\n",
    "  cutoff_2 = int(cutoff_1 * 2)\n",
    "  gap_cutoff_1 = sorted_gap[cutoff_1]\n",
    "  gap_cutoff_2 = sorted_gap[cutoff_2]\n",
    "\n",
    "  ## Tag Each trial as an RT bin ##\n",
    "  index = participant_df.index\n",
    "  for ind in range(0, participant_df.shape[0]):\n",
    "    if participant_df.at[index[ind], \"Gap\"] < gap_cutoff_1:\n",
    "      participant_df.at[index[ind], \"Gap_Bin\"] = 1\n",
    "    elif participant_df.at[index[ind], \"Gap\"] > gap_cutoff_2:\n",
    "      participant_df.at[index[ind], \"Gap_Bin\"] = 3\n",
    "    else:\n",
    "      participant_df.at[index[ind], \"Gap_Bin\"] = 2\n",
    "\n",
    "  ## Calculate mean RT and CNV slope for each bin ##\n",
    "  for k in range(1, 4): # iterate through RT bins\n",
    "    mean_RT[i, k - 1] = np.nanmean(participant_df[\"Response_Time\"][participant_df[\"Gap_Bin\"] == k])\n",
    "    mean_gap_bins[i, k - 1] = np.nanmean(participant_df[\"Gap\"][participant_df[\"Gap_Bin\"] == k])"
   ]
  },
  {
   "cell_type": "code",
   "execution_count": null,
   "metadata": {
    "colab": {
     "base_uri": "https://localhost:8080/",
     "height": 479
    },
    "executionInfo": {
     "elapsed": 1417,
     "status": "ok",
     "timestamp": 1702306890242,
     "user": {
      "displayName": "Harvey McCone",
      "userId": "11012039386955284988"
     },
     "user_tz": 0
    },
    "id": "8GVNfYhVu_nN",
    "outputId": "e4368137-d02c-4ae0-ef4d-b68269dfc30c"
   },
   "outputs": [],
   "source": [
    "plt.plot(np.mean(mean_gap_bins, axis = 0), np.mean(mean_RT, axis = 0), color = \"blue\", marker = \"o\", markersize = 12, linewidth = 3, label = \"Group Mean RT\")\n",
    "\n",
    "for i in range(0, len(ID_list)):\n",
    "  if i == 0:\n",
    "    plt.plot(np.mean(mean_gap_bins, axis = 0), mean_RT[i], color = \"blue\", marker = \"o\", linewidth = 2, alpha = 0.1, label = \"Participant Mean RT\")\n",
    "  else:\n",
    "    plt.plot(np.mean(mean_gap_bins, axis = 0), mean_RT[i], color = \"blue\", marker = \"o\", linewidth = 2, alpha = 0.1)\n",
    "\n",
    "plt.xlabel(\"Gap Duration (SDs)\", fontsize = \"xx-large\", labelpad = 10)\n",
    "plt.ylabel(\"Mean Reproduction Time (ms)\", fontsize = \"xx-large\", labelpad = 6)\n",
    "#plt.xlim(700, 1100)\n",
    "ax = plt.gca()\n",
    "sns.despine()\n",
    "ax.tick_params(labelsize = \"xx-large\")\n",
    "#plt.legend(fontsize = \"x-large\")\n",
    "\n",
    "fname = \"/content/gdrive/MyDrive/Time_Reproduction/Plots/Behaviour/\" + \"Rreproduction_Time_Gap_Bins.png\"\n",
    "plt.savefig(fname, dpi = 300, bbox_inches = \"tight\")"
   ]
  },
  {
   "cell_type": "code",
   "execution_count": null,
   "metadata": {
    "colab": {
     "base_uri": "https://localhost:8080/"
    },
    "executionInfo": {
     "elapsed": 311,
     "status": "ok",
     "timestamp": 1702306905823,
     "user": {
      "displayName": "Harvey McCone",
      "userId": "11012039386955284988"
     },
     "user_tz": 0
    },
    "id": "n19T790yIplr",
    "outputId": "0dc9fabf-a64d-4732-d003-0226f9d4a9f3"
   },
   "outputs": [],
   "source": [
    "print(np.mean(mean_RT, axis = 0)[-1] - np.mean(mean_RT, axis = 0)[0])\n",
    "print(np.mean(mean_RT, axis = 0))"
   ]
  },
  {
   "cell_type": "markdown",
   "metadata": {
    "id": "VHfsiYv8fOb0"
   },
   "source": [
    "# Does sample interval on the previous trial effect RT on the current trial?\n",
    "Ideally here then the metadata needs to tell us what block the participant is on so we can remove the first trial of each block"
   ]
  },
  {
   "cell_type": "markdown",
   "metadata": {
    "id": "9BiVYMJGiMDv"
   },
   "source": [
    "## Create p_SI (previous SI) column"
   ]
  },
  {
   "cell_type": "code",
   "execution_count": null,
   "metadata": {
    "colab": {
     "base_uri": "https://localhost:8080/"
    },
    "executionInfo": {
     "elapsed": 566,
     "status": "ok",
     "timestamp": 1702306983578,
     "user": {
      "displayName": "Harvey McCone",
      "userId": "11012039386955284988"
     },
     "user_tz": 0
    },
    "id": "RUsKl47Rfejp",
    "outputId": "a324101e-552f-4d7f-a081-972e39a213df"
   },
   "outputs": [],
   "source": [
    "group_behaviour_df[\"p_SI\"] = np.zeros(group_behaviour_df.shape[0])\n",
    "\n",
    "for i in range(0, len(ID_list)):\n",
    "  participant_df = group_behaviour_df[group_behaviour_df[\"ID\"] == ID_list[i]] # get data for one participant\n",
    "  previous_trial_SI = np.zeros(participant_df.shape[0])\n",
    "  previous_trial_SI[0] = np.NaN # setting first value to NaN\n",
    "  previous_trial_SI[1:] = participant_df[\"SI\"][0:-1]\n",
    "  group_behaviour_df[\"p_SI\"][group_behaviour_df[\"ID\"] == ID_list[i]] = previous_trial_SI"
   ]
  },
  {
   "cell_type": "code",
   "execution_count": null,
   "metadata": {
    "colab": {
     "base_uri": "https://localhost:8080/",
     "height": 206
    },
    "executionInfo": {
     "elapsed": 9,
     "status": "ok",
     "timestamp": 1702306906276,
     "user": {
      "displayName": "Harvey McCone",
      "userId": "11012039386955284988"
     },
     "user_tz": 0
    },
    "id": "Updw-TH-gX9v",
    "outputId": "5617cd1b-4b88-4136-8cf3-0f7a0627fcea"
   },
   "outputs": [],
   "source": [
    "group_behaviour_df.head()"
   ]
  },
  {
   "cell_type": "markdown",
   "metadata": {
    "id": "lcz6gKGLiGOy"
   },
   "source": [
    "## Get conditions\n",
    "Within participant, get mean or median RT for each sample interval"
   ]
  },
  {
   "cell_type": "code",
   "execution_count": null,
   "metadata": {
    "id": "0nNRR16niGO0"
   },
   "outputs": [],
   "source": [
    "SIs = np.unique(group_behaviour_df[\"SI\"])\n",
    "n_bins = len(SIs)\n",
    "p_mean_RTs = pd.DataFrame({\"ID\": list(\"0\") * (len(ID_list) * n_bins),\n",
    "                         \"p_SI\": np.zeros(len(ID_list) * n_bins),\n",
    "                          \"Mean_RT\": np.zeros(len(ID_list) * n_bins),\n",
    "                           \"Median_RT\": np.zeros(len(ID_list) * n_bins)})\n",
    "\n",
    "i  = -1\n",
    "\n",
    "for ID in ID_list:\n",
    "  participant_df = group_behaviour_df[group_behaviour_df[\"ID\"] == ID]\n",
    "\n",
    "  for j in range(0, n_bins):\n",
    "    i += 1\n",
    "    p_mean_RTs.at[i, \"ID\"] = ID\n",
    "    p_mean_RTs.at[i, \"p_SI\"] = SIs[j]\n",
    "    p_mean_RTs.at[i, \"Mean_RT\"] = participant_df[\"Response_Time\"][participant_df[\"p_SI\"] ==  SIs[j]].mean()\n",
    "    p_mean_RTs.at[i, \"Median_RT\"] = participant_df[\"Response_Time\"][participant_df[\"p_SI\"] ==  SIs[j]].median()"
   ]
  },
  {
   "cell_type": "code",
   "execution_count": null,
   "metadata": {
    "colab": {
     "base_uri": "https://localhost:8080/",
     "height": 424
    },
    "executionInfo": {
     "elapsed": 8,
     "status": "ok",
     "timestamp": 1702306906277,
     "user": {
      "displayName": "Harvey McCone",
      "userId": "11012039386955284988"
     },
     "user_tz": 0
    },
    "id": "CCKNkcBgiGO1",
    "outputId": "f96b5a72-e9b3-47a3-d1d9-56ee53a8a024"
   },
   "outputs": [],
   "source": [
    "p_mean_RTs"
   ]
  },
  {
   "cell_type": "markdown",
   "metadata": {
    "id": "lAeqIUh9iGO2"
   },
   "source": [
    "## Plot"
   ]
  },
  {
   "cell_type": "code",
   "execution_count": null,
   "metadata": {
    "colab": {
     "base_uri": "https://localhost:8080/",
     "height": 496
    },
    "executionInfo": {
     "elapsed": 1425,
     "status": "ok",
     "timestamp": 1702306907695,
     "user": {
      "displayName": "Harvey McCone",
      "userId": "11012039386955284988"
     },
     "user_tz": 0
    },
    "id": "u98FYWYXiGO2",
    "outputId": "96b59cf5-4786-4d36-b2bd-eae8033cd556"
   },
   "outputs": [],
   "source": [
    "fig, ax = plt.subplots()\n",
    "\n",
    "group_mean = []\n",
    "\n",
    "for SI in SIs:\n",
    "  group_mean.append(p_mean_RTs[\"Mean_RT\"][p_mean_RTs[\"p_SI\"] == SI].mean())\n",
    "\n",
    "ax.plot(SIs, group_mean, color = \"b\", marker = \"o\", markersize = 12, linewidth = 3, label = \"Group Mean RT\")\n",
    "for ID in ID_list:\n",
    "  participant_df = p_mean_RTs[p_mean_RTs[\"ID\"] == ID]\n",
    "  if ID == ID_list[0]:\n",
    "    ax.plot(SIs, participant_df[\"Mean_RT\"], color = \"b\", marker = \"o\", linewidth = 2, alpha = 0.1, label = \"Participant Mean RT\")\n",
    "  else:\n",
    "    ax.plot(SIs, participant_df[\"Mean_RT\"], color = \"b\", marker = \"o\", linewidth = 2, alpha = 0.1)\n",
    "\n",
    "sns.despine()\n",
    "plt.ylabel(\"Mean RT (ms)\")\n",
    "plt.ylim(500, 1100)\n",
    "\n",
    "plt.plot(SIs, SIs, \"--\", color = \"forestgreen\", linewidth = 3, label = \"Veridical Response\")\n",
    "plt.plot(SIs, np.mean(SIs) + np.zeros(len(SIs)), color = \"darkorange\", linestyle = \"--\", linewidth = 3, label = \"Average Response\")\n",
    "\n",
    "plt.xlabel(\"Previous Trial Sample Interval (ms)\", fontsize = \"xx-large\")\n",
    "plt.ylabel(\"Mean Reproduction Time (ms)\", fontsize = \"xx-large\")\n",
    "print(np.mean(SIs) + np.zeros(len(SIs)))\n",
    "ax = plt.gca()\n",
    "ax.tick_params(labelsize = \"xx-large\")\n",
    "plt.legend(fontsize = \"x-large\")\n",
    "\n",
    "fname = \"/content/gdrive/MyDrive/Time_Reproduction/Plots/Behaviour/\" + \"Mean_Reproduction_Time_p_SI.png\"\n",
    "plt.savefig(fname, dpi = 300, bbox_inches = \"tight\")"
   ]
  },
  {
   "cell_type": "markdown",
   "metadata": {
    "id": "99GXscXVbdn0"
   },
   "source": [
    "# Standardize SI Variable and save files for JASP"
   ]
  },
  {
   "cell_type": "code",
   "execution_count": null,
   "metadata": {
    "colab": {
     "base_uri": "https://localhost:8080/"
    },
    "executionInfo": {
     "elapsed": 12,
     "status": "ok",
     "timestamp": 1702306907695,
     "user": {
      "displayName": "Harvey McCone",
      "userId": "11012039386955284988"
     },
     "user_tz": 0
    },
    "id": "lQIOvDzjdKIb",
    "outputId": "26161c74-b6f2-4a93-e563-ce9284c47fe6"
   },
   "outputs": [],
   "source": [
    "SIz = (np.array(SIs) - np.mean(SIs)) / np.std(SIs)"
   ]
  },
  {
   "cell_type": "code",
   "execution_count": null,
   "metadata": {
    "id": "CFNQAjjxdG8b"
   },
   "outputs": [],
   "source": [
    "replace_dict = {600: SIz[0], 650: SIz[1], 700: SIz[2], 750: SIz[3], 800:SIz[4], 850:SIz[5], 900:SIz[6], 950:SIz[7], 1000:SIz[8]}\n",
    "group_behaviour_df[\"SI\"].replace(replace_dict, inplace = True)"
   ]
  },
  {
   "cell_type": "code",
   "execution_count": null,
   "metadata": {
    "id": "HcGpdEbxa1bl"
   },
   "outputs": [],
   "source": [
    "group_behaviour_df[\"Response_Time\"] = (group_behaviour_df[\"Response_Time\"] - group_behaviour_df[\"Response_Time\"].mean()) / group_behaviour_df[\"Response_Time\"].std()"
   ]
  },
  {
   "cell_type": "code",
   "execution_count": null,
   "metadata": {
    "id": "ftl73w0niKMj"
   },
   "outputs": [],
   "source": [
    "fname = \"/content/gdrive/MyDrive/Time_Reproduction/JASP_Files_TR/\" + \"behaviour_TR.csv\"\n",
    "group_behaviour_df.to_csv(fname)"
   ]
  }
 ],
 "metadata": {
  "colab": {
   "authorship_tag": "ABX9TyOe9tCd/jG13ywG3C/ItZZd",
   "provenance": [],
   "toc_visible": true
  },
  "kernelspec": {
   "display_name": "Python 3",
   "language": "python",
   "name": "python3"
  },
  "language_info": {
   "codemirror_mode": {
    "name": "ipython",
    "version": 3
   },
   "file_extension": ".py",
   "mimetype": "text/x-python",
   "name": "python",
   "nbconvert_exporter": "python",
   "pygments_lexer": "ipython3",
   "version": "3.7.6"
  }
 },
 "nbformat": 4,
 "nbformat_minor": 1
}
