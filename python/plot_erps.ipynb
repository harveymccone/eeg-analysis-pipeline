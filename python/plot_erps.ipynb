{
 "cells": [
  {
   "cell_type": "markdown",
   "metadata": {
    "id": "vAYSQjOvFBLM"
   },
   "source": [
    "# Script Set Up"
   ]
  },
  {
   "cell_type": "code",
   "execution_count": null,
   "metadata": {
    "executionInfo": {
     "elapsed": 5,
     "status": "ok",
     "timestamp": 1702307373627,
     "user": {
      "displayName": "Harvey McCone",
      "userId": "11012039386955284988"
     },
     "user_tz": 0
    },
    "id": "bJW-Y2dFE-zI"
   },
   "outputs": [],
   "source": [
    "%matplotlib inline"
   ]
  },
  {
   "cell_type": "code",
   "execution_count": null,
   "metadata": {
    "colab": {
     "base_uri": "https://localhost:8080/"
    },
    "executionInfo": {
     "elapsed": 18631,
     "status": "ok",
     "timestamp": 1702307392254,
     "user": {
      "displayName": "Harvey McCone",
      "userId": "11012039386955284988"
     },
     "user_tz": 0
    },
    "id": "GOjs4ohiFPwL",
    "outputId": "406b1beb-9879-479e-b38f-8e8a78e432a6"
   },
   "outputs": [],
   "source": [
    "!pip install mne"
   ]
  },
  {
   "cell_type": "code",
   "execution_count": null,
   "metadata": {
    "colab": {
     "base_uri": "https://localhost:8080/"
    },
    "executionInfo": {
     "elapsed": 19790,
     "status": "ok",
     "timestamp": 1702307412036,
     "user": {
      "displayName": "Harvey McCone",
      "userId": "11012039386955284988"
     },
     "user_tz": 0
    },
    "id": "Bvo2qG0KOwhG",
    "outputId": "2d5a8042-ce26-4b57-da2c-ef9a8493ff5b"
   },
   "outputs": [],
   "source": [
    "!pip install pingouin\n",
    "import pingouin as pg"
   ]
  },
  {
   "cell_type": "code",
   "execution_count": null,
   "metadata": {
    "colab": {
     "base_uri": "https://localhost:8080/"
    },
    "executionInfo": {
     "elapsed": 17078,
     "status": "ok",
     "timestamp": 1702307429108,
     "user": {
      "displayName": "Harvey McCone",
      "userId": "11012039386955284988"
     },
     "user_tz": 0
    },
    "id": "lGHv6q2z7YmR",
    "outputId": "7a97dd9c-9544-4800-9188-6e148fa92f42"
   },
   "outputs": [],
   "source": [
    "!pip install dataframe-image\n",
    "import dataframe_image as dfi"
   ]
  },
  {
   "cell_type": "code",
   "execution_count": null,
   "metadata": {
    "executionInfo": {
     "elapsed": 1055,
     "status": "ok",
     "timestamp": 1702307430159,
     "user": {
      "displayName": "Harvey McCone",
      "userId": "11012039386955284988"
     },
     "user_tz": 0
    },
    "id": "G1MKm3O-FbsR"
   },
   "outputs": [],
   "source": [
    "import os\n",
    "import numpy as np\n",
    "from matplotlib import pyplot as plt\n",
    "from scipy import stats\n",
    "import pandas as pd\n",
    "import seaborn as sns\n",
    "import mne"
   ]
  },
  {
   "cell_type": "code",
   "execution_count": null,
   "metadata": {
    "colab": {
     "base_uri": "https://localhost:8080/"
    },
    "executionInfo": {
     "elapsed": 21879,
     "status": "ok",
     "timestamp": 1702307452033,
     "user": {
      "displayName": "Harvey McCone",
      "userId": "11012039386955284988"
     },
     "user_tz": 0
    },
    "id": "94eTuNOJFRLr",
    "outputId": "e77940ad-5809-4ee5-a555-2d4c3d7c424b"
   },
   "outputs": [],
   "source": [
    "from google.colab import drive\n",
    "drive.mount('/content/gdrive')"
   ]
  },
  {
   "cell_type": "markdown",
   "metadata": {
    "id": "pLeJ0bDXRN3_"
   },
   "source": [
    "# Deciding what response times are outliers that should be removed"
   ]
  },
  {
   "cell_type": "code",
   "execution_count": null,
   "metadata": {
    "executionInfo": {
     "elapsed": 5,
     "status": "ok",
     "timestamp": 1702307452033,
     "user": {
      "displayName": "Harvey McCone",
      "userId": "11012039386955284988"
     },
     "user_tz": 0
    },
    "id": "W6lSTDJTRSJE"
   },
   "outputs": [],
   "source": [
    "lower_RT_cutoff = 150\n",
    "upper_RT_cutoff = 1500 # 1.5x longest SI and is less than 1% of trials"
   ]
  },
  {
   "cell_type": "markdown",
   "metadata": {
    "id": "CgFBdDI3FgER"
   },
   "source": [
    "# Load Epochs\n",
    "Load each participant's epochs"
   ]
  },
  {
   "cell_type": "code",
   "execution_count": null,
   "metadata": {
    "colab": {
     "base_uri": "https://localhost:8080/"
    },
    "executionInfo": {
     "elapsed": 439365,
     "status": "ok",
     "timestamp": 1702307891393,
     "user": {
      "displayName": "Harvey McCone",
      "userId": "11012039386955284988"
     },
     "user_tz": 0
    },
    "id": "cI5TyMBFFjkB",
    "outputId": "b6e05f39-0317-4a72-f5e1-1fa39268a89b"
   },
   "outputs": [],
   "source": [
    "ID_list = ['P1', 'P3', 'P4', 'P7', 'P10', 'P12', 'P15', 'P17', 'P19', 'P21', 'P22', 'P23', 'P24',\n",
    "           'P26', 'P27', 'P28', 'P29', 'P30']\n",
    "\n",
    "n_participants = len(ID_list)\n",
    "n_channels_evoked = 128\n",
    "n_channels_epochs = 145\n",
    "n_times_encode = 717\n",
    "n_times_repo = 616\n",
    "n_times_RL = 615\n",
    "\n",
    "sample_rate = 512\n",
    "\n",
    "encode_epochs = []\n",
    "encode_metadata = []\n",
    "repo_epochs = []\n",
    "repo_metadata = []\n",
    "RL_epochs = []\n",
    "RL_metadata = []\n",
    "\n",
    "all_encode_evokeds = np.zeros([len(ID_list), n_channels_evoked, n_times_encode])\n",
    "all_repo_evokeds = np.zeros([len(ID_list), n_channels_evoked, n_times_repo])\n",
    "all_RL_evokeds = np.zeros([len(ID_list), n_channels_evoked, n_times_RL])\n",
    "\n",
    "i = -1\n",
    "\n",
    "for ID in ID_list:\n",
    "  i += 1\n",
    "  encode_fname = \"/content/gdrive/MyDrive/Time_Reproduction/Epochs_CSD/Encode/\" + ID + \"_Encode_All_CSD_epo.fif\"\n",
    "  repo_fname = \"/content/gdrive/MyDrive/Time_Reproduction/Epochs_CSD/Reproduction/\" + ID + \"_Reproduction_All_CSD_epo.fif\"\n",
    "  RL_fname = \"/content/gdrive/MyDrive/Time_Reproduction/Epochs_CSD/Response_Locked/\" + ID + \"_RL_All_CSD_epo.fif\"\n",
    "\n",
    "  encode_epochs_participant = mne.read_epochs(encode_fname, preload = False)\n",
    "  repo_epochs_participant = mne.read_epochs(repo_fname, preload = False)\n",
    "  RL_epochs_participant = mne.read_epochs(RL_fname, preload = False)\n",
    "\n",
    "  encode_epochs_participant.load_data()\n",
    "  repo_epochs_participant.load_data()\n",
    "  RL_epochs_participant.load_data()\n",
    "\n",
    "  info = encode_epochs_participant.info\n",
    "\n",
    "  ## REMOVING OUTLIER RTs # 04/01/23\n",
    "  encode_indices = encode_epochs_participant.metadata.query(\"Response_Time > 150 & Response_Time < 1500\").index # get trials for that condition\n",
    "  repo_indices = repo_epochs_participant.metadata.query(\"Response_Time > 150 & Response_Time < 1500\").index\n",
    "  RL_indices = RL_epochs_participant.metadata.query(\"Response_Time > 150 & Response_Time < 1500\").index\n",
    "\n",
    "  encode_epochs_participant = encode_epochs_participant[encode_indices]\n",
    "  repo_epochs_participant = repo_epochs_participant[repo_indices]\n",
    "  RL_epochs_participant = RL_epochs_participant[RL_indices]\n",
    "\n",
    "  # Adding ID column to metadata 19/12/22\n",
    "  encode_df = encode_epochs_participant.metadata\n",
    "  encode_df[\"ID\"] = ID # adding ID column\n",
    "  temp_cols=encode_df.columns.tolist()\n",
    "  new_cols=temp_cols[-1:] + temp_cols[:-1]\n",
    "  encode_df=encode_df[new_cols]\n",
    "  encode_metadata.append(encode_df)\n",
    "\n",
    "  repo_df = repo_epochs_participant.metadata\n",
    "  repo_df[\"ID\"] = ID # adding ID column\n",
    "  temp_cols=repo_df.columns.tolist()\n",
    "  new_cols=temp_cols[-1:] + temp_cols[:-1]\n",
    "  repo_df=repo_df[new_cols]\n",
    "  repo_metadata.append(repo_df)\n",
    "\n",
    "  RL_df = RL_epochs_participant.metadata\n",
    "  RL_df[\"ID\"] = ID # adding ID column\n",
    "  temp_cols=RL_df.columns.tolist()\n",
    "  new_cols=temp_cols[-1:] + temp_cols[:-1]\n",
    "  RL_df=RL_df[new_cols]\n",
    "  RL_metadata.append(RL_df)\n",
    "\n",
    "  ## Evoked ##\n",
    "  all_encode_evokeds[i] = encode_epochs_participant.average().data\n",
    "  all_repo_evokeds[i] = repo_epochs_participant.average().data\n",
    "  all_RL_evokeds[i] = RL_epochs_participant.average().data"
   ]
  },
  {
   "cell_type": "markdown",
   "metadata": {
    "id": "C_5YQXgQO42t"
   },
   "source": [
    "# Concatenate Metadata\n",
    "Concatenate metadata so that all participants epochs are in one array\n"
   ]
  },
  {
   "cell_type": "code",
   "execution_count": null,
   "metadata": {
    "colab": {
     "base_uri": "https://localhost:8080/",
     "height": 424
    },
    "executionInfo": {
     "elapsed": 22,
     "status": "ok",
     "timestamp": 1702307891394,
     "user": {
      "displayName": "Harvey McCone",
      "userId": "11012039386955284988"
     },
     "user_tz": 0
    },
    "id": "B2g47INYOU8x",
    "outputId": "1dc6f023-b19f-49ed-e2da-d45c9fab8d19"
   },
   "outputs": [],
   "source": [
    "encode_metadata = pd.concat(encode_metadata, ignore_index = True)\n",
    "encode_metadata"
   ]
  },
  {
   "cell_type": "code",
   "execution_count": null,
   "metadata": {
    "colab": {
     "base_uri": "https://localhost:8080/",
     "height": 424
    },
    "executionInfo": {
     "elapsed": 19,
     "status": "ok",
     "timestamp": 1702307891394,
     "user": {
      "displayName": "Harvey McCone",
      "userId": "11012039386955284988"
     },
     "user_tz": 0
    },
    "id": "TczQy6gYYd9k",
    "outputId": "3987c654-9a1d-4aa3-b076-d8495b11dcc2"
   },
   "outputs": [],
   "source": [
    "repo_metadata = pd.concat(repo_metadata, ignore_index = True)\n",
    "repo_metadata"
   ]
  },
  {
   "cell_type": "code",
   "execution_count": null,
   "metadata": {
    "colab": {
     "base_uri": "https://localhost:8080/",
     "height": 424
    },
    "executionInfo": {
     "elapsed": 18,
     "status": "ok",
     "timestamp": 1702307891394,
     "user": {
      "displayName": "Harvey McCone",
      "userId": "11012039386955284988"
     },
     "user_tz": 0
    },
    "id": "kgkVo7h4Yilz",
    "outputId": "22e0a439-0529-46bb-8d97-8e31218d5445"
   },
   "outputs": [],
   "source": [
    "RL_metadata = pd.concat(RL_metadata, ignore_index = True)\n",
    "RL_metadata"
   ]
  },
  {
   "cell_type": "markdown",
   "metadata": {
    "id": "_aB7qtLG87gR"
   },
   "source": [
    "# Defining X-axis and Color Palette for Plots\n",
    "For the waveform plots, there is 1 data point for each time point (i.e each sample), so the x-axis corresponds to the number of time points in an epoch"
   ]
  },
  {
   "cell_type": "code",
   "execution_count": null,
   "metadata": {
    "executionInfo": {
     "elapsed": 17,
     "status": "ok",
     "timestamp": 1702307891394,
     "user": {
      "displayName": "Harvey McCone",
      "userId": "11012039386955284988"
     },
     "user_tz": 0
    },
    "id": "GoCdoFAT87gS"
   },
   "outputs": [],
   "source": [
    "from matplotlib import pyplot as plt"
   ]
  },
  {
   "cell_type": "code",
   "execution_count": null,
   "metadata": {
    "executionInfo": {
     "elapsed": 17,
     "status": "ok",
     "timestamp": 1702307891395,
     "user": {
      "displayName": "Harvey McCone",
      "userId": "11012039386955284988"
     },
     "user_tz": 0
    },
    "id": "uz4exwMO87gT"
   },
   "outputs": [],
   "source": [
    "encode_times_for_plot = (np.arange(0, n_times_encode) / 512 * 1000) - 200\n",
    "repo_times_for_plot = (np.arange(0, n_times_repo) / 512 * 1000) - 300\n",
    "RL_times_for_plot = (np.arange(0, n_times_RL) / 512 * 1000) - 1100"
   ]
  },
  {
   "cell_type": "markdown",
   "metadata": {
    "id": "LwAeZDhT87gU"
   },
   "source": [
    "# Define Time Windows for Calculations\n"
   ]
  },
  {
   "cell_type": "code",
   "execution_count": null,
   "metadata": {
    "colab": {
     "base_uri": "https://localhost:8080/"
    },
    "executionInfo": {
     "elapsed": 16,
     "status": "ok",
     "timestamp": 1702307891395,
     "user": {
      "displayName": "Harvey McCone",
      "userId": "11012039386955284988"
     },
     "user_tz": 0
    },
    "id": "SABqbjDx87gV",
    "outputId": "fc445ae7-1f2c-4f62-c2aa-6c9f801dd53b"
   },
   "outputs": [],
   "source": [
    "# For checking amplitude at target offset\n",
    "encode_amplitude_window_start = -100\n",
    "encode_amplitude_window_end = +100 # these have to be done within sample interval bin\n",
    "\n",
    "# For checking the amplitude at cue onset\n",
    "repo_amplitude_window_start = -50\n",
    "repo_amplitude_window_start_idx = int(np.argwhere(repo_times_for_plot >= repo_amplitude_window_start)[0])\n",
    "print(repo_amplitude_window_start_idx)\n",
    "print(repo_times_for_plot[repo_amplitude_window_start_idx])\n",
    "repo_amplitude_window_end = +50\n",
    "repo_amplitude_window_end_idx = int(np.argwhere(repo_times_for_plot >= repo_amplitude_window_end)[0])\n",
    "print(repo_amplitude_window_end_idx)\n",
    "print(repo_times_for_plot[repo_amplitude_window_end_idx])\n",
    "\n",
    "# For checking build-up rate in anticipation of response\n",
    "RL_slope_window_start = -600\n",
    "RL_slope_window_start_idx = int(np.argwhere(RL_times_for_plot >= RL_slope_window_start)[0])\n",
    "print(RL_slope_window_start_idx)\n",
    "print(RL_times_for_plot[RL_slope_window_start_idx])\n",
    "RL_slope_window_end = -300\n",
    "RL_slope_window_end_idx = int(np.argwhere(RL_times_for_plot >= RL_slope_window_end)[0])\n",
    "print(RL_slope_window_end_idx)\n",
    "print(RL_times_for_plot[RL_slope_window_end_idx])\n",
    "\n",
    "# For checking build-up rate of CPP in anticipation of response\n",
    "RL_CPP_window_start = -600\n",
    "RL_CPP_window_start_idx = int(np.argwhere(RL_times_for_plot >= RL_CPP_window_start)[0])\n",
    "print(RL_CPP_window_start_idx)\n",
    "print(RL_times_for_plot[RL_CPP_window_start_idx])\n",
    "RL_CPP_window_end = -300\n",
    "RL_CPP_window_end_idx = int(np.argwhere(RL_times_for_plot >= RL_CPP_window_end)[0])\n",
    "print(RL_CPP_window_end_idx)\n",
    "print(RL_times_for_plot[RL_CPP_window_end_idx])"
   ]
  },
  {
   "cell_type": "markdown",
   "metadata": {
    "id": "Prj0zJHu1pqV"
   },
   "source": [
    "# Plotting Grand Average"
   ]
  },
  {
   "cell_type": "markdown",
   "metadata": {
    "id": "07tEZrys1d7H"
   },
   "source": [
    "## Average Across Participants and Convert into MNE Object"
   ]
  },
  {
   "cell_type": "code",
   "execution_count": null,
   "metadata": {
    "colab": {
     "base_uri": "https://localhost:8080/"
    },
    "executionInfo": {
     "elapsed": 11,
     "status": "ok",
     "timestamp": 1702307891395,
     "user": {
      "displayName": "Harvey McCone",
      "userId": "11012039386955284988"
     },
     "user_tz": 0
    },
    "id": "eqH_7nIL1h7C",
    "outputId": "8f7a9c4b-185d-4bdb-eb88-d009981c7f40"
   },
   "outputs": [],
   "source": [
    "group_encode_evoked_data = np.mean(all_encode_evokeds, axis = 0)\n",
    "group_repo_evoked_data = np.mean(all_repo_evokeds, axis = 0)\n",
    "group_RL_evoked_data = np.mean(all_RL_evokeds, axis = 0)\n",
    "\n",
    "print(group_encode_evoked_data.shape)\n",
    "print(group_repo_evoked_data.shape)\n",
    "print(group_RL_evoked_data.shape)\n",
    "\n",
    "group_encode_evoked = mne.EvokedArray(group_encode_evoked_data, info = info, tmin = -0.2, nave = len(ID_list))\n",
    "group_repo_evoked = mne.EvokedArray(group_repo_evoked_data, info = info, tmin = -0.1, nave = len(ID_list))\n",
    "group_RL_evoked = mne.EvokedArray(group_RL_evoked_data, info = info, tmin = -1.1, nave = len(ID_list))\n",
    "\n",
    "print(group_encode_evoked)\n",
    "print(group_repo_evoked)\n",
    "print(group_RL_evoked)"
   ]
  },
  {
   "cell_type": "markdown",
   "metadata": {
    "id": "-CUBhAW1d7ru"
   },
   "source": [
    "## Picking ERP Electrodes Based on Topoplot"
   ]
  },
  {
   "cell_type": "code",
   "execution_count": null,
   "metadata": {
    "colab": {
     "base_uri": "https://localhost:8080/",
     "height": 668
    },
    "executionInfo": {
     "elapsed": 1521,
     "status": "ok",
     "timestamp": 1702307892907,
     "user": {
      "displayName": "Harvey McCone",
      "userId": "11012039386955284988"
     },
     "user_tz": 0
    },
    "id": "ggq5axJod_R3",
    "outputId": "a3a6988b-be02-409c-ffec-b0dba5683424"
   },
   "outputs": [],
   "source": [
    "plt = group_RL_evoked.plot_topomap(times = [-0.05], average = 0.05, sensors = False, show_names = False, size = 5) # for selecting electrodes\n",
    "fname = \"/content/gdrive/MyDrive/Time_Reproduction/ERP_Plots/Topos/\" + \"GA_Topo_RL_elec.png\"\n",
    "#plt.savefig(fname, dpi = 300, bbox_inches = \"tight\")"
   ]
  },
  {
   "cell_type": "code",
   "execution_count": null,
   "metadata": {
    "colab": {
     "base_uri": "https://localhost:8080/",
     "height": 754
    },
    "executionInfo": {
     "elapsed": 1022,
     "status": "ok",
     "timestamp": 1702307893920,
     "user": {
      "displayName": "Harvey McCone",
      "userId": "11012039386955284988"
     },
     "user_tz": 0
    },
    "id": "6dBIffO3qqas",
    "outputId": "19cf0c2a-52d7-4edf-9c48-831d79be3043"
   },
   "outputs": [],
   "source": [
    "plt = group_RL_evoked.plot_topomap(times = [-0.05], average = 0.05, sensors = False, show_names = True, size = 5, colorbar = False) # for selecting electrodes"
   ]
  },
  {
   "cell_type": "code",
   "execution_count": null,
   "metadata": {
    "executionInfo": {
     "elapsed": 10,
     "status": "ok",
     "timestamp": 1702307893920,
     "user": {
      "displayName": "Harvey McCone",
      "userId": "11012039386955284988"
     },
     "user_tz": 0
    },
    "id": "fEoRKX6peKKl"
   },
   "outputs": [],
   "source": [
    "CPP_electrodes = [\"A4\", \"A19\"]\n",
    "CNV_electrodes = [\"C23\", \"C22\"]"
   ]
  },
  {
   "cell_type": "code",
   "execution_count": null,
   "metadata": {
    "colab": {
     "base_uri": "https://localhost:8080/"
    },
    "executionInfo": {
     "elapsed": 9,
     "status": "ok",
     "timestamp": 1702307893920,
     "user": {
      "displayName": "Harvey McCone",
      "userId": "11012039386955284988"
     },
     "user_tz": 0
    },
    "id": "lGFB_AoTiat2",
    "outputId": "fcf0c41d-e25e-4efb-c25b-d04562c0d772"
   },
   "outputs": [],
   "source": [
    "CNV_idx = []\n",
    "for ch in CNV_electrodes:\n",
    "  CNV_idx.append(group_encode_evoked.ch_names.index(ch))\n",
    "print(CNV_idx)\n",
    "\n",
    "CPP_idx = []\n",
    "for ch in CPP_electrodes:\n",
    "  CPP_idx.append(group_encode_evoked.ch_names.index(ch))\n",
    "print(CPP_idx)"
   ]
  },
  {
   "cell_type": "code",
   "execution_count": null,
   "metadata": {
    "colab": {
     "base_uri": "https://localhost:8080/"
    },
    "executionInfo": {
     "elapsed": 7,
     "status": "ok",
     "timestamp": 1702307893921,
     "user": {
      "displayName": "Harvey McCone",
      "userId": "11012039386955284988"
     },
     "user_tz": 0
    },
    "id": "t8y0kL75pD6f",
    "outputId": "212271c5-6447-4dac-e03f-086b508046f4"
   },
   "outputs": [],
   "source": [
    "CNV_mask = np.zeros((len(group_encode_evoked.ch_names), group_RL_evoked_data.shape[1]))\n",
    "CPP_mask = np.zeros((len(group_encode_evoked.ch_names), group_RL_evoked_data.shape[1]))\n",
    "\n",
    "for ch in CNV_idx:\n",
    "  CNV_mask[ch] = 1\n",
    "\n",
    "for ch in CPP_idx:\n",
    "  CPP_mask[ch] = 1\n",
    "\n",
    "mask_params = dict(marker='o', markerfacecolor='white', markeredgecolor='white',\n",
    "        linewidth=0, markersize=4)\n",
    "\n",
    "print(CNV_mask.shape)\n",
    "print(CNV_mask)"
   ]
  },
  {
   "cell_type": "code",
   "execution_count": null,
   "metadata": {
    "colab": {
     "base_uri": "https://localhost:8080/",
     "height": 732
    },
    "executionInfo": {
     "elapsed": 753,
     "status": "ok",
     "timestamp": 1702307894669,
     "user": {
      "displayName": "Harvey McCone",
      "userId": "11012039386955284988"
     },
     "user_tz": 0
    },
    "id": "jiMZVAUfpCVo",
    "outputId": "06e10774-0dc2-4e78-b224-797849670d22"
   },
   "outputs": [],
   "source": [
    "plt = group_RL_evoked.plot_topomap(times = [-0.05], average = 0.05, sensors = False, show_names = False, colorbar = False, size = 5, mask = CNV_mask, mask_params = mask_params,\n",
    "                                   time_format = \"\") # for selecting electrodes\n",
    "fname = \"/content/gdrive/MyDrive/Time_Reproduction/ERP_Plots/Topos/\" + \"GA_Topo_RL_CNV.png\""
   ]
  },
  {
   "cell_type": "code",
   "execution_count": null,
   "metadata": {
    "colab": {
     "base_uri": "https://localhost:8080/",
     "height": 732
    },
    "executionInfo": {
     "elapsed": 760,
     "status": "ok",
     "timestamp": 1702307895424,
     "user": {
      "displayName": "Harvey McCone",
      "userId": "11012039386955284988"
     },
     "user_tz": 0
    },
    "id": "zRyh8L3qsZE4",
    "outputId": "a0dec075-aa72-42da-bc59-492a379800e7"
   },
   "outputs": [],
   "source": [
    "plt = group_RL_evoked.plot_topomap(times = [-0.05], average = 0.05, sensors = False, show_names = False, colorbar = False, size = 5, mask = CPP_mask, mask_params = mask_params,\n",
    "                                   time_format = \"\") # for selecting electrodes\n",
    "fname = \"/content/gdrive/MyDrive/Time_Reproduction/ERP_Plots/Topos/\" + \"GA_Topo_RL_CPP.png\""
   ]
  },
  {
   "cell_type": "markdown",
   "metadata": {
    "id": "d9Rw5_6wfCz1"
   },
   "source": [
    "# Plot Separated by Sample Interval\n",
    "Separate trials by the 9 sample intervals and plot them\n",
    "\n",
    "13/12 - removing outlier RTs when loading epochs"
   ]
  },
  {
   "cell_type": "code",
   "execution_count": null,
   "metadata": {
    "colab": {
     "base_uri": "https://localhost:8080/"
    },
    "executionInfo": {
     "elapsed": 11,
     "status": "ok",
     "timestamp": 1702307895425,
     "user": {
      "displayName": "Harvey McCone",
      "userId": "11012039386955284988"
     },
     "user_tz": 0
    },
    "id": "VCNxyrFOjvmE",
    "outputId": "625136c4-b36e-4433-8203-5ede45b93b68"
   },
   "outputs": [],
   "source": [
    "encode_SIs = np.unique(encode_metadata[\"Trigger\"]) # SI trigger codes\n",
    "print(encode_SIs)"
   ]
  },
  {
   "cell_type": "code",
   "execution_count": null,
   "metadata": {
    "colab": {
     "base_uri": "https://localhost:8080/"
    },
    "executionInfo": {
     "elapsed": 153476,
     "status": "ok",
     "timestamp": 1702308048893,
     "user": {
      "displayName": "Harvey McCone",
      "userId": "11012039386955284988"
     },
     "user_tz": 0
    },
    "id": "iT3NoDEJfKJO",
    "outputId": "4811a249-001e-4b62-daf0-bc53dd01b4b2"
   },
   "outputs": [],
   "source": [
    "encode_SIs = np.unique(encode_metadata[\"Trigger\"]) # SI trigger codes\n",
    "repo_SIs = np.unique(repo_metadata[\"Trigger\"]) # SI trigger codes\n",
    "RL_SIs = np.unique(RL_metadata[\"Trigger\"])\n",
    "\n",
    "n_conditions = len(encode_SIs)\n",
    "all_encode_conditions = np.zeros([len(ID_list), n_conditions, n_channels_evoked, n_times_encode])\n",
    "all_repo_conditions = np.zeros([len(ID_list), n_conditions, n_channels_evoked, n_times_repo])\n",
    "all_RL_conditions = np.zeros([len(ID_list), n_conditions, n_channels_evoked, n_times_RL])\n",
    "\n",
    "for i in range(0, len(ID_list)):\n",
    "    ID = ID_list[i]\n",
    "\n",
    "    ## Load Epochs ##\n",
    "    encode_fname = \"/content/gdrive/MyDrive/Time_Reproduction/Epochs_CSD/Encode/\" + ID + \"_Encode_All_CSD_epo.fif\"\n",
    "    repo_fname = \"/content/gdrive/MyDrive/Time_Reproduction/Epochs_CSD/Reproduction/\" + ID + \"_Reproduction_All_CSD_epo.fif\"\n",
    "    RL_fname = \"/content/gdrive/MyDrive/Time_Reproduction/Epochs_CSD/Response_Locked/\" + ID + \"_RL_All_CSD_epo.fif\"\n",
    "\n",
    "    encode_epochs_participant = mne.read_epochs(encode_fname, preload = True)\n",
    "    repo_epochs_participant = mne.read_epochs(repo_fname, preload = True)\n",
    "    RL_epochs_participant = mne.read_epochs(RL_fname, preload = True)\n",
    "\n",
    "    for j in range(0, n_conditions): ## Average across epochs in each condition\n",
    "      encode_SI = encode_SIs[j]\n",
    "      repo_SI = repo_SIs[j]\n",
    "      RL_SI = RL_SIs[j]\n",
    "      encode_indices = encode_epochs_participant.metadata.query(\"Trigger == @encode_SI & Response_Time > @lower_RT_cutoff & Response_Time < @upper_RT_cutoff\").index # get trials for that condition\n",
    "      repo_indices = repo_epochs_participant.metadata.query(\"Trigger == @repo_SI & Response_Time > @lower_RT_cutoff & Response_Time < @upper_RT_cutoff\").index\n",
    "      RL_indices = RL_epochs_participant.metadata.query(\"Trigger == @RL_SI & Response_Time > @lower_RT_cutoff & Response_Time < @upper_RT_cutoff\").index\n",
    "      encode_participant_evoked = encode_epochs_participant[encode_indices].average() # average across those trials\n",
    "      all_encode_conditions[i, j, :, :] = encode_participant_evoked.data\n",
    "      repo_participant_evoked = repo_epochs_participant[repo_indices].average() # average across those trials\n",
    "      all_repo_conditions[i, j, :, :] = repo_participant_evoked.data\n",
    "      RL_participant_evoked = RL_epochs_participant[RL_indices].average() # put data in array\n",
    "      all_RL_conditions[i, j, :, :] = RL_participant_evoked.data"
   ]
  },
  {
   "cell_type": "code",
   "execution_count": null,
   "metadata": {
    "colab": {
     "base_uri": "https://localhost:8080/"
    },
    "executionInfo": {
     "elapsed": 15,
     "status": "ok",
     "timestamp": 1702308048894,
     "user": {
      "displayName": "Harvey McCone",
      "userId": "11012039386955284988"
     },
     "user_tz": 0
    },
    "id": "kOF73rcqhSUo",
    "outputId": "70783a1a-e8f8-4819-f5c2-331bf17d1c67"
   },
   "outputs": [],
   "source": [
    "print(all_encode_conditions.shape) # n_participants, n_sample_intervals, n_channels, n_times"
   ]
  },
  {
   "cell_type": "markdown",
   "metadata": {
    "id": "3pLU3d-fQ30c"
   },
   "source": [
    "## Get Data For CPP and CNV Electrodes"
   ]
  },
  {
   "cell_type": "code",
   "execution_count": null,
   "metadata": {
    "colab": {
     "base_uri": "https://localhost:8080/"
    },
    "executionInfo": {
     "elapsed": 11,
     "status": "ok",
     "timestamp": 1702308048894,
     "user": {
      "displayName": "Harvey McCone",
      "userId": "11012039386955284988"
     },
     "user_tz": 0
    },
    "id": "uVML1fzjMQdR",
    "outputId": "09c91f60-e018-4c5f-9c59-c8eada760ce2"
   },
   "outputs": [],
   "source": [
    "CNV_encode_conditions = np.zeros([len(ID_list), n_conditions, n_times_encode])\n",
    "CNV_repo_conditions = np.zeros([len(ID_list), n_conditions, n_times_repo])\n",
    "CNV_RL_conditions = np.zeros([len(ID_list), n_conditions, n_times_RL])\n",
    "\n",
    "for j in range(0, n_conditions):\n",
    "  condition_encode =  all_encode_conditions[:, j, CNV_idx] # changed 22/08 because now doing this before averaging across participants\n",
    "  condition_repo =  all_repo_conditions[:, j, CNV_idx]\n",
    "  condition_RL =  all_RL_conditions[:, j, CNV_idx]\n",
    "  print(condition_encode.shape)\n",
    "  if condition_encode.ndim > 1:\n",
    "    CNV_encode_mean = np.nanmean(condition_encode, axis = 1) # averaging activity across these electrodes\n",
    "    CNV_repo_mean = np.nanmean(condition_repo, axis = 1)\n",
    "    CNV_RL_mean = np.nanmean(condition_RL, axis = 1)\n",
    "  else:\n",
    "    CNV_encode_mean = condition_encode\n",
    "    CNV_repo_mean = condition_repo\n",
    "    CNV_RL_mean = condition_RL\n",
    "  CNV_encode_conditions[:, j] = CNV_encode_mean * 1e6 # multiply by 1e6 to convert from volts to microvolts\n",
    "  CNV_repo_conditions[:, j] = CNV_repo_mean * 1e6\n",
    "  CNV_RL_conditions[:, j] = CNV_RL_mean * 1e6"
   ]
  },
  {
   "cell_type": "code",
   "execution_count": null,
   "metadata": {
    "colab": {
     "base_uri": "https://localhost:8080/"
    },
    "executionInfo": {
     "elapsed": 9,
     "status": "ok",
     "timestamp": 1702308048894,
     "user": {
      "displayName": "Harvey McCone",
      "userId": "11012039386955284988"
     },
     "user_tz": 0
    },
    "id": "mdDPcPC6SXlq",
    "outputId": "0a4dcff7-1f98-4b5a-df38-ec830b78ec75"
   },
   "outputs": [],
   "source": [
    "CPP_encode_conditions = np.zeros([len(ID_list), n_conditions, n_times_encode])\n",
    "CPP_repo_conditions = np.zeros([len(ID_list), n_conditions, n_times_repo])\n",
    "CPP_RL_conditions = np.zeros([len(ID_list), n_conditions, n_times_RL])\n",
    "\n",
    "for j in range(0, n_conditions):\n",
    "  condition_encode =  all_encode_conditions[:, j, CPP_idx] # changed 22/08 because now doing this before averaging across participants\n",
    "  condition_repo =  all_repo_conditions[:, j, CPP_idx]\n",
    "  condition_RL =  all_RL_conditions[:, j, CPP_idx]\n",
    "  print(condition_encode.shape)\n",
    "  if condition_encode.ndim > 1:\n",
    "    CPP_encode_mean = np.nanmean(condition_encode, axis = 1) # averaging activity across these electrodes\n",
    "    CPP_repo_mean = np.nanmean(condition_repo, axis = 1)\n",
    "    CPP_RL_mean = np.nanmean(condition_RL, axis = 1)\n",
    "  else:\n",
    "    CPP_encode_mean = condition_encode\n",
    "    CPP_repo_mean = condition_repo\n",
    "    CPP_RL_mean = condition_RL\n",
    "  CPP_encode_conditions[:, j] = CPP_encode_mean * 1e6 # multiply by 1e6 to convert from volts to microvolts\n",
    "  CPP_repo_conditions[:, j] = CPP_repo_mean * 1e6\n",
    "  CPP_RL_conditions[:, j] = CPP_RL_mean * 1e6"
   ]
  },
  {
   "cell_type": "markdown",
   "metadata": {
    "id": "ief0wBBKlPn_"
   },
   "source": [
    "## Average Across Participants"
   ]
  },
  {
   "cell_type": "code",
   "execution_count": null,
   "metadata": {
    "colab": {
     "base_uri": "https://localhost:8080/"
    },
    "executionInfo": {
     "elapsed": 7,
     "status": "ok",
     "timestamp": 1702308048894,
     "user": {
      "displayName": "Harvey McCone",
      "userId": "11012039386955284988"
     },
     "user_tz": 0
    },
    "id": "9t5_-3kMlFdR",
    "outputId": "12253498-e89e-401c-a5aa-d493cee17725"
   },
   "outputs": [],
   "source": [
    "CNV_encode_conditions = np.nanmean(CNV_encode_conditions, axis = 0)\n",
    "print(CNV_encode_conditions.shape)\n",
    "CNV_repo_conditions = np.nanmean(CNV_repo_conditions, axis = 0)\n",
    "print(CNV_repo_conditions.shape)\n",
    "CNV_RL_conditions = np.nanmean(CNV_RL_conditions, axis = 0)\n",
    "print(CNV_RL_conditions.shape)\n",
    "\n",
    "CPP_encode_conditions = np.nanmean(CPP_encode_conditions, axis = 0)\n",
    "print(CPP_encode_conditions.shape)\n",
    "CPP_repo_conditions = np.nanmean(CPP_repo_conditions, axis = 0)\n",
    "print(CPP_repo_conditions.shape)\n",
    "CPP_RL_conditions = np.nanmean(CPP_RL_conditions, axis = 0)\n",
    "print(CPP_RL_conditions.shape)"
   ]
  },
  {
   "cell_type": "markdown",
   "metadata": {
    "id": "cvlIJZTyj1-R"
   },
   "source": [
    "## Applying 8Hz Filter Using scipy\n",
    "\n",
    "First define butterworth filter parameters using scipy.signal.butter\n",
    "\n",
    "Then apply filter using scipy.signal.filtfilt"
   ]
  },
  {
   "cell_type": "code",
   "execution_count": null,
   "metadata": {
    "executionInfo": {
     "elapsed": 6,
     "status": "ok",
     "timestamp": 1702308048895,
     "user": {
      "displayName": "Harvey McCone",
      "userId": "11012039386955284988"
     },
     "user_tz": 0
    },
    "id": "B8KqsCoYj1-R"
   },
   "outputs": [],
   "source": [
    "filter = 1\n",
    "if filter == 1:\n",
    "\n",
    "  from scipy.signal import butter\n",
    "\n",
    "  low_pass_freq = 8\n",
    "\n",
    "  N = 4 # order of the filter\n",
    "  Wn = low_pass_freq * 2 / sample_rate # critical frequency(ies) for the filter\n",
    "  b, a = butter(N, Wn)"
   ]
  },
  {
   "cell_type": "code",
   "execution_count": null,
   "metadata": {
    "executionInfo": {
     "elapsed": 6,
     "status": "ok",
     "timestamp": 1702308048895,
     "user": {
      "displayName": "Harvey McCone",
      "userId": "11012039386955284988"
     },
     "user_tz": 0
    },
    "id": "KAHpjGZBj1-S"
   },
   "outputs": [],
   "source": [
    "if filter == 1:\n",
    "\n",
    "  from scipy.signal import filtfilt\n",
    "\n",
    "  for j in range(0, CPP_encode_conditions.shape[0]):\n",
    "    CPP_encode_conditions[j] = filtfilt(b, a, x = CPP_encode_conditions[j])\n",
    "    CPP_repo_conditions[j] = filtfilt(b, a, x = CPP_repo_conditions[j])\n",
    "    CPP_RL_conditions[j] = filtfilt(b, a, x = CPP_RL_conditions[j])"
   ]
  },
  {
   "cell_type": "markdown",
   "metadata": {
    "id": "_4GniN7Ol0K4"
   },
   "source": [
    "## Plot"
   ]
  },
  {
   "cell_type": "code",
   "execution_count": null,
   "metadata": {
    "executionInfo": {
     "elapsed": 5,
     "status": "ok",
     "timestamp": 1702308048895,
     "user": {
      "displayName": "Harvey McCone",
      "userId": "11012039386955284988"
     },
     "user_tz": 0
    },
    "id": "d7kmj4WPmNUW"
   },
   "outputs": [],
   "source": [
    "from matplotlib import pyplot as plt\n",
    "%matplotlib inline\n",
    "labels = np.arange(600, 1001, 50)"
   ]
  },
  {
   "cell_type": "code",
   "execution_count": null,
   "metadata": {
    "colab": {
     "base_uri": "https://localhost:8080/",
     "height": 527
    },
    "executionInfo": {
     "elapsed": 2343,
     "status": "ok",
     "timestamp": 1702308051233,
     "user": {
      "displayName": "Harvey McCone",
      "userId": "11012039386955284988"
     },
     "user_tz": 0
    },
    "id": "0ZLyIFe7l1JE",
    "outputId": "b8d28738-2dd4-4cd4-965d-35f7f4a6a86e"
   },
   "outputs": [],
   "source": [
    "fig = plt.figure(figsize = (12,5))\n",
    "\n",
    "grid = plt.GridSpec(1, 3, wspace = 0.1)\n",
    "\n",
    "ax1 = fig.add_subplot(grid[0])\n",
    "ax2 = fig.add_subplot(grid[1])\n",
    "ax3 = fig.add_subplot(grid[2])\n",
    "\n",
    "## Encode Plot\n",
    "for j in range(0, n_conditions):\n",
    "  sns.lineplot(x = encode_times_for_plot[encode_times_for_plot <= 800], y = CNV_encode_conditions[j, encode_times_for_plot <= 800], label = labels[j], linewidth = 3, ax = ax1, legend = False)\n",
    "\n",
    "## Remove box around first plot\n",
    "sns.despine(ax = ax1)\n",
    "\n",
    "## Plot legend\n",
    "ax1.legend(fontsize = \"large\", loc = \"lower left\", title = \"Sample Interval\", title_fontsize = \"large\", ncols = 2)\n",
    "\n",
    "## Set Axes Labels and format of them\n",
    "ax1.set_xlabel(\"Time from SI Onset (ms)\", fontsize = \"xx-large\", labelpad = 5) # labelpad determines how far from axis the label is\n",
    "ax1.set_ylabel(\"CNV\" + \" \" + \"$(\\mu V/m^2)$\", fontsize = 25, labelpad = 5, weight='bold')\n",
    "\n",
    "## Set ylim - need to do this\n",
    "ax1.set_ylim(-33, 9)\n",
    "\n",
    "## For modifying the ticks and the tick labels\n",
    "ax1.tick_params(labelsize = \"xx-large\")\n",
    "\n",
    "## Plotting vertical line at time of target onset\n",
    "ax1.vlines(0, ax1.get_ylim()[0], ax1.get_ylim()[1], color = \"k\", linestyle = \"dotted\", linewidth = 2)\n",
    "\n",
    "## Plotting text above target onset line\n",
    "ax1.text(x = -200, y = 9.5, s = \"SI Onset\", fontsize = \"xx-large\") # adjust x to move left or right\n",
    "\n",
    "## Repo Plot ##\n",
    "for j in range(0, n_conditions):\n",
    "  sns.lineplot(x = repo_times_for_plot, y = CNV_repo_conditions[j], label = labels[j], linewidth = 3, ax = ax2, legend = False)\n",
    "\n",
    "## Remove box around second plot\n",
    "sns.despine(ax = ax2)\n",
    "\n",
    "## Set Axes Labels and format of them - decided not to plot y axis label on second plot\n",
    "ax2.set_xlabel(\"Time from Cue Onset (ms)\", fontsize = \"xx-large\", labelpad = 5)\n",
    "\n",
    "## Set ylim - need to do this manually for maximum customisation\n",
    "ax2.set_ylim(-33, 9)\n",
    "\n",
    "## For modifying the ticks and the tick labels\n",
    "ax2.tick_params(labelsize = \"xx-large\")\n",
    "\n",
    "## Plotting vertical line at time of target onset\n",
    "ax2.vlines(0, ax2.get_ylim()[0], ax2.get_ylim()[1], color = \"k\", linestyle = \"dotted\", linewidth = 2)\n",
    "\n",
    "## Add Mean Response Time Vertical Lines?\n",
    "\n",
    "## Removing left spine from second plot\n",
    "ax2.spines[\"left\"].set_visible(False)\n",
    "ax2.set_yticks([])\n",
    "\n",
    "## Add shaded portion ##\n",
    "b = -33\n",
    "t = 9\n",
    "bottom = b * (np.ones(len(repo_times_for_plot[repo_amplitude_window_start_idx : repo_amplitude_window_end_idx])))\n",
    "top =  t * (np.ones(len(repo_times_for_plot[repo_amplitude_window_start_idx : repo_amplitude_window_end_idx])))\n",
    "ax2.fill_between(x = repo_times_for_plot[repo_amplitude_window_start_idx : repo_amplitude_window_end_idx], y1 = bottom, y2 = top, color = \"black\", alpha = 0.1)\n",
    "\n",
    "## Plotting text above target onset line\n",
    "ax2.text(x = -250, y = 9.5, s = \"Cue Onset\", fontsize = \"xx-large\") # adjust x to move left or right\n",
    "\n",
    "## RL Plot ##\n",
    "for j in range(0, n_conditions):\n",
    "  sns.lineplot(x = RL_times_for_plot, y = CNV_RL_conditions[j], label = labels[j], linewidth = 3, ax = ax3, legend = False)\n",
    "\n",
    "## Remove box around second plot\n",
    "sns.despine(ax = ax3)\n",
    "## Set Axes Labels and format of them - decided not to plot y axis label on second plot\n",
    "ax3.set_xlabel(\"Time from Response (ms)\", fontsize = \"xx-large\", labelpad = 5)\n",
    "\n",
    "## Set ylim - need to do this manually for maximum customisation\n",
    "ax3.set_ylim(-33, 9)\n",
    "\n",
    "## For modifying the ticks and the tick labels\n",
    "ax3.tick_params(labelsize = \"xx-large\")\n",
    "\n",
    "## Plotting vertical dotted line response\n",
    "ax3.vlines(0, ax2.get_ylim()[0], ax3.get_ylim()[1], color = \"k\", linestyle = \"dotted\", linewidth = 2)\n",
    "\n",
    "## Plotting text above response line\n",
    "ax3.text(x = -250, y = 9.5, s = \"Response\", fontsize = \"xx-large\") # adjust x to move left or right\n",
    "\n",
    "## Removing left spine from second plot\n",
    "ax3.spines[\"left\"].set_visible(False)\n",
    "ax3.set_yticks([])\n",
    "\n",
    "## Add shaded portion ##\n",
    "b = -33\n",
    "t = 9\n",
    "bottom = b * (np.ones(len(RL_times_for_plot[RL_slope_window_start_idx : RL_slope_window_end_idx])))\n",
    "top =  t * (np.ones(len(RL_times_for_plot[RL_slope_window_start_idx : RL_slope_window_end_idx])))\n",
    "ax3.fill_between(x = RL_times_for_plot[RL_slope_window_start_idx : RL_slope_window_end_idx], y1 = bottom, y2 = top, color = \"black\", alpha = 0.1)"
   ]
  },
  {
   "cell_type": "code",
   "execution_count": null,
   "metadata": {
    "colab": {
     "base_uri": "https://localhost:8080/",
     "height": 527
    },
    "executionInfo": {
     "elapsed": 1329,
     "status": "ok",
     "timestamp": 1702308077294,
     "user": {
      "displayName": "Harvey McCone",
      "userId": "11012039386955284988"
     },
     "user_tz": 0
    },
    "id": "sf7x6pSFifgJ",
    "outputId": "7182437c-1e8e-4af6-e9a9-d2b3912598a0"
   },
   "outputs": [],
   "source": [
    "fig = plt.figure(figsize = (12,5))\n",
    "\n",
    "grid = plt.GridSpec(1, 3, wspace = 0.1)\n",
    "\n",
    "ax1 = fig.add_subplot(grid[0])\n",
    "ax2 = fig.add_subplot(grid[1])\n",
    "ax3 = fig.add_subplot(grid[2])\n",
    "\n",
    "## Encode Plot\n",
    "for j in range(0, n_conditions):\n",
    "  sns.lineplot(x = encode_times_for_plot[encode_times_for_plot <= 800], y = CPP_encode_conditions[j, encode_times_for_plot <= 800], label = labels[j], linewidth = 3, ax = ax1, legend = False)\n",
    "\n",
    "## Remove box around first plot\n",
    "sns.despine(ax = ax1)\n",
    "\n",
    "## Plot legend\n",
    "#ax1.legend(fontsize = \"xx-large\", loc = \"upper left\", title = \"Sample Interval Bin\", title_fontsize = \"xx-large\")\n",
    "\n",
    "## Set Axes Labels and format of them\n",
    "ax1.set_xlabel(\"Time from SI Onset (ms)\", fontsize = \"xx-large\", labelpad = 5) # labelpad determines how far from axis the label is\n",
    "ax1.set_ylabel(\"CPP\" + \" \" + \"$(\\mu V/m^2)$\", fontsize = 25, labelpad = 5, weight='bold')\n",
    "\n",
    "## Set ylim - need to do this\n",
    "ax1.set_ylim(-33, 10)\n",
    "\n",
    "## For modifying the ticks and the tick labels\n",
    "ax1.tick_params(labelsize = \"xx-large\")\n",
    "\n",
    "## Plotting vertical line at time of target onset\n",
    "ax1.vlines(0, ax1.get_ylim()[0], ax1.get_ylim()[1], color = \"k\", linestyle = \"dotted\", linewidth = 2)\n",
    "\n",
    "## Plotting text above target onset line\n",
    "ax1.text(x = -200, y = 10.5, s = \"SI Onset\", fontsize = \"xx-large\") # adjust x to move left or right\n",
    "\n",
    "## Repo Plot ##\n",
    "for j in range(0, n_conditions):\n",
    "  sns.lineplot(x = repo_times_for_plot, y = CPP_repo_conditions[j], label = labels[j], linewidth = 3, ax = ax2, legend = False)\n",
    "\n",
    "## Remove box around second plot\n",
    "sns.despine(ax = ax2)\n",
    "\n",
    "## Set Axes Labels and format of them - decided not to plot y axis label on second plot\n",
    "ax2.set_xlabel(\"Time from Cue Onset (ms)\", fontsize = \"xx-large\", labelpad = 5)\n",
    "\n",
    "## Set ylim - need to do this manually for maximum customisation\n",
    "ax2.set_ylim(-33, 10)\n",
    "\n",
    "## For modifying the ticks and the tick labels\n",
    "ax2.tick_params(labelsize = \"xx-large\")\n",
    "\n",
    "## Plotting vertical line at time of target onset\n",
    "ax2.vlines(0, ax2.get_ylim()[0], ax2.get_ylim()[1], color = \"k\", linestyle = \"dotted\", linewidth = 2)\n",
    "\n",
    "## Add Mean Response Time Vertical Lines?\n",
    "\n",
    "## Add shaded portion ##\n",
    "b = -33\n",
    "t = 10\n",
    "bottom = b * (np.ones(len(repo_times_for_plot[repo_amplitude_window_start_idx : repo_amplitude_window_end_idx])))\n",
    "top =  t * (np.ones(len(repo_times_for_plot[repo_amplitude_window_start_idx : repo_amplitude_window_end_idx])))\n",
    "ax2.fill_between(x = repo_times_for_plot[repo_amplitude_window_start_idx : repo_amplitude_window_end_idx], y1 = bottom, y2 = top, color = \"black\", alpha = 0.1)\n",
    "\n",
    "## Removing left spine from second plot\n",
    "ax2.spines[\"left\"].set_visible(False)\n",
    "ax2.set_yticks([])\n",
    "\n",
    "## Plotting text above Cue onset line\n",
    "ax2.text(x = -250, y =  10.5, s = \"Cue Onset\", fontsize = \"xx-large\") # adjust x to move left or right\n",
    "\n",
    "## RL Plot ##\n",
    "for j in range(0, n_conditions):\n",
    "  sns.lineplot(x = RL_times_for_plot, y = CPP_RL_conditions[j], label = labels[j], linewidth = 3, ax = ax3, legend = False)\n",
    "\n",
    "## Remove box around second plot\n",
    "sns.despine(ax = ax3)\n",
    "## Set Axes Labels and format of them - decided not to plot y axis label on second plot\n",
    "ax3.set_xlabel(\"Time from Response (ms)\", fontsize = \"xx-large\", labelpad = 5)\n",
    "\n",
    "## Set ylim - need to do this manually for maximum customisation\n",
    "ax3.set_ylim(-33,  10)\n",
    "\n",
    "## For modifying the ticks and the tick labels\n",
    "ax3.tick_params(labelsize = \"xx-large\")\n",
    "\n",
    "## Plotting vertical dotted line response\n",
    "ax3.vlines(0, ax2.get_ylim()[0], ax3.get_ylim()[1], color = \"k\", linestyle = \"dotted\", linewidth = 2)\n",
    "\n",
    "## Plotting text above response line\n",
    "ax3.text(x = -250, y =  10.5, s = \"Response\", color = \"k\", fontsize = \"xx-large\") # adjust x to move left or right\n",
    "\n",
    "## Removing left spine from second plot\n",
    "ax3.spines[\"left\"].set_visible(False)\n",
    "ax3.set_yticks([])\n",
    "\n",
    "## Add shaded portion ##\n",
    "b = -33\n",
    "t = 10\n",
    "bottom = b * (np.ones(len(RL_times_for_plot[RL_CPP_window_start_idx : RL_CPP_window_end_idx])))\n",
    "top =  t * (np.ones(len(RL_times_for_plot[RL_CPP_window_start_idx : RL_CPP_window_end_idx])))\n",
    "ax3.fill_between(x = RL_times_for_plot[RL_CPP_window_start_idx : RL_CPP_window_end_idx], y1 = bottom, y2 = top, color = \"black\", alpha = 0.1)"
   ]
  },
  {
   "cell_type": "markdown",
   "metadata": {
    "id": "tDw16WPD9Apr"
   },
   "source": [
    "# Plotting Separated by Sample Interval Bins\n",
    "Binning Sample Intervals Into 3 Bins: Short, Intermediate, Long in order to improve the plot"
   ]
  },
  {
   "cell_type": "code",
   "execution_count": null,
   "metadata": {
    "executionInfo": {
     "elapsed": 5,
     "status": "ok",
     "timestamp": 1702308077295,
     "user": {
      "displayName": "Harvey McCone",
      "userId": "11012039386955284988"
     },
     "user_tz": 0
    },
    "id": "k4nFIZ9Za7cB"
   },
   "outputs": [],
   "source": [
    "repo_mask = 0 # determines whether you mask timepoints past responses in the repo epoch"
   ]
  },
  {
   "cell_type": "code",
   "execution_count": null,
   "metadata": {
    "colab": {
     "base_uri": "https://localhost:8080/"
    },
    "executionInfo": {
     "elapsed": 158885,
     "status": "ok",
     "timestamp": 1702308236176,
     "user": {
      "displayName": "Harvey McCone",
      "userId": "11012039386955284988"
     },
     "user_tz": 0
    },
    "id": "iwGTE42a9Yby",
    "outputId": "ea96f3c0-7cd2-4db3-cc22-f6ea1a112593"
   },
   "outputs": [],
   "source": [
    "encode_SIs = np.unique(encode_metadata[\"Trigger\"]) # SI trigger codes\n",
    "repo_SIs = np.unique(repo_metadata[\"Trigger\"]) # SI trigger codes\n",
    "RL_SIs = np.unique(RL_metadata[\"Trigger\"])\n",
    "\n",
    "n_conditions = len(encode_SIs)\n",
    "all_encode_conditions_unbinned = np.zeros([len(ID_list), n_conditions, n_channels_evoked, n_times_encode])\n",
    "all_repo_conditions_unbinned = np.zeros([len(ID_list), n_conditions, n_channels_evoked, n_times_repo])\n",
    "all_RL_conditions_unbinned = np.zeros([len(ID_list), n_conditions, n_channels_evoked, n_times_RL])\n",
    "median_RT_conditions_unbinned = np.zeros([len(ID_list), n_conditions])\n",
    "\n",
    "all_encode_ses_unbinned = np.zeros([len(ID_list), n_conditions, n_channels_evoked, n_times_encode])\n",
    "all_repo_ses_unbinned = np.zeros([len(ID_list), n_conditions, n_channels_evoked, n_times_repo])\n",
    "all_RL_ses_unbinned = np.zeros([len(ID_list), n_conditions, n_channels_evoked, n_times_RL])\n",
    "\n",
    "if repo_mask:\n",
    "  pre_epoch_period =  np.abs(repo_epochs_participant.tmin)\n",
    "  pre_epoch_period_samps = pre_epoch_period * 512\n",
    "\n",
    "for i in range(0, len(ID_list)):\n",
    "    ID = ID_list[i]\n",
    "\n",
    "    ## Load Epochs ##\n",
    "    encode_fname = \"/content/gdrive/MyDrive/Time_Reproduction/Epochs_CSD/Encode/\" + ID + \"_Encode_All_CSD_epo.fif\"\n",
    "    repo_fname = \"/content/gdrive/MyDrive/Time_Reproduction/Epochs_CSD/Reproduction/\" + ID + \"_Reproduction_All_CSD_epo.fif\"\n",
    "    RL_fname = \"/content/gdrive/MyDrive/Time_Reproduction/Epochs_CSD/Response_Locked/\" + ID + \"_RL_All_CSD_epo.fif\"\n",
    "\n",
    "    encode_epochs_participant = mne.read_epochs(encode_fname, preload = True)\n",
    "    repo_epochs_participant = mne.read_epochs(repo_fname, preload = True)\n",
    "    RL_epochs_participant = mne.read_epochs(RL_fname, preload = True)\n",
    "\n",
    "    for j in range(0, n_conditions): ## Average across epochs in each condition\n",
    "      encode_SI = encode_SIs[j]\n",
    "      repo_SI = repo_SIs[j]\n",
    "      RL_SI = RL_SIs[j]\n",
    "\n",
    "      #encode_indices = encode_epochs_participant.metadata.query(\"Trigger == @encode_SI & Response_Time > @lower_RT_cutoff & Response_Time < @upper_RT_cutoff\").index # get trials for that condition\n",
    "      #repo_indices = repo_epochs_participant.metadata.query(\"Trigger == @repo_SI & Response_Time > @lower_RT_cutoff & Response_Time < @upper_RT_cutoff\").index\n",
    "      #RL_indices = RL_epochs_participant.metadata.query(\"Trigger == @RL_SI & Response_Time > @lower_RT_cutoff & Response_Time < @upper_RT_cutoff\").index\n",
    "\n",
    "      encode_indices = encode_epochs_participant.metadata[(encode_epochs_participant.metadata[\"Trigger\"] == encode_SI) & (encode_epochs_participant.metadata[\"Response_Time\"] > lower_RT_cutoff) & (encode_epochs_participant.metadata[\"Response_Time\"] < upper_RT_cutoff)].index\n",
    "      repo_indices = repo_epochs_participant.metadata[(repo_epochs_participant.metadata[\"Trigger\"] == repo_SI) & (repo_epochs_participant.metadata[\"Response_Time\"] > lower_RT_cutoff) & (repo_epochs_participant.metadata[\"Response_Time\"] < upper_RT_cutoff)].index\n",
    "      RL_indices = RL_epochs_participant.metadata[(RL_epochs_participant.metadata[\"Trigger\"] == RL_SI) & (RL_epochs_participant.metadata[\"Response_Time\"] > lower_RT_cutoff) & (RL_epochs_participant.metadata[\"Response_Time\"] < upper_RT_cutoff)].index\n",
    "\n",
    "      encode_participant_evoked = encode_epochs_participant[encode_indices].average() # average across those trials\n",
    "      all_encode_conditions_unbinned[i, j, :, :] = encode_participant_evoked.data\n",
    "      RL_participant_evoked = RL_epochs_participant[RL_indices].average() # put data in array\n",
    "      all_RL_conditions_unbinned[i, j, :, :] = RL_participant_evoked.data\n",
    "\n",
    "      median_RT_conditions_unbinned[i, j] = repo_epochs_participant[repo_indices].metadata[\"Response_Time\"].median()\n",
    "\n",
    "      if repo_mask: # want to mask times that occur after the response in the repo epoch\n",
    "        repo_data = repo_epochs_participant[repo_indices].get_data()\n",
    "        repo_participant_metadata = repo_epochs_participant[repo_indices].metadata\n",
    "        repo_data_masked = np.zeros(repo_data.shape)\n",
    "        for k in range(0, repo_participant_metadata.shape[0]):\n",
    "          repo_trial_data = repo_data[k]\n",
    "          trial_rt_ms = repo_participant_metadata.at[repo_participant_metadata.index[k], \"Response_Time\"]\n",
    "          trial_rt_samps = trial_rt_ms / 1000 * 512\n",
    "          cutoff_point = int(pre_epoch_period_samps + trial_rt_samps)\n",
    "          nan_array = np.full(repo_data[k].shape, np.NaN)\n",
    "          nan_array[:, :cutoff_point] = repo_trial_data[:, :cutoff_point]\n",
    "          repo_data_masked[k] = nan_array\n",
    "        all_repo_conditions_unbinned[i, j, :, :] = np.nanmean(repo_data_masked, axis = 0)\n",
    "      else:\n",
    "        repo_participant_evoked = repo_epochs_participant[repo_indices].average() # average across those trials\n",
    "        all_repo_conditions_unbinned[i, j, :, :] = repo_participant_evoked.data"
   ]
  },
  {
   "cell_type": "code",
   "execution_count": null,
   "metadata": {
    "colab": {
     "base_uri": "https://localhost:8080/"
    },
    "executionInfo": {
     "elapsed": 19,
     "status": "ok",
     "timestamp": 1702308236176,
     "user": {
      "displayName": "Harvey McCone",
      "userId": "11012039386955284988"
     },
     "user_tz": 0
    },
    "id": "2Km0Ma-n9YcB",
    "outputId": "f171d1bf-e584-4c4a-dda4-6a916b345459"
   },
   "outputs": [],
   "source": [
    "print(all_encode_conditions_unbinned.shape) # n_participants, n_sample_intervals, n_channels, n_times"
   ]
  },
  {
   "cell_type": "markdown",
   "metadata": {
    "id": "Pdc7rew69mgI"
   },
   "source": [
    "## Average Sample Interval Bins Within Participant"
   ]
  },
  {
   "cell_type": "code",
   "execution_count": null,
   "metadata": {
    "executionInfo": {
     "elapsed": 429,
     "status": "ok",
     "timestamp": 1702308236602,
     "user": {
      "displayName": "Harvey McCone",
      "userId": "11012039386955284988"
     },
     "user_tz": 0
    },
    "id": "kFOrkLOJ97ZQ"
   },
   "outputs": [],
   "source": [
    "n_conditions = 3\n",
    "all_encode_conditions = np.zeros([len(ID_list), n_conditions, n_channels_evoked, n_times_encode])\n",
    "all_repo_conditions = np.zeros([len(ID_list), n_conditions, n_channels_evoked, n_times_repo])\n",
    "all_RL_conditions = np.zeros([len(ID_list), n_conditions, n_channels_evoked, n_times_RL])\n",
    "median_RT_conditions = np.zeros([len(ID_list), n_conditions])\n",
    "\n",
    "for i in range(0, len(ID_list)):\n",
    "  all_encode_conditions[i, 0, :, :] = np.nanmean(all_encode_conditions_unbinned[i, 0:3, :, :], axis = 0)\n",
    "  all_encode_conditions[i, 1, :, :] = np.nanmean(all_encode_conditions_unbinned[i, 3:6, :, :], axis = 0)\n",
    "  all_encode_conditions[i, 2, :, :] = np.nanmean(all_encode_conditions_unbinned[i, 6:9, :, :], axis = 0)\n",
    "\n",
    "  all_repo_conditions[i, 0, :, :] = np.nanmean(all_repo_conditions_unbinned[i, 0:3, :, :], axis = 0)\n",
    "  all_repo_conditions[i, 1, :, :] = np.nanmean(all_repo_conditions_unbinned[i, 3:6, :, :], axis = 0)\n",
    "  all_repo_conditions[i, 2, :, :] = np.nanmean(all_repo_conditions_unbinned[i, 6:9, :, :], axis = 0)\n",
    "\n",
    "  all_RL_conditions[i, 0, :, :] = np.nanmean(all_RL_conditions_unbinned[i, 0:3, :, :], axis = 0)\n",
    "  all_RL_conditions[i, 1, :, :] = np.nanmean(all_RL_conditions_unbinned[i, 3:6, :, :], axis = 0)\n",
    "  all_RL_conditions[i, 2, :, :] = np.nanmean(all_RL_conditions_unbinned[i, 6:9, :, :], axis = 0)\n",
    "\n",
    "  median_RT_conditions[i, 0] = np.nanmean(median_RT_conditions_unbinned[i, 0:3], axis = 0)\n",
    "  median_RT_conditions[i, 1] = np.nanmean(median_RT_conditions_unbinned[i, 3:6], axis = 0)\n",
    "  median_RT_conditions[i, 2] = np.nanmean(median_RT_conditions_unbinned[i, 6:9], axis = 0)"
   ]
  },
  {
   "cell_type": "markdown",
   "metadata": {
    "id": "J4EJsDpe9YcB"
   },
   "source": [
    "## Get Data For CPP and CNV Electrodes"
   ]
  },
  {
   "cell_type": "code",
   "execution_count": null,
   "metadata": {
    "colab": {
     "base_uri": "https://localhost:8080/"
    },
    "executionInfo": {
     "elapsed": 12,
     "status": "ok",
     "timestamp": 1702308236602,
     "user": {
      "displayName": "Harvey McCone",
      "userId": "11012039386955284988"
     },
     "user_tz": 0
    },
    "id": "tabEu5Us9YcB",
    "outputId": "d4a06c0c-89b5-4fc6-9bb8-5d287faf04eb"
   },
   "outputs": [],
   "source": [
    "CNV_encode_conditions = np.zeros([len(ID_list), n_conditions, n_times_encode])\n",
    "CNV_repo_conditions = np.zeros([len(ID_list), n_conditions, n_times_repo])\n",
    "CNV_RL_conditions = np.zeros([len(ID_list), n_conditions, n_times_RL])\n",
    "\n",
    "for j in range(0, n_conditions):\n",
    "  condition_encode =  all_encode_conditions[:, j, CNV_idx] # changed 22/08 because now doing this before averaging across participants\n",
    "  condition_repo =  all_repo_conditions[:, j, CNV_idx]\n",
    "  condition_RL =  all_RL_conditions[:, j, CNV_idx]\n",
    "  print(condition_encode.shape)\n",
    "  if condition_encode.ndim > 1:\n",
    "    CNV_encode_mean = np.nanmean(condition_encode, axis = 1) # averaging activity across these electrodes\n",
    "    CNV_repo_mean = np.nanmean(condition_repo, axis = 1)\n",
    "    CNV_RL_mean = np.nanmean(condition_RL, axis = 1)\n",
    "  else:\n",
    "    CNV_encode_mean = condition_encode\n",
    "    CNV_repo_mean = condition_repo\n",
    "    CNV_RL_mean = condition_RL\n",
    "  CNV_encode_conditions[:, j] = CNV_encode_mean * 1e6 # multiply by 1e6 to convert from volts to microvolts\n",
    "  CNV_repo_conditions[:, j] = CNV_repo_mean * 1e6\n",
    "  CNV_RL_conditions[:, j] = CNV_RL_mean * 1e6"
   ]
  },
  {
   "cell_type": "code",
   "execution_count": null,
   "metadata": {
    "colab": {
     "base_uri": "https://localhost:8080/"
    },
    "executionInfo": {
     "elapsed": 9,
     "status": "ok",
     "timestamp": 1702308236602,
     "user": {
      "displayName": "Harvey McCone",
      "userId": "11012039386955284988"
     },
     "user_tz": 0
    },
    "id": "TFPQRzTS9YcB",
    "outputId": "2da63822-1500-4589-bac1-fe812e590004"
   },
   "outputs": [],
   "source": [
    "CPP_encode_conditions = np.zeros([len(ID_list), n_conditions, n_times_encode])\n",
    "CPP_repo_conditions = np.zeros([len(ID_list), n_conditions, n_times_repo])\n",
    "CPP_RL_conditions = np.zeros([len(ID_list), n_conditions, n_times_RL])\n",
    "\n",
    "for j in range(0, n_conditions):\n",
    "  condition_encode =  all_encode_conditions[:, j, CPP_idx] # changed 22/08 because now doing this before averaging across participants\n",
    "  condition_repo =  all_repo_conditions[:, j, CPP_idx]\n",
    "  condition_RL =  all_RL_conditions[:, j, CPP_idx]\n",
    "  print(condition_encode.shape)\n",
    "  if condition_encode.ndim > 1:\n",
    "    CPP_encode_mean = np.nanmean(condition_encode, axis = 1) # averaging activity across these electrodes\n",
    "    CPP_repo_mean = np.nanmean(condition_repo, axis = 1)\n",
    "    CPP_RL_mean = np.nanmean(condition_RL, axis = 1)\n",
    "  else:\n",
    "    CPP_encode_mean = condition_encode\n",
    "    CPP_repo_mean = condition_repo\n",
    "    CPP_RL_mean = condition_RL\n",
    "  CPP_encode_conditions[:, j] = CPP_encode_mean * 1e6 # multiply by 1e6 to convert from volts to microvolts\n",
    "  CPP_repo_conditions[:, j] = CPP_repo_mean * 1e6\n",
    "  CPP_RL_conditions[:, j] = CPP_RL_mean * 1e6"
   ]
  },
  {
   "cell_type": "markdown",
   "metadata": {
    "id": "N0cXDdAS9YcC"
   },
   "source": [
    "## Average Across Participants"
   ]
  },
  {
   "cell_type": "code",
   "execution_count": null,
   "metadata": {
    "colab": {
     "base_uri": "https://localhost:8080/"
    },
    "executionInfo": {
     "elapsed": 7,
     "status": "ok",
     "timestamp": 1702308236602,
     "user": {
      "displayName": "Harvey McCone",
      "userId": "11012039386955284988"
     },
     "user_tz": 0
    },
    "id": "cEeyDAsz9YcC",
    "outputId": "eefe56ab-5e46-4aed-edef-37a909c5ebeb"
   },
   "outputs": [],
   "source": [
    "CNV_encode_conditions = np.nanmean(CNV_encode_conditions, axis = 0)\n",
    "print(CNV_encode_conditions.shape)\n",
    "CNV_repo_conditions = np.nanmean(CNV_repo_conditions, axis = 0)\n",
    "print(CNV_repo_conditions.shape)\n",
    "CNV_RL_conditions = np.nanmean(CNV_RL_conditions, axis = 0)\n",
    "print(CNV_RL_conditions.shape)\n",
    "\n",
    "CPP_encode_conditions = np.nanmean(CPP_encode_conditions, axis = 0)\n",
    "print(CPP_encode_conditions.shape)\n",
    "CPP_repo_conditions = np.nanmean(CPP_repo_conditions, axis = 0)\n",
    "print(CPP_repo_conditions.shape)\n",
    "CPP_RL_conditions = np.nanmean(CPP_RL_conditions, axis = 0)\n",
    "print(CPP_RL_conditions.shape)\n",
    "\n",
    "median_RT_conditions = np.nanmean(median_RT_conditions, axis = 0)\n",
    "print(median_RT_conditions.shape)"
   ]
  },
  {
   "cell_type": "markdown",
   "metadata": {
    "id": "f3Aq-loxPH2n"
   },
   "source": [
    "## Applying 8Hz Filter Using scipy\n",
    "\n",
    "First define butterworth filter parameters using scipy.signal.butter\n",
    "\n",
    "Then apply filter using scipy.signal.filtfilt"
   ]
  },
  {
   "cell_type": "code",
   "execution_count": null,
   "metadata": {
    "executionInfo": {
     "elapsed": 5,
     "status": "ok",
     "timestamp": 1702308236602,
     "user": {
      "displayName": "Harvey McCone",
      "userId": "11012039386955284988"
     },
     "user_tz": 0
    },
    "id": "0fBBHj-FPH2o"
   },
   "outputs": [],
   "source": [
    "filter = 1\n",
    "if filter == 1:\n",
    "\n",
    "  from scipy.signal import butter\n",
    "\n",
    "  low_pass_freq = 8\n",
    "\n",
    "  N = 4 # order of the filter\n",
    "  Wn = low_pass_freq * 2 / sample_rate # critical frequency(ies) for the filter\n",
    "  b, a = butter(N, Wn)"
   ]
  },
  {
   "cell_type": "code",
   "execution_count": null,
   "metadata": {
    "executionInfo": {
     "elapsed": 5,
     "status": "ok",
     "timestamp": 1702308236603,
     "user": {
      "displayName": "Harvey McCone",
      "userId": "11012039386955284988"
     },
     "user_tz": 0
    },
    "id": "GJfmTAS4PH2o"
   },
   "outputs": [],
   "source": [
    "if filter == 1:\n",
    "\n",
    "  from scipy.signal import filtfilt\n",
    "\n",
    "  for j in range(0, CPP_encode_conditions.shape[0]):\n",
    "    CPP_encode_conditions[j] = filtfilt(b, a, x = CPP_encode_conditions[j])\n",
    "    CPP_repo_conditions[j] = filtfilt(b, a, x = CPP_repo_conditions[j])\n",
    "    CPP_RL_conditions[j] = filtfilt(b, a, x = CPP_RL_conditions[j])"
   ]
  },
  {
   "cell_type": "markdown",
   "metadata": {
    "id": "xYuSf5e99YcC"
   },
   "source": [
    "## Plot"
   ]
  },
  {
   "cell_type": "code",
   "execution_count": null,
   "metadata": {
    "executionInfo": {
     "elapsed": 5,
     "status": "ok",
     "timestamp": 1702308236603,
     "user": {
      "displayName": "Harvey McCone",
      "userId": "11012039386955284988"
     },
     "user_tz": 0
    },
    "id": "8m6PDcdD9YcC"
   },
   "outputs": [],
   "source": [
    "from matplotlib import pyplot as plt\n",
    "%matplotlib inline\n",
    "alphas = [1, 0.66, 0.33]\n",
    "labels = [\"Short\",\n",
    "          \"Medium\",\n",
    "          \"Long\"]"
   ]
  },
  {
   "cell_type": "code",
   "execution_count": null,
   "metadata": {
    "colab": {
     "base_uri": "https://localhost:8080/",
     "height": 697
    },
    "executionInfo": {
     "elapsed": 1817,
     "status": "error",
     "timestamp": 1702308293451,
     "user": {
      "displayName": "Harvey McCone",
      "userId": "11012039386955284988"
     },
     "user_tz": 0
    },
    "id": "mCN9qnMC9YcC",
    "outputId": "2e73bd7c-a351-4afb-8a0d-68f7b9810476"
   },
   "outputs": [],
   "source": [
    "fig = plt.figure(figsize = (12,5))\n",
    "\n",
    "grid = plt.GridSpec(1, 3, wspace = 0.1)\n",
    "\n",
    "ax1 = fig.add_subplot(grid[0])\n",
    "ax2 = fig.add_subplot(grid[1])\n",
    "ax3 = fig.add_subplot(grid[2])\n",
    "\n",
    "## Encode Plot\n",
    "for j in range(0, n_conditions):\n",
    "  sns.lineplot(x = encode_times_for_plot[encode_times_for_plot <= 800], y = CNV_encode_conditions[j, encode_times_for_plot <= 800], color = \"k\", alpha = alphas[j], label = labels[j], linewidth = 3, ax = ax1, legend = False)\n",
    "\n",
    "## Remove box around first plot\n",
    "sns.despine(ax = ax1)\n",
    "\n",
    "## Plot legend\n",
    "ax1.legend(fontsize = \"xx-large\", loc = \"lower left\", title = \"Sample Interval Bin\", title_fontsize = \"xx-large\")\n",
    "\n",
    "## Set Axes Labels and format of them\n",
    "ax1.set_xlabel(\"Time from SI Onset (ms)\", fontsize = \"xx-large\", labelpad = 5) # labelpad determines how far from axis the label is\n",
    "ax1.set_ylabel(\"CNV\" + \" \" + \"$(\\mu V/m^2)$\", fontsize = 25, labelpad = 5, weight='bold')\n",
    "\n",
    "## Set ylim - need to do this\n",
    "ax1.set_ylim(-30, 9)\n",
    "\n",
    "## For modifying the ticks and the tick labels\n",
    "ax1.tick_params(labelsize = \"xx-large\")\n",
    "\n",
    "## Plotting vertical line at time of target onset\n",
    "ax1.vlines(0, ax1.get_ylim()[0], ax1.get_ylim()[1], color = \"k\", linestyle = \"dotted\", linewidth = 2)\n",
    "\n",
    "## Plotting text above target onset line\n",
    "ax1.text(x = -200, y = 9.5, s = \"SI Onset\", fontsize = \"xx-large\") # adjust x to move left or right\n",
    "\n",
    "## Repo Plot ##\n",
    "for j in range(0, n_conditions):\n",
    "  if repo_mask:\n",
    "    sns.lineplot(x = repo_times_for_plot, y = CNV_repo_conditions[j], label = labels[j], color = \"k\", alpha = alphas[j], linewidth = 3, ax = ax2, legend = False)\n",
    "  else:\n",
    "    sns.lineplot(x = repo_times_for_plot, y = CNV_repo_conditions[j], label = labels[j], color = \"k\", alpha = alphas[j], linewidth = 3, ax = ax2, legend = False)\n",
    "  #ax2.vlines(median_RT_conditions[j], -30, 5, linestyle = \"dashed\", color = \"k\", alpha = alphas[j], linewidth = 3)\n",
    "\n",
    "## Remove box around second plot\n",
    "sns.despine(ax = ax2)\n",
    "\n",
    "## Set Axes Labels and format of them - decided not to plot y axis label on second plot\n",
    "ax2.set_xlabel(\"Time from Cue Onset (ms)\", fontsize = \"xx-large\", labelpad = 5)\n",
    "\n",
    "## Set ylim - need to do this manually for maximum customisation\n",
    "ax2.set_ylim(-30, 9)\n",
    "\n",
    "## For modifying the ticks and the tick labels\n",
    "ax2.tick_params(labelsize = \"xx-large\")\n",
    "\n",
    "## Plotting vertical line at time of target onset\n",
    "ax2.vlines(0, ax2.get_ylim()[0], ax2.get_ylim()[1], color = \"k\", linestyle = \"dotted\", linewidth = 2)\n",
    "\n",
    "## Add Mean Response Time Vertical Lines?\n",
    "\n",
    "## Removing left spine from second plot\n",
    "ax2.spines[\"left\"].set_visible(False)\n",
    "ax2.set_yticks([])\n",
    "\n",
    "## Add shaded portion ##\n",
    "b = -30\n",
    "t = 9\n",
    "bottom = b * (np.ones(len(repo_times_for_plot[repo_amplitude_window_start_idx : repo_amplitude_window_end_idx])))\n",
    "top =  t * (np.ones(len(repo_times_for_plot[repo_amplitude_window_start_idx : repo_amplitude_window_end_idx])))\n",
    "ax2.fill_between(x = repo_times_for_plot[repo_amplitude_window_start_idx : repo_amplitude_window_end_idx], y1 = bottom, y2 = top, color = \"black\", alpha = 0.1)\n",
    "\n",
    "## Plotting text above target onset line\n",
    "ax2.text(x = -250, y = 9.5, s = \"Cue Onset\", fontsize = \"xx-large\") # adjust x to move left or right\n",
    "\n",
    "## RL Plot ##\n",
    "for j in range(0, n_conditions):\n",
    "  sns.lineplot(x = RL_times_for_plot[RL_times_for_plot > (-median_RT_conditions[j])], y = CNV_RL_conditions[j, RL_times_for_plot > (-median_RT_conditions[j])], label = labels[j], color = \"k\", alpha = alphas[j], linewidth = 3, ax = ax3, legend = False)\n",
    "  ax3.plot(RL_times_for_plot[np.where(RL_times_for_plot > (-median_RT_conditions[j]))[0][0]], CNV_RL_conditions[j, np.where(RL_times_for_plot > (-median_RT_conditions[j]))[0][0]], marker = \"o\", markersize = 10, markeredgecolor = \"k\", color = \"k\", alpha = alphas[j])\n",
    "\n",
    "## Remove box around second plot\n",
    "sns.despine(ax = ax3)\n",
    "## Set Axes Labels and format of them - decided not to plot y axis label on second plot\n",
    "ax3.set_xlabel(\"Time from Response (ms)\", fontsize = \"xx-large\", labelpad = 5)\n",
    "\n",
    "## Set ylim - need to do this manually for maximum customisation\n",
    "ax3.set_ylim(-30, 9)\n",
    "\n",
    "## For modifying the ticks and the tick labels\n",
    "ax3.tick_params(labelsize = \"xx-large\")\n",
    "\n",
    "## Plotting vertical dotted line response\n",
    "ax3.vlines(0, ax2.get_ylim()[0], ax3.get_ylim()[1], color = \"k\", linestyle = \"dotted\", linewidth = 2)\n",
    "\n",
    "## Plotting text above response line\n",
    "ax3.text(x = -250, y = 9.5, s = \"Response\", fontsize = \"xx-large\") # adjust x to move left or right\n",
    "\n",
    "## Removing left spine from second plot\n",
    "ax3.spines[\"left\"].set_visible(False)\n",
    "ax3.set_yticks([])\n",
    "\n",
    "## Add shaded portion ##\n",
    "b = -30\n",
    "t = 9\n",
    "bottom = b * (np.ones(len(RL_times_for_plot[RL_slope_window_start_idx : RL_slope_window_end_idx])))\n",
    "top =  t * (np.ones(len(RL_times_for_plot[RL_slope_window_start_idx : RL_slope_window_end_idx])))\n",
    "ax3.fill_between(x = RL_times_for_plot[RL_slope_window_start_idx : RL_slope_window_end_idx], y1 = bottom, y2 = top, color = \"black\", alpha = 0.1)\n",
    "\n",
    "## Saving\n",
    "if repo_mask:\n",
    "  fname = \"/content/gdrive/MyDrive/Time_Reproduction/Plots/ERPs/\" + \"CNV_Sample_Interval_Bins_Repo_Masked.png\"\n",
    "else:\n",
    "  fname = \"/content/gdrive/MyDrive/Time_Reproduction/Plots/ERPs/\" + \"CNV_Sample_Interval_Bins.png\"\n",
    "plt.savefig(fname, dpi = 300, bbox_inches = \"tight\")"
   ]
  },
  {
   "cell_type": "code",
   "execution_count": null,
   "metadata": {
    "executionInfo": {
     "elapsed": 7,
     "status": "aborted",
     "timestamp": 1702308293451,
     "user": {
      "displayName": "Harvey McCone",
      "userId": "11012039386955284988"
     },
     "user_tz": 0
    },
    "id": "JLq5tXZwi5vK"
   },
   "outputs": [],
   "source": [
    "fig = plt.figure(figsize = (12,5))\n",
    "\n",
    "grid = plt.GridSpec(1, 3, wspace = 0.1)\n",
    "\n",
    "ax1 = fig.add_subplot(grid[0])\n",
    "ax2 = fig.add_subplot(grid[1])\n",
    "ax3 = fig.add_subplot(grid[2])\n",
    "\n",
    "## Encode Plot\n",
    "for j in range(0, n_conditions):\n",
    "  sns.lineplot(x = encode_times_for_plot[encode_times_for_plot <= 800], y = CPP_encode_conditions[j, encode_times_for_plot <= 800], color = \"k\", alpha = alphas[j], label = labels[j], linewidth = 3, ax = ax1, legend = False)\n",
    "\n",
    "## Remove box around first plot\n",
    "sns.despine(ax = ax1)\n",
    "\n",
    "## Plot legend\n",
    "#ax1.legend(fontsize = \"xx-large\", loc = \"upper left\", title = \"Sample Interval Bin\", title_fontsize = \"xx-large\")\n",
    "\n",
    "## Set Axes Labels and format of them\n",
    "ax1.set_xlabel(\"Time from SI Onset (ms)\", fontsize = \"xx-large\", labelpad = 5) # labelpad determines how far from axis the label is\n",
    "ax1.set_ylabel(\"CPP\" + \" \" + \"$(\\mu V/m^2)$\", fontsize = 25, labelpad = 5, weight='bold')\n",
    "\n",
    "## Set ylim - need to do this\n",
    "ax1.set_ylim(-30, 9)\n",
    "\n",
    "## For modifying the ticks and the tick labels\n",
    "ax1.tick_params(labelsize = \"xx-large\")\n",
    "\n",
    "## Plotting vertical line at time of target onset\n",
    "ax1.vlines(0, ax1.get_ylim()[0], ax1.get_ylim()[1], color = \"k\", linestyle = \"dotted\", linewidth = 2)\n",
    "\n",
    "## Plotting text above target onset line\n",
    "ax1.text(x = -200, y = 9.5, s = \"SI Onset\", fontsize = \"xx-large\") # adjust x to move left or right\n",
    "\n",
    "## Repo Plot ##\n",
    "for j in range(0, n_conditions):\n",
    "  if repo_mask:\n",
    "    sns.lineplot(x = repo_times_for_plot, y = CPP_repo_conditions[j], label = labels[j], color = \"k\", alpha = alphas[j], linewidth = 3, ax = ax2, legend = False)\n",
    "  else:\n",
    "    sns.lineplot(x = repo_times_for_plot, y = CPP_repo_conditions[j], label = labels[j], color = \"k\", alpha = alphas[j], linewidth = 3, ax = ax2, legend = False)\n",
    "\n",
    "## Remove box around second plot\n",
    "sns.despine(ax = ax2)\n",
    "\n",
    "## Set Axes Labels and format of them - decided not to plot y axis label on second plot\n",
    "ax2.set_xlabel(\"Time from Cue Onset (ms)\", fontsize = \"xx-large\", labelpad = 5)\n",
    "\n",
    "## Set ylim - need to do this manually for maximum customisation\n",
    "ax2.set_ylim(-30, 9)\n",
    "\n",
    "## For modifying the ticks and the tick labels\n",
    "ax2.tick_params(labelsize = \"xx-large\")\n",
    "\n",
    "## Plotting vertical line at time of target onset\n",
    "ax2.vlines(0, ax2.get_ylim()[0], ax2.get_ylim()[1], color = \"k\", linestyle = \"dotted\", linewidth = 2)\n",
    "\n",
    "## Add Mean Response Time Vertical Lines?\n",
    "\n",
    "## Add shaded portion ##\n",
    "b = -30\n",
    "t = 9\n",
    "bottom = b * (np.ones(len(repo_times_for_plot[repo_amplitude_window_start_idx : repo_amplitude_window_end_idx])))\n",
    "top =  t * (np.ones(len(repo_times_for_plot[repo_amplitude_window_start_idx : repo_amplitude_window_end_idx])))\n",
    "ax2.fill_between(x = repo_times_for_plot[repo_amplitude_window_start_idx : repo_amplitude_window_end_idx], y1 = bottom, y2 = top, color = \"black\", alpha = 0.1)\n",
    "\n",
    "## Removing left spine from second plot\n",
    "ax2.spines[\"left\"].set_visible(False)\n",
    "ax2.set_yticks([])\n",
    "\n",
    "## Plotting text above Cue onset line\n",
    "ax2.text(x = -250, y = 9.5, s = \"Cue Onset\", fontsize = \"xx-large\") # adjust x to move left or right\n",
    "\n",
    "## RL Plot ##\n",
    "for j in range(0, n_conditions):\n",
    "  sns.lineplot(x = RL_times_for_plot[RL_times_for_plot > (-median_RT_conditions[j])], y = CPP_RL_conditions[j, RL_times_for_plot > (-median_RT_conditions[j])], label = labels[j], color = \"k\", alpha = alphas[j], linewidth = 3, ax = ax3, legend = False)\n",
    "  ax3.plot(RL_times_for_plot[np.where(RL_times_for_plot > (-median_RT_conditions[j]))[0][0]], CPP_RL_conditions[j, np.where(RL_times_for_plot > (-median_RT_conditions[j]))[0][0]], marker = \"o\", markersize = 10, markeredgecolor = \"k\", color = \"k\", alpha = alphas[j])\n",
    "\n",
    "## Remove box around second plot\n",
    "sns.despine(ax = ax3)\n",
    "## Set Axes Labels and format of them - decided not to plot y axis label on second plot\n",
    "ax3.set_xlabel(\"Time from Response (ms)\", fontsize = \"xx-large\", labelpad = 5)\n",
    "\n",
    "## Set ylim - need to do this manually for maximum customisation\n",
    "ax3.set_ylim(-30, 9)\n",
    "\n",
    "## For modifying the ticks and the tick labels\n",
    "ax3.tick_params(labelsize = \"xx-large\")\n",
    "\n",
    "## Plotting vertical dotted line response\n",
    "ax3.vlines(0, ax2.get_ylim()[0], ax3.get_ylim()[1], color = \"k\", linestyle = \"dotted\", linewidth = 2)\n",
    "\n",
    "## Plotting text above response line\n",
    "ax3.text(x = -250, y = 9.5, s = \"Response\", color = \"k\", fontsize = \"xx-large\") # adjust x to move left or right\n",
    "\n",
    "## Removing left spine from second plot\n",
    "ax3.spines[\"left\"].set_visible(False)\n",
    "ax3.set_yticks([])\n",
    "\n",
    "## Add shaded portion ##\n",
    "b = -30\n",
    "t = 9\n",
    "bottom = b * (np.ones(len(RL_times_for_plot[RL_CPP_window_start_idx : RL_CPP_window_end_idx])))\n",
    "top =  t * (np.ones(len(RL_times_for_plot[RL_CPP_window_start_idx : RL_CPP_window_end_idx])))\n",
    "ax3.fill_between(x = RL_times_for_plot[RL_CPP_window_start_idx : RL_CPP_window_end_idx], y1 = bottom, y2 = top, color = \"black\", alpha = 0.1)\n",
    "\n",
    "## Saving\n",
    "if repo_mask:\n",
    "  fname = \"/content/gdrive/MyDrive/Time_Reproduction/Plots/ERPs/\" + \"CPP_Sample_Interval_Bins_Repo_Masked.png\"\n",
    "else:\n",
    "  fname = \"/content/gdrive/MyDrive/Time_Reproduction/Plots/ERPs/\" + \"CPP_Sample_Interval_Bins.png\"\n",
    "plt.savefig(fname, dpi = 300, bbox_inches = \"tight\")"
   ]
  },
  {
   "cell_type": "markdown",
   "metadata": {
    "id": "3XhMJUG4GNfk"
   },
   "source": [
    "# Plot separated by RT bins\n",
    "Done within sample interval to control for effect of sample interval"
   ]
  },
  {
   "cell_type": "code",
   "execution_count": null,
   "metadata": {
    "colab": {
     "base_uri": "https://localhost:8080/"
    },
    "executionInfo": {
     "elapsed": 167300,
     "status": "ok",
     "timestamp": 1702308466609,
     "user": {
      "displayName": "Harvey McCone",
      "userId": "11012039386955284988"
     },
     "user_tz": 0
    },
    "id": "vx14vgc_GU5g",
    "outputId": "3ed93ff6-120e-4659-8fc8-7d4f2b628491"
   },
   "outputs": [],
   "source": [
    "n_bins = 2\n",
    "n_conditions = len(encode_SIs)\n",
    "all_encode_conditions_SI = np.zeros([len(ID_list), n_conditions, n_bins, n_channels_evoked, n_times_encode])\n",
    "all_repo_conditions_SI = np.zeros([len(ID_list), n_conditions, n_bins, n_channels_evoked, n_times_repo])\n",
    "all_RL_conditions_SI = np.zeros([len(ID_list), n_conditions, n_bins, n_channels_evoked, n_times_RL])\n",
    "\n",
    "encode_ntrials = np.zeros([len(ID_list), n_conditions, n_bins])\n",
    "repo_ntrials = np.zeros([len(ID_list), n_conditions, n_bins])\n",
    "RL_ntrials = np.zeros([len(ID_list), n_conditions, n_bins])\n",
    "\n",
    "median_RT = np.zeros([len(ID_list), n_conditions, n_bins])\n",
    "\n",
    "for i in range(0, len(ID_list)):\n",
    "    ID = ID_list[i]\n",
    "    print(ID)\n",
    "\n",
    "    ## Load Epochs ##\n",
    "    encode_fname = \"/content/gdrive/MyDrive/Time_Reproduction/Epochs_CSD/Encode/\" + ID + \"_Encode_All_CSD_epo.fif\"\n",
    "    repo_fname = \"/content/gdrive/MyDrive/Time_Reproduction/Epochs_CSD/Reproduction/\" + ID + \"_Reproduction_All_CSD_epo.fif\"\n",
    "    RL_fname = \"/content/gdrive/MyDrive/Time_Reproduction/Epochs_CSD/Response_Locked/\" + ID + \"_RL_All_CSD_epo.fif\"\n",
    "\n",
    "    encode_epochs_participant = mne.read_epochs(encode_fname, preload = True)\n",
    "    repo_epochs_participant = mne.read_epochs(repo_fname, preload = True)\n",
    "    RL_epochs_participant = mne.read_epochs(RL_fname, preload = True)\n",
    "\n",
    "    for j in range(0, n_conditions): ## Iterate through\n",
    "      encode_SI = encode_SIs[j]\n",
    "      repo_SI = repo_SIs[j]\n",
    "      RL_SI = RL_SIs[j]\n",
    "\n",
    "      ## Getting Median For Each Type of Epoch\n",
    "      #encode_indices_metadata = encode_epochs_participant.metadata.query(\"Trigger == @encode_SI & Response_Time > @lower_RT_cutoff & Response_Time < @upper_RT_cutoff\")\n",
    "      encode_indices_metadata = encode_epochs_participant.metadata[(encode_epochs_participant.metadata[\"Trigger\"] == encode_SI) & (encode_epochs_participant.metadata[\"Response_Time\"] > lower_RT_cutoff) & (encode_epochs_participant.metadata[\"Response_Time\"] < upper_RT_cutoff)]\n",
    "      encode_median = encode_indices_metadata[\"Response_Time\"].median()\n",
    "      #repo_indices_metadata = repo_epochs_participant.metadata.query(\"Trigger == @repo_SI & Response_Time > @lower_RT_cutoff & Response_Time < @upper_RT_cutoff\")\n",
    "      repo_indices_metadata = repo_epochs_participant.metadata[(repo_epochs_participant.metadata[\"Trigger\"] == repo_SI) & (repo_epochs_participant.metadata[\"Response_Time\"] > lower_RT_cutoff) & (repo_epochs_participant.metadata[\"Response_Time\"] < upper_RT_cutoff)]\n",
    "      repo_median = repo_indices_metadata[\"Response_Time\"].median()\n",
    "      #RL_indices_metadata = RL_epochs_participant.metadata.query(\"Trigger == @RL_SI & Response_Time > @lower_RT_cutoff & Response_Time < @upper_RT_cutoff\")\n",
    "      RL_indices_metadata = RL_epochs_participant.metadata[(RL_epochs_participant.metadata[\"Trigger\"] == RL_SI) & (RL_epochs_participant.metadata[\"Response_Time\"] > lower_RT_cutoff) & (RL_epochs_participant.metadata[\"Response_Time\"] < upper_RT_cutoff)]\n",
    "      RL_median = RL_indices_metadata[\"Response_Time\"].median()\n",
    "\n",
    "      ## Getting Trials Above and Below the Median\n",
    "      # Above\n",
    "      #encode_above_indices = encode_epochs_participant.metadata.query(\"Trigger == @encode_SI & Response_Time > @encode_median & Response_Time > @lower_RT_cutoff & Response_Time < @upper_RT_cutoff\").index # get trials for that condition\n",
    "      #repo_above_indices = repo_epochs_participant.metadata.query(\"Trigger == @repo_SI & Response_Time > @repo_median & Response_Time > @lower_RT_cutoff & Response_Time < @upper_RT_cutoff\").index\n",
    "      #RL_above_indices = RL_epochs_participant.metadata.query(\"Trigger == @RL_SI & Response_Time > @RL_median & Response_Time > @lower_RT_cutoff & Response_Time < @upper_RT_cutoff\").index\n",
    "\n",
    "      encode_above_indices = encode_epochs_participant.metadata[(encode_epochs_participant.metadata[\"Trigger\"] == encode_SI) & (encode_epochs_participant.metadata[\"Response_Time\"] > lower_RT_cutoff) & (encode_epochs_participant.metadata[\"Response_Time\"] < upper_RT_cutoff) & (encode_epochs_participant.metadata[\"Response_Time\"] > encode_median)].index\n",
    "      repo_above_indices = repo_epochs_participant.metadata[(repo_epochs_participant.metadata[\"Trigger\"] == repo_SI) & (repo_epochs_participant.metadata[\"Response_Time\"] > lower_RT_cutoff) & (repo_epochs_participant.metadata[\"Response_Time\"] < upper_RT_cutoff) & (repo_epochs_participant.metadata[\"Response_Time\"] > repo_median)].index\n",
    "      RL_above_indices = RL_epochs_participant.metadata[(RL_epochs_participant.metadata[\"Trigger\"] == RL_SI) & (RL_epochs_participant.metadata[\"Response_Time\"] > lower_RT_cutoff) & (RL_epochs_participant.metadata[\"Response_Time\"] < upper_RT_cutoff) & (RL_epochs_participant.metadata[\"Response_Time\"] > RL_median)].index\n",
    "\n",
    "      encode_ntrials[i, j, 0] = len(encode_above_indices)\n",
    "      repo_ntrials[i, j, 0] = len(repo_above_indices)\n",
    "      RL_ntrials[i, j, 0] = len(RL_above_indices)\n",
    "      #mean_RT_metadata = RL_epochs_participant.metadata.query(\"Trigger == @RL_SI & Response_Time > @RL_median & Response_Time > @lower_RT_cutoff & Response_Time < @upper_RT_cutoff\")\n",
    "      median_RT_metadata = RL_epochs_participant.metadata[(RL_epochs_participant.metadata[\"Trigger\"] == RL_SI) & (RL_epochs_participant.metadata[\"Response_Time\"] > lower_RT_cutoff) & (RL_epochs_participant.metadata[\"Response_Time\"] < upper_RT_cutoff) & (RL_epochs_participant.metadata[\"Response_Time\"] > RL_median)]\n",
    "      median_RT[i, j, 0] = median_RT_metadata[\"Response_Time\"].median()\n",
    "      encode_above_participant_evoked = encode_epochs_participant[encode_above_indices].average() # average across those trials\n",
    "      all_encode_conditions_SI[i, j, 0, :, :] = encode_above_participant_evoked.data\n",
    "      RL_above_participant_evoked = RL_epochs_participant[RL_above_indices].average() # put data in array\n",
    "      all_RL_conditions_SI[i, j, 0, :, :] = RL_above_participant_evoked.data\n",
    "      if repo_mask:\n",
    "        repo_data = repo_epochs_participant[repo_above_indices].get_data()\n",
    "        repo_participant_metadata = repo_epochs_participant[repo_above_indices].metadata\n",
    "        repo_data_masked = np.zeros(repo_data.shape)\n",
    "        for k in range(0, repo_participant_metadata.shape[0]):\n",
    "          repo_trial_data = repo_data[k]\n",
    "          trial_rt_ms = repo_participant_metadata.at[repo_participant_metadata.index[k], \"Response_Time\"]\n",
    "          trial_rt_samps = trial_rt_ms / 1000 * 512\n",
    "          cutoff_point = int(pre_epoch_period_samps + trial_rt_samps)\n",
    "          nan_array = np.full(repo_data[k].shape, np.NaN)\n",
    "          nan_array[:, :cutoff_point] = repo_trial_data[:, :cutoff_point]\n",
    "          repo_data_masked[k] = nan_array\n",
    "          all_repo_conditions_SI[i, j, 0, :, :] = np.nanmean(repo_data_masked, axis = 0)\n",
    "      else:\n",
    "        repo_above_participant_evoked = repo_epochs_participant[repo_above_indices].average() # average across those trials\n",
    "        all_repo_conditions_SI[i, j, 0, :, :] = repo_above_participant_evoked.data\n",
    "\n",
    "      # Below\n",
    "      #encode_below_indices = encode_epochs_participant.metadata.query(\"Trigger == @encode_SI & Response_Time < @encode_median & Response_Time > @lower_RT_cutoff & Response_Time < @upper_RT_cutoff\").index # get trials for that condition\n",
    "      #repo_below_indices = repo_epochs_participant.metadata.query(\"Trigger == @repo_SI & Response_Time < @repo_median & Response_Time > @lower_RT_cutoff & Response_Time < @upper_RT_cutoff\").index\n",
    "      #RL_below_indices = RL_epochs_participant.metadata.query(\"Trigger == @RL_SI & Response_Time < @RL_median & Response_Time > @lower_RT_cutoff & Response_Time < @upper_RT_cutoff\").index\n",
    "\n",
    "      encode_below_indices = encode_epochs_participant.metadata[(encode_epochs_participant.metadata[\"Trigger\"] == encode_SI) & (encode_epochs_participant.metadata[\"Response_Time\"] > lower_RT_cutoff) & (encode_epochs_participant.metadata[\"Response_Time\"] < upper_RT_cutoff) & (encode_epochs_participant.metadata[\"Response_Time\"] < encode_median)].index\n",
    "      repo_below_indices = repo_epochs_participant.metadata[(repo_epochs_participant.metadata[\"Trigger\"] == repo_SI) & (repo_epochs_participant.metadata[\"Response_Time\"] > lower_RT_cutoff) & (repo_epochs_participant.metadata[\"Response_Time\"] < upper_RT_cutoff) & (repo_epochs_participant.metadata[\"Response_Time\"] < repo_median)].index\n",
    "      RL_below_indices = RL_epochs_participant.metadata[(RL_epochs_participant.metadata[\"Trigger\"] == RL_SI) & (RL_epochs_participant.metadata[\"Response_Time\"] > lower_RT_cutoff) & (RL_epochs_participant.metadata[\"Response_Time\"] < upper_RT_cutoff) & (RL_epochs_participant.metadata[\"Response_Time\"] < RL_median)].index\n",
    "\n",
    "      encode_ntrials[i, j, 1] = len(encode_below_indices)\n",
    "      repo_ntrials[i, j, 1] = len(repo_below_indices)\n",
    "      RL_ntrials[i, j, 1] = len(RL_below_indices)\n",
    "      #mean_RT_metadata = RL_epochs_participant.metadata.query(\"Trigger == @RL_SI & Response_Time < @RL_median & Response_Time > @lower_RT_cutoff & Response_Time < @upper_RT_cutoff\")\n",
    "      median_RT_metadata = RL_epochs_participant.metadata[(RL_epochs_participant.metadata[\"Trigger\"] == RL_SI) & (RL_epochs_participant.metadata[\"Response_Time\"] > lower_RT_cutoff) & (RL_epochs_participant.metadata[\"Response_Time\"] < upper_RT_cutoff) & (RL_epochs_participant.metadata[\"Response_Time\"] < RL_median)]\n",
    "\n",
    "      median_RT[i, j, 1] = median_RT_metadata[\"Response_Time\"].median()\n",
    "      encode_below_participant_evoked = encode_epochs_participant[encode_below_indices].average() # average across those trials\n",
    "      all_encode_conditions_SI[i, j, 1, :, :] = encode_below_participant_evoked.data\n",
    "      RL_below_participant_evoked = RL_epochs_participant[RL_below_indices].average() # put data in array\n",
    "      all_RL_conditions_SI[i, j, 1, :, :] = RL_below_participant_evoked.data\n",
    "      if repo_mask:\n",
    "        repo_data = repo_epochs_participant[repo_below_indices].get_data()\n",
    "        repo_participant_metadata = repo_epochs_participant[repo_below_indices].metadata\n",
    "        repo_data_masked = np.zeros(repo_data.shape)\n",
    "        for k in range(0, repo_participant_metadata.shape[0]):\n",
    "          repo_trial_data = repo_data[k]\n",
    "          trial_rt_ms = repo_participant_metadata.at[repo_participant_metadata.index[k], \"Response_Time\"]\n",
    "          trial_rt_samps = trial_rt_ms / 1000 * 512\n",
    "          cutoff_point = int(pre_epoch_period_samps + trial_rt_samps)\n",
    "          nan_array = np.full(repo_data[k].shape, np.NaN)\n",
    "          nan_array[:, :cutoff_point] = repo_trial_data[:, :cutoff_point]\n",
    "          repo_data_masked[k] = nan_array\n",
    "          all_repo_conditions_SI[i, j, 1, :, :] = np.nanmean(repo_data_masked, axis = 0)\n",
    "      else:\n",
    "        repo_below_participant_evoked = repo_epochs_participant[repo_below_indices].average() # average across those trials\n",
    "        all_repo_conditions_SI[i, j, 1, :, :] = repo_below_participant_evoked.data"
   ]
  },
  {
   "cell_type": "markdown",
   "metadata": {
    "id": "TlJXmNe5M_uh"
   },
   "source": [
    "## Average Across Sample Intervals\n",
    "Averaging bins across sample intervals now to get RT bins that are separate from sample interval"
   ]
  },
  {
   "cell_type": "code",
   "execution_count": null,
   "metadata": {
    "colab": {
     "base_uri": "https://localhost:8080/"
    },
    "executionInfo": {
     "elapsed": 348,
     "status": "ok",
     "timestamp": 1702308466943,
     "user": {
      "displayName": "Harvey McCone",
      "userId": "11012039386955284988"
     },
     "user_tz": 0
    },
    "id": "Y8s_-aMjNVwn",
    "outputId": "e98536bb-89a0-4f21-9907-c64cf4cbd4e1"
   },
   "outputs": [],
   "source": [
    "all_encode_conditions = np.zeros([len(ID_list), n_bins, n_channels_evoked, n_times_encode])\n",
    "all_repo_conditions = np.zeros([len(ID_list), n_bins, n_channels_evoked, n_times_repo])\n",
    "all_RL_conditions = np.zeros([len(ID_list), n_bins, n_channels_evoked, n_times_RL])\n",
    "median_RT_conditions = np.zeros([len(ID_list), n_bins])\n",
    "\n",
    "for i in range(0, len(ID_list)):\n",
    "\n",
    "    for k in range(0, n_bins):\n",
    "      all_encode_conditions[i, k] = np.nanmean(all_encode_conditions_SI[i, :, k], axis = 0)\n",
    "      all_repo_conditions[i, k] = np.nanmean(all_repo_conditions_SI[i, :, k], axis = 0)\n",
    "      all_RL_conditions[i, k] = np.nanmean(all_RL_conditions_SI[i, :, k], axis = 0)\n",
    "      median_RT_conditions[i, k] = np.nanmean(median_RT[i, :, k], axis = 0)\n",
    "\n",
    "print(median_RT_conditions.shape)"
   ]
  },
  {
   "cell_type": "markdown",
   "metadata": {
    "id": "s-mlQ21KPTH8"
   },
   "source": [
    "## Get Data For CPP and CNV Electrodes"
   ]
  },
  {
   "cell_type": "code",
   "execution_count": null,
   "metadata": {
    "colab": {
     "base_uri": "https://localhost:8080/"
    },
    "executionInfo": {
     "elapsed": 11,
     "status": "ok",
     "timestamp": 1702308466943,
     "user": {
      "displayName": "Harvey McCone",
      "userId": "11012039386955284988"
     },
     "user_tz": 0
    },
    "id": "LDMJablqPTH8",
    "outputId": "ec40da3a-1b99-4dfb-d395-468d461361ee"
   },
   "outputs": [],
   "source": [
    "CNV_encode_conditions = np.zeros([len(ID_list), n_bins, n_times_encode])\n",
    "CNV_repo_conditions = np.zeros([len(ID_list), n_bins, n_times_repo])\n",
    "CNV_RL_conditions = np.zeros([len(ID_list), n_bins, n_times_RL])\n",
    "\n",
    "for j in range(0, n_bins):\n",
    "  condition_encode =  all_encode_conditions[:, j, CNV_idx] # changed 22/08 because now doing this before averaging across participants\n",
    "  condition_repo =  all_repo_conditions[:, j, CNV_idx]\n",
    "  condition_RL =  all_RL_conditions[:, j, CNV_idx]\n",
    "  print(condition_encode.shape)\n",
    "  if condition_encode.ndim > 1:\n",
    "    CNV_encode_mean = np.nanmean(condition_encode, axis = 1) # averaging activity across these electrodes\n",
    "    CNV_repo_mean = np.nanmean(condition_repo, axis = 1)\n",
    "    CNV_RL_mean = np.nanmean(condition_RL, axis = 1)\n",
    "  else:\n",
    "    CNV_encode_mean = condition_encode\n",
    "    CNV_repo_mean = condition_repo\n",
    "    CNV_RL_mean = condition_RL\n",
    "  CNV_encode_conditions[:, j] = CNV_encode_mean * 1e6 # multiply by 1e6 to convert from volts to microvolts\n",
    "  CNV_repo_conditions[:, j] = CNV_repo_mean * 1e6\n",
    "  CNV_RL_conditions[:, j] = CNV_RL_mean * 1e6"
   ]
  },
  {
   "cell_type": "code",
   "execution_count": null,
   "metadata": {
    "colab": {
     "base_uri": "https://localhost:8080/"
    },
    "executionInfo": {
     "elapsed": 9,
     "status": "ok",
     "timestamp": 1702308466944,
     "user": {
      "displayName": "Harvey McCone",
      "userId": "11012039386955284988"
     },
     "user_tz": 0
    },
    "id": "OtT1Ny0VPTH8",
    "outputId": "40facb48-7b6c-41a7-e426-4e375a011169"
   },
   "outputs": [],
   "source": [
    "CPP_encode_conditions = np.zeros([len(ID_list), n_bins, n_times_encode])\n",
    "CPP_repo_conditions = np.zeros([len(ID_list), n_bins, n_times_repo])\n",
    "CPP_RL_conditions = np.zeros([len(ID_list), n_bins, n_times_RL])\n",
    "\n",
    "for j in range(0, n_bins):\n",
    "  condition_encode =  all_encode_conditions[:, j, CPP_idx] # changed 22/08 because now doing this before averaging across participants\n",
    "  condition_repo =  all_repo_conditions[:, j, CPP_idx]\n",
    "  condition_RL =  all_RL_conditions[:, j, CPP_idx]\n",
    "  print(condition_encode.shape)\n",
    "  if condition_encode.ndim > 1:\n",
    "    CPP_encode_mean = np.nanmean(condition_encode, axis = 1) # averaging activity across these electrodes\n",
    "    CPP_repo_mean = np.nanmean(condition_repo, axis = 1)\n",
    "    CPP_RL_mean = np.nanmean(condition_RL, axis = 1)\n",
    "  else:\n",
    "    CPP_encode_mean = condition_encode\n",
    "    CPP_repo_mean = condition_repo\n",
    "    CPP_RL_mean = condition_RL\n",
    "  CPP_encode_conditions[:, j] = CPP_encode_mean * 1e6 # multiply by 1e6 to convert from volts to microvolts\n",
    "  CPP_repo_conditions[:, j] = CPP_repo_mean * 1e6\n",
    "  CPP_RL_conditions[:, j] = CPP_RL_mean * 1e6"
   ]
  },
  {
   "cell_type": "markdown",
   "metadata": {
    "id": "TrnBi5YYPTH9"
   },
   "source": [
    "## Average Across Participants"
   ]
  },
  {
   "cell_type": "code",
   "execution_count": null,
   "metadata": {
    "colab": {
     "base_uri": "https://localhost:8080/"
    },
    "executionInfo": {
     "elapsed": 7,
     "status": "ok",
     "timestamp": 1702308466944,
     "user": {
      "displayName": "Harvey McCone",
      "userId": "11012039386955284988"
     },
     "user_tz": 0
    },
    "id": "iwFKTeJ9PTH9",
    "outputId": "a8a4cfe9-979f-48c7-fe1f-c5cc8664fec2"
   },
   "outputs": [],
   "source": [
    "CNV_encode_conditions = np.nanmean(CNV_encode_conditions, axis = 0)\n",
    "print(CNV_encode_conditions.shape)\n",
    "CNV_repo_conditions = np.nanmean(CNV_repo_conditions, axis = 0)\n",
    "print(CNV_repo_conditions.shape)\n",
    "CNV_RL_conditions = np.nanmean(CNV_RL_conditions, axis = 0)\n",
    "print(CNV_RL_conditions.shape)\n",
    "\n",
    "CPP_encode_conditions = np.nanmean(CPP_encode_conditions, axis = 0)\n",
    "print(CPP_encode_conditions.shape)\n",
    "CPP_repo_conditions = np.nanmean(CPP_repo_conditions, axis = 0)\n",
    "print(CPP_repo_conditions.shape)\n",
    "CPP_RL_conditions = np.nanmean(CPP_RL_conditions, axis = 0)\n",
    "print(CPP_RL_conditions.shape)\n",
    "\n",
    "median_RT_conditions = np.nanmean(median_RT_conditions, axis = 0)\n",
    "print(median_RT_conditions.shape)"
   ]
  },
  {
   "cell_type": "markdown",
   "metadata": {
    "id": "Y8X15nVKqRPo"
   },
   "source": [
    "## Applying 8Hz Filter Using scipy\n",
    "\n",
    "First define butterworth filter parameters using scipy.signal.butter\n",
    "\n",
    "Then apply filter using scipy.signal.filtfilt"
   ]
  },
  {
   "cell_type": "code",
   "execution_count": null,
   "metadata": {
    "executionInfo": {
     "elapsed": 5,
     "status": "ok",
     "timestamp": 1702308466944,
     "user": {
      "displayName": "Harvey McCone",
      "userId": "11012039386955284988"
     },
     "user_tz": 0
    },
    "id": "TrhcZLL2KzWu"
   },
   "outputs": [],
   "source": [
    "filter = 1\n",
    "if filter == 1:\n",
    "\n",
    "  from scipy.signal import butter\n",
    "\n",
    "  low_pass_freq = 8\n",
    "\n",
    "  N = 4 # order of the filter\n",
    "  Wn = low_pass_freq * 2 / sample_rate # critical frequency(ies) for the filter\n",
    "  b, a = butter(N, Wn)"
   ]
  },
  {
   "cell_type": "code",
   "execution_count": null,
   "metadata": {
    "executionInfo": {
     "elapsed": 4,
     "status": "ok",
     "timestamp": 1702308466944,
     "user": {
      "displayName": "Harvey McCone",
      "userId": "11012039386955284988"
     },
     "user_tz": 0
    },
    "id": "gfkkCUSSKzWu"
   },
   "outputs": [],
   "source": [
    "if filter == 1:\n",
    "\n",
    "  from scipy.signal import filtfilt\n",
    "\n",
    "  for j in range(0, CPP_encode_conditions.shape[0]):\n",
    "    CPP_encode_conditions[j] = filtfilt(b, a, x = CPP_encode_conditions[j])\n",
    "    CPP_repo_conditions[j] = filtfilt(b, a, x = CPP_repo_conditions[j])\n",
    "    CPP_RL_conditions[j] = filtfilt(b, a, x = CPP_RL_conditions[j])"
   ]
  },
  {
   "cell_type": "markdown",
   "metadata": {
    "id": "N3R2NTAoPTH9"
   },
   "source": [
    "## Plot"
   ]
  },
  {
   "cell_type": "code",
   "execution_count": null,
   "metadata": {
    "executionInfo": {
     "elapsed": 4,
     "status": "ok",
     "timestamp": 1702308466944,
     "user": {
      "displayName": "Harvey McCone",
      "userId": "11012039386955284988"
     },
     "user_tz": 0
    },
    "id": "BpBHobIBPTH9"
   },
   "outputs": [],
   "source": [
    "from matplotlib import pyplot as plt\n",
    "%matplotlib inline\n",
    "from matplotlib import pyplot as plt\n",
    "plt.style.use(\"default\")\n",
    "labels = [\"Slower\", \"Faster\"]\n",
    "colors = [\"blue\", \"red\"]"
   ]
  },
  {
   "cell_type": "code",
   "execution_count": null,
   "metadata": {
    "colab": {
     "base_uri": "https://localhost:8080/",
     "height": 510
    },
    "executionInfo": {
     "elapsed": 2128,
     "status": "ok",
     "timestamp": 1702308469067,
     "user": {
      "displayName": "Harvey McCone",
      "userId": "11012039386955284988"
     },
     "user_tz": 0
    },
    "id": "EYlrhY07PTH9",
    "outputId": "11b28b15-b8ac-4add-97d4-920c79d1921f"
   },
   "outputs": [],
   "source": [
    "fig = plt.figure(figsize = (12,5))\n",
    "\n",
    "grid = plt.GridSpec(1, 3, wspace = 0.1)\n",
    "\n",
    "ax1 = fig.add_subplot(grid[0])\n",
    "ax2 = fig.add_subplot(grid[1])\n",
    "ax3 = fig.add_subplot(grid[2])\n",
    "\n",
    "## Encode Plot\n",
    "for j in range(0, n_bins):\n",
    "    sns.lineplot(x = encode_times_for_plot[encode_times_for_plot <= 800], y = CNV_encode_conditions[j, encode_times_for_plot <= 800], color = colors[j], label = labels[j], linewidth = 3, ax = ax1, legend = False)\n",
    "\n",
    "## Remove box around first plot\n",
    "sns.despine(ax = ax1)\n",
    "\n",
    "## Plot legend\n",
    "ax1.legend(fontsize = \"xx-large\", loc = \"lower left\", title = \"RT Bin\", title_fontsize = \"xx-large\")\n",
    "\n",
    "## Set Axes Labels and format of them\n",
    "ax1.set_xlabel(\"Time from SI Onset (ms)\", fontsize = \"xx-large\", labelpad = 5) # labelpad determines how far from axis the label is\n",
    "ax1.set_ylabel(\"CNV\" + \" \" + \"$(\\mu V/m^2)$\", fontsize = 25, labelpad = 5, weight='bold')\n",
    "\n",
    "## Set ylim - need to do this\n",
    "ax1.set_ylim(-30, 9)\n",
    "\n",
    "## For modifying the ticks and the tick labels\n",
    "ax1.tick_params(labelsize = \"xx-large\")\n",
    "\n",
    "## Plotting vertical line at time of target onset\n",
    "ax1.vlines(0, ax1.get_ylim()[0], ax1.get_ylim()[1], color = \"k\", linestyle = \"dotted\", linewidth = 2)\n",
    "\n",
    "## Plotting text above target onset line\n",
    "ax1.text(x = -200, y = 9.5, s = \"SI Onset\", fontsize = \"xx-large\") # adjust x to move left or right\n",
    "\n",
    "## Repo Plot ##\n",
    "for j in range(0, n_bins):\n",
    "  if repo_mask:\n",
    "    sns.lineplot(x = repo_times_for_plot, y = CNV_repo_conditions[j], label = labels[j], color = colors[j], linewidth = 3, ax = ax2, legend = False)\n",
    "  else:\n",
    "    sns.lineplot(x = repo_times_for_plot, y = CNV_repo_conditions[j], label = labels[j], color = colors[j], linewidth = 3, ax = ax2, legend = False)\n",
    "\n",
    "## Remove box around second plot\n",
    "sns.despine(ax = ax2)\n",
    "\n",
    "## Set Axes Labels and format of them - decided not to plot y axis label on second plot\n",
    "ax2.set_xlabel(\"Time from Cue Onset (ms)\", fontsize = \"xx-large\", labelpad = 5)\n",
    "\n",
    "## Set ylim - need to do this manually for maximum customisation\n",
    "ax2.set_ylim(-30, 9)\n",
    "\n",
    "## Add shaded portion ##\n",
    "b = -30\n",
    "t = 9\n",
    "bottom = b * (np.ones(len(repo_times_for_plot[repo_amplitude_window_start_idx : repo_amplitude_window_end_idx])))\n",
    "top =  t * (np.ones(len(repo_times_for_plot[repo_amplitude_window_start_idx : repo_amplitude_window_end_idx])))\n",
    "ax2.fill_between(x = repo_times_for_plot[repo_amplitude_window_start_idx : repo_amplitude_window_end_idx], y1 = bottom, y2 = top, color = \"black\", alpha = 0.1)\n",
    "\n",
    "## For modifying the ticks and the tick labels\n",
    "ax2.tick_params(labelsize = \"xx-large\")\n",
    "\n",
    "## Plotting vertical line at time of cue onset\n",
    "ax2.vlines(0, ax2.get_ylim()[0], ax2.get_ylim()[1], color = \"k\", linestyle = \"dotted\", linewidth = 2)\n",
    "\n",
    "## Plotting text above cue onset line\n",
    "ax2.text(x =  -250, y = 9.5, s = \"Cue Onset\", fontsize = \"xx-large\") # adjust x to move left or right\n",
    "\n",
    "## Removing left spine from second plot\n",
    "ax2.spines[\"left\"].set_visible(False)\n",
    "ax2.set_yticks([])\n",
    "\n",
    "## RL Plot ##\n",
    "for j in range(0, n_bins):\n",
    "  sns.lineplot(x = RL_times_for_plot[RL_times_for_plot > (-median_RT_conditions[j])], y = CNV_RL_conditions[j, RL_times_for_plot > (-median_RT_conditions[j])], label = labels[j], color = colors[j], linewidth = 3, ax = ax3, legend = False)\n",
    "  ax3.plot(RL_times_for_plot[np.where(RL_times_for_plot > (-median_RT_conditions[j]))[0][0]], CNV_RL_conditions[j, np.where(RL_times_for_plot > (-median_RT_conditions[j]))[0][0]], marker = \"o\", markersize = 10, markeredgecolor = \"k\", color = colors[j])\n",
    "\n",
    "## Remove box around second plot\n",
    "sns.despine(ax = ax3)\n",
    "## Set Axes Labels and format of them - decided not to plot y axis label on second plot\n",
    "ax3.set_xlabel(\"Time from Response (ms)\", fontsize = \"xx-large\", labelpad = 5)\n",
    "\n",
    "## Set ylim - need to do this manually for maximum customisation\n",
    "ax3.set_ylim(-30, 9)\n",
    "\n",
    "## Add shaded portion ##\n",
    "b = -30\n",
    "t = 9\n",
    "bottom = b * (np.ones(len(RL_times_for_plot[RL_slope_window_start_idx : RL_slope_window_end_idx])))\n",
    "top =  t * (np.ones(len(RL_times_for_plot[RL_slope_window_start_idx : RL_slope_window_end_idx])))\n",
    "ax3.fill_between(x = RL_times_for_plot[RL_slope_window_start_idx : RL_slope_window_end_idx], y1 = bottom, y2 = top, color = \"black\", alpha = 0.1)\n",
    "\n",
    "## For modifying the ticks and the tick labels\n",
    "ax3.tick_params(labelsize = \"xx-large\")\n",
    "\n",
    "## Plotting vertical dotted line response\n",
    "ax3.vlines(0, ax3.get_ylim()[0], ax3.get_ylim()[1], color = \"k\", linestyle = \"dotted\", linewidth = 2)\n",
    "\n",
    "## Plotting text above response line\n",
    "ax3.text(x = -250, y = 9.5, s = \"Response\", fontsize = \"xx-large\") # adjust x to move left or right\n",
    "\n",
    "## Removing left spine from second plot\n",
    "ax3.spines[\"left\"].set_visible(False)\n",
    "ax3.set_yticks([])\n",
    "\n",
    "## Saving\n",
    "if repo_mask:\n",
    "  fname = \"/content/gdrive/MyDrive/Time_Reproduction/Plots/ERPs/\" + \"CNV_Over_Under_Bins_Repo_Masked.png\"\n",
    "else:\n",
    "  fname = \"/content/gdrive/MyDrive/Time_Reproduction/Plots/ERPs/\" + \"CNV_Over_Under_Bins.png\"\n",
    "plt.savefig(fname, dpi = 300, bbox_inches = \"tight\")"
   ]
  },
  {
   "cell_type": "code",
   "execution_count": null,
   "metadata": {
    "colab": {
     "base_uri": "https://localhost:8080/",
     "height": 510
    },
    "executionInfo": {
     "elapsed": 1998,
     "status": "ok",
     "timestamp": 1702308471061,
     "user": {
      "displayName": "Harvey McCone",
      "userId": "11012039386955284988"
     },
     "user_tz": 0
    },
    "id": "vSuat3RzkRaE",
    "outputId": "69a36869-f51e-4616-f395-e686b197f042"
   },
   "outputs": [],
   "source": [
    "fig = plt.figure(figsize = (12,5))\n",
    "\n",
    "grid = plt.GridSpec(1, 3, wspace = 0.1)\n",
    "\n",
    "ax1 = fig.add_subplot(grid[0])\n",
    "ax2 = fig.add_subplot(grid[1])\n",
    "ax3 = fig.add_subplot(grid[2])\n",
    "\n",
    "## Encode Plot\n",
    "for j in range(0, n_bins):\n",
    "  sns.lineplot(x = encode_times_for_plot[encode_times_for_plot <= 800], y = CPP_encode_conditions[j, encode_times_for_plot <= 800], color = colors[j], label = labels[j], linewidth = 3, ax = ax1, legend = False)\n",
    "\n",
    "## Remove box around first plot\n",
    "sns.despine(ax = ax1)\n",
    "\n",
    "## Plot legend\n",
    "#ax1.legend(fontsize = \"xx-large\", loc = \"upper left\", title = \"RT Bin\", title_fontsize = \"xx-large\")\n",
    "\n",
    "## Set Axes Labels and format of them\n",
    "ax1.set_xlabel(\"Time from SI Onset (ms)\", fontsize = \"xx-large\", labelpad = 5) # labelpad determines how far from axis the label is\n",
    "ax1.set_ylabel(\"CPP\" + \" \" + \"$(\\mu V/m^2)$\", fontsize = 25, labelpad = 5, weight='bold')\n",
    "\n",
    "## Set ylim - need to do this\n",
    "ax1.set_ylim(-30, 9)\n",
    "\n",
    "## For modifying the ticks and the tick labels\n",
    "ax1.tick_params(labelsize = \"xx-large\")\n",
    "\n",
    "## Plotting vertical line at time of target onset\n",
    "ax1.vlines(0, ax1.get_ylim()[0], ax1.get_ylim()[1], color = \"k\", linestyle = \"dotted\", linewidth = 2)\n",
    "\n",
    "## Plotting text above target onset line\n",
    "ax1.text(x = -200, y = 9.5, s = \"SI Onset\", fontsize = \"xx-large\") # adjust x to move left or right\n",
    "\n",
    "## Repo Plot ##\n",
    "for j in range(0, n_bins):\n",
    "  sns.lineplot(x = repo_times_for_plot, y = CPP_repo_conditions[j], label = labels[j], color = colors[j], linewidth = 3, ax = ax2, legend = False)\n",
    "\n",
    "## Remove box around second plot\n",
    "sns.despine(ax = ax2)\n",
    "## Set Axes Labels and format of them - decided not to plot y axis label on second plot\n",
    "ax2.set_xlabel(\"Time from Cue Onset (ms)\", fontsize = \"xx-large\", labelpad = 5)\n",
    "\n",
    "## Set ylim - need to do this manually for maximum customisation\n",
    "ax2.set_ylim(-30, 9)\n",
    "\n",
    "## For modifying the ticks and the tick labels\n",
    "ax2.tick_params(labelsize = \"xx-large\")\n",
    "\n",
    "## Removing left spine from second plot\n",
    "ax2.spines[\"left\"].set_visible(False)\n",
    "ax2.set_yticks([])\n",
    "\n",
    "## Plotting vertical line at time of cue onset\n",
    "ax2.vlines(0, ax2.get_ylim()[0], ax2.get_ylim()[1], color = \"k\", linestyle = \"dotted\", linewidth = 2)\n",
    "\n",
    "## Add shaded portion ##\n",
    "b = -30\n",
    "t = 9\n",
    "bottom = b * (np.ones(len(repo_times_for_plot[repo_amplitude_window_start_idx : repo_amplitude_window_end_idx])))\n",
    "top =  t * (np.ones(len(repo_times_for_plot[repo_amplitude_window_start_idx : repo_amplitude_window_end_idx])))\n",
    "ax2.fill_between(x = repo_times_for_plot[repo_amplitude_window_start_idx : repo_amplitude_window_end_idx], y1 = bottom, y2 = top, color = \"black\", alpha = 0.1)\n",
    "\n",
    "## Plotting text above cue onset line\n",
    "ax2.text(x = -250, y = 9.5, s = \"Cue Onset\", fontsize = \"xx-large\") # adjust x to move left or right\n",
    "\n",
    "for j in range(0, n_bins):\n",
    "  sns.lineplot(x = RL_times_for_plot[RL_times_for_plot > (-median_RT_conditions[j])], y = CPP_RL_conditions[j, RL_times_for_plot > (-median_RT_conditions[j])], label = labels[j], color = colors[j], linewidth = 3, ax = ax3, legend = False)\n",
    "  ax3.plot(RL_times_for_plot[np.where(RL_times_for_plot > (-median_RT_conditions[j]))[0][0]], CPP_RL_conditions[j, np.where(RL_times_for_plot > (-median_RT_conditions[j]))[0][0]], marker = \"o\", markersize = 10, markeredgecolor = \"k\", color = colors[j])\n",
    "\n",
    "## Remove box around second plot\n",
    "sns.despine(ax = ax3)\n",
    "## Set Axes Labels and format of them - decided not to plot y axis label on second plot\n",
    "ax3.set_xlabel(\"Time from Response (ms)\", fontsize = \"xx-large\", labelpad = 5)\n",
    "\n",
    "## Set ylim - need to do this manually for maximum customisation\n",
    "ax3.set_ylim(-30, 9)\n",
    "\n",
    "## For modifying the ticks and the tick labels\n",
    "ax3.tick_params(labelsize = \"xx-large\")\n",
    "\n",
    "## Plotting vertical dotted line response\n",
    "ax3.vlines(0, ax3.get_ylim()[0], ax3.get_ylim()[1], color = \"k\", linestyle = \"dotted\", linewidth = 2)\n",
    "\n",
    "## Plotting text above response line\n",
    "ax3.text(x = -250, y = 9.5, s = \"Response\", fontsize = \"xx-large\") # adjust x to move left or right\n",
    "\n",
    "## Removing left spine from second plot\n",
    "ax3.spines[\"left\"].set_visible(False)\n",
    "ax3.set_yticks([])\n",
    "\n",
    "## Add shaded portion ##\n",
    "b = -30\n",
    "t = 9\n",
    "bottom = b * (np.ones(len(RL_times_for_plot[RL_CPP_window_start_idx : RL_CPP_window_end_idx])))\n",
    "top =  t * (np.ones(len(RL_times_for_plot[RL_CPP_window_start_idx : RL_CPP_window_end_idx])))\n",
    "ax3.fill_between(x = RL_times_for_plot[RL_CPP_window_start_idx : RL_CPP_window_end_idx], y1 = bottom, y2 = top, color = \"black\", alpha = 0.1)\n",
    "\n",
    "## Saving\n",
    "if repo_mask:\n",
    "  fname = \"/content/gdrive/MyDrive/Time_Reproduction/Plots/ERPs/\" + \"CPP_Over_Under_Bins_Repo_Masked.png\"\n",
    "else:\n",
    "  fname = \"/content/gdrive/MyDrive/Time_Reproduction/Plots/ERPs/\" + \"CPP_Over_Under_Bins.png\"\n",
    "plt.savefig(fname, dpi = 300, bbox_inches = \"tight\")"
   ]
  },
  {
   "cell_type": "code",
   "execution_count": null,
   "metadata": {
    "executionInfo": {
     "elapsed": 7,
     "status": "ok",
     "timestamp": 1702308471062,
     "user": {
      "displayName": "Harvey McCone",
      "userId": "11012039386955284988"
     },
     "user_tz": 0
    },
    "id": "u7-MKJ-CuGr-"
   },
   "outputs": [],
   "source": []
  }
 ],
 "metadata": {
  "colab": {
   "authorship_tag": "ABX9TyNvp1mjxAVHPPXo6OqY6QJ0",
   "provenance": [],
   "toc_visible": true
  },
  "kernelspec": {
   "display_name": "Python 3",
   "language": "python",
   "name": "python3"
  },
  "language_info": {
   "codemirror_mode": {
    "name": "ipython",
    "version": 3
   },
   "file_extension": ".py",
   "mimetype": "text/x-python",
   "name": "python",
   "nbconvert_exporter": "python",
   "pygments_lexer": "ipython3",
   "version": "3.7.6"
  }
 },
 "nbformat": 4,
 "nbformat_minor": 1
}
