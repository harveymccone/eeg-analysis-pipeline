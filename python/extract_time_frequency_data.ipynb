{
 "cells": [
  {
   "cell_type": "markdown",
   "metadata": {
    "id": "vAYSQjOvFBLM"
   },
   "source": [
    "# Script Set Up"
   ]
  },
  {
   "cell_type": "code",
   "execution_count": null,
   "metadata": {
    "id": "bJW-Y2dFE-zI"
   },
   "outputs": [],
   "source": [
    "%matplotlib inline"
   ]
  },
  {
   "cell_type": "code",
   "execution_count": null,
   "metadata": {
    "colab": {
     "base_uri": "https://localhost:8080/"
    },
    "id": "GOjs4ohiFPwL",
    "outputId": "878ebb4e-79e7-49a0-c5e3-634abc1d3361"
   },
   "outputs": [],
   "source": [
    "!pip install mne==1.6"
   ]
  },
  {
   "cell_type": "code",
   "execution_count": null,
   "metadata": {
    "id": "G1MKm3O-FbsR"
   },
   "outputs": [],
   "source": [
    "import os\n",
    "import numpy as np\n",
    "from matplotlib import pyplot as plt\n",
    "from scipy import stats\n",
    "import pandas as pd\n",
    "import seaborn as sns\n",
    "import mne\n",
    "import math\n",
    "from scipy.io import loadmat\n",
    "from scipy.fft import fft"
   ]
  },
  {
   "cell_type": "code",
   "execution_count": null,
   "metadata": {
    "colab": {
     "base_uri": "https://localhost:8080/"
    },
    "id": "94eTuNOJFRLr",
    "outputId": "cac64e25-6c48-4043-d295-fdbb0a032287"
   },
   "outputs": [],
   "source": [
    "from google.colab import drive\n",
    "drive.mount('/content/drive')"
   ]
  },
  {
   "cell_type": "markdown",
   "metadata": {
    "id": "Jumlxt4BTEvM"
   },
   "source": [
    "# Load Epochs"
   ]
  },
  {
   "cell_type": "code",
   "execution_count": null,
   "metadata": {
    "colab": {
     "base_uri": "https://localhost:8080/"
    },
    "id": "L28szoshTGJF",
    "outputId": "7c9362c9-db23-470d-f2c3-97175f301438"
   },
   "outputs": [],
   "source": [
    "ID_list = ['P1', 'P3', 'P4', 'P7', 'P10', 'P12', 'P15', 'P17', 'P19',\n",
    "           'P21', 'P22', 'P23', 'P24', 'P26', 'P27', 'P28', 'P29', 'P30']\n",
    "ID = \"P30\"\n",
    "\n",
    "fname = \"/content/drive/MyDrive/Time_Reproduction/Epochs_Arrays_CSD/Encode/\" + ID + \"_Encode_All_CSD.mat\"\n",
    "encode_epochs = loadmat(fname)\n",
    "encode_epochs = encode_epochs[\"encode_epochs_CSD\"]\n",
    "n_channels, n_samples_encode, n_epochs_encode = encode_epochs.shape\n",
    "\n",
    "fname = \"/content/drive/MyDrive/Time_Reproduction/Epochs_Arrays_CSD/Reproduction/\" + ID + \"_Reproduction_All_CSD.mat\"\n",
    "repo_epochs = loadmat(fname)\n",
    "repo_epochs = repo_epochs[\"repo_epochs_CSD\"]\n",
    "n_channels, n_samples_repo, n_epochs_repo = repo_epochs.shape\n",
    "\n",
    "fname = \"/content/drive/MyDrive/Time_Reproduction/Epochs_Arrays_CSD/Response_Locked/\" + ID + \"_Response_Locked_All_CSD.mat\"\n",
    "RL_epochs = loadmat(fname)\n",
    "RL_epochs = RL_epochs[\"response_locked_epochs_CSD\"]\n",
    "n_channels, n_samples_RL, n_epochs_RL = RL_epochs.shape\n",
    "\n",
    "fname = \"/content/drive/MyDrive/Time_Reproduction/Epochs_Arrays_CSD/Offset/\" + ID + \"_Offset_All_CSD.mat\"\n",
    "offset_epochs = loadmat(fname)\n",
    "offset_epochs = offset_epochs[\"offset_epochs_CSD\"]\n",
    "n_channels, n_samples_offset, n_epochs_offset = offset_epochs.shape"
   ]
  },
  {
   "cell_type": "markdown",
   "metadata": {
    "id": "XN9Rla977Qjv"
   },
   "source": [
    "# Also Load MNE Epochs for Times"
   ]
  },
  {
   "cell_type": "code",
   "execution_count": null,
   "metadata": {
    "colab": {
     "base_uri": "https://localhost:8080/"
    },
    "id": "ARCiqAxPQdhB",
    "outputId": "3b16ba6a-206b-4c5f-e3ba-0ab7c0ca4b33"
   },
   "outputs": [],
   "source": [
    "## MNE encode Epochs ##\n",
    "fname = \"/content/drive/MyDrive/Time_Reproduction/Epochs_CSD/Encode/\" + ID + \"_Encode_All_CSD_epo.fif\"\n",
    "MNE_encode_epochs = mne.read_epochs(fname, preload = True)\n",
    "info = MNE_encode_epochs.average().info # use evoked so channels is 128\n",
    "\n",
    "## MNE repo Epochs ##\n",
    "fname = \"/content/drive/MyDrive/Time_Reproduction/Epochs_CSD/Reproduction/\" + ID + \"_Reproduction_All_CSD_epo.fif\"\n",
    "MNE_repo_epochs = mne.read_epochs(fname, preload = True)\n",
    "\n",
    "## MNE RL Epochs ##\n",
    "fname = \"/content/drive/MyDrive/Time_Reproduction/Epochs_CSD/Response_Locked/\" + ID + \"_RL_All_CSD_epo.fif\"\n",
    "MNE_RL_epochs = mne.read_epochs(fname, preload = True)\n",
    "\n",
    "## MNE Offset Epochs ##\n",
    "fname = \"/content/drive/MyDrive/Time_Reproduction/Epochs_CSD/Offset/\" + ID + \"_Offset_All_MAT_CSD_epo.fif\"\n",
    "MNE_offset_epochs = mne.read_epochs(fname, preload = True)\n",
    "info = MNE_offset_epochs.average().info"
   ]
  },
  {
   "cell_type": "markdown",
   "metadata": {
    "id": "D3uYvvP8mgvp"
   },
   "source": [
    "# Set up for STFT"
   ]
  },
  {
   "cell_type": "markdown",
   "metadata": {
    "id": "1TV5ELPImzIu"
   },
   "source": [
    "## Define Sample Rate and Frequencies of Interest\n",
    "8-30Hz for Mu Beta"
   ]
  },
  {
   "cell_type": "code",
   "execution_count": null,
   "metadata": {
    "id": "A-sb21SpmpSw"
   },
   "outputs": [],
   "source": [
    "fs = 512; # Define sampling rate (fs)\n",
    "fs_beta = [8, 30] # Define frequencies we are interested in\n",
    "fs_beta_only = [15, 30]\n",
    "fs_mu_only = [8, 13] #?\n",
    "fs_alpha = [8, 12] ## added 09/09 ## dave does 8-14 but over a much bigger window (707ms)\n",
    "SSVEP_freq = 0 # need to figure out what this is\n",
    "beta_time = []\n",
    "beta_time_repo = []\n",
    "beta_time_RL = []\n",
    "\n",
    "beta_time_offset = []"
   ]
  },
  {
   "cell_type": "markdown",
   "metadata": {
    "id": "XqrF39b4oYQS"
   },
   "source": [
    "## Define time parameters of your epochs"
   ]
  },
  {
   "cell_type": "code",
   "execution_count": null,
   "metadata": {
    "id": "PpZn-f48obUL"
   },
   "outputs": [],
   "source": [
    "## Encode epoch ##\n",
    "epoch_limits_ms = (MNE_encode_epochs.tmin * 1000, MNE_encode_epochs.tmax * 1000) # start and end of your epoch in ms\n",
    "t = np.linspace(epoch_limits_ms[0], epoch_limits_ms[1], n_samples_encode) # times in ms\n",
    "ts = t / 1000 * fs # times in samples\n",
    "\n",
    "## Repo epoch ##\n",
    "epoch_limits_ms = (MNE_repo_epochs.tmin * 1000, MNE_repo_epochs.tmax * 1000) # start and end of your epoch in ms\n",
    "t_repo = np.linspace(epoch_limits_ms[0], epoch_limits_ms[1], n_samples_repo) # times in ms\n",
    "ts_repo = t_repo / 1000 * fs # times in samples\n",
    "\n",
    "## RL epoch ##\n",
    "epoch_limits_ms_RL = (MNE_RL_epochs.tmin * 1000, MNE_RL_epochs.tmax * 1000) # start and end of your epoch in ms\n",
    "t_RL = np.linspace(epoch_limits_ms_RL[0], epoch_limits_ms_RL[1], n_samples_RL) # times in ms\n",
    "ts_RL = t_RL / 1000 * fs # times in samples\n",
    "\n",
    "## Offset epoch ##\n",
    "epoch_limits_ms_offset = (MNE_offset_epochs.tmin * 1000, MNE_offset_epochs.tmax * 1000) # start and end of your epoch in ms\n",
    "t_offset = np.linspace(epoch_limits_ms_offset[0], epoch_limits_ms_offset[1], n_samples_offset) # times in ms\n",
    "ts_offset = t_offset / 1000 * fs # times in samples"
   ]
  },
  {
   "cell_type": "markdown",
   "metadata": {
    "id": "4UJE_RK5ozU6"
   },
   "source": [
    "## Define window size for (each) fft - should be long enough to capture 2 or 3 cycles of the lowest frequency"
   ]
  },
  {
   "cell_type": "code",
   "execution_count": null,
   "metadata": {
    "colab": {
     "base_uri": "https://localhost:8080/"
    },
    "id": "4HgVL_UXo1s6",
    "outputId": "3fcacb4c-4d0a-4618-964d-8fd1572b3b02"
   },
   "outputs": [],
   "source": [
    "min_freq = fs_beta[0]\n",
    "one_min_freq_cycle_time = 1000 / min_freq\n",
    "n_cycles = 3 # define the number of cycles of min freq that you want\n",
    "stftlen_beta_t = one_min_freq_cycle_time * n_cycles # define window size in ms\n",
    "\n",
    "stftlen_beta = stftlen_beta_t / 1000 * fs # convert from time to samples\n",
    "stftlen_beta = int(stftlen_beta)"
   ]
  },
  {
   "cell_type": "markdown",
   "metadata": {
    "id": "sS83bxZKyTxq"
   },
   "source": [
    "## Define the step size for moving your sliding window"
   ]
  },
  {
   "cell_type": "code",
   "execution_count": null,
   "metadata": {
    "id": "9sYp3-FgyYU6"
   },
   "outputs": [],
   "source": [
    "skip_step_beta_ms = 25\n",
    "skip_step_beta = round(skip_step_beta_ms*fs/1000)"
   ]
  },
  {
   "cell_type": "markdown",
   "metadata": {
    "id": "OEZC98LQyj5J"
   },
   "source": [
    "## Get frequency bins you will get running the FT in each window AND Get list of centre times of each window"
   ]
  },
  {
   "cell_type": "code",
   "execution_count": null,
   "metadata": {
    "id": "lvRePOqOylvS"
   },
   "outputs": [],
   "source": [
    "cc = 0\n",
    "\n",
    "for tt in range(0, int(len(ts) - stftlen_beta), skip_step_beta):\n",
    "  # chop out your window\n",
    "  tf = np.arange(tt, tt+stftlen_beta)\n",
    "  tf = np.array(tf, dtype = int)\n",
    "  nfft = len(tf) # number of timepoints in time window\n",
    "\n",
    "  # get your frequency bins\n",
    "  freq_temp_beta = (np.arange(0,math.ceil((nfft+1)/2))*fs/nfft)\n",
    "\n",
    "  # get the mean of that window in time. this is the new centre point of this sample in your new time vector.\n",
    "  beta_time.append(np.mean(t[tf]))\n",
    "\n",
    "  # shlide on\n",
    "  cc += 1"
   ]
  },
  {
   "cell_type": "markdown",
   "metadata": {
    "id": "6Yxgbv6K_dCK"
   },
   "source": [
    "## Do the same thing for the repo epoch"
   ]
  },
  {
   "cell_type": "code",
   "execution_count": null,
   "metadata": {
    "id": "Z9bu4F9r_hS7"
   },
   "outputs": [],
   "source": [
    "cc = 0\n",
    "\n",
    "for ttrepo in range(0, int(len(ts_repo) - stftlen_beta), skip_step_beta):\n",
    "  # chop out your window\n",
    "  tfrepo = np.arange(ttrepo, ttrepo+stftlen_beta)\n",
    "  tfrepo = np.array(tfrepo, dtype = int)\n",
    "  nfftrepo = len(tfrepo) # number of timepoints in time window\n",
    "\n",
    "  # get your frequency bins\n",
    "  freq_temp_beta_repo = (np.arange(0,math.ceil((nfftrepo+1)/2))*fs/nfftrepo)\n",
    "\n",
    "  # get the mean of that window in time. this is the new centre point of this sample in your new time vector.\n",
    "  beta_time_repo.append(np.mean(t_repo[tfrepo]))\n",
    "\n",
    "  # shlide on\n",
    "  cc += 1"
   ]
  },
  {
   "cell_type": "markdown",
   "metadata": {
    "id": "n1pduFEs3NIC"
   },
   "source": [
    "## Do the same thing for the RL epoch"
   ]
  },
  {
   "cell_type": "code",
   "execution_count": null,
   "metadata": {
    "id": "Nm3Ov9La01YA"
   },
   "outputs": [],
   "source": [
    "cc = 0\n",
    "\n",
    "for ttr in range(0, int(len(ts_RL) - stftlen_beta), skip_step_beta):\n",
    "  # chop out your window\n",
    "  tfr = np.arange(ttr, ttr+stftlen_beta)\n",
    "  tfr = np.array(tfr, dtype = int)\n",
    "  nfftr = len(tfr) # number of timepoints in time window\n",
    "\n",
    "  # get your frequency bins\n",
    "  freq_temp_beta_RL = (np.arange(0,math.ceil((nfftr+1)/2))*fs/nfftr)\n",
    "\n",
    "  # get the mean of that window in time. this is the new centre point of this sample in your new time vector.\n",
    "  beta_time_RL.append(np.mean(t_RL[tfr]))\n",
    "\n",
    "  # shlide on\n",
    "  cc += 1"
   ]
  },
  {
   "cell_type": "markdown",
   "metadata": {
    "id": "dKuvO6KUlYcv"
   },
   "source": [
    "## Do same thing for offset epoch"
   ]
  },
  {
   "cell_type": "code",
   "execution_count": null,
   "metadata": {
    "colab": {
     "base_uri": "https://localhost:8080/"
    },
    "id": "TybNr4BWlbVB",
    "outputId": "ed3058d7-bc37-477e-b70d-d000d0973dbd"
   },
   "outputs": [],
   "source": [
    "cc = 0\n",
    "\n",
    "for ttoffset in range(0, int(len(ts_offset) - stftlen_beta), skip_step_beta):\n",
    "  # chop out your window\n",
    "  tfoffset = np.arange(ttoffset, ttoffset+stftlen_beta)\n",
    "  tfoffset = np.array(tfoffset, dtype = int)\n",
    "  nfftoffset = len(tfoffset) # number of timepoints in time window\n",
    "\n",
    "  # get your frequency bins\n",
    "  freq_temp_beta_offset = (np.arange(0,math.ceil((nfftoffset+1)/2))*fs/nfftoffset)\n",
    "\n",
    "  # get the mean of that window in time. this is the new centre point of this sample in your new time vector.\n",
    "  beta_time_offset.append(np.mean(t_offset[tfoffset]))\n",
    "\n",
    "  # shlide on\n",
    "  cc += 1"
   ]
  },
  {
   "cell_type": "markdown",
   "metadata": {
    "id": "v64NQKNm4vH-"
   },
   "source": [
    "# Computing STFT"
   ]
  },
  {
   "cell_type": "markdown",
   "metadata": {
    "id": "7fKoWz15M1Gm"
   },
   "source": [
    "## Encode Epochs"
   ]
  },
  {
   "cell_type": "code",
   "execution_count": null,
   "metadata": {
    "id": "BwBZBxbj4ZnW"
   },
   "outputs": [],
   "source": [
    "beta = np.zeros((n_channels, len(beta_time),  n_epochs_encode)) # will contain target beta power for each channel, timebin, trial\n",
    "beta_only = np.zeros((n_channels, len(beta_time),  n_epochs_encode)) # will contain target beta power for each channel, timebin, trial\n",
    "mu_only = np.zeros((n_channels, len(beta_time),  n_epochs_encode)) # will contain target beta power for each channel, timebin, trial\n",
    "\n",
    "erp = encode_epochs\n",
    "cc = 0 # change to 0 cos python\n",
    "\n",
    "n_total_freqs = stftlen_beta\n",
    "n_freqs = len(np.arange(0, int(np.ceil((n_total_freqs + 1)/2))))\n",
    "fft_all = np.zeros((n_channels, n_freqs, len(beta_time)))\n",
    "\n",
    "print('Calculating encode beta...')\n",
    "\n",
    "for tt in range(0, int(erp.shape[1]) - stftlen_beta, skip_step_beta):\n",
    "  tf = np.arange(tt, tt+stftlen_beta)\n",
    "  #print(tf.shape) # same length as stftlen_beta\n",
    "  ep = erp[:, tf, :] # all channels, timepoints for fft, all epochs\n",
    "  nfft = ep.shape[1] # not really needed to be defined again\n",
    "\n",
    "  fftx = np.abs(fft(ep, axis = 1)) / (stftlen_beta/2) # computing fft\n",
    "  fftx = fftx[:,0:int(np.ceil((nfft + 1)/2)),:] # getting frequencies you can have in your fft\n",
    "  fftx_shape = fftx.shape\n",
    "\n",
    "  # we only want power in the beta band, get those frequencies\n",
    "  ind = np.argwhere((freq_temp_beta>=fs_beta[0]) & (freq_temp_beta<=fs_beta[1]) & (np.round(freq_temp_beta) != SSVEP_freq))\n",
    "  ind_beta_only = np.argwhere((freq_temp_beta>=fs_beta_only[0]) & (freq_temp_beta<=fs_beta_only[1]) & (np.round(freq_temp_beta) != SSVEP_freq))\n",
    "  ind_mu_only = np.argwhere((freq_temp_beta>=fs_mu_only[0]) & (freq_temp_beta<=fs_mu_only[1]) & (np.round(freq_temp_beta) != SSVEP_freq))\n",
    "\n",
    "\n",
    "  # putting fft from this time window into bigger beta array with all time windows\n",
    "  beta[:, cc, :] = np.mean(fftx[:,ind,:], axis = 1)[:, 0, :]\n",
    "  beta_only[:, cc, :] = np.mean(fftx[:,ind_beta_only,:], axis = 1)[:, 0, :]\n",
    "  mu_only[:, cc, :] = np.mean(fftx[:,ind_mu_only,:], axis = 1)[:, 0, :]\n",
    "\n",
    "  # Getting all frequencies - need to average across epochs first otherwise array too big for google colab\n",
    "  average_fftx = np.nanmean(fftx, axis = 2)\n",
    "  fft_all[:, :, cc] = average_fftx\n",
    "\n",
    "  cc+=1"
   ]
  },
  {
   "cell_type": "markdown",
   "metadata": {
    "id": "2X9sK2SdBEb8"
   },
   "source": [
    "## Repo Epochs"
   ]
  },
  {
   "cell_type": "code",
   "execution_count": null,
   "metadata": {
    "id": "lP1I5kzrBGxr"
   },
   "outputs": [],
   "source": [
    "beta_repo = np.zeros((n_channels, len(beta_time_repo),  n_epochs_repo)) # will contain target beta power for each channel, timebin, trial\n",
    "beta_only_repo = np.zeros((n_channels, len(beta_time_repo),  n_epochs_repo))\n",
    "mu_only_repo = np.zeros((n_channels, len(beta_time_repo),  n_epochs_repo))\n",
    "\n",
    "fft_all_repo = np.zeros((n_channels, n_freqs, len(beta_time_repo)))\n",
    "\n",
    "erprepo = repo_epochs\n",
    "cc = 0 # change to 0 cos python\n",
    "print('Calculating repo beta...')\n",
    "\n",
    "for ttr in range(0, int(erprepo.shape[1]) - stftlen_beta, skip_step_beta):\n",
    "  tfr = np.arange(ttr, ttr+stftlen_beta)\n",
    "\n",
    "  eprepo = erprepo[:, tfr, :] # all channels, timepoints for fft, all epochs\n",
    "  nfftr = eprepo.shape[1] # not really needed to be defined again\n",
    "\n",
    "  fftx = np.abs(fft(eprepo, axis = 1)) / (stftlen_beta/2) # computing fft\n",
    "  fftx = fftx[:,0:int(np.ceil((nfftr + 1)/2)),:] # getting frequencies you can have in your fft\n",
    "  fftx_shape = fftx.shape\n",
    "\n",
    "  # we only want power in the beta band, get those frequencies\n",
    "  ind = np.argwhere((freq_temp_beta_repo>=fs_beta[0]) & (freq_temp_beta_repo<=fs_beta[1]) & (np.round(freq_temp_beta_repo) != SSVEP_freq))\n",
    "  ind_beta_only = np.argwhere((freq_temp_beta_repo>=fs_beta_only[0]) & (freq_temp_beta_repo<=fs_beta_only[1]) & (np.round(freq_temp_beta_repo) != SSVEP_freq))\n",
    "  ind_mu_only = np.argwhere((freq_temp_beta_repo>=fs_mu_only[0]) & (freq_temp_beta_repo<=fs_mu_only[1]) & (np.round(freq_temp_beta_repo) != SSVEP_freq))\n",
    "\n",
    "  # putting fft from this time window into bigger beta array with all time windows\n",
    "  beta_repo[:, cc, :] = np.mean(fftx[:,ind,:], axis = 1)[:, 0, :]\n",
    "  beta_only_repo[:, cc, :] = np.mean(fftx[:,ind_beta_only,:], axis = 1)[:, 0, :]\n",
    "  mu_only_repo[:, cc, :] = np.mean(fftx[:,ind_mu_only,:], axis = 1)[:, 0, :]\n",
    "\n",
    "  # Getting all frequencies - need to average across epochs first otherwise array too big for google colab\n",
    "  average_fftx = np.nanmean(fftx, axis = 2)\n",
    "  fft_all_repo[:, :, cc] = average_fftx\n",
    "\n",
    "  cc+=1"
   ]
  },
  {
   "cell_type": "markdown",
   "metadata": {
    "id": "ph2Nn8ZWsEe4"
   },
   "source": [
    "## Response-Locked Epochs"
   ]
  },
  {
   "cell_type": "code",
   "execution_count": null,
   "metadata": {
    "id": "e4_Xn9oGoRW2"
   },
   "outputs": [],
   "source": [
    "beta_RL = np.zeros((n_channels, len(beta_time_RL),  n_epochs_RL)) # will contain target beta power for each channel, timebin, trial\n",
    "beta_only_RL = np.zeros((n_channels, len(beta_time_RL),  n_epochs_RL))\n",
    "mu_only_RL = np.zeros((n_channels, len(beta_time_RL),  n_epochs_RL))\n",
    "\n",
    "fft_all_RL = np.zeros((n_channels, n_freqs, len(beta_time_RL)))\n",
    "\n",
    "erpRL = RL_epochs\n",
    "cc = 0 # change to 0 cos python\n",
    "print('Calculating RL beta...')\n",
    "\n",
    "for ttr in range(0, int(erpRL.shape[1]) - stftlen_beta, skip_step_beta):\n",
    "  tfr = np.arange(ttr, ttr+stftlen_beta)\n",
    "\n",
    "  epRL = erpRL[:, tfr, :] # all channels, timepoints for fft, all epochs\n",
    "  nfftr = epRL.shape[1] # not really needed to be defined again\n",
    "\n",
    "  fftx = np.abs(fft(epRL, axis = 1)) / (stftlen_beta/2) # computing fft\n",
    "  fftx = fftx[:,0:int(np.ceil((nfftr + 1)/2)),:] # getting frequencies you can have in your fft\n",
    "  fftx_shape = fftx.shape\n",
    "\n",
    "  # we only want power in the beta band, get those frequencies\n",
    "  ind = np.argwhere((freq_temp_beta_RL>=fs_beta[0]) & (freq_temp_beta_RL<=fs_beta[1]) & (np.round(freq_temp_beta_RL) != SSVEP_freq))\n",
    "  ind_beta_only = np.argwhere((freq_temp_beta_RL>=fs_beta_only[0]) & (freq_temp_beta_RL<=fs_beta_only[1]) & (np.round(freq_temp_beta_RL) != SSVEP_freq))\n",
    "  ind_mu_only = np.argwhere((freq_temp_beta_RL>=fs_mu_only[0]) & (freq_temp_beta_RL<=fs_mu_only[1]) & (np.round(freq_temp_beta_RL) != SSVEP_freq))\n",
    "\n",
    "  # putting fft from this time window into bigger beta array with all time windows\n",
    "  beta_RL[:, cc, :] = np.mean(fftx[:,ind,:], axis = 1)[:, 0, :]\n",
    "  beta_only_RL[:, cc, :] = np.mean(fftx[:,ind_beta_only,:], axis = 1)[:, 0, :]\n",
    "  mu_only_RL[:, cc, :] = np.mean(fftx[:,ind_mu_only,:], axis = 1)[:, 0, :]\n",
    "\n",
    "  # Getting all frequencies - need to average across epochs first otherwise array too big for google colab\n",
    "  average_fftx = np.nanmean(fftx, axis = 2)\n",
    "  fft_all_RL[:, :, cc] = average_fftx\n",
    "  cc+=1"
   ]
  },
  {
   "cell_type": "markdown",
   "metadata": {
    "id": "rg7Dl6xqmeqv"
   },
   "source": [
    "## Offset Epochs"
   ]
  },
  {
   "cell_type": "code",
   "execution_count": null,
   "metadata": {
    "colab": {
     "base_uri": "https://localhost:8080/"
    },
    "id": "cMfHJU9DmhHl",
    "outputId": "4ed53d43-7944-4b04-9e8e-22e40b9289bd"
   },
   "outputs": [],
   "source": [
    "beta_offset = np.zeros((n_channels, len(beta_time_offset),  n_epochs_offset)) # will contain target beta power for each channel, timebin, trial\n",
    "beta_only_offset = np.zeros((n_channels, len(beta_time_offset),  n_epochs_offset))\n",
    "mu_only_offset = np.zeros((n_channels, len(beta_time_offset),  n_epochs_offset))\n",
    "\n",
    "n_total_freqs = stftlen_beta\n",
    "n_freqs = len(np.arange(0, int(np.ceil((n_total_freqs + 1)/2))))\n",
    "fft_all_offset = np.zeros((n_channels, n_freqs, len(beta_time_offset)))\n",
    "\n",
    "erpoffset = offset_epochs\n",
    "cc = 0 # change to 0 cos python\n",
    "print('Calculating offset beta...')\n",
    "\n",
    "for ttr in range(0, int(erpoffset.shape[1]) - stftlen_beta, skip_step_beta):\n",
    "  tfr = np.arange(ttr, ttr+stftlen_beta)\n",
    "\n",
    "  epoffset = erpoffset[:, tfr, :] # all channels, timepoints for fft, all epochs\n",
    "  nfftr = epoffset.shape[1] # not really needed to be defined again\n",
    "\n",
    "  fftx = np.abs(fft(epoffset, axis = 1)) / (stftlen_beta/2) # computing fft\n",
    "  fftx = fftx[:,0:int(np.ceil((nfftr + 1)/2)),:] # getting frequencies you can have in your fft\n",
    "  fftx_shape = fftx.shape\n",
    "\n",
    "  # we only want power in the beta band, get those frequencies\n",
    "  ind = np.argwhere((freq_temp_beta_offset>=fs_beta[0]) & (freq_temp_beta_offset<=fs_beta[1]) & (np.round(freq_temp_beta_offset) != SSVEP_freq))\n",
    "  ind_beta_only = np.argwhere((freq_temp_beta_offset>=fs_beta_only[0]) & (freq_temp_beta_offset<=fs_beta_only[1]) & (np.round(freq_temp_beta_offset) != SSVEP_freq))\n",
    "  ind_mu_only = np.argwhere((freq_temp_beta_offset>=fs_mu_only[0]) & (freq_temp_beta_offset<=fs_mu_only[1]) & (np.round(freq_temp_beta_offset) != SSVEP_freq))\n",
    "\n",
    "  # putting fft from this time window into bigger beta array with all time windows\n",
    "  beta_offset[:, cc, :] = np.mean(fftx[:,ind,:], axis = 1)[:, 0, :]\n",
    "  beta_only_offset[:, cc, :] = np.mean(fftx[:,ind_beta_only,:], axis = 1)[:, 0, :]\n",
    "  mu_only_offset[:, cc, :] = np.mean(fftx[:,ind_mu_only,:], axis = 1)[:, 0, :]\n",
    "\n",
    "  # Getting all frequencies - need to average across epochs first otherwise array too big for google colab\n",
    "  average_fftx = np.nanmean(fftx, axis = 2)\n",
    "  fft_all_offset[:, :, cc] = average_fftx\n",
    "\n",
    "  cc+=1"
   ]
  },
  {
   "cell_type": "markdown",
   "metadata": {
    "id": "4-hETFBeuDB4"
   },
   "source": [
    "# Saving Data for each participant\n",
    "Have array of n_channels, n_time_windows, n_epochs\n",
    "\n",
    "Might want to save as MNE array too?"
   ]
  },
  {
   "cell_type": "code",
   "execution_count": null,
   "metadata": {
    "id": "104rJLpd8Jgd"
   },
   "outputs": [],
   "source": [
    "## Saving All frequencies averaged across epochs\n",
    "fname = \"/content/drive/MyDrive/Time_Reproduction/Beta/\" + ID + \"_fft_all_encode.npy\"\n",
    "np.save(fname, fft_all)\n",
    "\n",
    "fname = \"/content/drive/MyDrive/Time_Reproduction/Beta/\" + ID + \"_fft_all_repo.npy\"\n",
    "np.save(fname, fft_all_repo)\n",
    "\n",
    "fname = \"/content/drive/MyDrive/Time_Reproduction/Beta/\" + ID + \"_fft_all_RL.npy\"\n",
    "np.save(fname, fft_all_RL)"
   ]
  },
  {
   "cell_type": "code",
   "execution_count": null,
   "metadata": {
    "id": "llL1Dk5vuEMT"
   },
   "outputs": [],
   "source": [
    "fname = \"/content/drive/MyDrive/Time_Reproduction/Beta/\" + ID + \"_beta_encode.npy\"\n",
    "np.save(fname, beta)\n",
    "\n",
    "fname = \"/content/drive/MyDrive/Time_Reproduction/Beta/\" + ID + \"_beta_repo.npy\"\n",
    "np.save(fname, beta_repo)\n",
    "\n",
    "fname = \"/content/drive/MyDrive/Time_Reproduction/Beta/\" + ID + \"_beta_RL.npy\"\n",
    "np.save(fname, beta_RL)"
   ]
  },
  {
   "cell_type": "code",
   "execution_count": null,
   "metadata": {
    "id": "8YdvBgNjFOLy"
   },
   "outputs": [],
   "source": [
    "fname = \"/content/drive/MyDrive/Time_Reproduction/Beta/\" + ID + \"_beta_only_encode.npy\"\n",
    "np.save(fname, beta_only)\n",
    "\n",
    "fname = \"/content/drive/MyDrive/Time_Reproduction/Beta/\" + ID + \"_beta_only_repo.npy\"\n",
    "np.save(fname, beta_only_repo)\n",
    "\n",
    "fname = \"/content/drive/MyDrive/Time_Reproduction/Beta/\" + ID + \"_beta_only_RL.npy\"\n",
    "np.save(fname, beta_only_RL)"
   ]
  },
  {
   "cell_type": "code",
   "execution_count": null,
   "metadata": {
    "id": "kpCVxQgKm4It"
   },
   "outputs": [],
   "source": [
    "fname = \"/content/drive/MyDrive/Time_Reproduction/Beta/\" + ID + \"_beta_offset.npy\"\n",
    "np.save(fname, beta_offset)"
   ]
  },
  {
   "cell_type": "markdown",
   "metadata": {
    "id": "jv7u9FjHFx33"
   },
   "source": [
    "# Convert to MNE object before saving\n",
    "Can add in metadata for the epochs"
   ]
  },
  {
   "cell_type": "markdown",
   "metadata": {
    "id": "Yn9MADEOI14L"
   },
   "source": [
    "# Setting Up Epochs Array for MNE\n",
    "Need to change dimensions to form of n_epochs, n_channels, n_freqs, n_times\n",
    "\n",
    "Does unit need to be changed?"
   ]
  },
  {
   "cell_type": "code",
   "execution_count": null,
   "metadata": {
    "colab": {
     "base_uri": "https://localhost:8080/"
    },
    "id": "hrFzU8BPI6LO",
    "outputId": "4974d345-0eb9-4d1b-ac1a-2fb40be40032"
   },
   "outputs": [],
   "source": [
    "## Encode ##\n",
    "beta = np.moveaxis(beta, -1, 0)\n",
    "beta = beta[:, :, :, np.newaxis]\n",
    "beta = np.moveaxis(beta, -1, -2)\n",
    "\n",
    "## repo ##\n",
    "beta_repo = np.moveaxis(beta_repo, -1, 0)\n",
    "beta_repo = beta_repo[:, :, :, np.newaxis]\n",
    "beta_repo = np.moveaxis(beta_repo, -1, -2)\n",
    "\n",
    "## RL ##\n",
    "beta_RL = np.moveaxis(beta_RL, -1, 0)\n",
    "beta_RL = beta_RL[:, :, :, np.newaxis]\n",
    "beta_RL = np.moveaxis(beta_RL, -1, -2)\n",
    "\n",
    "## Offset\n",
    "beta_offset = np.moveaxis(beta_offset, -1, 0)\n",
    "beta_offset = beta_offset[:, :, :, np.newaxis]\n",
    "beta_offset = np.moveaxis(beta_offset, -1, -2)"
   ]
  },
  {
   "cell_type": "code",
   "execution_count": null,
   "metadata": {
    "id": "bO_UgZyBF0DM"
   },
   "outputs": [],
   "source": [
    "## Encode ##\n",
    "beta_only = np.moveaxis(beta_only, -1, 0)\n",
    "beta_only = beta_only[:, :, :, np.newaxis]\n",
    "beta_only = np.moveaxis(beta_only, -1, -2)\n",
    "\n",
    "## Repo ##\n",
    "beta_only_repo = np.moveaxis(beta_only_repo, -1, 0)\n",
    "beta_only_repo = beta_only_repo[:, :, :, np.newaxis]\n",
    "beta_only_repo = np.moveaxis(beta_only_repo, -1, -2)\n",
    "\n",
    "## RL ##\n",
    "beta_only_RL = np.moveaxis(beta_only_RL, -1, 0)\n",
    "beta_only_RL = beta_only_RL[:, :, :, np.newaxis]\n",
    "beta_only_RL = np.moveaxis(beta_only_RL, -1, -2)"
   ]
  },
  {
   "cell_type": "code",
   "execution_count": null,
   "metadata": {
    "id": "tyYqgcF8GGcN"
   },
   "outputs": [],
   "source": [
    "## Encode ##\n",
    "mu_only = np.moveaxis(mu_only, -1, 0)\n",
    "mu_only = mu_only[:, :, :, np.newaxis]\n",
    "mu_only = np.moveaxis(mu_only, -1, -2)\n",
    "\n",
    "## repo ##\n",
    "mu_only_repo = np.moveaxis(mu_only_repo, -1, 0)\n",
    "mu_only_repo = mu_only_repo[:, :, :, np.newaxis]\n",
    "mu_only_repo = np.moveaxis(mu_only_repo, -1, -2)\n",
    "\n",
    "## RL ##\n",
    "mu_only_RL = np.moveaxis(mu_only_RL, -1, 0)\n",
    "mu_only_RL = mu_only_RL[:, :, :, np.newaxis]\n",
    "mu_only_RL = np.moveaxis(mu_only_RL, -1, -2)"
   ]
  },
  {
   "cell_type": "markdown",
   "metadata": {
    "id": "sJ89GE8DXZ_u"
   },
   "source": [
    "## Create EpochsTFR (epochs time frequency) object"
   ]
  },
  {
   "cell_type": "markdown",
   "metadata": {
    "id": "v9IBoHeTXfFu"
   },
   "source": [
    "### Encode Epochs"
   ]
  },
  {
   "cell_type": "code",
   "execution_count": null,
   "metadata": {
    "id": "hP4su0ClWfVd"
   },
   "outputs": [],
   "source": [
    "info = info\n",
    "data = beta\n",
    "times = np.array(beta_time) / 1000 # middle time points\n",
    "freqs = np.array([int((fs_beta[0] + fs_beta[1]) / 2)]) # need to label the frequency something so just taking the average\n",
    "method = \"STFT\"\n",
    "events = MNE_encode_epochs.events\n",
    "metadata = MNE_encode_epochs.metadata\n",
    "\n",
    "event_id = {\"Encode/600\":51, \"Encode/650\":52, \"Encode/700\":53,\n",
    "            \"Encode/750\":54, \"Encode/800\":55, \"Encode/850\":56,\n",
    "            \"Encode/900\":57, \"Encode/950\":58, \"Encode/1000\":59}\n",
    "\n",
    "beta_epochs = mne.time_frequency.EpochsTFR(info = info, data = data, times = times, freqs = freqs, method = method,\n",
    "                                           events = events, event_id = event_id, metadata = metadata)\n",
    "\n",
    "data = beta_only\n",
    "freqs = np.array([int((fs_beta_only[0] + fs_beta_only[1]) / 2)])\n",
    "\n",
    "beta_only_epochs = mne.time_frequency.EpochsTFR(info = info, data = data, times = times, freqs = freqs, method = method,\n",
    "                                           events = events, event_id = event_id, metadata = metadata)\n",
    "\n",
    "data = mu_only\n",
    "freqs = np.array([int((fs_mu_only[0] + fs_mu_only[1]) / 2)])\n",
    "\n",
    "mu_only_epochs = mne.time_frequency.EpochsTFR(info = info, data = data, times = times, freqs = freqs, method = method,\n",
    "                                           events = events, event_id = event_id, metadata = metadata)"
   ]
  },
  {
   "cell_type": "markdown",
   "metadata": {
    "id": "Of4pJ90xHJTv"
   },
   "source": [
    "### Repo Epochs"
   ]
  },
  {
   "cell_type": "code",
   "execution_count": null,
   "metadata": {
    "id": "D8bw1bdqHNd7"
   },
   "outputs": [],
   "source": [
    "info = info\n",
    "data = beta_repo\n",
    "times = np.array(beta_time_repo) / 1000 # middle time points\n",
    "freqs = np.array([int((fs_beta[0] + fs_beta[1]) / 2)]) # need to label the frequency something so just taking the average\n",
    "method = \"STFT\"\n",
    "events = MNE_repo_epochs.events\n",
    "metadata = MNE_repo_epochs.metadata\n",
    "\n",
    "event_id = {\"Reproduction/600\":151, \"Reproduction/650\":152, \"Reproduction/700\":153,\n",
    "            \"Reproduction/750\":154, \"Reproduction/800\":155, \"Reproduction/850\":156,\n",
    "            \"Reproduction/900\":157, \"Reproduction/950\":158, \"Reproduction/1000\":159}\n",
    "\n",
    "beta_epochs_repo = mne.time_frequency.EpochsTFR(info = info, data = data, times = times, freqs = freqs, method = method,\n",
    "                                           events = events, event_id = event_id, metadata = metadata)\n",
    "\n",
    "data = beta_only_repo\n",
    "freqs = np.array([int((fs_beta_only[0] + fs_beta_only[1]) / 2)])\n",
    "\n",
    "beta_only_epochs_repo = mne.time_frequency.EpochsTFR(info = info, data = data, times = times, freqs = freqs, method = method,\n",
    "                                           events = events, event_id = event_id, metadata = metadata)\n",
    "\n",
    "data = mu_only_repo\n",
    "freqs = np.array([int((fs_mu_only[0] + fs_mu_only[1]) / 2)])\n",
    "\n",
    "mu_only_epochs_repo = mne.time_frequency.EpochsTFR(info = info, data = data, times = times, freqs = freqs, method = method,\n",
    "                                           events = events, event_id = event_id, metadata = metadata)"
   ]
  },
  {
   "cell_type": "markdown",
   "metadata": {
    "id": "MKuWD3t1iTdy"
   },
   "source": [
    "### RL Epochs"
   ]
  },
  {
   "cell_type": "code",
   "execution_count": null,
   "metadata": {
    "id": "31F-tlGQc7pQ"
   },
   "outputs": [],
   "source": [
    "info = info\n",
    "data = beta_RL\n",
    "times = np.array(beta_time_RL) / 1000 # middle time points\n",
    "freqs = np.array([int((fs_beta[0] + fs_beta[1]) / 2)]) # need to label the frequency something so just taking the average\n",
    "method = \"STFT\"\n",
    "events = MNE_RL_epochs.events\n",
    "metadata = MNE_RL_epochs.metadata\n",
    "\n",
    "event_id = {\"Response/600\":201, \"Response/650\":202, \"Response/700\":203,\n",
    "            \"Response/750\":204, \"Response/800\":205, \"Response/850\":206,\n",
    "            \"Response/900\":207, \"Response/950\":208, \"Response/1000\":209}\n",
    "\n",
    "beta_epochs_RL = mne.time_frequency.EpochsTFR(info = info, data = data, times = times, freqs = freqs, method = method,\n",
    "                                           events = events, event_id = event_id, metadata = metadata)\n",
    "\n",
    "data = beta_only_RL\n",
    "freqs = np.array([int((fs_beta_only[0] + fs_beta_only[1]) / 2)])\n",
    "\n",
    "beta_only_epochs_RL = mne.time_frequency.EpochsTFR(info = info, data = data, times = times, freqs = freqs, method = method,\n",
    "                                           events = events, event_id = event_id, metadata = metadata)\n",
    "\n",
    "data = mu_only_RL\n",
    "freqs = np.array([int((fs_mu_only[0] + fs_mu_only[1]) / 2)])\n",
    "\n",
    "mu_only_epochs_RL = mne.time_frequency.EpochsTFR(info = info, data = data, times = times, freqs = freqs, method = method,\n",
    "                                           events = events, event_id = event_id, metadata = metadata)"
   ]
  },
  {
   "cell_type": "markdown",
   "metadata": {
    "id": "aVoC92Ptnn7A"
   },
   "source": [
    "### Offset Epochs"
   ]
  },
  {
   "cell_type": "code",
   "execution_count": null,
   "metadata": {
    "colab": {
     "base_uri": "https://localhost:8080/"
    },
    "id": "h5HbpZZMnp1j",
    "outputId": "1cc2b79e-14d9-474e-e40d-b70f33cd408e"
   },
   "outputs": [],
   "source": [
    "info = info\n",
    "data = beta_offset\n",
    "times = np.array(beta_time_offset) / 1000 # middle time points\n",
    "freqs = np.array([int((fs_beta[0] + fs_beta[1]) / 2)]) # need to label the frequency something so just taking the average\n",
    "method = \"STFT\"\n",
    "events = MNE_offset_epochs.events\n",
    "metadata = MNE_offset_epochs.metadata\n",
    "\n",
    "event_id = {\"Offset/600\":101, \"Offset/650\":102, \"Offset/700\":103,\n",
    "            \"Offset/750\":104, \"Offset/800\":105, \"Offset/850\":106,\n",
    "            \"Offset/900\":107, \"Offset/950\":108, \"Offset/1000\":109}\n",
    "\n",
    "beta_epochs_offset = mne.time_frequency.EpochsTFR(info = info, data = data, times = times, freqs = freqs, method = method,\n",
    "                                           events = events, event_id = event_id, metadata = metadata)"
   ]
  },
  {
   "cell_type": "markdown",
   "metadata": {
    "id": "XG0c7ANLj7_H"
   },
   "source": [
    "## Save Epochs"
   ]
  },
  {
   "cell_type": "code",
   "execution_count": null,
   "metadata": {
    "colab": {
     "base_uri": "https://localhost:8080/"
    },
    "id": "PCYmDxL1k3lw",
    "outputId": "b2657636-8555-4fd2-8ea4-3a74fe1a7ed2"
   },
   "outputs": [],
   "source": [
    "pip install h5io --upgrade"
   ]
  },
  {
   "cell_type": "code",
   "execution_count": null,
   "metadata": {
    "id": "orrtmgqCiq26"
   },
   "outputs": [],
   "source": [
    "fname = \"/content/drive/MyDrive/Time_Reproduction/Beta_Epochs/\" + ID + \"_encode_beta_epochs-tfr.h5\"\n",
    "beta_epochs.save(fname, overwrite = True)\n",
    "\n",
    "fname = \"/content/drive/MyDrive/Time_Reproduction/Beta_Epochs/\" + ID + \"_repo_beta_epochs-tfr.h5\"\n",
    "beta_epochs_repo.save(fname, overwrite = True)\n",
    "\n",
    "fname = \"/content/drive/MyDrive/Time_Reproduction/Beta_Epochs/\" + ID + \"_RL_beta_epochs-tfr.h5\"\n",
    "beta_epochs_RL.save(fname, overwrite = True)"
   ]
  },
  {
   "cell_type": "code",
   "execution_count": null,
   "metadata": {
    "id": "tuaoIgsgHsiY"
   },
   "outputs": [],
   "source": [
    "fname = \"/content/drive/MyDrive/Time_Reproduction/Beta_Epochs/\" + ID + \"_encode_beta_only_epochs-tfr.h5\"\n",
    "beta_only_epochs.save(fname, overwrite = True)\n",
    "\n",
    "fname = \"/content/drive/MyDrive/Time_Reproduction/Beta_Epochs/\" + ID + \"_repo_beta_only_epochs-tfr.h5\"\n",
    "beta_only_epochs_repo.save(fname, overwrite = True)\n",
    "\n",
    "fname = \"/content/drive/MyDrive/Time_Reproduction/Beta_Epochs/\" + ID + \"_RL_beta_only_epochs-tfr.h5\"\n",
    "beta_only_epochs_RL.save(fname, overwrite = True)"
   ]
  },
  {
   "cell_type": "code",
   "execution_count": null,
   "metadata": {
    "id": "cTDZnGDPMSkz"
   },
   "outputs": [],
   "source": [
    "fname = \"/content/drive/MyDrive/Time_Reproduction/Beta_Epochs/\" + ID + \"_encode_mu_only_epochs-tfr.h5\"\n",
    "mu_only_epochs.save(fname, overwrite = True)\n",
    "\n",
    "fname = \"/content/drive/MyDrive/Time_Reproduction/Beta_Epochs/\" + ID + \"_repo_mu_only_epochs-tfr.h5\"\n",
    "mu_only_epochs_repo.save(fname, overwrite = True)\n",
    "\n",
    "fname = \"/content/drive/MyDrive/Time_Reproduction/Beta_Epochs/\" + ID + \"_RL_mu_only_epochs-tfr.h5\"\n",
    "mu_only_epochs_RL.save(fname, overwrite = True)"
   ]
  },
  {
   "cell_type": "code",
   "execution_count": null,
   "metadata": {
    "id": "U7bgZyAMjU6x"
   },
   "outputs": [],
   "source": [
    "fname = \"/content/drive/MyDrive/Time_Reproduction/Beta_Epochs/\" + ID + \"_Offset_beta_epochs-tfr.h5\"\n",
    "beta_epochs_offset.save(fname, overwrite = True)"
   ]
  }
 ],
 "metadata": {
  "colab": {
   "provenance": [],
   "toc_visible": true
  },
  "kernelspec": {
   "display_name": "Python 3",
   "language": "python",
   "name": "python3"
  },
  "language_info": {
   "codemirror_mode": {
    "name": "ipython",
    "version": 3
   },
   "file_extension": ".py",
   "mimetype": "text/x-python",
   "name": "python",
   "nbconvert_exporter": "python",
   "pygments_lexer": "ipython3",
   "version": "3.7.6"
  }
 },
 "nbformat": 4,
 "nbformat_minor": 1
}
