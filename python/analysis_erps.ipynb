{
 "cells": [
  {
   "cell_type": "markdown",
   "metadata": {
    "id": "vAYSQjOvFBLM"
   },
   "source": [
    "# Script Set Up"
   ]
  },
  {
   "cell_type": "code",
   "execution_count": null,
   "metadata": {
    "executionInfo": {
     "elapsed": 6,
     "status": "ok",
     "timestamp": 1702309041205,
     "user": {
      "displayName": "Harvey McCone",
      "userId": "11012039386955284988"
     },
     "user_tz": 0
    },
    "id": "bJW-Y2dFE-zI"
   },
   "outputs": [],
   "source": [
    "%matplotlib inline"
   ]
  },
  {
   "cell_type": "code",
   "execution_count": null,
   "metadata": {
    "colab": {
     "base_uri": "https://localhost:8080/"
    },
    "executionInfo": {
     "elapsed": 11921,
     "status": "ok",
     "timestamp": 1702309053122,
     "user": {
      "displayName": "Harvey McCone",
      "userId": "11012039386955284988"
     },
     "user_tz": 0
    },
    "id": "GOjs4ohiFPwL",
    "outputId": "594f095a-37b9-4ef4-a5eb-a4e41b9b7620"
   },
   "outputs": [],
   "source": [
    "!pip install mne"
   ]
  },
  {
   "cell_type": "code",
   "execution_count": null,
   "metadata": {
    "colab": {
     "base_uri": "https://localhost:8080/"
    },
    "executionInfo": {
     "elapsed": 11758,
     "status": "ok",
     "timestamp": 1702309064874,
     "user": {
      "displayName": "Harvey McCone",
      "userId": "11012039386955284988"
     },
     "user_tz": 0
    },
    "id": "Bvo2qG0KOwhG",
    "outputId": "dea46b66-68bf-4f9b-c513-4f389d6d7366"
   },
   "outputs": [],
   "source": [
    "!pip install pingouin\n",
    "import pingouin as pg"
   ]
  },
  {
   "cell_type": "code",
   "execution_count": null,
   "metadata": {
    "colab": {
     "base_uri": "https://localhost:8080/"
    },
    "executionInfo": {
     "elapsed": 11622,
     "status": "ok",
     "timestamp": 1702309076479,
     "user": {
      "displayName": "Harvey McCone",
      "userId": "11012039386955284988"
     },
     "user_tz": 0
    },
    "id": "lGHv6q2z7YmR",
    "outputId": "b4e042f0-c771-4a42-991e-0af230998eba"
   },
   "outputs": [],
   "source": [
    "!pip install dataframe-image\n",
    "import dataframe_image as dfi"
   ]
  },
  {
   "cell_type": "code",
   "execution_count": null,
   "metadata": {
    "executionInfo": {
     "elapsed": 1136,
     "status": "ok",
     "timestamp": 1702309077601,
     "user": {
      "displayName": "Harvey McCone",
      "userId": "11012039386955284988"
     },
     "user_tz": 0
    },
    "id": "G1MKm3O-FbsR"
   },
   "outputs": [],
   "source": [
    "import os\n",
    "import numpy as np\n",
    "from matplotlib import pyplot as plt\n",
    "from scipy import stats\n",
    "import pandas as pd\n",
    "import seaborn as sns\n",
    "import mne"
   ]
  },
  {
   "cell_type": "code",
   "execution_count": null,
   "metadata": {
    "colab": {
     "base_uri": "https://localhost:8080/"
    },
    "executionInfo": {
     "elapsed": 62347,
     "status": "ok",
     "timestamp": 1702309139944,
     "user": {
      "displayName": "Harvey McCone",
      "userId": "11012039386955284988"
     },
     "user_tz": 0
    },
    "id": "94eTuNOJFRLr",
    "outputId": "af93aaf2-eba2-4a05-bd78-32ae1c51dab6"
   },
   "outputs": [],
   "source": [
    "from google.colab import drive\n",
    "drive.mount('/content/gdrive')"
   ]
  },
  {
   "cell_type": "markdown",
   "metadata": {
    "id": "pLeJ0bDXRN3_"
   },
   "source": [
    "# Deciding what response times are outliers that should be removed"
   ]
  },
  {
   "cell_type": "code",
   "execution_count": null,
   "metadata": {
    "executionInfo": {
     "elapsed": 5,
     "status": "ok",
     "timestamp": 1702309139944,
     "user": {
      "displayName": "Harvey McCone",
      "userId": "11012039386955284988"
     },
     "user_tz": 0
    },
    "id": "W6lSTDJTRSJE"
   },
   "outputs": [],
   "source": [
    "lower_RT_cutoff = 150\n",
    "upper_RT_cutoff = 1500 # 1.5x longest SI and is less than 1% of trials"
   ]
  },
  {
   "cell_type": "markdown",
   "metadata": {
    "id": "CgFBdDI3FgER"
   },
   "source": [
    "# Load Epochs\n",
    "Load each participant's epochs"
   ]
  },
  {
   "cell_type": "code",
   "execution_count": null,
   "metadata": {
    "colab": {
     "base_uri": "https://localhost:8080/"
    },
    "executionInfo": {
     "elapsed": 209006,
     "status": "ok",
     "timestamp": 1702309348946,
     "user": {
      "displayName": "Harvey McCone",
      "userId": "11012039386955284988"
     },
     "user_tz": 0
    },
    "id": "cI5TyMBFFjkB",
    "outputId": "d69bf7b3-2892-4e9d-df46-57b10e61bff4"
   },
   "outputs": [],
   "source": [
    "ID_list = ['P1', 'P3', 'P4', 'P7', 'P10', 'P12', 'P15', 'P17', 'P19', 'P21', 'P22', 'P23', 'P24',\n",
    "           'P26', 'P27', 'P28', 'P29', 'P30']\n",
    "\n",
    "n_participants = len(ID_list)\n",
    "n_channels_evoked = 128\n",
    "n_channels_epochs = 145\n",
    "n_times_encode = 717\n",
    "n_times_repo = 616\n",
    "n_times_RL = 615\n",
    "\n",
    "sample_rate = 512\n",
    "\n",
    "encode_epochs = []\n",
    "encode_metadata = []\n",
    "repo_epochs = []\n",
    "repo_metadata = []\n",
    "RL_epochs = []\n",
    "RL_metadata = []\n",
    "\n",
    "all_encode_evokeds = np.zeros([len(ID_list), n_channels_evoked, n_times_encode])\n",
    "all_repo_evokeds = np.zeros([len(ID_list), n_channels_evoked, n_times_repo])\n",
    "all_RL_evokeds = np.zeros([len(ID_list), n_channels_evoked, n_times_RL])\n",
    "\n",
    "i = -1\n",
    "\n",
    "for ID in ID_list:\n",
    "  i += 1\n",
    "  encode_fname = \"/content/gdrive/MyDrive/Time_Reproduction/Epochs_CSD/Encode/\" + ID + \"_Encode_All_CSD_epo.fif\"\n",
    "  repo_fname = \"/content/gdrive/MyDrive/Time_Reproduction/Epochs_CSD/Reproduction/\" + ID + \"_Reproduction_All_CSD_epo.fif\"\n",
    "  RL_fname = \"/content/gdrive/MyDrive/Time_Reproduction/Epochs_CSD/Response_Locked/\" + ID + \"_RL_All_CSD_epo.fif\"\n",
    "\n",
    "  encode_epochs_participant = mne.read_epochs(encode_fname, preload = False)\n",
    "  repo_epochs_participant = mne.read_epochs(repo_fname, preload = False)\n",
    "  RL_epochs_participant = mne.read_epochs(RL_fname, preload = False)\n",
    "\n",
    "  encode_epochs_participant.load_data()\n",
    "  repo_epochs_participant.load_data()\n",
    "  RL_epochs_participant.load_data()\n",
    "\n",
    "  info = encode_epochs_participant.info\n",
    "\n",
    "  # Adding ID column to metadata 19/12/22\n",
    "  encode_df = encode_epochs_participant.metadata\n",
    "  encode_df[\"ID\"] = ID # adding ID column\n",
    "  temp_cols=encode_df.columns.tolist()\n",
    "  new_cols=temp_cols[-1:] + temp_cols[:-1]\n",
    "  encode_df=encode_df[new_cols]\n",
    "  encode_metadata.append(encode_df)\n",
    "\n",
    "  repo_df = repo_epochs_participant.metadata\n",
    "  repo_df[\"ID\"] = ID # adding ID column\n",
    "  temp_cols=repo_df.columns.tolist()\n",
    "  new_cols=temp_cols[-1:] + temp_cols[:-1]\n",
    "  repo_df=repo_df[new_cols]\n",
    "  repo_metadata.append(repo_df)\n",
    "\n",
    "  RL_df = RL_epochs_participant.metadata\n",
    "  RL_df[\"ID\"] = ID # adding ID column\n",
    "  temp_cols=RL_df.columns.tolist()\n",
    "  new_cols=temp_cols[-1:] + temp_cols[:-1]\n",
    "  RL_df=RL_df[new_cols]\n",
    "  RL_metadata.append(RL_df)\n",
    "\n",
    "  ## Evoked ##\n",
    "  all_encode_evokeds[i] = encode_epochs_participant.average().data\n",
    "  all_repo_evokeds[i] = repo_epochs_participant.average().data\n",
    "  all_RL_evokeds[i] = RL_epochs_participant.average().data"
   ]
  },
  {
   "cell_type": "markdown",
   "metadata": {
    "id": "C_5YQXgQO42t"
   },
   "source": [
    "# Concatenate Metadata\n",
    "Concatenate metadata so that all participants epochs are in one array\n"
   ]
  },
  {
   "cell_type": "code",
   "execution_count": null,
   "metadata": {
    "colab": {
     "base_uri": "https://localhost:8080/",
     "height": 424
    },
    "executionInfo": {
     "elapsed": 31,
     "status": "ok",
     "timestamp": 1702309348949,
     "user": {
      "displayName": "Harvey McCone",
      "userId": "11012039386955284988"
     },
     "user_tz": 0
    },
    "id": "B2g47INYOU8x",
    "outputId": "79439550-373b-4beb-d6b1-848294aa2685"
   },
   "outputs": [],
   "source": [
    "encode_metadata = pd.concat(encode_metadata, ignore_index = True)\n",
    "encode_metadata"
   ]
  },
  {
   "cell_type": "code",
   "execution_count": null,
   "metadata": {
    "colab": {
     "base_uri": "https://localhost:8080/",
     "height": 424
    },
    "executionInfo": {
     "elapsed": 28,
     "status": "ok",
     "timestamp": 1702309348949,
     "user": {
      "displayName": "Harvey McCone",
      "userId": "11012039386955284988"
     },
     "user_tz": 0
    },
    "id": "TczQy6gYYd9k",
    "outputId": "6c0770a8-422f-4f29-9594-4e7e6bbd49dc"
   },
   "outputs": [],
   "source": [
    "repo_metadata = pd.concat(repo_metadata, ignore_index = True)\n",
    "repo_metadata"
   ]
  },
  {
   "cell_type": "code",
   "execution_count": null,
   "metadata": {
    "colab": {
     "base_uri": "https://localhost:8080/",
     "height": 424
    },
    "executionInfo": {
     "elapsed": 28,
     "status": "ok",
     "timestamp": 1702309348950,
     "user": {
      "displayName": "Harvey McCone",
      "userId": "11012039386955284988"
     },
     "user_tz": 0
    },
    "id": "kgkVo7h4Yilz",
    "outputId": "e02f11bd-03d7-4744-c4bc-011cb5339c89"
   },
   "outputs": [],
   "source": [
    "RL_metadata = pd.concat(RL_metadata, ignore_index = True)\n",
    "RL_metadata"
   ]
  },
  {
   "cell_type": "markdown",
   "metadata": {
    "id": "_aB7qtLG87gR"
   },
   "source": [
    "# Defining X-axis and Color Palette for Plots\n",
    "For the waveform plots, there is 1 data point for each time point (i.e each sample), so the x-axis corresponds to the number of time points in an epoch"
   ]
  },
  {
   "cell_type": "code",
   "execution_count": null,
   "metadata": {
    "executionInfo": {
     "elapsed": 26,
     "status": "ok",
     "timestamp": 1702309348950,
     "user": {
      "displayName": "Harvey McCone",
      "userId": "11012039386955284988"
     },
     "user_tz": 0
    },
    "id": "GoCdoFAT87gS"
   },
   "outputs": [],
   "source": [
    "from matplotlib import pyplot as plt"
   ]
  },
  {
   "cell_type": "code",
   "execution_count": null,
   "metadata": {
    "executionInfo": {
     "elapsed": 26,
     "status": "ok",
     "timestamp": 1702309348950,
     "user": {
      "displayName": "Harvey McCone",
      "userId": "11012039386955284988"
     },
     "user_tz": 0
    },
    "id": "uz4exwMO87gT"
   },
   "outputs": [],
   "source": [
    "encode_times_for_plot = (np.arange(0, n_times_encode) / 512 * 1000) - 200\n",
    "repo_times_for_plot = (np.arange(0, n_times_repo) / 512 * 1000) - 300\n",
    "RL_times_for_plot = (np.arange(0, n_times_RL) / 512 * 1000) - 1100"
   ]
  },
  {
   "cell_type": "markdown",
   "metadata": {
    "id": "LwAeZDhT87gU"
   },
   "source": [
    "# Define Time Windows for Calculations\n"
   ]
  },
  {
   "cell_type": "code",
   "execution_count": null,
   "metadata": {
    "executionInfo": {
     "elapsed": 25,
     "status": "ok",
     "timestamp": 1702309348950,
     "user": {
      "displayName": "Harvey McCone",
      "userId": "11012039386955284988"
     },
     "user_tz": 0
    },
    "id": "SABqbjDx87gV"
   },
   "outputs": [],
   "source": [
    "# For checking amplitude at target offset\n",
    "encode_amplitude_window_start = -50\n",
    "encode_amplitude_window_end = +50 # these have to be done within sample interval bin\n",
    "\n",
    "# For checking the amplitude at cue onset\n",
    "repo_amplitude_window_start = -50\n",
    "repo_amplitude_window_start_idx = int(np.argwhere(repo_times_for_plot >= repo_amplitude_window_start)[0])\n",
    "repo_amplitude_window_end = +50\n",
    "repo_amplitude_window_end_idx = int(np.argwhere(repo_times_for_plot >= repo_amplitude_window_end)[0])\n",
    "\n",
    "# For checking build-up rate in anticipation of response\n",
    "RL_slope_window_start = -600\n",
    "RL_slope_window_start_idx = int(np.argwhere(RL_times_for_plot >= RL_slope_window_start)[0])\n",
    "RL_slope_window_end = -300\n",
    "RL_slope_window_end_idx = int(np.argwhere(RL_times_for_plot >= RL_slope_window_end)[0])\n",
    "\n",
    "# For checking amp of pre-response CNV\n",
    "RL_amp_window_start = -100\n",
    "RL_amp_window_start_idx = int(np.argwhere(RL_times_for_plot >= RL_amp_window_start)[0])\n",
    "RL_amp_window_end = -50\n",
    "RL_amp_window_end_idx = int(np.argwhere(RL_times_for_plot >= RL_amp_window_end)[0])\n",
    "\n",
    "# For checking build-up rate of CPP in anticipation of response\n",
    "RL_CPP_window_start = -600\n",
    "RL_CPP_window_start_idx = int(np.argwhere(RL_times_for_plot >= RL_CPP_window_start)[0])\n",
    "RL_CPP_window_end = -300\n",
    "RL_CPP_window_end_idx = int(np.argwhere(RL_times_for_plot >= RL_CPP_window_end)[0])"
   ]
  },
  {
   "cell_type": "markdown",
   "metadata": {
    "id": "Prj0zJHu1pqV"
   },
   "source": [
    "# Plotting Grand Average"
   ]
  },
  {
   "cell_type": "markdown",
   "metadata": {
    "id": "07tEZrys1d7H"
   },
   "source": [
    "## Average Across Participants and Convert into MNE Object"
   ]
  },
  {
   "cell_type": "code",
   "execution_count": null,
   "metadata": {
    "colab": {
     "base_uri": "https://localhost:8080/"
    },
    "executionInfo": {
     "elapsed": 26,
     "status": "ok",
     "timestamp": 1702309348951,
     "user": {
      "displayName": "Harvey McCone",
      "userId": "11012039386955284988"
     },
     "user_tz": 0
    },
    "id": "eqH_7nIL1h7C",
    "outputId": "33f99232-f046-4470-a362-8800203c6977"
   },
   "outputs": [],
   "source": [
    "group_encode_evoked_data = np.mean(all_encode_evokeds, axis = 0)\n",
    "group_repo_evoked_data = np.mean(all_repo_evokeds, axis = 0)\n",
    "group_RL_evoked_data = np.mean(all_RL_evokeds, axis = 0)\n",
    "\n",
    "print(group_encode_evoked_data.shape)\n",
    "print(group_repo_evoked_data.shape)\n",
    "print(group_RL_evoked_data.shape)\n",
    "\n",
    "group_encode_evoked = mne.EvokedArray(group_encode_evoked_data, info = info, tmin = -0.2, nave = len(ID_list))\n",
    "group_repo_evoked = mne.EvokedArray(group_repo_evoked_data, info = info, tmin = -0.1, nave = len(ID_list))\n",
    "group_RL_evoked = mne.EvokedArray(group_RL_evoked_data, info = info, tmin = -1.1, nave = len(ID_list))\n",
    "\n",
    "print(group_encode_evoked)\n",
    "print(group_repo_evoked)\n",
    "print(group_RL_evoked)"
   ]
  },
  {
   "cell_type": "code",
   "execution_count": null,
   "metadata": {
    "executionInfo": {
     "elapsed": 20,
     "status": "ok",
     "timestamp": 1702309348951,
     "user": {
      "displayName": "Harvey McCone",
      "userId": "11012039386955284988"
     },
     "user_tz": 0
    },
    "id": "fEoRKX6peKKl"
   },
   "outputs": [],
   "source": [
    "CPP_electrodes = [\"A4\", \"A19\"]\n",
    "CNV_electrodes = [\"C23\", \"C22\"]"
   ]
  },
  {
   "cell_type": "code",
   "execution_count": null,
   "metadata": {
    "colab": {
     "base_uri": "https://localhost:8080/"
    },
    "executionInfo": {
     "elapsed": 394,
     "status": "ok",
     "timestamp": 1702309349326,
     "user": {
      "displayName": "Harvey McCone",
      "userId": "11012039386955284988"
     },
     "user_tz": 0
    },
    "id": "lGFB_AoTiat2",
    "outputId": "66057dd8-2c49-4a23-c528-8c7565d4579d"
   },
   "outputs": [],
   "source": [
    "CNV_idx = []\n",
    "for ch in CNV_electrodes:\n",
    "  CNV_idx.append(group_encode_evoked.ch_names.index(ch))\n",
    "print(CNV_idx)\n",
    "\n",
    "CPP_idx = []\n",
    "for ch in CPP_electrodes:\n",
    "  CPP_idx.append(group_encode_evoked.ch_names.index(ch))\n",
    "print(CPP_idx)"
   ]
  },
  {
   "cell_type": "markdown",
   "metadata": {
    "id": "xSlgc1Os5K1s"
   },
   "source": [
    "# Calculating Single Trial Measurements"
   ]
  },
  {
   "cell_type": "markdown",
   "metadata": {
    "id": "2eefQ_gGDqi4"
   },
   "source": [
    "## Doing Calculation"
   ]
  },
  {
   "cell_type": "code",
   "execution_count": null,
   "metadata": {
    "colab": {
     "base_uri": "https://localhost:8080/"
    },
    "executionInfo": {
     "elapsed": 87125,
     "status": "ok",
     "timestamp": 1702309436438,
     "user": {
      "displayName": "Harvey McCone",
      "userId": "11012039386955284988"
     },
     "user_tz": 0
    },
    "id": "RsGehmZN7SWe",
    "outputId": "d62700d4-7d96-423f-a1d9-54d4f261d8b9"
   },
   "outputs": [],
   "source": [
    "m_idx_encode = -1\n",
    "m_idx_repo = -1\n",
    "m_idx_RL = -1\n",
    "\n",
    "for i in range(0, len(ID_list)):\n",
    "  ## Loading in epochs and removing outliers\n",
    "  ID = ID_list[i]\n",
    "  encode_fname = \"/content/gdrive/MyDrive/Time_Reproduction/Epochs_CSD/Encode/\" + ID + \"_Encode_All_CSD_epo.fif\"\n",
    "  repo_fname = \"/content/gdrive/MyDrive/Time_Reproduction/Epochs_CSD/Reproduction/\" + ID + \"_Reproduction_All_CSD_epo.fif\"\n",
    "  RL_fname = \"/content/gdrive/MyDrive/Time_Reproduction/Epochs_CSD/Response_Locked/\" + ID + \"_RL_All_CSD_epo.fif\"\n",
    "\n",
    "  encode_epochs_participant = mne.read_epochs(encode_fname, preload = False)\n",
    "  repo_epochs_participant = mne.read_epochs(repo_fname, preload = False)\n",
    "  RL_epochs_participant = mne.read_epochs(RL_fname, preload = False)\n",
    "\n",
    "  encode_epochs_participant.load_data()\n",
    "  repo_epochs_participant.load_data()\n",
    "  RL_epochs_participant.load_data()\n",
    "\n",
    "  info = encode_epochs_participant.info\n",
    "\n",
    "  ## Iterating through each trial for each epoch and doing the calculation ##\n",
    "\n",
    "  ## Encode Epoch\n",
    "  encode_epochs_participant_data = encode_epochs_participant.get_data()\n",
    "  for e in range(0, encode_epochs_participant_data.shape[0]):\n",
    "    m_idx_encode += 1 # index we are using for adding these measures to the metadata\n",
    "    this_trial = encode_epochs_participant_data[e] # get data for this trial\n",
    "    CNV_electrodes_this_trial = np.mean(this_trial[CNV_idx], axis = 0) # average across chosen electrodes\n",
    "    CPP_electrodes_this_trial = np.mean(this_trial[CPP_idx], axis = 0)\n",
    "\n",
    "    SI = 0 ## doing calculation\n",
    "    if encode_metadata.at[m_idx_encode, \"Trigger\"] == 51:\n",
    "      SI = 600\n",
    "    elif encode_metadata.at[m_idx_encode, \"Trigger\"] == 52:\n",
    "      SI = 650\n",
    "    elif encode_metadata.at[m_idx_encode, \"Trigger\"] == 53:\n",
    "      SI = 700\n",
    "    elif encode_metadata.at[m_idx_encode, \"Trigger\"] == 54:\n",
    "      SI = 750\n",
    "    elif encode_metadata.at[m_idx_encode, \"Trigger\"] == 55:\n",
    "      SI = 800\n",
    "    elif encode_metadata.at[m_idx_encode, \"Trigger\"] == 56:\n",
    "      SI = 850\n",
    "    elif encode_metadata.at[m_idx_encode, \"Trigger\"] == 57:\n",
    "      SI = 900\n",
    "    elif encode_metadata.at[m_idx_encode, \"Trigger\"] == 58:\n",
    "      SI = 950\n",
    "    elif encode_metadata.at[m_idx_encode, \"Trigger\"] == 59:\n",
    "      SI = 1000\n",
    "    low_cutoff = SI + (encode_amplitude_window_start)\n",
    "    high_cutoff = SI + (encode_amplitude_window_end)\n",
    "    encode_window_start_idx = int(np.argwhere(encode_times_for_plot >= low_cutoff)[0])\n",
    "    encode_window_end_idx = int(np.argwhere(encode_times_for_plot >= high_cutoff)[0])\n",
    "    encode_metadata.at[m_idx_encode, \"Encode_Offset_CNV_Amp\"] = np.mean(CNV_electrodes_this_trial[encode_window_start_idx:encode_window_end_idx] * 1e6, axis = 0)\n",
    "    encode_metadata.at[m_idx_encode, \"Encode_Offset_CPP_Amp\"] = np.mean(CPP_electrodes_this_trial[encode_window_start_idx:encode_window_end_idx] * 1e6, axis = 0)\n",
    "\n",
    "    x = encode_times_for_plot[encode_window_start_idx:encode_window_end_idx] # get times for each window as the x-axis\n",
    "    result = stats.linregress(x,  CNV_electrodes_this_trial[encode_window_start_idx:encode_window_end_idx] * 1e6)\n",
    "    encode_metadata.at[m_idx_encode, \"Encode_Offset_CNV_Slope\"] = result.slope\n",
    "    x = encode_times_for_plot[encode_window_start_idx:encode_window_end_idx] # get times for each window as the x-axis\n",
    "    result = stats.linregress(x,  CPP_electrodes_this_trial[encode_window_start_idx:encode_window_end_idx] * 1e6)\n",
    "    encode_metadata.at[m_idx_encode, \"Encode_Offset_CPP_Slope\"] = result.slope\n",
    "\n",
    "  ## Repo Epoch\n",
    "  repo_epochs_participant_data = repo_epochs_participant.get_data()\n",
    "  for e in range(0, repo_epochs_participant_data.shape[0]):\n",
    "    m_idx_repo += 1 # index we are using for adding these measures to the metadata\n",
    "    this_trial = repo_epochs_participant_data[e] # get data for this trial\n",
    "    CNV_electrodes_this_trial = np.mean(this_trial[CNV_idx], axis = 0) # average across chosen electrodes\n",
    "    CNV_electrodes_this_trial = CNV_electrodes_this_trial * 1e6\n",
    "    repo_metadata.at[m_idx_repo, \"Repo_Onset_CNV_Amp\"] = np.mean(CNV_electrodes_this_trial[repo_amplitude_window_start_idx:repo_amplitude_window_end_idx], axis = 0)\n",
    "\n",
    "    CPP_electrodes_this_trial = np.mean(this_trial[CPP_idx], axis = 0) # average across chosen electrodes\n",
    "    CPP_electrodes_this_trial = CPP_electrodes_this_trial * 1e6\n",
    "    repo_metadata.at[m_idx_repo, \"Repo_Onset_CPP_Amp\"] = np.mean(CPP_electrodes_this_trial[repo_amplitude_window_start_idx:repo_amplitude_window_end_idx], axis = 0)\n",
    "\n",
    "  ## RL Epoch\n",
    "  RL_epochs_participant_data = RL_epochs_participant.get_data()\n",
    "  for e in range(0, RL_epochs_participant_data.shape[0]):\n",
    "    m_idx_RL += 1 # index we are using for adding these measures to the metadata\n",
    "    this_trial = RL_epochs_participant_data[e] # get data for this trial\n",
    "    CNV_electrodes_this_trial = np.mean(this_trial[CNV_idx], axis = 0) # average across chosen electrodes\n",
    "    CPP_electrodes_this_trial = np.mean(this_trial[CPP_idx], axis = 0)\n",
    "    CNV_electrodes_this_trial = CNV_electrodes_this_trial * 1e6\n",
    "    CPP_electrodes_this_trial = CPP_electrodes_this_trial * 1e6\n",
    "\n",
    "    # Calculate amplitude\n",
    "    CNV_electrodes_this_trial = CNV_electrodes_this_trial[RL_amp_window_start_idx: RL_amp_window_end_idx]\n",
    "    RL_metadata.at[m_idx_RL, \"RL_CNV_Amp\"] = np.mean(CNV_electrodes_this_trial, axis = 0)\n",
    "\n",
    "    CPP_electrodes_this_trial = CPP_electrodes_this_trial[RL_CPP_window_start_idx: RL_CPP_window_end_idx]\n",
    "    RL_metadata.at[m_idx_RL, \"RL_CPP_Amp\"] = np.mean(CPP_electrodes_this_trial, axis = 0)\n",
    "\n",
    "    # Calculate slope\n",
    "    this_trial = RL_epochs_participant_data[e] # get data for this trial\n",
    "    CNV_electrodes_this_trial = np.mean(this_trial[CNV_idx], axis = 0) # average across chosen electrodes\n",
    "    CPP_electrodes_this_trial = np.mean(this_trial[CPP_idx], axis = 0)\n",
    "    CNV_electrodes_this_trial = CNV_electrodes_this_trial * 1e6\n",
    "    CPP_electrodes_this_trial = CPP_electrodes_this_trial * 1e6\n",
    "    CNV_electrodes_this_trial = CNV_electrodes_this_trial[RL_slope_window_start_idx: RL_slope_window_end_idx] # get signal in each window as the y-axis\n",
    "    CPP_electrodes_this_trial = CPP_electrodes_this_trial[RL_CPP_window_start_idx: RL_CPP_window_end_idx]\n",
    "    x = RL_times_for_plot[RL_slope_window_start_idx: RL_slope_window_end_idx] # get times for each window as the x-axis\n",
    "    result = stats.linregress(x,  CNV_electrodes_this_trial)\n",
    "    RL_metadata.at[m_idx_RL, \"RL_CNV_Slope\"] = result.slope\n",
    "    x = RL_times_for_plot[RL_CPP_window_start_idx: RL_CPP_window_end_idx] # get times for each window as the x-axis\n",
    "    result = stats.linregress(x,  CPP_electrodes_this_trial)\n",
    "    RL_metadata.at[m_idx_RL, \"RL_CPP_Slope\"] = result.slope"
   ]
  },
  {
   "cell_type": "code",
   "execution_count": null,
   "metadata": {
    "executionInfo": {
     "elapsed": 25,
     "status": "ok",
     "timestamp": 1702309436439,
     "user": {
      "displayName": "Harvey McCone",
      "userId": "11012039386955284988"
     },
     "user_tz": 0
    },
    "id": "s_F7F7e3qJ9N"
   },
   "outputs": [],
   "source": [
    "encode_metadata_copy = encode_metadata.copy()\n",
    "repo_metadata_copy = repo_metadata.copy()\n",
    "RL_metadata_copy = RL_metadata.copy()"
   ]
  },
  {
   "cell_type": "markdown",
   "metadata": {
    "id": "uFZ9_UDkamkn"
   },
   "source": [
    "## Removing Outlier RTs\n",
    "Removing RTs < 150ms abd RTs > 1500ms"
   ]
  },
  {
   "cell_type": "code",
   "execution_count": null,
   "metadata": {
    "colab": {
     "base_uri": "https://localhost:8080/"
    },
    "executionInfo": {
     "elapsed": 23,
     "status": "ok",
     "timestamp": 1702309436439,
     "user": {
      "displayName": "Harvey McCone",
      "userId": "11012039386955284988"
     },
     "user_tz": 0
    },
    "id": "tACrgj30ar7c",
    "outputId": "4134e62c-edeb-40b7-95f0-52d988ca4096"
   },
   "outputs": [],
   "source": [
    "print(encode_metadata.shape[0])\n",
    "encode_metadata_outliers = encode_metadata.query(\"Response_Time < 150\").index\n",
    "print(encode_metadata_outliers)\n",
    "encode_metadata_outliers = list(encode_metadata_outliers)\n",
    "print(encode_metadata_outliers)\n",
    "print(len(encode_metadata_outliers))\n",
    "encode_metadata_outliers += list(encode_metadata.query(\"Response_Time > 1500\").index)\n",
    "encode_metadata = encode_metadata.drop(encode_metadata_outliers)\n",
    "print(encode_metadata.shape[0])\n",
    "\n",
    "print(repo_metadata.shape[0])\n",
    "repo_metadata_outliers = repo_metadata.query(\"Response_Time < 150\").index\n",
    "print(repo_metadata_outliers)\n",
    "repo_metadata_outliers = list(repo_metadata_outliers)\n",
    "print(repo_metadata_outliers)\n",
    "print(len(repo_metadata_outliers))\n",
    "repo_metadata_outliers += list(repo_metadata.query(\"Response_Time > 1500\").index)\n",
    "repo_metadata = repo_metadata.drop(repo_metadata_outliers)\n",
    "print(repo_metadata.shape[0])\n",
    "\n",
    "print(RL_metadata.shape[0])\n",
    "RL_metadata_outliers = RL_metadata.query(\"Response_Time < 150\").index\n",
    "print(RL_metadata_outliers)\n",
    "RL_metadata_outliers = list(RL_metadata_outliers)\n",
    "print(RL_metadata_outliers)\n",
    "print(len(RL_metadata_outliers))\n",
    "RL_metadata_outliers += list(RL_metadata.query(\"Response_Time > 1500\").index)\n",
    "RL_metadata = RL_metadata.drop(RL_metadata_outliers)\n",
    "print(RL_metadata.shape[0])"
   ]
  },
  {
   "cell_type": "markdown",
   "metadata": {
    "id": "6tJfXRLP7XvL"
   },
   "source": [
    "## Re-Label Trigger Variable as SI"
   ]
  },
  {
   "cell_type": "code",
   "execution_count": null,
   "metadata": {
    "executionInfo": {
     "elapsed": 17,
     "status": "ok",
     "timestamp": 1702309436439,
     "user": {
      "displayName": "Harvey McCone",
      "userId": "11012039386955284988"
     },
     "user_tz": 0
    },
    "id": "AUj7L5ND7tBy"
   },
   "outputs": [],
   "source": [
    "replace_dict = {51: 600, 52: 650, 53: 700, 54: 750, 55: 800, 56: 850, 57: 900, 58: 950, 59: 1000}\n",
    "encode_metadata[\"Trigger\"].replace(replace_dict, inplace = True)\n",
    "encode_metadata.rename(columns = {\"Trigger\": \"SI\"}, inplace = True)\n",
    "\n",
    "replace_dict = {151: 600, 152: 650, 153: 700, 154: 750, 155: 800, 156: 850, 157: 900, 158: 950, 159: 1000}\n",
    "repo_metadata[\"Trigger\"].replace(replace_dict, inplace = True)\n",
    "repo_metadata.rename(columns = {\"Trigger\": \"SI\"}, inplace = True)\n",
    "\n",
    "replace_dict = {201: 600, 202: 650, 203: 700, 204: 750, 205: 800, 206: 850, 207: 900, 208: 950, 209: 1000}\n",
    "RL_metadata[\"Trigger\"].replace(replace_dict, inplace = True)\n",
    "RL_metadata.rename(columns = {\"Trigger\": \"SI\"}, inplace = True)"
   ]
  },
  {
   "cell_type": "code",
   "execution_count": null,
   "metadata": {
    "executionInfo": {
     "elapsed": 16,
     "status": "ok",
     "timestamp": 1702309436439,
     "user": {
      "displayName": "Harvey McCone",
      "userId": "11012039386955284988"
     },
     "user_tz": 0
    },
    "id": "BbAaVnzvgiI_"
   },
   "outputs": [],
   "source": [
    "SIs = np.unique(RL_metadata[\"SI\"])"
   ]
  },
  {
   "cell_type": "markdown",
   "metadata": {
    "id": "R4rFVGUuwZoZ"
   },
   "source": [
    "# Bin by RT via median split within participant within sample interval"
   ]
  },
  {
   "cell_type": "code",
   "execution_count": null,
   "metadata": {
    "executionInfo": {
     "elapsed": 1155,
     "status": "ok",
     "timestamp": 1702309437578,
     "user": {
      "displayName": "Harvey McCone",
      "userId": "11012039386955284988"
     },
     "user_tz": 0
    },
    "id": "FoNXbR4LwZoZ"
   },
   "outputs": [],
   "source": [
    "RT_cutoffs = np.zeros((len(ID_list), len(SIs)))\n",
    "repo_RT_cutoffs = np.zeros((len(ID_list), len(SIs)))\n",
    "encode_RT_cutoffs = np.zeros((len(ID_list), len(SIs)))\n",
    "\n",
    "for i in range(0, len(ID_list)): # iterate through participants\n",
    "  ID = ID_list[i]\n",
    "  RT_cutoff_1 = np.zeros(len(SIs))\n",
    "  repo_RT_cutoff_1 = np.zeros(len(SIs))\n",
    "  encode_RT_cutoff_1 = np.zeros(len(SIs))\n",
    "\n",
    "  for j in range(0, len(SIs)): # iterate through SIs\n",
    "    si = SIs[j]\n",
    "    #RL_participant_df = RL_metadata.query(\"ID == @ID & SI == @si\").copy()\n",
    "    RL_participant_df = RL_metadata[(RL_metadata[\"ID\"] == ID) & (RL_metadata[\"SI\"] == si)].copy()\n",
    "    RT_cutoffs[i, j] = RL_participant_df[\"Response_Time\"].median()\n",
    "\n",
    "    #repo_participant_df = repo_metadata.query(\"ID == @ID & SI == @si\").copy()\n",
    "    repo_participant_df = repo_metadata[(repo_metadata[\"ID\"] == ID) & (repo_metadata[\"SI\"] == si)].copy()\n",
    "    repo_RT_cutoffs[i, j] = repo_participant_df[\"Response_Time\"].median()\n",
    "\n",
    "    #encode_participant_df = encode_metadata.query(\"ID == @ID & SI == @si\").copy()\n",
    "    encode_participant_df = encode_metadata[(encode_metadata[\"ID\"] == ID) & (encode_metadata[\"SI\"] == si)].copy()\n",
    "    encode_RT_cutoffs[i, j] = encode_participant_df[\"Response_Time\"].median()"
   ]
  },
  {
   "cell_type": "code",
   "execution_count": null,
   "metadata": {
    "executionInfo": {
     "elapsed": 772,
     "status": "ok",
     "timestamp": 1702309438347,
     "user": {
      "displayName": "Harvey McCone",
      "userId": "11012039386955284988"
     },
     "user_tz": 0
    },
    "id": "wIf8fl-owZoZ"
   },
   "outputs": [],
   "source": [
    "for index in RL_metadata.index:\n",
    "  ID_index = ID_list.index(RL_metadata.at[index, \"ID\"])\n",
    "  SI_index = list(SIs).index(RL_metadata.at[index, \"SI\"])\n",
    "\n",
    "  if RL_metadata.at[index, \"Response_Time\"] < RT_cutoffs[ID_index, SI_index]:\n",
    "    RL_metadata.at[index, \"RT_Bin2\"] = 1\n",
    "  elif RL_metadata.at[index, \"Response_Time\"] > RT_cutoffs[ID_index, SI_index]:\n",
    "    RL_metadata.at[index, \"RT_Bin2\"] = 2"
   ]
  },
  {
   "cell_type": "code",
   "execution_count": null,
   "metadata": {
    "executionInfo": {
     "elapsed": 1017,
     "status": "ok",
     "timestamp": 1702309439361,
     "user": {
      "displayName": "Harvey McCone",
      "userId": "11012039386955284988"
     },
     "user_tz": 0
    },
    "id": "RgVZAin9wZoa"
   },
   "outputs": [],
   "source": [
    "for index in repo_metadata.index:\n",
    "  ID_index = ID_list.index(repo_metadata.at[index, \"ID\"])\n",
    "  SI_index = list(SIs).index(repo_metadata.at[index, \"SI\"])\n",
    "\n",
    "  if repo_metadata.at[index, \"Response_Time\"] < RT_cutoffs[ID_index, SI_index]:\n",
    "    repo_metadata.at[index, \"RT_Bin2\"] = 1\n",
    "  elif repo_metadata.at[index, \"Response_Time\"] > RT_cutoffs[ID_index, SI_index]:\n",
    "    repo_metadata.at[index, \"RT_Bin2\"] = 2"
   ]
  },
  {
   "cell_type": "code",
   "execution_count": null,
   "metadata": {
    "executionInfo": {
     "elapsed": 808,
     "status": "ok",
     "timestamp": 1702309440167,
     "user": {
      "displayName": "Harvey McCone",
      "userId": "11012039386955284988"
     },
     "user_tz": 0
    },
    "id": "l4ilbKG-73j4"
   },
   "outputs": [],
   "source": [
    "for index in encode_metadata.index:\n",
    "  ID_index = ID_list.index(encode_metadata.at[index, \"ID\"])\n",
    "  SI_index = list(SIs).index(encode_metadata.at[index, \"SI\"])\n",
    "\n",
    "  if encode_metadata.at[index, \"Response_Time\"] < RT_cutoffs[ID_index, SI_index]:\n",
    "    encode_metadata.at[index, \"RT_Bin2\"] = 1\n",
    "  elif encode_metadata.at[index, \"Response_Time\"] > RT_cutoffs[ID_index, SI_index]:\n",
    "    encode_metadata.at[index, \"RT_Bin2\"] = 2"
   ]
  },
  {
   "cell_type": "code",
   "execution_count": null,
   "metadata": {
    "colab": {
     "base_uri": "https://localhost:8080/",
     "height": 226
    },
    "executionInfo": {
     "elapsed": 5,
     "status": "ok",
     "timestamp": 1702309440167,
     "user": {
      "displayName": "Harvey McCone",
      "userId": "11012039386955284988"
     },
     "user_tz": 0
    },
    "id": "4DKfz31fwZoa",
    "outputId": "5329a4d0-d4e9-46c1-c6e0-3598cdc7b96d"
   },
   "outputs": [],
   "source": [
    "RL_metadata.head()"
   ]
  },
  {
   "cell_type": "markdown",
   "metadata": {
    "id": "-X3WAnvs6KR7"
   },
   "source": [
    "# Z-Score Gap Within Participant\n",
    "Accounts for differences in gap duration across participants"
   ]
  },
  {
   "cell_type": "code",
   "execution_count": null,
   "metadata": {
    "executionInfo": {
     "elapsed": 217,
     "status": "ok",
     "timestamp": 1702309440381,
     "user": {
      "displayName": "Harvey McCone",
      "userId": "11012039386955284988"
     },
     "user_tz": 0
    },
    "id": "DMzSqln76MaL"
   },
   "outputs": [],
   "source": [
    "encode_standardized_RTs = list(np.zeros(len(ID_list)))\n",
    "repo_standardized_RTs = list(np.zeros(len(ID_list)))\n",
    "RL_standardized_RTs = list(np.zeros(len(ID_list)))\n",
    "\n",
    "for i in range(0, len(ID_list)):\n",
    "  ID = ID_list[i]\n",
    "  encode_participant_df = encode_metadata.query(\"ID == @ID\")\n",
    "  encode_standardized_RTs[i] = np.array((encode_participant_df[\"Gap\"] - np.nanmean(encode_participant_df[\"Gap\"])) / np.nanstd(encode_participant_df[\"Gap\"]))\n",
    "\n",
    "  repo_participant_df = repo_metadata.query(\"ID == @ID\")\n",
    "  repo_standardized_RTs[i] = np.array((repo_participant_df[\"Gap\"] - np.nanmean(repo_participant_df[\"Gap\"])) / np.nanstd(repo_participant_df[\"Gap\"]))\n",
    "\n",
    "  RL_participant_df = RL_metadata.query(\"ID == @ID\")\n",
    "  RL_standardized_RTs[i] = np.array((RL_participant_df[\"Gap\"] - np.nanmean(RL_participant_df[\"Gap\"])) / np.nanstd(RL_participant_df[\"Gap\"]))\n",
    "\n",
    "encode_metadata[\"Gap\"] = np.concatenate(encode_standardized_RTs)\n",
    "repo_metadata[\"Gap\"] = np.concatenate(repo_standardized_RTs)\n",
    "RL_metadata[\"Gap\"] = np.concatenate(RL_standardized_RTs)"
   ]
  },
  {
   "cell_type": "markdown",
   "metadata": {
    "id": "mNiZiZ0Uh67f"
   },
   "source": [
    "# Standardize SI Variable"
   ]
  },
  {
   "cell_type": "code",
   "execution_count": null,
   "metadata": {
    "colab": {
     "base_uri": "https://localhost:8080/",
     "height": 226
    },
    "executionInfo": {
     "elapsed": 15,
     "status": "ok",
     "timestamp": 1702309440381,
     "user": {
      "displayName": "Harvey McCone",
      "userId": "11012039386955284988"
     },
     "user_tz": 0
    },
    "id": "7nTvpVsch67f",
    "outputId": "5a244c42-df8d-43be-d29f-e33a5f25187d"
   },
   "outputs": [],
   "source": [
    "encode_metadata.head()"
   ]
  },
  {
   "cell_type": "code",
   "execution_count": null,
   "metadata": {
    "colab": {
     "base_uri": "https://localhost:8080/"
    },
    "executionInfo": {
     "elapsed": 13,
     "status": "ok",
     "timestamp": 1702309440382,
     "user": {
      "displayName": "Harvey McCone",
      "userId": "11012039386955284988"
     },
     "user_tz": 0
    },
    "id": "f1mPlruZh67g",
    "outputId": "a51cd30a-3f7d-4906-f11a-8d69ddb40c64"
   },
   "outputs": [],
   "source": [
    "SIz = (np.array(SIs) - np.mean(SIs)) / np.std(SIs)\n",
    "print(SIz)"
   ]
  },
  {
   "cell_type": "code",
   "execution_count": null,
   "metadata": {
    "executionInfo": {
     "elapsed": 7,
     "status": "ok",
     "timestamp": 1702309440382,
     "user": {
      "displayName": "Harvey McCone",
      "userId": "11012039386955284988"
     },
     "user_tz": 0
    },
    "id": "xfL1fwdwh67g"
   },
   "outputs": [],
   "source": [
    "replace_dict = {600: SIz[0], 650: SIz[1], 700: SIz[2], 750: SIz[3], 800:SIz[4], 850:SIz[5], 900:SIz[6], 950:SIz[7], 1000:SIz[8]}\n",
    "\n",
    "encode_metadata[\"SI\"].replace(replace_dict, inplace = True)\n",
    "repo_metadata[\"SI\"].replace(replace_dict, inplace = True)\n",
    "RL_metadata[\"SI\"].replace(replace_dict, inplace = True)"
   ]
  },
  {
   "cell_type": "code",
   "execution_count": null,
   "metadata": {
    "colab": {
     "base_uri": "https://localhost:8080/",
     "height": 226
    },
    "executionInfo": {
     "elapsed": 7,
     "status": "ok",
     "timestamp": 1702309440382,
     "user": {
      "displayName": "Harvey McCone",
      "userId": "11012039386955284988"
     },
     "user_tz": 0
    },
    "id": "jTqpJBkSh67g",
    "outputId": "a704e7ef-a56f-4388-82f0-86e514891135"
   },
   "outputs": [],
   "source": [
    "encode_metadata.head()"
   ]
  },
  {
   "cell_type": "markdown",
   "metadata": {
    "id": "eJxbLncGe9fN"
   },
   "source": [
    "# Standardize Response_Time Variable"
   ]
  },
  {
   "cell_type": "code",
   "execution_count": null,
   "metadata": {
    "executionInfo": {
     "elapsed": 192,
     "status": "ok",
     "timestamp": 1702309440568,
     "user": {
      "displayName": "Harvey McCone",
      "userId": "11012039386955284988"
     },
     "user_tz": 0
    },
    "id": "QUxSd_rjfEhM"
   },
   "outputs": [],
   "source": [
    "encode_metadata[\"Response_Time\"] = (encode_metadata[\"Response_Time\"] - encode_metadata[\"Response_Time\"].mean()) / encode_metadata[\"Response_Time\"].std()\n",
    "repo_metadata[\"Response_Time\"] = (repo_metadata[\"Response_Time\"] - repo_metadata[\"Response_Time\"].mean()) / repo_metadata[\"Response_Time\"].std()\n",
    "RL_metadata[\"Response_Time\"] = (RL_metadata[\"Response_Time\"] - RL_metadata[\"Response_Time\"].mean()) / RL_metadata[\"Response_Time\"].std()"
   ]
  },
  {
   "cell_type": "markdown",
   "metadata": {
    "id": "xcIj7amsAq1k"
   },
   "source": [
    "# Standardize Output Measures"
   ]
  },
  {
   "cell_type": "code",
   "execution_count": null,
   "metadata": {
    "executionInfo": {
     "elapsed": 4,
     "status": "ok",
     "timestamp": 1702309440569,
     "user": {
      "displayName": "Harvey McCone",
      "userId": "11012039386955284988"
     },
     "user_tz": 0
    },
    "id": "IHHOiTH6AyxU"
   },
   "outputs": [],
   "source": [
    "stan = 0\n",
    "\n",
    "if stan:\n",
    "  encode_metadata[\"Encode_Offset_CNV_Amp\"] = (encode_metadata[\"Encode_Offset_CNV_Amp\"] - encode_metadata[\"Encode_Offset_CNV_Amp\"].mean()) /encode_metadata[\"Encode_Offset_CNV_Amp\"].std()\n",
    "  encode_metadata[\"Encode_Offset_CPP_Amp\"] = (encode_metadata[\"Encode_Offset_CPP_Amp\"] - encode_metadata[\"Encode_Offset_CPP_Amp\"].mean()) /encode_metadata[\"Encode_Offset_CPP_Amp\"].std()\n",
    "  encode_metadata[\"Encode_Offset_CNV_Slope\"] = (encode_metadata[\"Encode_Offset_CNV_Slope\"] - encode_metadata[\"Encode_Offset_CNV_Slope\"].mean()) /encode_metadata[\"Encode_Offset_CNV_Slope\"].std()\n",
    "  encode_metadata[\"Encode_Offset_CPP_Slope\"] = (encode_metadata[\"Encode_Offset_CPP_Slope\"] - encode_metadata[\"Encode_Offset_CPP_Slope\"].mean()) /encode_metadata[\"Encode_Offset_CPP_Slope\"].std()\n",
    "\n",
    "  repo_metadata[\"Repo_Onset_CNV_Amp\"] = (repo_metadata[\"Repo_Onset_CNV_Amp\"] - repo_metadata[\"Repo_Onset_CNV_Amp\"].mean()) / repo_metadata[\"Repo_Onset_CNV_Amp\"].std()\n",
    "  repo_metadata[\"Repo_Onset_CPP_Amp\"] = (repo_metadata[\"Repo_Onset_CPP_Amp\"] - repo_metadata[\"Repo_Onset_CPP_Amp\"].mean()) / repo_metadata[\"Repo_Onset_CPP_Amp\"].std()\n",
    "\n",
    "  RL_metadata[\"RL_CNV_Amp\"] = (RL_metadata[\"RL_CNV_Amp\"] - RL_metadata[\"RL_CNV_Amp\"].mean()) / RL_metadata[\"RL_CNV_Amp\"].std()\n",
    "  RL_metadata[\"RL_CNV_Slope\"] = (RL_metadata[\"RL_CNV_Slope\"] - RL_metadata[\"RL_CNV_Slope\"].mean()) / RL_metadata[\"RL_CNV_Slope\"].std()\n",
    "  RL_metadata[\"RL_CPP_Amp\"] = (RL_metadata[\"RL_CPP_Amp\"] - RL_metadata[\"RL_CPP_Amp\"].mean()) / RL_metadata[\"RL_CPP_Amp\"].std()\n",
    "  RL_metadata[\"RL_CPP_Slope\"] = (RL_metadata[\"RL_CPP_Slope\"] - RL_metadata[\"RL_CPP_Slope\"].mean()) / RL_metadata[\"RL_CPP_Slope\"].std()"
   ]
  },
  {
   "cell_type": "markdown",
   "metadata": {
    "id": "nw7kXaHyAxS8"
   },
   "source": [
    "# Save Files"
   ]
  },
  {
   "cell_type": "code",
   "execution_count": null,
   "metadata": {
    "executionInfo": {
     "elapsed": 2936,
     "status": "ok",
     "timestamp": 1702309443502,
     "user": {
      "displayName": "Harvey McCone",
      "userId": "11012039386955284988"
     },
     "user_tz": 0
    },
    "id": "gWRwti7Eh67h"
   },
   "outputs": [],
   "source": [
    "fname = \"/content/gdrive/MyDrive/Time_Reproduction/JASP_Files_TR/\" + \"Encode.csv\"\n",
    "encode_metadata.to_csv(fname)\n",
    "\n",
    "fname = \"/content/gdrive/MyDrive/Time_Reproduction/JASP_Files_TR/\" + \"Repo.csv\"\n",
    "repo_metadata.to_csv(fname)\n",
    "\n",
    "fname = \"/content/gdrive/MyDrive/Time_Reproduction/JASP_Files_TR/\" + \"RL.csv\"\n",
    "RL_metadata.to_csv(fname)"
   ]
  },
  {
   "cell_type": "markdown",
   "metadata": {
    "id": "hv3x7Az1O1Mb"
   },
   "source": [
    "# For Checking RL analysis, remove trials with RT < 600ms"
   ]
  },
  {
   "cell_type": "code",
   "execution_count": null,
   "metadata": {
    "executionInfo": {
     "elapsed": 7,
     "status": "ok",
     "timestamp": 1702309443502,
     "user": {
      "displayName": "Harvey McCone",
      "userId": "11012039386955284988"
     },
     "user_tz": 0
    },
    "id": "2KJ9nYArO0dt"
   },
   "outputs": [],
   "source": [
    "#print(RL_metadata.shape)\n",
    "#RL_metadata = RL_metadata[RL_metadata[\"Response_Time\"] < 0.6]\n",
    "#print(RL_metadata.shape)"
   ]
  },
  {
   "cell_type": "markdown",
   "metadata": {
    "id": "9bmYRCYHt-l0"
   },
   "source": [
    "# ANOVA"
   ]
  },
  {
   "cell_type": "code",
   "execution_count": null,
   "metadata": {
    "colab": {
     "base_uri": "https://localhost:8080/",
     "height": 614
    },
    "executionInfo": {
     "elapsed": 239,
     "status": "ok",
     "timestamp": 1702309463185,
     "user": {
      "displayName": "Harvey McCone",
      "userId": "11012039386955284988"
     },
     "user_tz": 0
    },
    "id": "zZBSrTcDuJXw",
    "outputId": "c4a59f62-5b9c-49e7-a54d-854b627a66e9"
   },
   "outputs": [],
   "source": [
    "labels = [\"Fast\", \"Slow\"]\n",
    "conds = [1, 2]\n",
    "\n",
    "dv = \"RL_CNV_Slope\"\n",
    "\n",
    "trial_numbers_RL = np.zeros((len(ID_list), len(conds)))\n",
    "\n",
    "ANOVA_array = np.zeros((len(ID_list), len(labels)))\n",
    "\n",
    "mean_RT = np.zeros((len(ID_list), len(conds)))\n",
    "\n",
    "for i in range(0, len(ID_list)):\n",
    "  participant_df = RL_metadata[RL_metadata[\"ID\"] == ID_list[i]]\n",
    "\n",
    "  for j in range(0, len(labels)):\n",
    "    cond = conds[j]\n",
    "    #condition_df = participant_df.query(\"RT_Bin2 == @cond\")\n",
    "    condition_df = participant_df[participant_df[\"RT_Bin2\"] == cond]\n",
    "    ANOVA_array[i, j] = condition_df[dv].mean()\n",
    "    trial_numbers_RL[i, j] = condition_df.shape[0]\n",
    "    mean_RT[i, j] = condition_df[\"Response_Time\"].mean()\n",
    "\n",
    "ANOVA_df = pd.DataFrame(ANOVA_array, columns = labels, index = ID_list)\n",
    "ANOVA_df"
   ]
  },
  {
   "cell_type": "code",
   "execution_count": null,
   "metadata": {
    "executionInfo": {
     "elapsed": 3,
     "status": "ok",
     "timestamp": 1702309463378,
     "user": {
      "displayName": "Harvey McCone",
      "userId": "11012039386955284988"
     },
     "user_tz": 0
    },
    "id": "g6s8z_FEuJXx"
   },
   "outputs": [],
   "source": [
    "if stan:\n",
    "  fname = \"/content/gdrive/MyDrive/Time_Reproduction/JASP_Files_TR/\" + \"RL_CNV_Slope_jasp_Med_ANOVA.csv\"\n",
    "  ANOVA_df.to_csv(fname)"
   ]
  },
  {
   "cell_type": "code",
   "execution_count": null,
   "metadata": {
    "colab": {
     "base_uri": "https://localhost:8080/"
    },
    "executionInfo": {
     "elapsed": 4,
     "status": "ok",
     "timestamp": 1702309463603,
     "user": {
      "displayName": "Harvey McCone",
      "userId": "11012039386955284988"
     },
     "user_tz": 0
    },
    "id": "6ykYjja0uJXx",
    "outputId": "c212abb3-6940-49ab-deba-2c237e06ca18"
   },
   "outputs": [],
   "source": [
    "plt.style.use(\"seaborn-colorblind\")\n",
    "palette = sns.color_palette()\n",
    "colors = [\"Red\", \"Blue\"]"
   ]
  },
  {
   "cell_type": "code",
   "execution_count": null,
   "metadata": {
    "colab": {
     "base_uri": "https://localhost:8080/",
     "height": 478
    },
    "executionInfo": {
     "elapsed": 1953,
     "status": "ok",
     "timestamp": 1702309465553,
     "user": {
      "displayName": "Harvey McCone",
      "userId": "11012039386955284988"
     },
     "user_tz": 0
    },
    "id": "lIR3hPmMuJXx",
    "outputId": "5944161c-5341-4f41-f19f-7af63a57b838"
   },
   "outputs": [],
   "source": [
    "fig, ax = plt.subplots()\n",
    "ax.set_xticks([0.25, 0.75])\n",
    "ax.set_xticklabels([\"Fast\", \"Slow\"])\n",
    "\n",
    "ax.plot(0.25, ANOVA_df[\"Fast\"].mean(), marker = \"o\", markersize = \"20\", color = colors[0])\n",
    "ax.plot(0.75, ANOVA_df[\"Slow\"].mean(), marker = \"o\", markersize = \"20\", color = colors[1])\n",
    "ax.plot(np.array([0.25, 0.75]), ANOVA_df.mean(axis = 0), color = \"k\")\n",
    "\n",
    "for ID in ID_list:\n",
    "  participant_df = ANOVA_df.loc[ID]\n",
    "  ax.plot(0.25, participant_df[\"Fast\"], marker = \"o\", alpha = 0.1, color = colors[0])\n",
    "  ax.plot(0.75, participant_df[\"Slow\"], marker = \"o\", alpha = 0.1, color = colors[1])\n",
    "  ax.plot([0.25, 0.75], np.array(participant_df), alpha = 0.1, color = \"k\")\n",
    "\n",
    "sns.despine()\n",
    "plt.xlim(0.05, 0.95)\n",
    "plt.xlabel(\"RT Bin\", fontsize = \"xx-large\", labelpad = 10)\n",
    "plt.ylabel(\"CNV Slope\" + \" \" + \"$(\\mu V/m^2/s)$\", fontsize = \"xx-large\", weight='bold')\n",
    "ax = plt.gca()\n",
    "ax.tick_params(labelsize = \"xx-large\")\n",
    "\n",
    "fname = \"/content/gdrive/MyDrive/Time_Reproduction/Plots/ERPs/\" + \"RL_CNV_Slope_RT_Bins.png\"\n",
    "plt.savefig(fname, dpi = 300, bbox_inches = \"tight\")"
   ]
  },
  {
   "cell_type": "code",
   "execution_count": null,
   "metadata": {
    "colab": {
     "base_uri": "https://localhost:8080/",
     "height": 614
    },
    "executionInfo": {
     "elapsed": 187,
     "status": "ok",
     "timestamp": 1702309465729,
     "user": {
      "displayName": "Harvey McCone",
      "userId": "11012039386955284988"
     },
     "user_tz": 0
    },
    "id": "P6qQ5y_9uJXx",
    "outputId": "f03d9bf8-2f70-4bcc-806b-9c4a3f2e621f"
   },
   "outputs": [],
   "source": [
    "labels = [\"Fast\", \"Slow\"]\n",
    "conds = [1, 2]\n",
    "\n",
    "dv = \"RL_CNV_Amp\"\n",
    "\n",
    "trial_numbers_RL = np.zeros((len(ID_list), len(conds)))\n",
    "\n",
    "ANOVA_array = np.zeros((len(ID_list), len(labels)))\n",
    "\n",
    "mean_RT = np.zeros((len(ID_list), len(conds)))\n",
    "\n",
    "for i in range(0, len(ID_list)):\n",
    "  participant_df = RL_metadata[RL_metadata[\"ID\"] == ID_list[i]]\n",
    "\n",
    "  for j in range(0, len(labels)):\n",
    "    cond = conds[j]\n",
    "    #condition_df = participant_df.query(\"RT_Bin2 == @cond\")\n",
    "    condition_df = participant_df[participant_df[\"RT_Bin2\"] == cond]\n",
    "    ANOVA_array[i, j] = condition_df[dv].mean()\n",
    "    trial_numbers_RL[i, j] = condition_df.shape[0]\n",
    "    mean_RT[i, j] = condition_df[\"Response_Time\"].mean()\n",
    "\n",
    "ANOVA_df = pd.DataFrame(ANOVA_array, columns = labels, index = ID_list)\n",
    "ANOVA_df"
   ]
  },
  {
   "cell_type": "code",
   "execution_count": null,
   "metadata": {
    "executionInfo": {
     "elapsed": 10,
     "status": "ok",
     "timestamp": 1702309465729,
     "user": {
      "displayName": "Harvey McCone",
      "userId": "11012039386955284988"
     },
     "user_tz": 0
    },
    "id": "pVV2kYxguJXy"
   },
   "outputs": [],
   "source": [
    "if stan:\n",
    "  fname = \"/content/gdrive/MyDrive/Time_Reproduction/JASP_Files_TR/\" + \"RL_CNV_Amp_jasp_Med_ANOVA.csv\"\n",
    "  ANOVA_df.to_csv(fname)"
   ]
  },
  {
   "cell_type": "code",
   "execution_count": null,
   "metadata": {
    "colab": {
     "base_uri": "https://localhost:8080/",
     "height": 471
    },
    "executionInfo": {
     "elapsed": 827,
     "status": "ok",
     "timestamp": 1702309466546,
     "user": {
      "displayName": "Harvey McCone",
      "userId": "11012039386955284988"
     },
     "user_tz": 0
    },
    "id": "SpiivkcIuJXy",
    "outputId": "09250c6f-a0a3-4120-e6ed-b96d43703ddb"
   },
   "outputs": [],
   "source": [
    "fig, ax = plt.subplots()\n",
    "ax.set_xticks([0.25, 0.75])\n",
    "ax.set_xticklabels([\"Fast\", \"Slow\"])\n",
    "\n",
    "ax.plot(0.25, ANOVA_df[\"Fast\"].mean(), marker = \"o\", markersize = \"20\", color = colors[0])\n",
    "ax.plot(0.75, ANOVA_df[\"Slow\"].mean(), marker = \"o\", markersize = \"20\", color = colors[1])\n",
    "ax.plot(np.array([0.25, 0.75]), ANOVA_df.mean(axis = 0), color = \"k\")\n",
    "\n",
    "for ID in ID_list:\n",
    "  participant_df = ANOVA_df.loc[ID]\n",
    "  ax.plot(0.25, participant_df[\"Fast\"], marker = \"o\", alpha = 0.1, color = colors[0])\n",
    "  ax.plot(0.75, participant_df[\"Slow\"], marker = \"o\", alpha = 0.1, color = colors[1])\n",
    "  ax.plot([0.25, 0.75], np.array(participant_df), alpha = 0.1, color = \"k\")\n",
    "\n",
    "sns.despine()\n",
    "plt.xlim(0.05, 0.95)\n",
    "plt.xlabel(\"RT Bin\", fontsize = \"xx-large\", labelpad = 5)\n",
    "plt.ylabel(\"CNV Amplitude\" + \" \" + \"$(\\mu V/m^2)$\", fontsize = \"xx-large\", weight='bold')\n",
    "ax = plt.gca()\n",
    "ax.tick_params(labelsize = \"xx-large\")\n",
    "\n",
    "fname = \"/content/gdrive/MyDrive/Time_Reproduction/Plots/ERPs/\" + \"RL_CNV_Amp_RT_Bins.png\"\n",
    "plt.savefig(fname, dpi = 300, bbox_inches = \"tight\")"
   ]
  },
  {
   "cell_type": "code",
   "execution_count": null,
   "metadata": {
    "colab": {
     "base_uri": "https://localhost:8080/",
     "height": 614
    },
    "executionInfo": {
     "elapsed": 10,
     "status": "ok",
     "timestamp": 1702309466546,
     "user": {
      "displayName": "Harvey McCone",
      "userId": "11012039386955284988"
     },
     "user_tz": 0
    },
    "id": "h8F2Uw7VuJXy",
    "outputId": "13ebdffe-878f-4d55-a19c-fffb47d2fd92"
   },
   "outputs": [],
   "source": [
    "labels = [\"Fast\", \"Slow\"]\n",
    "conds = [1, 2]\n",
    "\n",
    "dv = \"RL_CPP_Slope\"\n",
    "\n",
    "trial_numbers_RL = np.zeros((len(ID_list), len(conds)))\n",
    "\n",
    "ANOVA_array = np.zeros((len(ID_list), len(labels)))\n",
    "\n",
    "mean_RT = np.zeros((len(ID_list), len(conds)))\n",
    "\n",
    "for i in range(0, len(ID_list)):\n",
    "  participant_df = RL_metadata[RL_metadata[\"ID\"] == ID_list[i]]\n",
    "\n",
    "  for j in range(0, len(labels)):\n",
    "    cond = conds[j]\n",
    "    #condition_df = participant_df.query(\"RT_Bin2 == @cond\")\n",
    "    condition_df = participant_df[participant_df[\"RT_Bin2\"] == cond]\n",
    "    ANOVA_array[i, j] = condition_df[dv].mean()\n",
    "    trial_numbers_RL[i, j] = condition_df.shape[0]\n",
    "    mean_RT[i, j] = condition_df[\"Response_Time\"].mean()\n",
    "\n",
    "ANOVA_df = pd.DataFrame(ANOVA_array, columns = labels, index = ID_list)\n",
    "ANOVA_df"
   ]
  },
  {
   "cell_type": "code",
   "execution_count": null,
   "metadata": {
    "executionInfo": {
     "elapsed": 8,
     "status": "ok",
     "timestamp": 1702309466546,
     "user": {
      "displayName": "Harvey McCone",
      "userId": "11012039386955284988"
     },
     "user_tz": 0
    },
    "id": "tdQn7aU6uJXy"
   },
   "outputs": [],
   "source": [
    "if stan:\n",
    "  fname = \"/content/gdrive/MyDrive/Time_Reproduction/JASP_Files_TR/\" + \"RL_CPP_Slope_jasp_Med_ANOVA.csv\"\n",
    "  ANOVA_df.to_csv(fname)"
   ]
  },
  {
   "cell_type": "code",
   "execution_count": null,
   "metadata": {
    "colab": {
     "base_uri": "https://localhost:8080/",
     "height": 472
    },
    "executionInfo": {
     "elapsed": 1124,
     "status": "ok",
     "timestamp": 1702309467662,
     "user": {
      "displayName": "Harvey McCone",
      "userId": "11012039386955284988"
     },
     "user_tz": 0
    },
    "id": "WbtndLdouJXy",
    "outputId": "b1ab729d-259b-44a5-8d8f-7c53030c7969"
   },
   "outputs": [],
   "source": [
    "fig, ax = plt.subplots()\n",
    "ax.set_xticks([0.25, 0.75])\n",
    "ax.set_xticklabels([\"Fast\", \"Slow\"])\n",
    "\n",
    "ax.plot(0.25, ANOVA_df[\"Fast\"].mean(), marker = \"o\", markersize = \"20\", color = colors[0])\n",
    "ax.plot(0.75, ANOVA_df[\"Slow\"].mean(), marker = \"o\", markersize = \"20\", color = colors[1])\n",
    "ax.plot(np.array([0.25, 0.75]), ANOVA_df.mean(axis = 0), color = \"k\")\n",
    "\n",
    "for ID in ID_list:\n",
    "  participant_df = ANOVA_df.loc[ID]\n",
    "  ax.plot(0.25, participant_df[\"Fast\"], marker = \"o\", alpha = 0.1, color = colors[0])\n",
    "  ax.plot(0.75, participant_df[\"Slow\"], marker = \"o\", alpha = 0.1, color = colors[1])\n",
    "  ax.plot([0.25, 0.75], np.array(participant_df), alpha = 0.1, color = \"k\")\n",
    "\n",
    "sns.despine()\n",
    "plt.xlim(0.05, 0.95)\n",
    "plt.xlabel(\"RT Bin\", fontsize = \"xx-large\", labelpad = 5)\n",
    "plt.ylabel(\"CPP Slope\" + \" \" + \"$(\\mu V/m^2/s)$\", fontsize = \"xx-large\", weight='bold')\n",
    "ax = plt.gca()\n",
    "ax.tick_params(labelsize = \"xx-large\")\n",
    "\n",
    "fname = \"/content/gdrive/MyDrive/Time_Reproduction/Plots/ERPs/\" + \"RL_CPP_Slope_RT_Bins.png\"\n",
    "plt.savefig(fname, dpi = 300, bbox_inches = \"tight\")"
   ]
  },
  {
   "cell_type": "code",
   "execution_count": null,
   "metadata": {
    "colab": {
     "base_uri": "https://localhost:8080/",
     "height": 614
    },
    "executionInfo": {
     "elapsed": 10,
     "status": "ok",
     "timestamp": 1702309467662,
     "user": {
      "displayName": "Harvey McCone",
      "userId": "11012039386955284988"
     },
     "user_tz": 0
    },
    "id": "mCKQhZDMuJXz",
    "outputId": "058c8f68-2b0e-46d1-9c02-2396c7bc8e59"
   },
   "outputs": [],
   "source": [
    "labels = [\"Fast\", \"Slow\"]\n",
    "conds = [1, 2]\n",
    "\n",
    "dv = \"RL_CPP_Amp\"\n",
    "\n",
    "trial_numbers_RL = np.zeros((len(ID_list), len(conds)))\n",
    "\n",
    "ANOVA_array = np.zeros((len(ID_list), len(labels)))\n",
    "\n",
    "mean_RT = np.zeros((len(ID_list), len(conds)))\n",
    "\n",
    "for i in range(0, len(ID_list)):\n",
    "  participant_df = RL_metadata[RL_metadata[\"ID\"] == ID_list[i]]\n",
    "\n",
    "  for j in range(0, len(labels)):\n",
    "    cond = conds[j]\n",
    "    #condition_df = participant_df.query(\"RT_Bin2 == @cond\")\n",
    "    condition_df = participant_df[participant_df[\"RT_Bin2\"] == cond]\n",
    "    ANOVA_array[i, j] = condition_df[dv].mean()\n",
    "    trial_numbers_RL[i, j] = condition_df.shape[0]\n",
    "    mean_RT[i, j] = condition_df[\"Response_Time\"].mean()\n",
    "\n",
    "ANOVA_df = pd.DataFrame(ANOVA_array, columns = labels, index = ID_list)\n",
    "ANOVA_df"
   ]
  },
  {
   "cell_type": "code",
   "execution_count": null,
   "metadata": {
    "executionInfo": {
     "elapsed": 9,
     "status": "ok",
     "timestamp": 1702309467662,
     "user": {
      "displayName": "Harvey McCone",
      "userId": "11012039386955284988"
     },
     "user_tz": 0
    },
    "id": "DThO9tR5uJXz"
   },
   "outputs": [],
   "source": [
    "if stan:\n",
    "  fname = \"/content/gdrive/MyDrive/Time_Reproduction/JASP_Files_TR/\" + \"RL_CPP_Amp_jasp_Med_ANOVA.csv\"\n",
    "  ANOVA_df.to_csv(fname)"
   ]
  },
  {
   "cell_type": "code",
   "execution_count": null,
   "metadata": {
    "colab": {
     "base_uri": "https://localhost:8080/",
     "height": 471
    },
    "executionInfo": {
     "elapsed": 1108,
     "status": "ok",
     "timestamp": 1702309468762,
     "user": {
      "displayName": "Harvey McCone",
      "userId": "11012039386955284988"
     },
     "user_tz": 0
    },
    "id": "oTKsgvNUuJXz",
    "outputId": "90543269-aa32-40c1-e51e-a8459dc83cdc"
   },
   "outputs": [],
   "source": [
    "fig, ax = plt.subplots()\n",
    "ax.set_xticks([0.25, 0.75])\n",
    "ax.set_xticklabels([\"Fast\", \"Slow\"])\n",
    "\n",
    "ax.plot(0.25, ANOVA_df[\"Fast\"].mean(), marker = \"o\", markersize = \"20\", color = colors[0])\n",
    "ax.plot(0.75, ANOVA_df[\"Slow\"].mean(), marker = \"o\", markersize = \"20\", color = colors[1])\n",
    "ax.plot(np.array([0.25, 0.75]), ANOVA_df.mean(axis = 0), color = \"k\")\n",
    "\n",
    "for ID in ID_list:\n",
    "  participant_df = ANOVA_df.loc[ID]\n",
    "  ax.plot(0.25, participant_df[\"Fast\"], marker = \"o\", alpha = 0.1, color = colors[0])\n",
    "  ax.plot(0.75, participant_df[\"Slow\"], marker = \"o\", alpha = 0.1, color = colors[1])\n",
    "  ax.plot([0.25, 0.75], np.array(participant_df), alpha = 0.1, color = \"k\")\n",
    "\n",
    "sns.despine()\n",
    "plt.xlim(0.05, 0.95)\n",
    "plt.xlabel(\"RT Bin\", fontsize = \"xx-large\", labelpad = 5)\n",
    "plt.xlabel(\"RT Bin\", fontsize = \"xx-large\", labelpad = 5)\n",
    "plt.ylabel(\"CPP Amplitude\" + \" \" + \"$(\\mu V/m^2)$\", fontsize = \"xx-large\", weight='bold')\n",
    "ax = plt.gca()\n",
    "ax.tick_params(labelsize = \"xx-large\")\n",
    "\n",
    "fname = \"/content/gdrive/MyDrive/Time_Reproduction/Plots/ERPs/\" + \"RL_CPP_Amp_RT_Bins.png\"\n",
    "plt.savefig(fname, dpi = 300, bbox_inches = \"tight\")"
   ]
  },
  {
   "cell_type": "code",
   "execution_count": null,
   "metadata": {
    "colab": {
     "base_uri": "https://localhost:8080/",
     "height": 206
    },
    "executionInfo": {
     "elapsed": 13,
     "status": "ok",
     "timestamp": 1702309468762,
     "user": {
      "displayName": "Harvey McCone",
      "userId": "11012039386955284988"
     },
     "user_tz": 0
    },
    "id": "GPPOz64huJX0",
    "outputId": "ebacf712-1429-4528-883f-4a9ec2db7aab"
   },
   "outputs": [],
   "source": [
    "repo_metadata.head()"
   ]
  },
  {
   "cell_type": "code",
   "execution_count": null,
   "metadata": {
    "colab": {
     "base_uri": "https://localhost:8080/",
     "height": 614
    },
    "executionInfo": {
     "elapsed": 11,
     "status": "ok",
     "timestamp": 1702309468762,
     "user": {
      "displayName": "Harvey McCone",
      "userId": "11012039386955284988"
     },
     "user_tz": 0
    },
    "id": "hBp3av4puJX0",
    "outputId": "0dbc65f8-3b1b-4780-a08c-30a8c46e609e"
   },
   "outputs": [],
   "source": [
    "labels = [\"Fast\", \"Slow\"]\n",
    "conds = [1, 2]\n",
    "\n",
    "dv = \"Repo_Onset_CNV_Amp\"\n",
    "\n",
    "trial_numbers_RL = np.zeros((len(ID_list), len(conds)))\n",
    "\n",
    "ANOVA_array = np.zeros((len(ID_list), len(labels)))\n",
    "\n",
    "mean_RT = np.zeros((len(ID_list), len(conds)))\n",
    "\n",
    "for i in range(0, len(ID_list)):\n",
    "  participant_df = repo_metadata[repo_metadata[\"ID\"] == ID_list[i]]\n",
    "\n",
    "  for j in range(0, len(labels)):\n",
    "    cond = conds[j]\n",
    "    #condition_df = participant_df.query(\"RT_Bin2 == @cond\")\n",
    "    condition_df = participant_df[participant_df[\"RT_Bin2\"] == cond]\n",
    "    ANOVA_array[i, j] = condition_df[dv].mean()\n",
    "    mean_RT[i, j] = condition_df[\"Response_Time\"].mean()\n",
    "\n",
    "ANOVA_df = pd.DataFrame(ANOVA_array, columns = labels, index = ID_list)\n",
    "ANOVA_df"
   ]
  },
  {
   "cell_type": "code",
   "execution_count": null,
   "metadata": {
    "executionInfo": {
     "elapsed": 10,
     "status": "ok",
     "timestamp": 1702309468762,
     "user": {
      "displayName": "Harvey McCone",
      "userId": "11012039386955284988"
     },
     "user_tz": 0
    },
    "id": "dMqoLzeKuJX0"
   },
   "outputs": [],
   "source": [
    "if stan:\n",
    "  fname = \"/content/gdrive/MyDrive/Time_Reproduction/JASP_Files_TR/\" + \"Repo_Onset_CNV_Amp_jasp_Med_ANOVA.csv\"\n",
    "  ANOVA_df.to_csv(fname)"
   ]
  },
  {
   "cell_type": "code",
   "execution_count": null,
   "metadata": {
    "colab": {
     "base_uri": "https://localhost:8080/",
     "height": 478
    },
    "executionInfo": {
     "elapsed": 1224,
     "status": "ok",
     "timestamp": 1702309469975,
     "user": {
      "displayName": "Harvey McCone",
      "userId": "11012039386955284988"
     },
     "user_tz": 0
    },
    "id": "77phVqceuJX0",
    "outputId": "76ec6819-1dce-4b63-d24d-0719a43f0dd9"
   },
   "outputs": [],
   "source": [
    "fig, ax = plt.subplots()\n",
    "ax.set_xticks([0.25, 0.75])\n",
    "ax.set_xticklabels([\"Fast\", \"Slow\"])\n",
    "\n",
    "ax.plot(0.25, ANOVA_df[\"Fast\"].mean(), marker = \"o\", markersize = \"20\", color = colors[0])\n",
    "ax.plot(0.75, ANOVA_df[\"Slow\"].mean(), marker = \"o\", markersize = \"20\", color = colors[1])\n",
    "ax.plot(np.array([0.25, 0.75]), ANOVA_df.mean(axis = 0), color = \"k\")\n",
    "\n",
    "for ID in ID_list:\n",
    "  participant_df = ANOVA_df.loc[ID]\n",
    "  ax.plot(0.25, participant_df[\"Fast\"], marker = \"o\", alpha = 0.1, color = colors[0])\n",
    "  ax.plot(0.75, participant_df[\"Slow\"], marker = \"o\", alpha = 0.1, color = colors[1])\n",
    "  ax.plot([0.25, 0.75], np.array(participant_df), alpha = 0.1, color = \"k\")\n",
    "\n",
    "sns.despine()\n",
    "plt.xlim(0.05, 0.95)\n",
    "plt.xlabel(\"RT Bin\", fontsize = \"xx-large\", labelpad = 5)\n",
    "plt.xlabel(\"RT Bin\", fontsize = \"xx-large\", labelpad = 10)\n",
    "plt.ylabel(\"CNV Amplitude\" + \" \" + \"$(\\mu V/m^2)$\", fontsize = \"xx-large\", weight='bold')\n",
    "ax = plt.gca()\n",
    "ax.tick_params(labelsize = \"xx-large\")\n",
    "\n",
    "fname = \"/content/gdrive/MyDrive/Time_Reproduction/Plots/ERPs/\" + \"Cue_Onset_CNV_RT_Bins.png\"\n",
    "plt.savefig(fname, dpi = 300, bbox_inches = \"tight\")"
   ]
  },
  {
   "cell_type": "code",
   "execution_count": null,
   "metadata": {
    "colab": {
     "base_uri": "https://localhost:8080/",
     "height": 614
    },
    "executionInfo": {
     "elapsed": 12,
     "status": "ok",
     "timestamp": 1702309470179,
     "user": {
      "displayName": "Harvey McCone",
      "userId": "11012039386955284988"
     },
     "user_tz": 0
    },
    "id": "YQZxqRayuJX1",
    "outputId": "a4be8ab6-c624-4258-a7f0-5f646fe7ee8e"
   },
   "outputs": [],
   "source": [
    "labels = [\"Fast\", \"Slow\"]\n",
    "conds = [1, 2]\n",
    "\n",
    "dv = \"Repo_Onset_CPP_Amp\"\n",
    "\n",
    "trial_numbers_RL = np.zeros((len(ID_list), len(conds)))\n",
    "\n",
    "ANOVA_array = np.zeros((len(ID_list), len(labels)))\n",
    "\n",
    "mean_RT = np.zeros((len(ID_list), len(conds)))\n",
    "\n",
    "for i in range(0, len(ID_list)):\n",
    "  participant_df = repo_metadata[repo_metadata[\"ID\"] == ID_list[i]]\n",
    "\n",
    "  for j in range(0, len(labels)):\n",
    "    cond = conds[j]\n",
    "    #condition_df = participant_df.query(\"RT_Bin2 == @cond\")\n",
    "    condition_df = participant_df[participant_df[\"RT_Bin2\"] == cond]\n",
    "    ANOVA_array[i, j] = condition_df[dv].mean()\n",
    "    mean_RT[i, j] = condition_df[\"Response_Time\"].mean()\n",
    "\n",
    "ANOVA_df = pd.DataFrame(ANOVA_array, columns = labels, index = ID_list)\n",
    "ANOVA_df"
   ]
  },
  {
   "cell_type": "code",
   "execution_count": null,
   "metadata": {
    "executionInfo": {
     "elapsed": 11,
     "status": "ok",
     "timestamp": 1702309470179,
     "user": {
      "displayName": "Harvey McCone",
      "userId": "11012039386955284988"
     },
     "user_tz": 0
    },
    "id": "rX0tRhf5uJX1"
   },
   "outputs": [],
   "source": [
    "if stan:\n",
    "  fname = \"/content/gdrive/MyDrive/Time_Reproduction/JASP_Files_TR/\" + \"Repo_Onset_CPP_Amp_jasp_Med_ANOVA.csv\"\n",
    "  ANOVA_df.to_csv(fname)"
   ]
  },
  {
   "cell_type": "code",
   "execution_count": null,
   "metadata": {
    "colab": {
     "base_uri": "https://localhost:8080/",
     "height": 478
    },
    "executionInfo": {
     "elapsed": 972,
     "status": "ok",
     "timestamp": 1702309471140,
     "user": {
      "displayName": "Harvey McCone",
      "userId": "11012039386955284988"
     },
     "user_tz": 0
    },
    "id": "tyssx9v6uJX2",
    "outputId": "87d9f759-82ba-4069-954b-4c6eaca4c58e"
   },
   "outputs": [],
   "source": [
    "fig, ax = plt.subplots()\n",
    "ax.set_xticks([0.25, 0.75])\n",
    "ax.set_xticklabels([\"Fast\", \"Slow\"])\n",
    "\n",
    "ax.plot(0.25, ANOVA_df[\"Fast\"].mean(), marker = \"o\", markersize = \"20\", color = colors[0])\n",
    "ax.plot(0.75, ANOVA_df[\"Slow\"].mean(), marker = \"o\", markersize = \"20\", color = colors[1])\n",
    "ax.plot(np.array([0.25, 0.75]), ANOVA_df.mean(axis = 0), color = \"k\")\n",
    "\n",
    "for ID in ID_list:\n",
    "  participant_df = ANOVA_df.loc[ID]\n",
    "  ax.plot(0.25, participant_df[\"Fast\"], marker = \"o\", alpha = 0.1, color = colors[0])\n",
    "  ax.plot(0.75, participant_df[\"Slow\"], marker = \"o\", alpha = 0.1, color = colors[1])\n",
    "  ax.plot([0.25, 0.75], np.array(participant_df), alpha = 0.1, color = \"k\")\n",
    "\n",
    "sns.despine()\n",
    "plt.xlim(0.05, 0.95)\n",
    "plt.xlabel(\"RT Bin\", fontsize = \"xx-large\", labelpad = 5)\n",
    "plt.xlabel(\"RT Bin\", fontsize = \"xx-large\", labelpad = 10)\n",
    "plt.ylabel(\"CPP Amplitude\" + \" \" + \"$(\\mu V/m^2)$\", fontsize = \"xx-large\", weight='bold')\n",
    "ax = plt.gca()\n",
    "ax.tick_params(labelsize = \"xx-large\")\n",
    "\n",
    "fname = \"/content/gdrive/MyDrive/Time_Reproduction/Plots/ERPs/\" + \"Cue_Onset_CPP_RT_Bins.png\"\n",
    "plt.savefig(fname, dpi = 300, bbox_inches = \"tight\")"
   ]
  },
  {
   "cell_type": "code",
   "execution_count": null,
   "metadata": {
    "colab": {
     "base_uri": "https://localhost:8080/",
     "height": 614
    },
    "executionInfo": {
     "elapsed": 12,
     "status": "ok",
     "timestamp": 1702309471140,
     "user": {
      "displayName": "Harvey McCone",
      "userId": "11012039386955284988"
     },
     "user_tz": 0
    },
    "id": "A98IPKP-8Tg3",
    "outputId": "b1e3315c-4cd6-4d34-a18a-8c0fe3e81626"
   },
   "outputs": [],
   "source": [
    "labels = [\"Fast\", \"Slow\"]\n",
    "conds = [1, 2]\n",
    "\n",
    "dv = \"Encode_Offset_CNV_Amp\"\n",
    "\n",
    "trial_numbers_encode = np.zeros((len(ID_list), len(conds)))\n",
    "\n",
    "ANOVA_array = np.zeros((len(ID_list), len(labels)))\n",
    "\n",
    "mean_RT = np.zeros((len(ID_list), len(conds)))\n",
    "\n",
    "for i in range(0, len(ID_list)):\n",
    "  participant_df = encode_metadata[encode_metadata[\"ID\"] == ID_list[i]]\n",
    "\n",
    "  for j in range(0, len(labels)):\n",
    "    cond = conds[j]\n",
    "    #condition_df = participant_df.query(\"RT_Bin2 == @cond\")\n",
    "    condition_df = participant_df[participant_df[\"RT_Bin2\"] == cond]\n",
    "    ANOVA_array[i, j] = condition_df[dv].mean()\n",
    "    mean_RT[i, j] = condition_df[\"Response_Time\"].mean()\n",
    "\n",
    "ANOVA_df = pd.DataFrame(ANOVA_array, columns = labels, index = ID_list)\n",
    "ANOVA_df"
   ]
  },
  {
   "cell_type": "code",
   "execution_count": null,
   "metadata": {
    "executionInfo": {
     "elapsed": 10,
     "status": "ok",
     "timestamp": 1702309471140,
     "user": {
      "displayName": "Harvey McCone",
      "userId": "11012039386955284988"
     },
     "user_tz": 0
    },
    "id": "k4YdGksn8ThA"
   },
   "outputs": [],
   "source": [
    "if stan:\n",
    "  fname = \"/content/gdrive/MyDrive/Time_Reproduction/JASP_Files_TR/\" + \"Encode_Offset_CNV_Amp_jasp_Med_ANOVA.csv\"\n",
    "  ANOVA_df.to_csv(fname)"
   ]
  },
  {
   "cell_type": "code",
   "execution_count": null,
   "metadata": {
    "colab": {
     "base_uri": "https://localhost:8080/",
     "height": 478
    },
    "executionInfo": {
     "elapsed": 1052,
     "status": "ok",
     "timestamp": 1702309472183,
     "user": {
      "displayName": "Harvey McCone",
      "userId": "11012039386955284988"
     },
     "user_tz": 0
    },
    "id": "AX19u_r-8ThA",
    "outputId": "f4bb4b8f-ce4b-4e2d-e1e8-1bb81c9747f7"
   },
   "outputs": [],
   "source": [
    "fig, ax = plt.subplots()\n",
    "ax.set_xticks([0.25, 0.75])\n",
    "ax.set_xticklabels([\"Fast\", \"Slow\"])\n",
    "\n",
    "ax.plot(0.25, ANOVA_df[\"Fast\"].mean(), marker = \"o\", markersize = \"20\", color = colors[0])\n",
    "ax.plot(0.75, ANOVA_df[\"Slow\"].mean(), marker = \"o\", markersize = \"20\", color = colors[1])\n",
    "ax.plot(np.array([0.25, 0.75]), ANOVA_df.mean(axis = 0), color = \"k\")\n",
    "\n",
    "for ID in ID_list:\n",
    "  participant_df = ANOVA_df.loc[ID]\n",
    "  ax.plot(0.25, participant_df[\"Fast\"], marker = \"o\", alpha = 0.1, color = colors[0])\n",
    "  ax.plot(0.75, participant_df[\"Slow\"], marker = \"o\", alpha = 0.1, color = colors[1])\n",
    "  ax.plot([0.25, 0.75], np.array(participant_df), alpha = 0.1, color = \"k\")\n",
    "\n",
    "sns.despine()\n",
    "plt.xlim(0.05, 0.95)\n",
    "plt.xlabel(\"RT Bin\", fontsize = \"xx-large\", labelpad = 5)\n",
    "plt.xlabel(\"RT Bin\", fontsize = \"xx-large\", labelpad = 10)\n",
    "plt.ylabel(\"CNV Amplitude\" + \" \" + \"$(\\mu V/m^2)$\", fontsize = \"xx-large\", weight='bold')\n",
    "ax = plt.gca()\n",
    "ax.tick_params(labelsize = \"xx-large\")\n",
    "\n",
    "fname = \"/content/gdrive/MyDrive/Time_Reproduction/Plots/ERPs/\" + \"Encode_Offset_CNV_Amp_RT_Bins.png\"\n",
    "plt.savefig(fname, dpi = 300, bbox_inches = \"tight\")"
   ]
  },
  {
   "cell_type": "code",
   "execution_count": null,
   "metadata": {
    "colab": {
     "base_uri": "https://localhost:8080/",
     "height": 614
    },
    "executionInfo": {
     "elapsed": 10,
     "status": "ok",
     "timestamp": 1702309472183,
     "user": {
      "displayName": "Harvey McCone",
      "userId": "11012039386955284988"
     },
     "user_tz": 0
    },
    "id": "QFdMTkflAX_d",
    "outputId": "5cc24c7b-7e23-4093-e29d-80d1960f93fb"
   },
   "outputs": [],
   "source": [
    "labels = [\"Fast\", \"Slow\"]\n",
    "conds = [1, 2]\n",
    "\n",
    "dv = \"Encode_Offset_CPP_Amp\"\n",
    "\n",
    "trial_numbers_encode = np.zeros((len(ID_list), len(conds)))\n",
    "\n",
    "ANOVA_array = np.zeros((len(ID_list), len(labels)))\n",
    "\n",
    "mean_RT = np.zeros((len(ID_list), len(conds)))\n",
    "\n",
    "for i in range(0, len(ID_list)):\n",
    "  participant_df = encode_metadata[encode_metadata[\"ID\"] == ID_list[i]]\n",
    "\n",
    "  for j in range(0, len(labels)):\n",
    "    cond = conds[j]\n",
    "    #condition_df = participant_df.query(\"RT_Bin2 == @cond\")\n",
    "    condition_df = participant_df[participant_df[\"RT_Bin2\"] == cond]\n",
    "    ANOVA_array[i, j] = condition_df[dv].mean()\n",
    "    mean_RT[i, j] = condition_df[\"Response_Time\"].mean()\n",
    "\n",
    "ANOVA_df = pd.DataFrame(ANOVA_array, columns = labels, index = ID_list)\n",
    "ANOVA_df"
   ]
  },
  {
   "cell_type": "code",
   "execution_count": null,
   "metadata": {
    "executionInfo": {
     "elapsed": 9,
     "status": "ok",
     "timestamp": 1702309472184,
     "user": {
      "displayName": "Harvey McCone",
      "userId": "11012039386955284988"
     },
     "user_tz": 0
    },
    "id": "3oCp6qPDAX_d"
   },
   "outputs": [],
   "source": [
    "if stan:\n",
    "  fname = \"/content/gdrive/MyDrive/Time_Reproduction/JASP_Files_TR/\" + \"Encode_Offset_CPP_Amp_jasp_Med_ANOVA.csv\"\n",
    "  ANOVA_df.to_csv(fname)"
   ]
  },
  {
   "cell_type": "code",
   "execution_count": null,
   "metadata": {
    "colab": {
     "base_uri": "https://localhost:8080/",
     "height": 478
    },
    "executionInfo": {
     "elapsed": 1032,
     "status": "ok",
     "timestamp": 1702309473207,
     "user": {
      "displayName": "Harvey McCone",
      "userId": "11012039386955284988"
     },
     "user_tz": 0
    },
    "id": "tgLH7jdgAX_d",
    "outputId": "38e9d8b6-da46-4dce-9acf-07b0cb043042"
   },
   "outputs": [],
   "source": [
    "fig, ax = plt.subplots()\n",
    "ax.set_xticks([0.25, 0.75])\n",
    "ax.set_xticklabels([\"Fast\", \"Slow\"])\n",
    "\n",
    "ax.plot(0.25, ANOVA_df[\"Fast\"].mean(), marker = \"o\", markersize = \"20\", color = colors[0])\n",
    "ax.plot(0.75, ANOVA_df[\"Slow\"].mean(), marker = \"o\", markersize = \"20\", color = colors[1])\n",
    "ax.plot(np.array([0.25, 0.75]), ANOVA_df.mean(axis = 0), color = \"k\")\n",
    "\n",
    "for ID in ID_list:\n",
    "  participant_df = ANOVA_df.loc[ID]\n",
    "  ax.plot(0.25, participant_df[\"Fast\"], marker = \"o\", alpha = 0.1, color = colors[0])\n",
    "  ax.plot(0.75, participant_df[\"Slow\"], marker = \"o\", alpha = 0.1, color = colors[1])\n",
    "  ax.plot([0.25, 0.75], np.array(participant_df), alpha = 0.1, color = \"k\")\n",
    "\n",
    "sns.despine()\n",
    "plt.xlim(0.05, 0.95)\n",
    "plt.xlabel(\"RT Bin\", fontsize = \"xx-large\", labelpad = 5)\n",
    "plt.xlabel(\"RT Bin\", fontsize = \"xx-large\", labelpad = 10)\n",
    "plt.ylabel(\"CPP Amplitude\" + \" \" + \"$(\\mu V/m^2)$\", fontsize = \"xx-large\", weight='bold')\n",
    "ax = plt.gca()\n",
    "ax.tick_params(labelsize = \"xx-large\")\n",
    "\n",
    "fname = \"/content/gdrive/MyDrive/Time_Reproduction/Plots/ERPs/\" + \"Encode_Offset_CPP_Amp_RT_Bins.png\"\n",
    "plt.savefig(fname, dpi = 300, bbox_inches = \"tight\")"
   ]
  },
  {
   "cell_type": "code",
   "execution_count": null,
   "metadata": {
    "colab": {
     "base_uri": "https://localhost:8080/",
     "height": 614
    },
    "executionInfo": {
     "elapsed": 37,
     "status": "ok",
     "timestamp": 1702309473208,
     "user": {
      "displayName": "Harvey McCone",
      "userId": "11012039386955284988"
     },
     "user_tz": 0
    },
    "id": "QUwslT5_uGn-",
    "outputId": "e6c068cc-7577-4500-f558-408e72700634"
   },
   "outputs": [],
   "source": [
    "labels = [\"Fast\", \"Slow\"]\n",
    "conds = [1, 2]\n",
    "\n",
    "dv = \"Encode_Offset_CNV_Slope\"\n",
    "\n",
    "trial_numbers_encode = np.zeros((len(ID_list), len(conds)))\n",
    "\n",
    "ANOVA_array = np.zeros((len(ID_list), len(labels)))\n",
    "\n",
    "mean_RT = np.zeros((len(ID_list), len(conds)))\n",
    "\n",
    "for i in range(0, len(ID_list)):\n",
    "  participant_df = encode_metadata[encode_metadata[\"ID\"] == ID_list[i]]\n",
    "\n",
    "  for j in range(0, len(labels)):\n",
    "    cond = conds[j]\n",
    "    #condition_df = participant_df.query(\"RT_Bin2 == @cond\")\n",
    "    condition_df = participant_df[participant_df[\"RT_Bin2\"] == cond]\n",
    "    ANOVA_array[i, j] = condition_df[dv].mean()\n",
    "    mean_RT[i, j] = condition_df[\"Response_Time\"].mean()\n",
    "\n",
    "ANOVA_df = pd.DataFrame(ANOVA_array, columns = labels, index = ID_list)\n",
    "ANOVA_df"
   ]
  },
  {
   "cell_type": "code",
   "execution_count": null,
   "metadata": {
    "executionInfo": {
     "elapsed": 33,
     "status": "ok",
     "timestamp": 1702309473208,
     "user": {
      "displayName": "Harvey McCone",
      "userId": "11012039386955284988"
     },
     "user_tz": 0
    },
    "id": "3MjGt-W-uGn-"
   },
   "outputs": [],
   "source": [
    "if stan:\n",
    "  fname = \"/content/gdrive/MyDrive/Time_Reproduction/JASP_Files_TR/\" + \"Encode_Offset_CNV_Slope_jasp_Med_ANOVA.csv\"\n",
    "  ANOVA_df.to_csv(fname)"
   ]
  },
  {
   "cell_type": "code",
   "execution_count": null,
   "metadata": {
    "colab": {
     "base_uri": "https://localhost:8080/",
     "height": 478
    },
    "executionInfo": {
     "elapsed": 947,
     "status": "ok",
     "timestamp": 1702309474123,
     "user": {
      "displayName": "Harvey McCone",
      "userId": "11012039386955284988"
     },
     "user_tz": 0
    },
    "id": "3-fR9QtcuGn_",
    "outputId": "7a2ae2da-8f26-4743-919d-bf30b7a34343"
   },
   "outputs": [],
   "source": [
    "fig, ax = plt.subplots()\n",
    "ax.set_xticks([0.25, 0.75])\n",
    "ax.set_xticklabels([\"Fast\", \"Slow\"])\n",
    "\n",
    "ax.plot(0.25, ANOVA_df[\"Fast\"].mean(), marker = \"o\", markersize = \"20\", color = colors[0])\n",
    "ax.plot(0.75, ANOVA_df[\"Slow\"].mean(), marker = \"o\", markersize = \"20\", color = colors[1])\n",
    "ax.plot(np.array([0.25, 0.75]), ANOVA_df.mean(axis = 0), color = \"k\")\n",
    "\n",
    "for ID in ID_list:\n",
    "  participant_df = ANOVA_df.loc[ID]\n",
    "  ax.plot(0.25, participant_df[\"Fast\"], marker = \"o\", alpha = 0.1, color = colors[0])\n",
    "  ax.plot(0.75, participant_df[\"Slow\"], marker = \"o\", alpha = 0.1, color = colors[1])\n",
    "  ax.plot([0.25, 0.75], np.array(participant_df), alpha = 0.1, color = \"k\")\n",
    "\n",
    "sns.despine()\n",
    "plt.xlim(0.05, 0.95)\n",
    "plt.xlabel(\"RT Bin\", fontsize = \"xx-large\", labelpad = 5)\n",
    "plt.xlabel(\"RT Bin\", fontsize = \"xx-large\", labelpad = 10)\n",
    "plt.ylabel(\"CNV Slope\" + \" \" + \"$(\\mu V/m^2/s)$\", fontsize = \"xx-large\", weight='bold')\n",
    "ax = plt.gca()\n",
    "ax.tick_params(labelsize = \"xx-large\")\n",
    "\n",
    "fname = \"/content/gdrive/MyDrive/Time_Reproduction/Plots/ERPs/\" + \"Encode_Offset_Slope_Amp_RT_Bins.png\"\n",
    "plt.savefig(fname, dpi = 300, bbox_inches = \"tight\")"
   ]
  },
  {
   "cell_type": "code",
   "execution_count": null,
   "metadata": {
    "colab": {
     "base_uri": "https://localhost:8080/",
     "height": 614
    },
    "executionInfo": {
     "elapsed": 13,
     "status": "ok",
     "timestamp": 1702309474123,
     "user": {
      "displayName": "Harvey McCone",
      "userId": "11012039386955284988"
     },
     "user_tz": 0
    },
    "id": "5cw1jkSpuGn_",
    "outputId": "64d67b0e-cece-49b6-a529-b4c5fe3a6256"
   },
   "outputs": [],
   "source": [
    "labels = [\"Fast\", \"Slow\"]\n",
    "conds = [1, 2]\n",
    "\n",
    "dv = \"Encode_Offset_CPP_Slope\"\n",
    "\n",
    "trial_numbers_encode = np.zeros((len(ID_list), len(conds)))\n",
    "\n",
    "ANOVA_array = np.zeros((len(ID_list), len(labels)))\n",
    "\n",
    "mean_RT = np.zeros((len(ID_list), len(conds)))\n",
    "\n",
    "for i in range(0, len(ID_list)):\n",
    "  participant_df = encode_metadata[encode_metadata[\"ID\"] == ID_list[i]]\n",
    "\n",
    "  for j in range(0, len(labels)):\n",
    "    cond = conds[j]\n",
    "    #condition_df = participant_df.query(\"RT_Bin2 == @cond\")\n",
    "    condition_df = participant_df[participant_df[\"RT_Bin2\"] == cond]\n",
    "    ANOVA_array[i, j] = condition_df[dv].mean()\n",
    "    mean_RT[i, j] = condition_df[\"Response_Time\"].mean()\n",
    "\n",
    "ANOVA_df = pd.DataFrame(ANOVA_array, columns = labels, index = ID_list)\n",
    "ANOVA_df"
   ]
  },
  {
   "cell_type": "code",
   "execution_count": null,
   "metadata": {
    "executionInfo": {
     "elapsed": 11,
     "status": "ok",
     "timestamp": 1702309474123,
     "user": {
      "displayName": "Harvey McCone",
      "userId": "11012039386955284988"
     },
     "user_tz": 0
    },
    "id": "WPONtJ0XuGn_"
   },
   "outputs": [],
   "source": [
    "if stan:\n",
    "  fname = \"/content/gdrive/MyDrive/Time_Reproduction/JASP_Files_TR/\" + \"Encode_Offset_CPP_Slope_jasp_Med_ANOVA.csv\"\n",
    "  ANOVA_df.to_csv(fname)"
   ]
  },
  {
   "cell_type": "code",
   "execution_count": null,
   "metadata": {
    "colab": {
     "base_uri": "https://localhost:8080/",
     "height": 471
    },
    "executionInfo": {
     "elapsed": 1039,
     "status": "ok",
     "timestamp": 1702309475151,
     "user": {
      "displayName": "Harvey McCone",
      "userId": "11012039386955284988"
     },
     "user_tz": 0
    },
    "id": "5lBXZzywuGn_",
    "outputId": "6c534fbe-def0-4ed1-8fb1-708805ec7b01"
   },
   "outputs": [],
   "source": [
    "fig, ax = plt.subplots()\n",
    "ax.set_xticks([0.25, 0.75])\n",
    "ax.set_xticklabels([\"Fast\", \"Slow\"])\n",
    "\n",
    "ax.plot(0.25, ANOVA_df[\"Fast\"].mean(), marker = \"o\", markersize = \"20\", color = colors[0])\n",
    "ax.plot(0.75, ANOVA_df[\"Slow\"].mean(), marker = \"o\", markersize = \"20\", color = colors[1])\n",
    "ax.plot(np.array([0.25, 0.75]), ANOVA_df.mean(axis = 0), color = \"k\")\n",
    "\n",
    "for ID in ID_list:\n",
    "  participant_df = ANOVA_df.loc[ID]\n",
    "  ax.plot(0.25, participant_df[\"Fast\"], marker = \"o\", alpha = 0.1, color = colors[0])\n",
    "  ax.plot(0.75, participant_df[\"Slow\"], marker = \"o\", alpha = 0.1, color = colors[1])\n",
    "  ax.plot([0.25, 0.75], np.array(participant_df), alpha = 0.1, color = \"k\")\n",
    "\n",
    "sns.despine()\n",
    "plt.xlim(0.05, 0.95)\n",
    "plt.xlabel(\"RT Bin\", fontsize = \"xx-large\", labelpad = 5)\n",
    "plt.ylabel(\"CPP Slope\" + \" \" + \"$(\\mu V/m^2/s)$\", fontsize = \"xx-large\", weight='bold')\n",
    "ax = plt.gca()\n",
    "ax.tick_params(labelsize = \"xx-large\")\n",
    "\n",
    "fname = \"/content/gdrive/MyDrive/Time_Reproduction/Plots/ERPs/\" + \"Encode_Offset_CPP_Slope_RT_Bins.png\"\n",
    "plt.savefig(fname, dpi = 300, bbox_inches = \"tight\")"
   ]
  }
 ],
 "metadata": {
  "colab": {
   "authorship_tag": "ABX9TyM+Q68zkhgSKhslpSb6mzhf",
   "provenance": [],
   "toc_visible": true
  },
  "kernelspec": {
   "display_name": "Python 3",
   "language": "python",
   "name": "python3"
  },
  "language_info": {
   "codemirror_mode": {
    "name": "ipython",
    "version": 3
   },
   "file_extension": ".py",
   "mimetype": "text/x-python",
   "name": "python",
   "nbconvert_exporter": "python",
   "pygments_lexer": "ipython3",
   "version": "3.7.6"
  }
 },
 "nbformat": 4,
 "nbformat_minor": 1
}
