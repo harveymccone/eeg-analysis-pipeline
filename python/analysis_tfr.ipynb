{
 "cells": [
  {
   "cell_type": "markdown",
   "metadata": {
    "id": "vAYSQjOvFBLM"
   },
   "source": [
    "# Script Set Up"
   ]
  },
  {
   "cell_type": "code",
   "execution_count": null,
   "metadata": {
    "executionInfo": {
     "elapsed": 5,
     "status": "ok",
     "timestamp": 1702309719938,
     "user": {
      "displayName": "Harvey McCone",
      "userId": "11012039386955284988"
     },
     "user_tz": 0
    },
    "id": "bJW-Y2dFE-zI"
   },
   "outputs": [],
   "source": [
    "%matplotlib inline"
   ]
  },
  {
   "cell_type": "code",
   "execution_count": null,
   "metadata": {
    "colab": {
     "base_uri": "https://localhost:8080/"
    },
    "executionInfo": {
     "elapsed": 24814,
     "status": "ok",
     "timestamp": 1702309744749,
     "user": {
      "displayName": "Harvey McCone",
      "userId": "11012039386955284988"
     },
     "user_tz": 0
    },
    "id": "GOjs4ohiFPwL",
    "outputId": "f013bfdf-7b36-4269-824d-89ca064ce962"
   },
   "outputs": [],
   "source": [
    "!pip install mne"
   ]
  },
  {
   "cell_type": "code",
   "execution_count": null,
   "metadata": {
    "colab": {
     "base_uri": "https://localhost:8080/"
    },
    "executionInfo": {
     "elapsed": 21504,
     "status": "ok",
     "timestamp": 1702309766247,
     "user": {
      "displayName": "Harvey McCone",
      "userId": "11012039386955284988"
     },
     "user_tz": 0
    },
    "id": "G13BWg7CYU1q",
    "outputId": "9b87bb82-1df4-4c96-8448-b42d6b5efc98"
   },
   "outputs": [],
   "source": [
    "!pip install pingouin\n",
    "import pingouin as pg"
   ]
  },
  {
   "cell_type": "code",
   "execution_count": null,
   "metadata": {
    "colab": {
     "base_uri": "https://localhost:8080/"
    },
    "executionInfo": {
     "elapsed": 13786,
     "status": "ok",
     "timestamp": 1702309780028,
     "user": {
      "displayName": "Harvey McCone",
      "userId": "11012039386955284988"
     },
     "user_tz": 0
    },
    "id": "LRRr9s3OwQ5f",
    "outputId": "135b4657-27ba-4f83-b613-a269680efca2"
   },
   "outputs": [],
   "source": [
    "pip install h5io --upgrade"
   ]
  },
  {
   "cell_type": "code",
   "execution_count": null,
   "metadata": {
    "executionInfo": {
     "elapsed": 1266,
     "status": "ok",
     "timestamp": 1702309781290,
     "user": {
      "displayName": "Harvey McCone",
      "userId": "11012039386955284988"
     },
     "user_tz": 0
    },
    "id": "G1MKm3O-FbsR"
   },
   "outputs": [],
   "source": [
    "import os\n",
    "import numpy as np\n",
    "from matplotlib import pyplot as plt\n",
    "from scipy import stats\n",
    "import pandas as pd\n",
    "import seaborn as sns\n",
    "import mne\n",
    "import math\n",
    "from scipy.io import loadmat\n",
    "from scipy.fft import fft"
   ]
  },
  {
   "cell_type": "code",
   "execution_count": null,
   "metadata": {
    "colab": {
     "base_uri": "https://localhost:8080/"
    },
    "executionInfo": {
     "elapsed": 102334,
     "status": "ok",
     "timestamp": 1702309883620,
     "user": {
      "displayName": "Harvey McCone",
      "userId": "11012039386955284988"
     },
     "user_tz": 0
    },
    "id": "94eTuNOJFRLr",
    "outputId": "2701dedb-e9f8-44c4-dae8-74717df39e48"
   },
   "outputs": [],
   "source": [
    "from google.colab import drive\n",
    "drive.mount('/content/drive')"
   ]
  },
  {
   "cell_type": "markdown",
   "metadata": {
    "id": "pLeJ0bDXRN3_"
   },
   "source": [
    "# Deciding what response times are outliers that should be removed"
   ]
  },
  {
   "cell_type": "code",
   "execution_count": null,
   "metadata": {
    "executionInfo": {
     "elapsed": 8,
     "status": "ok",
     "timestamp": 1702309883621,
     "user": {
      "displayName": "Harvey McCone",
      "userId": "11012039386955284988"
     },
     "user_tz": 0
    },
    "id": "W6lSTDJTRSJE"
   },
   "outputs": [],
   "source": [
    "lower_RT_cutoff = 150\n",
    "upper_RT_cutoff = 1500 # 1.5x longest SI and is less than 1% of trials"
   ]
  },
  {
   "cell_type": "markdown",
   "metadata": {
    "id": "2UsZyxi2LpTb"
   },
   "source": [
    "# Load Data"
   ]
  },
  {
   "cell_type": "code",
   "execution_count": null,
   "metadata": {
    "colab": {
     "base_uri": "https://localhost:8080/"
    },
    "executionInfo": {
     "elapsed": 124712,
     "status": "ok",
     "timestamp": 1702310008326,
     "user": {
      "displayName": "Harvey McCone",
      "userId": "11012039386955284988"
     },
     "user_tz": 0
    },
    "id": "QCQxEWCqLqfM",
    "outputId": "c9acb4c9-edef-47cf-aaa9-d9abbe131ecf"
   },
   "outputs": [],
   "source": [
    "ID_list = ['P1', 'P3', 'P4', 'P7', 'P10', 'P12', 'P15', 'P17', 'P19',\n",
    "           'P21', 'P22', 'P23', 'P24', 'P26', 'P27', 'P28', 'P29', 'P30']\n",
    "\n",
    "n_participants = len(ID_list)\n",
    "n_channels = 128\n",
    "n_times_encode = 41\n",
    "n_times_repo = 33\n",
    "n_times_RL = 33\n",
    "n_freqs = 1\n",
    "fs_beta = [8, 30]\n",
    "\n",
    "sample_rate = 512\n",
    "\n",
    "encode_epochs = []\n",
    "encode_metadata = []\n",
    "repo_epochs = []\n",
    "repo_metadata = []\n",
    "RL_epochs = []\n",
    "RL_metadata = []\n",
    "\n",
    "all_encode_beta = np.zeros([len(ID_list), n_channels, n_freqs, n_times_encode])\n",
    "all_repo_beta = np.zeros([len(ID_list), n_channels, n_freqs, n_times_repo])\n",
    "all_RL_beta = np.zeros([len(ID_list), n_channels, n_freqs, n_times_RL])\n",
    "\n",
    "\n",
    "for i in range(0, len(ID_list)):\n",
    "  ID = ID_list[i]\n",
    "  encode_fname = \"/content/drive/MyDrive/Time_Reproduction/Beta_Epochs/\" + ID + \"_encode_beta_epochs-tfr.h5\"\n",
    "  repo_fname = \"/content/drive/MyDrive/Time_Reproduction/Beta_Epochs/\" + ID + \"_repo_beta_epochs-tfr.h5\"\n",
    "  RL_fname = \"/content/drive/MyDrive/Time_Reproduction/Beta_Epochs/\" + ID + \"_RL_beta_epochs-tfr.h5\"\n",
    "\n",
    "  encode_epochs_participant = mne.time_frequency.read_tfrs(encode_fname)\n",
    "  encode_epochs_participant = encode_epochs_participant[0]\n",
    "  repo_epochs_participant = mne.time_frequency.read_tfrs(repo_fname)\n",
    "  repo_epochs_participant = repo_epochs_participant[0]\n",
    "  RL_epochs_participant = mne.time_frequency.read_tfrs(RL_fname)\n",
    "  RL_epochs_participant = RL_epochs_participant[0]\n",
    "\n",
    "  info = encode_epochs_participant.info\n",
    "\n",
    "  beta_time = encode_epochs_participant.times # defining times\n",
    "  beta_time_repo = repo_epochs_participant.times\n",
    "  beta_time_RL = RL_epochs_participant.times\n",
    "\n",
    "  # Adding ID column to metadata 19/12/22\n",
    "  encode_df = encode_epochs_participant.metadata\n",
    "  encode_df[\"ID\"] = ID # adding ID column\n",
    "  temp_cols=encode_df.columns.tolist()\n",
    "  new_cols=temp_cols[-1:] + temp_cols[:-1]\n",
    "  encode_df=encode_df[new_cols]\n",
    "  encode_metadata.append(encode_df)\n",
    "\n",
    "  repo_df = repo_epochs_participant.metadata\n",
    "  repo_df[\"ID\"] = ID # adding ID column\n",
    "  temp_cols=repo_df.columns.tolist()\n",
    "  new_cols=temp_cols[-1:] + temp_cols[:-1]\n",
    "  repo_df=repo_df[new_cols]\n",
    "  repo_metadata.append(repo_df)\n",
    "\n",
    "  RL_df = RL_epochs_participant.metadata\n",
    "  RL_df[\"ID\"] = ID # adding ID column\n",
    "  temp_cols=RL_df.columns.tolist()\n",
    "  new_cols=temp_cols[-1:] + temp_cols[:-1]\n",
    "  RL_df=RL_df[new_cols]\n",
    "  RL_metadata.append(RL_df)\n",
    "\n",
    "  ## Average Epochs and Save Result\n",
    "  #encode_indices = encode_epochs_participant.metadata.query(\"Miss == 0 & Response_Direction == @j\").index\n",
    "  encode_participant_beta = encode_epochs_participant.average() # taking all epochs here\n",
    "  all_encode_beta[i] = encode_participant_beta.data\n",
    "\n",
    "  #repo_indices = repo_epochs_participant.metadata.query(\"Miss == 0 & Response_Direction == @j\").index\n",
    "  repo_participant_beta = repo_epochs_participant.average() # taking all epochs here\n",
    "  all_repo_beta[i] = repo_participant_beta.data\n",
    "\n",
    "  #RL_indices = RL_epochs_participant.metadata.query(\"Miss == 0 & Response_Direction == @j\").index\n",
    "  RL_participant_beta = RL_epochs_participant.average() # taking all epochs here\n",
    "  all_RL_beta[i] = RL_participant_beta.data"
   ]
  },
  {
   "cell_type": "markdown",
   "metadata": {
    "id": "C_5YQXgQO42t"
   },
   "source": [
    "# Concatenate Metadata\n",
    "Concatenate metadata so that all participants epochs are in one dataframe"
   ]
  },
  {
   "cell_type": "code",
   "execution_count": null,
   "metadata": {
    "colab": {
     "base_uri": "https://localhost:8080/",
     "height": 424
    },
    "executionInfo": {
     "elapsed": 14,
     "status": "ok",
     "timestamp": 1702310008326,
     "user": {
      "displayName": "Harvey McCone",
      "userId": "11012039386955284988"
     },
     "user_tz": 0
    },
    "id": "B2g47INYOU8x",
    "outputId": "e8f26b23-f669-45a8-e35c-ea8186a22b9e"
   },
   "outputs": [],
   "source": [
    "encode_metadata = pd.concat(encode_metadata, ignore_index = True)\n",
    "repo_metadata = pd.concat(repo_metadata, ignore_index = True)\n",
    "RL_metadata = pd.concat(RL_metadata, ignore_index = True)\n",
    "encode_metadata"
   ]
  },
  {
   "cell_type": "code",
   "execution_count": null,
   "metadata": {
    "colab": {
     "base_uri": "https://localhost:8080/",
     "height": 424
    },
    "executionInfo": {
     "elapsed": 11,
     "status": "ok",
     "timestamp": 1702310008326,
     "user": {
      "displayName": "Harvey McCone",
      "userId": "11012039386955284988"
     },
     "user_tz": 0
    },
    "id": "bfrXhsTvTV0a",
    "outputId": "ed60ca74-fe71-4e77-ddb0-b25ecce53832"
   },
   "outputs": [],
   "source": [
    "repo_metadata"
   ]
  },
  {
   "cell_type": "code",
   "execution_count": null,
   "metadata": {
    "colab": {
     "base_uri": "https://localhost:8080/",
     "height": 424
    },
    "executionInfo": {
     "elapsed": 11,
     "status": "ok",
     "timestamp": 1702310008327,
     "user": {
      "displayName": "Harvey McCone",
      "userId": "11012039386955284988"
     },
     "user_tz": 0
    },
    "id": "nfihIK60TYHi",
    "outputId": "07858661-56a3-474c-a85f-a31a93416e48"
   },
   "outputs": [],
   "source": [
    "RL_metadata"
   ]
  },
  {
   "cell_type": "markdown",
   "metadata": {
    "id": "coXW53hpvT9a"
   },
   "source": [
    "# Define What Electrodes we are using"
   ]
  },
  {
   "cell_type": "code",
   "execution_count": null,
   "metadata": {
    "executionInfo": {
     "elapsed": 10,
     "status": "ok",
     "timestamp": 1702310008327,
     "user": {
      "displayName": "Harvey McCone",
      "userId": "11012039386955284988"
     },
     "user_tz": 0
    },
    "id": "5djKBn6OvXJk"
   },
   "outputs": [],
   "source": [
    "right_electrodes = [\"B18\", \"B19\", \"B21\", \"B22\"]\n",
    "left_electrodes = [\"D28\", \"D18\", \"D19\", \"D17\"]\n",
    "\n",
    "right_idx = []\n",
    "left_idx = []\n",
    "\n",
    "for i in range(0, len(info.ch_names)):\n",
    "  if info.ch_names[i] in right_electrodes:\n",
    "    right_idx.append(i)\n",
    "  elif info.ch_names[i] in left_electrodes:\n",
    "    left_idx.append(i)\n",
    "\n",
    "## Define what electrodes we are using for each participant (some used left hand) ##\n",
    "ch_idx = list(np.zeros(len(ID_list)))\n",
    "left_handers = [\"P3\", \"P7\"]\n",
    "\n",
    "for i in range(0, len(ch_idx)):\n",
    "  if ID_list[i] in left_handers:\n",
    "    ch_idx[i] = right_idx\n",
    "  else:\n",
    "    ch_idx[i] = left_idx"
   ]
  },
  {
   "cell_type": "markdown",
   "metadata": {
    "id": "LwAeZDhT87gU"
   },
   "source": [
    "# Define Time Windows for Calculations"
   ]
  },
  {
   "cell_type": "code",
   "execution_count": null,
   "metadata": {
    "executionInfo": {
     "elapsed": 10,
     "status": "ok",
     "timestamp": 1702310008327,
     "user": {
      "displayName": "Harvey McCone",
      "userId": "11012039386955284988"
     },
     "user_tz": 0
    },
    "id": "SABqbjDx87gV"
   },
   "outputs": [],
   "source": [
    "# For checking amplitude and slope at target offset\n",
    "encode_amplitude_window_start = -200 / 1000\n",
    "encode_amplitude_window_end = -100 / 1000# these have to be done within sample interval bin\n",
    "\n",
    "# For checking the amplitude at cue onset\n",
    "repo_amplitude_window_start = -120\n",
    "repo_amplitude_window_start_idx = int(np.argwhere(beta_time_repo >= repo_amplitude_window_start / 1000)[0])\n",
    "repo_amplitude_window_end = -100\n",
    "repo_amplitude_window_end_idx = int(np.argwhere(beta_time_repo >= repo_amplitude_window_end / 1000)[0])\n",
    "\n",
    "# For checking build-up rate in anticipation of response\n",
    "RL_slope_window_start = -600\n",
    "RL_slope_window_start_idx = int(np.argwhere(beta_time_RL >= RL_slope_window_start / 1000)[0])\n",
    "RL_slope_window_end = -300\n",
    "RL_slope_window_end_idx = int(np.argwhere(beta_time_RL >= RL_slope_window_end / 1000)[0])\n",
    "\n",
    "# For checking pre-response amplitude\n",
    "RL_amplitude_window_start = -600\n",
    "RL_amplitude_window_start_idx = int(np.argwhere(beta_time_RL >= RL_amplitude_window_start / 1000)[0])\n",
    "RL_amplitude_window_end = -300\n",
    "RL_amplitude_window_end_idx = int(np.argwhere(beta_time_RL >= RL_amplitude_window_end / 1000)[0])\n",
    "\n",
    "# For checking amplitude \"at response\"\n",
    "At_response_window_start = -200\n",
    "At_response_window_start_idx = int(np.argwhere(beta_time_RL >= At_response_window_start / 1000)[0])\n",
    "At_response_window_end = -150\n",
    "At_response_window_end_idx = int(np.argwhere(beta_time_RL >= At_response_window_end / 1000)[0])"
   ]
  },
  {
   "cell_type": "markdown",
   "metadata": {
    "id": "iYy5Lk1MHo9r"
   },
   "source": [
    "# Calculate Single Trial Measurements"
   ]
  },
  {
   "cell_type": "markdown",
   "metadata": {
    "id": "c2ydVJxyHzDy"
   },
   "source": [
    "## Doing Calculation"
   ]
  },
  {
   "cell_type": "code",
   "execution_count": null,
   "metadata": {
    "colab": {
     "base_uri": "https://localhost:8080/"
    },
    "executionInfo": {
     "elapsed": 71499,
     "status": "ok",
     "timestamp": 1702310079816,
     "user": {
      "displayName": "Harvey McCone",
      "userId": "11012039386955284988"
     },
     "user_tz": 0
    },
    "id": "u_facdMjHrKT",
    "outputId": "1aa8be7c-8261-4936-c1e2-21fb61afee6c"
   },
   "outputs": [],
   "source": [
    "m_idx_encode = -1\n",
    "m_idx_repo = -1\n",
    "m_idx_RL = -1\n",
    "\n",
    "for i in range(0, len(ID_list)):\n",
    "  ID = ID_list[i]\n",
    "  encode_fname = \"/content/drive/MyDrive/Time_Reproduction/Beta_Epochs/\" + ID + \"_encode_beta_epochs-tfr.h5\"\n",
    "  repo_fname = \"/content/drive/MyDrive/Time_Reproduction/Beta_Epochs/\" + ID + \"_repo_beta_epochs-tfr.h5\"\n",
    "  RL_fname = \"/content/drive/MyDrive/Time_Reproduction/Beta_Epochs/\" + ID + \"_RL_beta_epochs-tfr.h5\"\n",
    "\n",
    "  encode_epochs_participant = mne.time_frequency.read_tfrs(encode_fname)\n",
    "  encode_epochs_participant = encode_epochs_participant[0]\n",
    "  repo_epochs_participant = mne.time_frequency.read_tfrs(repo_fname)\n",
    "  repo_epochs_participant = repo_epochs_participant[0]\n",
    "  RL_epochs_participant = mne.time_frequency.read_tfrs(RL_fname)\n",
    "  RL_epochs_participant = RL_epochs_participant[0]\n",
    "\n",
    "  ## Iterating through each trial for each epoch and doing the calculation ##\n",
    "\n",
    "  ## Encode Epoch\n",
    "  encode_epochs_participant_data = encode_epochs_participant.data\n",
    "  for e in range(0, encode_epochs_participant_data.shape[0]):\n",
    "    m_idx_encode += 1 # index we are using for adding these measures to the metadata\n",
    "    this_trial = encode_epochs_participant_data[e] # get data for this trial\n",
    "    electrodes_this_trial = np.mean(this_trial[ch_idx[i]], axis = 0) # average across chosen electrodes\n",
    "\n",
    "    SI = 0 ## doing calculation\n",
    "    if encode_metadata.at[m_idx_encode, \"Trigger\"] == 51:\n",
    "      SI = 600\n",
    "    elif encode_metadata.at[m_idx_encode, \"Trigger\"] == 52:\n",
    "      SI = 650\n",
    "    elif encode_metadata.at[m_idx_encode, \"Trigger\"] == 53:\n",
    "      SI = 700\n",
    "    elif encode_metadata.at[m_idx_encode, \"Trigger\"] == 54:\n",
    "      SI = 750\n",
    "    elif encode_metadata.at[m_idx_encode, \"Trigger\"] == 55:\n",
    "      SI = 800\n",
    "    elif encode_metadata.at[m_idx_encode, \"Trigger\"] == 56:\n",
    "      SI = 850\n",
    "    elif encode_metadata.at[m_idx_encode, \"Trigger\"] == 57:\n",
    "      SI = 900\n",
    "    elif encode_metadata.at[m_idx_encode, \"Trigger\"] == 58:\n",
    "      SI = 950\n",
    "    elif encode_metadata.at[m_idx_encode, \"Trigger\"] == 59:\n",
    "      SI = 1000\n",
    "    low_cutoff = SI / 1000 + (encode_amplitude_window_start)\n",
    "    high_cutoff = SI / 1000 + (encode_amplitude_window_end)\n",
    "    encode_window_start_idx = int(np.argwhere(beta_time >= low_cutoff)[0])\n",
    "    encode_window_end_idx = int(np.argwhere(beta_time >= high_cutoff)[0])\n",
    "    encode_metadata.at[m_idx_encode, \"Encode_Offset_Beta_Amp\"] = np.mean(electrodes_this_trial[0, encode_window_start_idx:encode_window_end_idx], axis = 0)\n",
    "\n",
    "    x = beta_time[encode_window_start_idx:encode_window_end_idx] # get times for each window as the x-axis\n",
    "    result = stats.linregress(x,  electrodes_this_trial[0, encode_window_start_idx:encode_window_end_idx])\n",
    "    encode_metadata.at[m_idx_encode, \"Encode_Offset_Beta_Slope\"] = result.slope\n",
    "\n",
    "  ## Repo Epoch\n",
    "  repo_epochs_participant_data = repo_epochs_participant.data\n",
    "  for e in range(0, repo_epochs_participant_data.shape[0]):\n",
    "    m_idx_repo += 1 # index we are using for adding these measures to the metadata\n",
    "    this_trial = repo_epochs_participant_data[e] # get data for this trial\n",
    "    #print(this_trial.shape)\n",
    "    electrodes_this_trial = np.mean(this_trial[ch_idx[i]], axis = 0) # average across chosen electrodes\n",
    "    repo_metadata.at[m_idx_repo, \"Repo_Onset_Beta_Amp\"] = np.mean(electrodes_this_trial[0, repo_amplitude_window_start_idx:repo_amplitude_window_end_idx], axis = 0)\n",
    "\n",
    "  ## Repo Epoch\n",
    "  RL_epochs_participant_data = RL_epochs_participant.data\n",
    "  for e in range(0, RL_epochs_participant_data.shape[0]):\n",
    "    m_idx_RL += 1 # index we are using for adding these measures to the metadata\n",
    "    this_trial = RL_epochs_participant_data[e] # get data for this trial\n",
    "\n",
    "    ## Calculate Amplitude\n",
    "    electrodes_this_trial = np.mean(this_trial[ch_idx[i]], axis = 0) # average across chosen electrodes\n",
    "    electrodes_this_trial = electrodes_this_trial[0, RL_amplitude_window_start_idx: RL_amplitude_window_end_idx] # get signal in each window as the y-axis\n",
    "    RL_metadata.at[m_idx_RL, \"RL_Beta_Amp\"] = np.mean(electrodes_this_trial) # calculate amplitude\n",
    "\n",
    "    ## Calculate Slope\n",
    "    electrodes_this_trial = np.mean(this_trial[ch_idx[i]], axis = 0) # average across chosen electrodes\n",
    "    electrodes_this_trial = electrodes_this_trial[0, RL_slope_window_start_idx: RL_slope_window_end_idx] # get signal in each window as the y-axis\n",
    "    x = beta_time_RL[RL_slope_window_start_idx: RL_slope_window_end_idx] # get times for each window as the x-axis\n",
    "    result = stats.linregress(x,  electrodes_this_trial)\n",
    "    RL_metadata.at[m_idx_RL, \"RL_Beta_Slope\"] = result.slope # calculate slope\n",
    "\n",
    "    ## NEW -- Calculate Amplitude AT RESPONSE\n",
    "    electrodes_this_trial = np.mean(this_trial[ch_idx[i]], axis = 0) # average across chosen electrodes\n",
    "    electrodes_this_trial = electrodes_this_trial[0, At_response_window_start_idx: At_response_window_end_idx] # get signal in each window as the y-axis\n",
    "    RL_metadata.at[m_idx_RL, \"RESP_Beta\"] = np.mean(electrodes_this_trial) # calculate amplitude"
   ]
  },
  {
   "cell_type": "markdown",
   "metadata": {
    "id": "uFZ9_UDkamkn"
   },
   "source": [
    "## Removing Outlier RTs\n",
    "Removing RTs < 150ms abd RTs > 1500ms"
   ]
  },
  {
   "cell_type": "code",
   "execution_count": null,
   "metadata": {
    "colab": {
     "base_uri": "https://localhost:8080/"
    },
    "executionInfo": {
     "elapsed": 10,
     "status": "ok",
     "timestamp": 1702310079817,
     "user": {
      "displayName": "Harvey McCone",
      "userId": "11012039386955284988"
     },
     "user_tz": 0
    },
    "id": "tACrgj30ar7c",
    "outputId": "b385ec2c-4343-4463-8563-428e59aa44dd"
   },
   "outputs": [],
   "source": [
    "print(encode_metadata.shape[0])\n",
    "encode_metadata_outliers = encode_metadata.query(\"Response_Time < 150\").index\n",
    "print(encode_metadata_outliers)\n",
    "encode_metadata_outliers = list(encode_metadata_outliers)\n",
    "print(encode_metadata_outliers)\n",
    "print(len(encode_metadata_outliers))\n",
    "encode_metadata_outliers += list(encode_metadata.query(\"Response_Time > 1500\").index)\n",
    "encode_metadata = encode_metadata.drop(encode_metadata_outliers)\n",
    "print(encode_metadata.shape[0])\n",
    "\n",
    "print(repo_metadata.shape[0])\n",
    "repo_metadata_outliers = repo_metadata.query(\"Response_Time < 150\").index\n",
    "print(repo_metadata_outliers)\n",
    "repo_metadata_outliers = list(repo_metadata_outliers)\n",
    "print(repo_metadata_outliers)\n",
    "print(len(repo_metadata_outliers))\n",
    "repo_metadata_outliers += list(repo_metadata.query(\"Response_Time > 1500\").index)\n",
    "repo_metadata = repo_metadata.drop(repo_metadata_outliers)\n",
    "print(repo_metadata.shape[0])\n",
    "\n",
    "print(RL_metadata.shape[0])\n",
    "RL_metadata_outliers = RL_metadata.query(\"Response_Time < 150\").index\n",
    "print(RL_metadata_outliers)\n",
    "RL_metadata_outliers = list(RL_metadata_outliers)\n",
    "print(RL_metadata_outliers)\n",
    "print(len(RL_metadata_outliers))\n",
    "RL_metadata_outliers += list(RL_metadata.query(\"Response_Time > 1500\").index)\n",
    "RL_metadata = RL_metadata.drop(RL_metadata_outliers)\n",
    "print(RL_metadata.shape[0])"
   ]
  },
  {
   "cell_type": "markdown",
   "metadata": {
    "id": "6tJfXRLP7XvL"
   },
   "source": [
    "## Re-Label Trigger Variable as SI"
   ]
  },
  {
   "cell_type": "code",
   "execution_count": null,
   "metadata": {
    "executionInfo": {
     "elapsed": 5,
     "status": "ok",
     "timestamp": 1702310079817,
     "user": {
      "displayName": "Harvey McCone",
      "userId": "11012039386955284988"
     },
     "user_tz": 0
    },
    "id": "AUj7L5ND7tBy"
   },
   "outputs": [],
   "source": [
    "replace_dict = {51: 600, 52: 650, 53: 700, 54: 750, 55: 800, 56: 850, 57: 900, 58: 950, 59: 1000}\n",
    "encode_metadata[\"Trigger\"].replace(replace_dict, inplace = True)\n",
    "encode_metadata.rename(columns = {\"Trigger\": \"SI\"}, inplace = True)\n",
    "\n",
    "replace_dict = {151: 600, 152: 650, 153: 700, 154: 750, 155: 800, 156: 850, 157: 900, 158: 950, 159: 1000}\n",
    "repo_metadata[\"Trigger\"].replace(replace_dict, inplace = True)\n",
    "repo_metadata.rename(columns = {\"Trigger\": \"SI\"}, inplace = True)\n",
    "\n",
    "replace_dict = {201: 600, 202: 650, 203: 700, 204: 750, 205: 800, 206: 850, 207: 900, 208: 950, 209: 1000}\n",
    "RL_metadata[\"Trigger\"].replace(replace_dict, inplace = True)\n",
    "RL_metadata.rename(columns = {\"Trigger\": \"SI\"}, inplace = True)"
   ]
  },
  {
   "cell_type": "code",
   "execution_count": null,
   "metadata": {
    "executionInfo": {
     "elapsed": 5,
     "status": "ok",
     "timestamp": 1702310079817,
     "user": {
      "displayName": "Harvey McCone",
      "userId": "11012039386955284988"
     },
     "user_tz": 0
    },
    "id": "B5zv4ef7idvP"
   },
   "outputs": [],
   "source": [
    "SIs = np.unique(RL_metadata[\"SI\"])"
   ]
  },
  {
   "cell_type": "markdown",
   "metadata": {
    "id": "R4rFVGUuwZoZ"
   },
   "source": [
    "# Bin by RT via median split within participant within sample interval"
   ]
  },
  {
   "cell_type": "code",
   "execution_count": null,
   "metadata": {
    "executionInfo": {
     "elapsed": 1065,
     "status": "ok",
     "timestamp": 1702310080878,
     "user": {
      "displayName": "Harvey McCone",
      "userId": "11012039386955284988"
     },
     "user_tz": 0
    },
    "id": "FoNXbR4LwZoZ"
   },
   "outputs": [],
   "source": [
    "RT_cutoffs = np.zeros((len(ID_list), len(SIs)))\n",
    "repo_RT_cutoffs = np.zeros((len(ID_list), len(SIs)))\n",
    "encode_RT_cutoffs = np.zeros((len(ID_list), len(SIs)))\n",
    "\n",
    "for i in range(0, len(ID_list)): # iterate through participants\n",
    "  ID = ID_list[i]\n",
    "  RT_cutoff_1 = np.zeros(len(SIs))\n",
    "  repo_RT_cutoff_1 = np.zeros(len(SIs))\n",
    "  encode_RT_cutoff_1 = np.zeros(len(SIs))\n",
    "\n",
    "  for j in range(0, len(SIs)): # iterate through SIs\n",
    "    si = SIs[j]\n",
    "    #RL_participant_df = RL_metadata.query(\"ID == @ID & SI == @si\").copy()\n",
    "    RL_participant_df = RL_metadata[(RL_metadata[\"ID\"] == ID) & (RL_metadata[\"SI\"] == si)].copy()\n",
    "    RT_cutoffs[i, j] = RL_participant_df[\"Response_Time\"].median()\n",
    "\n",
    "    #repo_participant_df = repo_metadata.query(\"ID == @ID & SI == @si\").copy()\n",
    "    repo_participant_df = repo_metadata[(repo_metadata[\"ID\"] == ID) & (repo_metadata[\"SI\"] == si)].copy()\n",
    "    repo_RT_cutoffs[i, j] = repo_participant_df[\"Response_Time\"].median()\n",
    "\n",
    "    #encode_participant_df = encode_metadata.query(\"ID == @ID & SI == @si\").copy()\n",
    "    encode_participant_df = encode_metadata[(encode_metadata[\"ID\"] == ID) & (encode_metadata[\"SI\"] == si)].copy()\n",
    "    encode_RT_cutoffs[i, j] = encode_participant_df[\"Response_Time\"].median()"
   ]
  },
  {
   "cell_type": "code",
   "execution_count": null,
   "metadata": {
    "executionInfo": {
     "elapsed": 1540,
     "status": "ok",
     "timestamp": 1702310082415,
     "user": {
      "displayName": "Harvey McCone",
      "userId": "11012039386955284988"
     },
     "user_tz": 0
    },
    "id": "wIf8fl-owZoZ"
   },
   "outputs": [],
   "source": [
    "for index in RL_metadata.index:\n",
    "  ID_index = ID_list.index(RL_metadata.at[index, \"ID\"])\n",
    "  SI_index = list(SIs).index(RL_metadata.at[index, \"SI\"])\n",
    "\n",
    "  if RL_metadata.at[index, \"Response_Time\"] < RT_cutoffs[ID_index, SI_index]:\n",
    "    RL_metadata.at[index, \"RT_Bin2\"] = 1\n",
    "  elif RL_metadata.at[index, \"Response_Time\"] > RT_cutoffs[ID_index, SI_index]:\n",
    "    RL_metadata.at[index, \"RT_Bin2\"] = 2"
   ]
  },
  {
   "cell_type": "code",
   "execution_count": null,
   "metadata": {
    "executionInfo": {
     "elapsed": 1171,
     "status": "ok",
     "timestamp": 1702310083583,
     "user": {
      "displayName": "Harvey McCone",
      "userId": "11012039386955284988"
     },
     "user_tz": 0
    },
    "id": "RgVZAin9wZoa"
   },
   "outputs": [],
   "source": [
    "for index in repo_metadata.index:\n",
    "  ID_index = ID_list.index(repo_metadata.at[index, \"ID\"])\n",
    "  SI_index = list(SIs).index(repo_metadata.at[index, \"SI\"])\n",
    "\n",
    "  if repo_metadata.at[index, \"Response_Time\"] < repo_RT_cutoffs[ID_index, SI_index]:\n",
    "    repo_metadata.at[index, \"RT_Bin2\"] = 1\n",
    "  elif repo_metadata.at[index, \"Response_Time\"] > repo_RT_cutoffs[ID_index, SI_index]:\n",
    "    repo_metadata.at[index, \"RT_Bin2\"] = 2"
   ]
  },
  {
   "cell_type": "code",
   "execution_count": null,
   "metadata": {
    "executionInfo": {
     "elapsed": 2006,
     "status": "ok",
     "timestamp": 1702310085587,
     "user": {
      "displayName": "Harvey McCone",
      "userId": "11012039386955284988"
     },
     "user_tz": 0
    },
    "id": "7kauKQQc1Llv"
   },
   "outputs": [],
   "source": [
    "for index in encode_metadata.index:\n",
    "  ID_index = ID_list.index(encode_metadata.at[index, \"ID\"])\n",
    "  SI_index = list(SIs).index(encode_metadata.at[index, \"SI\"])\n",
    "\n",
    "  if encode_metadata.at[index, \"Response_Time\"] < encode_RT_cutoffs[ID_index, SI_index]:\n",
    "    encode_metadata.at[index, \"RT_Bin2\"] = 1\n",
    "  elif encode_metadata.at[index, \"Response_Time\"] > encode_RT_cutoffs[ID_index, SI_index]:\n",
    "    encode_metadata.at[index, \"RT_Bin2\"] = 2"
   ]
  },
  {
   "cell_type": "code",
   "execution_count": null,
   "metadata": {
    "colab": {
     "base_uri": "https://localhost:8080/",
     "height": 206
    },
    "executionInfo": {
     "elapsed": 347,
     "status": "ok",
     "timestamp": 1702310085932,
     "user": {
      "displayName": "Harvey McCone",
      "userId": "11012039386955284988"
     },
     "user_tz": 0
    },
    "id": "4DKfz31fwZoa",
    "outputId": "65a6fb0b-067c-4d1c-c80b-8a3e29176fec"
   },
   "outputs": [],
   "source": [
    "RL_metadata.head()"
   ]
  },
  {
   "cell_type": "markdown",
   "metadata": {
    "id": "-X3WAnvs6KR7"
   },
   "source": [
    "# Z-Score Gap Within Participant\n",
    "Accounts for differences in gap duration across participants"
   ]
  },
  {
   "cell_type": "code",
   "execution_count": null,
   "metadata": {
    "executionInfo": {
     "elapsed": 235,
     "status": "ok",
     "timestamp": 1702310086163,
     "user": {
      "displayName": "Harvey McCone",
      "userId": "11012039386955284988"
     },
     "user_tz": 0
    },
    "id": "DMzSqln76MaL"
   },
   "outputs": [],
   "source": [
    "encode_standardized_RTs = list(np.zeros(len(ID_list)))\n",
    "repo_standardized_RTs = list(np.zeros(len(ID_list)))\n",
    "RL_standardized_RTs = list(np.zeros(len(ID_list)))\n",
    "\n",
    "for i in range(0, len(ID_list)):\n",
    "  ID = ID_list[i]\n",
    "  encode_participant_df = encode_metadata.query(\"ID == @ID\")\n",
    "  encode_standardized_RTs[i] = np.array((encode_participant_df[\"Gap\"] - np.nanmean(encode_participant_df[\"Gap\"])) / np.nanstd(encode_participant_df[\"Gap\"]))\n",
    "\n",
    "  repo_participant_df = repo_metadata.query(\"ID == @ID\")\n",
    "  repo_standardized_RTs[i] = np.array((repo_participant_df[\"Gap\"] - np.nanmean(repo_participant_df[\"Gap\"])) / np.nanstd(repo_participant_df[\"Gap\"]))\n",
    "\n",
    "  RL_participant_df = RL_metadata.query(\"ID == @ID\")\n",
    "  RL_standardized_RTs[i] = np.array((RL_participant_df[\"Gap\"] - np.nanmean(RL_participant_df[\"Gap\"])) / np.nanstd(RL_participant_df[\"Gap\"]))\n",
    "\n",
    "encode_metadata[\"Gap\"] = np.concatenate(encode_standardized_RTs)\n",
    "repo_metadata[\"Gap\"] = np.concatenate(repo_standardized_RTs)\n",
    "RL_metadata[\"Gap\"] = np.concatenate(RL_standardized_RTs)"
   ]
  },
  {
   "cell_type": "markdown",
   "metadata": {
    "id": "mNiZiZ0Uh67f"
   },
   "source": [
    "# Standardize SI Variable"
   ]
  },
  {
   "cell_type": "code",
   "execution_count": null,
   "metadata": {
    "colab": {
     "base_uri": "https://localhost:8080/",
     "height": 226
    },
    "executionInfo": {
     "elapsed": 15,
     "status": "ok",
     "timestamp": 1702310086163,
     "user": {
      "displayName": "Harvey McCone",
      "userId": "11012039386955284988"
     },
     "user_tz": 0
    },
    "id": "7nTvpVsch67f",
    "outputId": "a6af7cc3-f68f-4d9f-b09c-8ebad67acf37"
   },
   "outputs": [],
   "source": [
    "encode_metadata.head()"
   ]
  },
  {
   "cell_type": "code",
   "execution_count": null,
   "metadata": {
    "colab": {
     "base_uri": "https://localhost:8080/"
    },
    "executionInfo": {
     "elapsed": 14,
     "status": "ok",
     "timestamp": 1702310086164,
     "user": {
      "displayName": "Harvey McCone",
      "userId": "11012039386955284988"
     },
     "user_tz": 0
    },
    "id": "f1mPlruZh67g",
    "outputId": "7218146c-8e48-4355-c14c-420cb70b2ae6"
   },
   "outputs": [],
   "source": [
    "SIz = (np.array(SIs) - np.mean(SIs)) / np.std(SIs)\n",
    "print(SIz)"
   ]
  },
  {
   "cell_type": "code",
   "execution_count": null,
   "metadata": {
    "executionInfo": {
     "elapsed": 10,
     "status": "ok",
     "timestamp": 1702310086164,
     "user": {
      "displayName": "Harvey McCone",
      "userId": "11012039386955284988"
     },
     "user_tz": 0
    },
    "id": "xfL1fwdwh67g"
   },
   "outputs": [],
   "source": [
    "replace_dict = {600: SIz[0], 650: SIz[1], 700: SIz[2], 750: SIz[3], 800:SIz[4], 850:SIz[5], 900:SIz[6], 950:SIz[7], 1000:SIz[8]}\n",
    "\n",
    "encode_metadata[\"SI\"].replace(replace_dict, inplace = True)\n",
    "repo_metadata[\"SI\"].replace(replace_dict, inplace = True)\n",
    "RL_metadata[\"SI\"].replace(replace_dict, inplace = True)"
   ]
  },
  {
   "cell_type": "code",
   "execution_count": null,
   "metadata": {
    "colab": {
     "base_uri": "https://localhost:8080/",
     "height": 226
    },
    "executionInfo": {
     "elapsed": 9,
     "status": "ok",
     "timestamp": 1702310086164,
     "user": {
      "displayName": "Harvey McCone",
      "userId": "11012039386955284988"
     },
     "user_tz": 0
    },
    "id": "jTqpJBkSh67g",
    "outputId": "34e371ee-b1b9-4f26-d81b-2d4710baa578"
   },
   "outputs": [],
   "source": [
    "encode_metadata.head()"
   ]
  },
  {
   "cell_type": "markdown",
   "metadata": {
    "id": "eJxbLncGe9fN"
   },
   "source": [
    "# Standardize Response_Time Variable"
   ]
  },
  {
   "cell_type": "code",
   "execution_count": null,
   "metadata": {
    "executionInfo": {
     "elapsed": 8,
     "status": "ok",
     "timestamp": 1702310086164,
     "user": {
      "displayName": "Harvey McCone",
      "userId": "11012039386955284988"
     },
     "user_tz": 0
    },
    "id": "QUxSd_rjfEhM"
   },
   "outputs": [],
   "source": [
    "encode_metadata[\"Response_Time\"] = (encode_metadata[\"Response_Time\"] - encode_metadata[\"Response_Time\"].mean()) / encode_metadata[\"Response_Time\"].std()\n",
    "repo_metadata[\"Response_Time\"] = (repo_metadata[\"Response_Time\"] - repo_metadata[\"Response_Time\"].mean()) / repo_metadata[\"Response_Time\"].std()\n",
    "RL_metadata[\"Response_Time\"] = (RL_metadata[\"Response_Time\"] - RL_metadata[\"Response_Time\"].mean()) / RL_metadata[\"Response_Time\"].std()"
   ]
  },
  {
   "cell_type": "markdown",
   "metadata": {
    "id": "xcIj7amsAq1k"
   },
   "source": [
    "# Standardize Output Measures"
   ]
  },
  {
   "cell_type": "code",
   "execution_count": null,
   "metadata": {
    "executionInfo": {
     "elapsed": 9,
     "status": "ok",
     "timestamp": 1702310086165,
     "user": {
      "displayName": "Harvey McCone",
      "userId": "11012039386955284988"
     },
     "user_tz": 0
    },
    "id": "IHHOiTH6AyxU"
   },
   "outputs": [],
   "source": [
    "stan = 0\n",
    "\n",
    "if stan:\n",
    "  encode_metadata[\"Encode_Offset_Beta_Amp\"] = (encode_metadata[\"Encode_Offset_Beta_Amp\"] - encode_metadata[\"Encode_Offset_Beta_Amp\"].mean()) / encode_metadata[\"Encode_Offset_Beta_Amp\"].std()\n",
    "  encode_metadata[\"Encode_Offset_Beta_Slope\"] = (encode_metadata[\"Encode_Offset_Beta_Slope\"] - encode_metadata[\"Encode_Offset_Beta_Slope\"].mean()) / encode_metadata[\"Encode_Offset_Beta_Slope\"].std()\n",
    "\n",
    "  repo_metadata[\"Repo_Onset_Beta_Amp\"] = (repo_metadata[\"Repo_Onset_Beta_Amp\"] - repo_metadata[\"Repo_Onset_Beta_Amp\"].mean()) / repo_metadata[\"Repo_Onset_Beta_Amp\"].std()\n",
    "  RL_metadata[\"RL_Beta_Amp\"] = (RL_metadata[\"RL_Beta_Amp\"] - RL_metadata[\"RL_Beta_Amp\"].mean()) / RL_metadata[\"RL_Beta_Amp\"].std()\n",
    "  RL_metadata[\"RL_Beta_Slope\"] = (RL_metadata[\"RL_Beta_Slope\"] - RL_metadata[\"RL_Beta_Slope\"].mean()) / RL_metadata[\"RL_Beta_Slope\"].std()\n",
    "  RL_metadata[\"RESP_Beta\"] = (RL_metadata[\"RESP_Beta\"] - RL_metadata[\"RESP_Beta\"].mean()) / RL_metadata[\"RESP_Beta\"].std()"
   ]
  },
  {
   "cell_type": "markdown",
   "metadata": {
    "id": "fQwgX3A_i18n"
   },
   "source": [
    "# For Checking RL analysis, remove trials with RT < 600ms"
   ]
  },
  {
   "cell_type": "code",
   "execution_count": null,
   "metadata": {
    "executionInfo": {
     "elapsed": 8,
     "status": "ok",
     "timestamp": 1702310086165,
     "user": {
      "displayName": "Harvey McCone",
      "userId": "11012039386955284988"
     },
     "user_tz": 0
    },
    "id": "7tWBWjRLi4-W"
   },
   "outputs": [],
   "source": [
    "#print(RL_metadata.shape)\n",
    "#RL_metadata = RL_metadata[RL_metadata[\"Response_Time\"] < 0.6].copy()\n",
    "#print(RL_metadata.shape)"
   ]
  },
  {
   "cell_type": "markdown",
   "metadata": {
    "id": "_ENLiUtLEU-U"
   },
   "source": [
    "# Save Files"
   ]
  },
  {
   "cell_type": "code",
   "execution_count": null,
   "metadata": {
    "executionInfo": {
     "elapsed": 3093,
     "status": "ok",
     "timestamp": 1702310089250,
     "user": {
      "displayName": "Harvey McCone",
      "userId": "11012039386955284988"
     },
     "user_tz": 0
    },
    "id": "XNwAaw0Si6hx"
   },
   "outputs": [],
   "source": [
    "fname = \"/content/drive/MyDrive/Time_Reproduction/JASP_Files_TR/\" + \"Encode_Beta.csv\"\n",
    "encode_metadata.to_csv(fname)\n",
    "\n",
    "fname = \"/content/drive/MyDrive/Time_Reproduction/JASP_Files_TR/\" + \"Repo_Beta.csv\"\n",
    "repo_metadata.to_csv(fname)\n",
    "\n",
    "fname = \"/content/drive/MyDrive/Time_Reproduction/JASP_Files_TR/\" + \"RL_Beta.csv\"\n",
    "RL_metadata.to_csv(fname)"
   ]
  },
  {
   "cell_type": "markdown",
   "metadata": {
    "id": "9bmYRCYHt-l0"
   },
   "source": [
    "# ANOVA"
   ]
  },
  {
   "cell_type": "code",
   "execution_count": null,
   "metadata": {
    "colab": {
     "base_uri": "https://localhost:8080/",
     "height": 614
    },
    "executionInfo": {
     "elapsed": 12,
     "status": "ok",
     "timestamp": 1702310089251,
     "user": {
      "displayName": "Harvey McCone",
      "userId": "11012039386955284988"
     },
     "user_tz": 0
    },
    "id": "zZBSrTcDuJXw",
    "outputId": "ebd5daa9-2a0f-4478-bb65-255f8d8f601f"
   },
   "outputs": [],
   "source": [
    "labels = [\"Fast\", \"Slow\"]\n",
    "conds = [1, 2]\n",
    "\n",
    "dv = \"RL_Beta_Slope\"\n",
    "\n",
    "trial_numbers_RL = np.zeros((len(ID_list), len(conds)))\n",
    "\n",
    "ANOVA_array = np.zeros((len(ID_list), len(labels)))\n",
    "\n",
    "mean_RT = np.zeros((len(ID_list), len(conds)))\n",
    "\n",
    "for i in range(0, len(ID_list)):\n",
    "  participant_df = RL_metadata[RL_metadata[\"ID\"] == ID_list[i]]\n",
    "\n",
    "  for j in range(0, len(labels)):\n",
    "    cond = conds[j]\n",
    "    #condition_df = participant_df.query(\"RT_Bin2 == @cond\")\n",
    "    condition_df = participant_df[participant_df[\"RT_Bin2\"] == cond]\n",
    "    ANOVA_array[i, j] = condition_df[dv].mean()\n",
    "    trial_numbers_RL[i, j] = condition_df.shape[0]\n",
    "    mean_RT[i, j] = condition_df[\"Response_Time\"].mean()\n",
    "\n",
    "ANOVA_df = pd.DataFrame(ANOVA_array, columns = labels, index = ID_list)\n",
    "ANOVA_df"
   ]
  },
  {
   "cell_type": "code",
   "execution_count": null,
   "metadata": {
    "executionInfo": {
     "elapsed": 10,
     "status": "ok",
     "timestamp": 1702310089251,
     "user": {
      "displayName": "Harvey McCone",
      "userId": "11012039386955284988"
     },
     "user_tz": 0
    },
    "id": "g6s8z_FEuJXx"
   },
   "outputs": [],
   "source": [
    "if stan:\n",
    "  fname = \"/content/drive/MyDrive/Time_Reproduction/JASP_Files_TR/\" + \"RL_Beta_Slope_jasp_Med_ANOVA.csv\"\n",
    "  ANOVA_df.to_csv(fname)"
   ]
  },
  {
   "cell_type": "code",
   "execution_count": null,
   "metadata": {
    "colab": {
     "base_uri": "https://localhost:8080/"
    },
    "executionInfo": {
     "elapsed": 9,
     "status": "ok",
     "timestamp": 1702310089251,
     "user": {
      "displayName": "Harvey McCone",
      "userId": "11012039386955284988"
     },
     "user_tz": 0
    },
    "id": "6ykYjja0uJXx",
    "outputId": "5fd84451-456a-4b32-9e33-eb0cc8e0692f"
   },
   "outputs": [],
   "source": [
    "plt.style.use(\"seaborn-colorblind\")\n",
    "palette = sns.color_palette()\n",
    "colors = [\"Red\", \"Blue\"]"
   ]
  },
  {
   "cell_type": "code",
   "execution_count": null,
   "metadata": {
    "colab": {
     "base_uri": "https://localhost:8080/",
     "height": 478
    },
    "executionInfo": {
     "elapsed": 2138,
     "status": "ok",
     "timestamp": 1702310091384,
     "user": {
      "displayName": "Harvey McCone",
      "userId": "11012039386955284988"
     },
     "user_tz": 0
    },
    "id": "lIR3hPmMuJXx",
    "outputId": "eb40df8a-2c73-46af-8595-937b31e1d8b8"
   },
   "outputs": [],
   "source": [
    "fig, ax = plt.subplots()\n",
    "ax.set_xticks([0.25, 0.75])\n",
    "ax.set_xticklabels([\"Fast\", \"Slow\"])\n",
    "\n",
    "ax.plot(0.25, ANOVA_df[\"Fast\"].mean(), marker = \"o\", markersize = \"20\", color = colors[0])\n",
    "ax.plot(0.75, ANOVA_df[\"Slow\"].mean(), marker = \"o\", markersize = \"20\", color = colors[1])\n",
    "ax.plot(np.array([0.25, 0.75]), ANOVA_df.mean(axis = 0), color = \"k\")\n",
    "\n",
    "for ID in ID_list:\n",
    "  participant_df = ANOVA_df.loc[ID]\n",
    "  ax.plot(0.25, participant_df[\"Fast\"], marker = \"o\", alpha = 0.1, color = colors[0])\n",
    "  ax.plot(0.75, participant_df[\"Slow\"], marker = \"o\", alpha = 0.1, color = colors[1])\n",
    "  ax.plot([0.25, 0.75], np.array(participant_df), alpha = 0.1, color = \"k\")\n",
    "\n",
    "sns.despine()\n",
    "plt.xlim(0.05, 0.95)\n",
    "plt.xlabel(\"RT Bin\", fontsize = \"xx-large\", labelpad = 10)\n",
    "plt.ylabel(\"Mu/Beta Slope\" + \" \" + \"$(\\mu V/m^2/s)$\", fontsize = \"xx-large\", weight='bold')\n",
    "ax = plt.gca()\n",
    "ax.tick_params(labelsize = \"xx-large\")\n",
    "\n",
    "fname = \"/content/drive/MyDrive/Time_Reproduction/Plots/ERPs/\" + \"RL_Beta_Slope_RT_Bins.png\"\n",
    "plt.savefig(fname, dpi = 300, bbox_inches = \"tight\")"
   ]
  },
  {
   "cell_type": "code",
   "execution_count": null,
   "metadata": {
    "colab": {
     "base_uri": "https://localhost:8080/",
     "height": 614
    },
    "executionInfo": {
     "elapsed": 7,
     "status": "ok",
     "timestamp": 1702310091384,
     "user": {
      "displayName": "Harvey McCone",
      "userId": "11012039386955284988"
     },
     "user_tz": 0
    },
    "id": "P6qQ5y_9uJXx",
    "outputId": "3a9abda1-ca6e-4a7a-fa50-c11e6bbf5685"
   },
   "outputs": [],
   "source": [
    "labels = [\"Fast\", \"Slow\"]\n",
    "conds = [1, 2]\n",
    "\n",
    "dv = \"RL_Beta_Amp\"\n",
    "\n",
    "trial_numbers_RL = np.zeros((len(ID_list), len(conds)))\n",
    "\n",
    "ANOVA_array = np.zeros((len(ID_list), len(labels)))\n",
    "\n",
    "mean_RT = np.zeros((len(ID_list), len(conds)))\n",
    "\n",
    "for i in range(0, len(ID_list)):\n",
    "  participant_df = RL_metadata[RL_metadata[\"ID\"] == ID_list[i]]\n",
    "\n",
    "  for j in range(0, len(labels)):\n",
    "    cond = conds[j]\n",
    "    #condition_df = participant_df.query(\"RT_Bin2 == @cond\")\n",
    "    condition_df = participant_df[participant_df[\"RT_Bin2\"] == cond]\n",
    "    ANOVA_array[i, j] = condition_df[dv].mean()\n",
    "    trial_numbers_RL[i, j] = condition_df.shape[0]\n",
    "    mean_RT[i, j] = condition_df[\"Response_Time\"].mean()\n",
    "\n",
    "ANOVA_df = pd.DataFrame(ANOVA_array, columns = labels, index = ID_list)\n",
    "ANOVA_df"
   ]
  },
  {
   "cell_type": "code",
   "execution_count": null,
   "metadata": {
    "executionInfo": {
     "elapsed": 5,
     "status": "ok",
     "timestamp": 1702310091384,
     "user": {
      "displayName": "Harvey McCone",
      "userId": "11012039386955284988"
     },
     "user_tz": 0
    },
    "id": "pVV2kYxguJXy"
   },
   "outputs": [],
   "source": [
    "if stan:\n",
    "  fname = \"/content/drive/MyDrive/Time_Reproduction/JASP_Files_TR/\" + \"RL_Beta_Amp_jasp_Med_ANOVA.csv\"\n",
    "  ANOVA_df.to_csv(fname)"
   ]
  },
  {
   "cell_type": "code",
   "execution_count": null,
   "metadata": {
    "colab": {
     "base_uri": "https://localhost:8080/",
     "height": 471
    },
    "executionInfo": {
     "elapsed": 966,
     "status": "ok",
     "timestamp": 1702310092346,
     "user": {
      "displayName": "Harvey McCone",
      "userId": "11012039386955284988"
     },
     "user_tz": 0
    },
    "id": "SpiivkcIuJXy",
    "outputId": "42888c95-5be5-4418-a4ce-136c532b6f41"
   },
   "outputs": [],
   "source": [
    "fig, ax = plt.subplots()\n",
    "ax.set_xticks([0.25, 0.75])\n",
    "ax.set_xticklabels([\"Fast\", \"Slow\"])\n",
    "\n",
    "ax.plot(0.25, ANOVA_df[\"Fast\"].mean(), marker = \"o\", markersize = \"20\", color = colors[0])\n",
    "ax.plot(0.75, ANOVA_df[\"Slow\"].mean(), marker = \"o\", markersize = \"20\", color = colors[1])\n",
    "ax.plot(np.array([0.25, 0.75]), ANOVA_df.mean(axis = 0), color = \"k\")\n",
    "\n",
    "for ID in ID_list:\n",
    "  participant_df = ANOVA_df.loc[ID]\n",
    "  ax.plot(0.25, participant_df[\"Fast\"], marker = \"o\", alpha = 0.1, color = colors[0])\n",
    "  ax.plot(0.75, participant_df[\"Slow\"], marker = \"o\", alpha = 0.1, color = colors[1])\n",
    "  ax.plot([0.25, 0.75], np.array(participant_df), alpha = 0.1, color = \"k\")\n",
    "\n",
    "sns.despine()\n",
    "plt.xlim(0.05, 0.95)\n",
    "plt.xlabel(\"RT Bin\", fontsize = \"xx-large\", labelpad = 5)\n",
    "plt.ylabel(\"Mu/Beta Amplitude\" + \" \" + \"$(\\mu V/m^2)$\", fontsize = \"xx-large\", weight='bold')\n",
    "ax = plt.gca()\n",
    "ax.tick_params(labelsize = \"xx-large\")\n",
    "\n",
    "fname = \"/content/drive/MyDrive/Time_Reproduction/Plots/ERPs/\" + \"RL_Beta_Amp_RT_Bins.png\"\n",
    "plt.savefig(fname, dpi = 300, bbox_inches = \"tight\")"
   ]
  },
  {
   "cell_type": "code",
   "execution_count": null,
   "metadata": {
    "colab": {
     "base_uri": "https://localhost:8080/",
     "height": 614
    },
    "executionInfo": {
     "elapsed": 8,
     "status": "ok",
     "timestamp": 1702310092346,
     "user": {
      "displayName": "Harvey McCone",
      "userId": "11012039386955284988"
     },
     "user_tz": 0
    },
    "id": "hBp3av4puJX0",
    "outputId": "d1a3fe20-f074-49fe-d41f-7e04c3533643"
   },
   "outputs": [],
   "source": [
    "labels = [\"Fast\", \"Slow\"]\n",
    "conds = [1, 2]\n",
    "\n",
    "dv = \"Repo_Onset_Beta_Amp\"\n",
    "\n",
    "trial_numbers_RL = np.zeros((len(ID_list), len(conds)))\n",
    "\n",
    "ANOVA_array = np.zeros((len(ID_list), len(labels)))\n",
    "\n",
    "mean_RT = np.zeros((len(ID_list), len(conds)))\n",
    "\n",
    "for i in range(0, len(ID_list)):\n",
    "  participant_df = repo_metadata[repo_metadata[\"ID\"] == ID_list[i]]\n",
    "\n",
    "  for j in range(0, len(labels)):\n",
    "    cond = conds[j]\n",
    "    #condition_df = participant_df.query(\"RT_Bin2 == @cond\")\n",
    "    condition_df = participant_df[participant_df[\"RT_Bin2\"] == cond]\n",
    "    ANOVA_array[i, j] = condition_df[dv].mean()\n",
    "    mean_RT[i, j] = condition_df[\"Response_Time\"].mean()\n",
    "\n",
    "ANOVA_df = pd.DataFrame(ANOVA_array, columns = labels, index = ID_list)\n",
    "ANOVA_df"
   ]
  },
  {
   "cell_type": "code",
   "execution_count": null,
   "metadata": {
    "executionInfo": {
     "elapsed": 7,
     "status": "ok",
     "timestamp": 1702310092346,
     "user": {
      "displayName": "Harvey McCone",
      "userId": "11012039386955284988"
     },
     "user_tz": 0
    },
    "id": "dMqoLzeKuJX0"
   },
   "outputs": [],
   "source": [
    "if stan:\n",
    "  fname = \"/content/drive/MyDrive/Time_Reproduction/JASP_Files_TR/\" + \"Repo_Onset_Beta_Amp_jasp_Med_ANOVA.csv\"\n",
    "  ANOVA_df.to_csv(fname)"
   ]
  },
  {
   "cell_type": "code",
   "execution_count": null,
   "metadata": {
    "colab": {
     "base_uri": "https://localhost:8080/",
     "height": 478
    },
    "executionInfo": {
     "elapsed": 941,
     "status": "ok",
     "timestamp": 1702310093281,
     "user": {
      "displayName": "Harvey McCone",
      "userId": "11012039386955284988"
     },
     "user_tz": 0
    },
    "id": "77phVqceuJX0",
    "outputId": "b64dbce8-b815-475a-b535-e34e5450653b"
   },
   "outputs": [],
   "source": [
    "fig, ax = plt.subplots()\n",
    "ax.set_xticks([0.25, 0.75])\n",
    "ax.set_xticklabels([\"Fast\", \"Slow\"])\n",
    "\n",
    "ax.plot(0.25, ANOVA_df[\"Fast\"].mean(), marker = \"o\", markersize = \"20\", color = colors[0])\n",
    "ax.plot(0.75, ANOVA_df[\"Slow\"].mean(), marker = \"o\", markersize = \"20\", color = colors[1])\n",
    "ax.plot(np.array([0.25, 0.75]), ANOVA_df.mean(axis = 0), color = \"k\")\n",
    "\n",
    "for ID in ID_list:\n",
    "  participant_df = ANOVA_df.loc[ID]\n",
    "  ax.plot(0.25, participant_df[\"Fast\"], marker = \"o\", alpha = 0.1, color = colors[0])\n",
    "  ax.plot(0.75, participant_df[\"Slow\"], marker = \"o\", alpha = 0.1, color = colors[1])\n",
    "  ax.plot([0.25, 0.75], np.array(participant_df), alpha = 0.1, color = \"k\")\n",
    "\n",
    "sns.despine()\n",
    "plt.xlim(0.05, 0.95)\n",
    "plt.xlabel(\"RT Bin\", fontsize = \"xx-large\", labelpad = 5)\n",
    "plt.xlabel(\"RT Bin\", fontsize = \"xx-large\", labelpad = 10)\n",
    "plt.ylabel(\"Mu/Beta Amplitude\" + \" \" + \"$(\\mu V/m^2)$\", fontsize = \"xx-large\", weight='bold')\n",
    "ax = plt.gca()\n",
    "ax.tick_params(labelsize = \"xx-large\")\n",
    "\n",
    "fname = \"/content/drive/MyDrive/Time_Reproduction/Plots/ERPs/\" + \"Cue_Onset_Beta_RT_Bins.png\"\n",
    "plt.savefig(fname, dpi = 300, bbox_inches = \"tight\")"
   ]
  },
  {
   "cell_type": "code",
   "execution_count": null,
   "metadata": {
    "colab": {
     "base_uri": "https://localhost:8080/",
     "height": 614
    },
    "executionInfo": {
     "elapsed": 7,
     "status": "ok",
     "timestamp": 1702310093281,
     "user": {
      "displayName": "Harvey McCone",
      "userId": "11012039386955284988"
     },
     "user_tz": 0
    },
    "id": "TA8f-n2hLbGI",
    "outputId": "1aa3c9da-d440-406c-f930-efbc85600e24"
   },
   "outputs": [],
   "source": [
    "labels = [\"Fast\", \"Slow\"]\n",
    "conds = [1, 2]\n",
    "\n",
    "dv = \"RESP_Beta\"\n",
    "\n",
    "trial_numbers_RL = np.zeros((len(ID_list), len(conds)))\n",
    "\n",
    "ANOVA_array = np.zeros((len(ID_list), len(labels)))\n",
    "\n",
    "mean_RT = np.zeros((len(ID_list), len(conds)))\n",
    "\n",
    "for i in range(0, len(ID_list)):\n",
    "  participant_df = RL_metadata[RL_metadata[\"ID\"] == ID_list[i]]\n",
    "\n",
    "  for j in range(0, len(labels)):\n",
    "    cond = conds[j]\n",
    "    #condition_df = participant_df.query(\"RT_Bin2 == @cond\")\n",
    "    condition_df = participant_df[participant_df[\"RT_Bin2\"] == cond]\n",
    "    ANOVA_array[i, j] = condition_df[dv].mean()\n",
    "    trial_numbers_RL[i, j] = condition_df.shape[0]\n",
    "    mean_RT[i, j] = condition_df[\"Response_Time\"].mean()\n",
    "\n",
    "ANOVA_df = pd.DataFrame(ANOVA_array, columns = labels, index = ID_list)\n",
    "ANOVA_df"
   ]
  },
  {
   "cell_type": "code",
   "execution_count": null,
   "metadata": {
    "executionInfo": {
     "elapsed": 6,
     "status": "ok",
     "timestamp": 1702310093282,
     "user": {
      "displayName": "Harvey McCone",
      "userId": "11012039386955284988"
     },
     "user_tz": 0
    },
    "id": "_EvOIPlALbGS"
   },
   "outputs": [],
   "source": [
    "if stan:\n",
    "  fname = \"/content/drive/MyDrive/Time_Reproduction/JASP_Files_TR/\" + \"RESP_Beta_jasp_Med_ANOVA.csv\"\n",
    "  ANOVA_df.to_csv(fname)"
   ]
  },
  {
   "cell_type": "code",
   "execution_count": null,
   "metadata": {
    "colab": {
     "base_uri": "https://localhost:8080/",
     "height": 476
    },
    "executionInfo": {
     "elapsed": 947,
     "status": "ok",
     "timestamp": 1702310094223,
     "user": {
      "displayName": "Harvey McCone",
      "userId": "11012039386955284988"
     },
     "user_tz": 0
    },
    "id": "g5iekFDzLbGS",
    "outputId": "7e92c9f6-4146-4cc2-f52d-ea1cc5fa1662"
   },
   "outputs": [],
   "source": [
    "fig, ax = plt.subplots()\n",
    "ax.set_xticks([0.25, 0.75])\n",
    "ax.set_xticklabels([\"Fast\", \"Slow\"])\n",
    "\n",
    "ax.plot(0.25, ANOVA_df[\"Fast\"].mean(), marker = \"o\", markersize = \"20\", color = colors[0])\n",
    "ax.plot(0.75, ANOVA_df[\"Slow\"].mean(), marker = \"o\", markersize = \"20\", color = colors[1])\n",
    "ax.plot(np.array([0.25, 0.75]), ANOVA_df.mean(axis = 0), color = \"k\")\n",
    "\n",
    "for ID in ID_list:\n",
    "  participant_df = ANOVA_df.loc[ID]\n",
    "  ax.plot(0.25, participant_df[\"Fast\"], marker = \"o\", alpha = 0.1, color = colors[0])\n",
    "  ax.plot(0.75, participant_df[\"Slow\"], marker = \"o\", alpha = 0.1, color = colors[1])\n",
    "  ax.plot([0.25, 0.75], np.array(participant_df), alpha = 0.1, color = \"k\")\n",
    "\n",
    "sns.despine()\n",
    "plt.xlim(0.05, 0.95)\n",
    "plt.xlabel(\"RT Bin\", fontsize = \"xx-large\", labelpad = 5)\n",
    "plt.ylabel(\"Mu/Beta Amplitude\" + \" \" + \"$(\\mu V/m^2)$\", fontsize = \"xx-large\", weight='bold')\n",
    "ax = plt.gca()\n",
    "ax.tick_params(labelsize = \"xx-large\")\n",
    "\n",
    "fname = \"/content/drive/MyDrive/Time_Reproduction/Plots/ERPs/\" + \"RESP_Beta_RT_Bins.png\"\n",
    "plt.savefig(fname, dpi = 300, bbox_inches = \"tight\")"
   ]
  },
  {
   "cell_type": "code",
   "execution_count": null,
   "metadata": {
    "colab": {
     "base_uri": "https://localhost:8080/",
     "height": 614
    },
    "executionInfo": {
     "elapsed": 6,
     "status": "ok",
     "timestamp": 1702310094223,
     "user": {
      "displayName": "Harvey McCone",
      "userId": "11012039386955284988"
     },
     "user_tz": 0
    },
    "id": "IScq6HwZGWxq",
    "outputId": "27ea6800-aa13-4884-e1e1-7f14cd8c280b"
   },
   "outputs": [],
   "source": [
    "labels = [\"Fast\", \"Slow\"]\n",
    "conds = [1, 2]\n",
    "\n",
    "dv = \"Encode_Offset_Beta_Amp\"\n",
    "\n",
    "ANOVA_array = np.zeros((len(ID_list), len(labels)))\n",
    "\n",
    "mean_RT = np.zeros((len(ID_list), len(conds)))\n",
    "\n",
    "for i in range(0, len(ID_list)):\n",
    "  participant_df = encode_metadata[encode_metadata[\"ID\"] == ID_list[i]]\n",
    "\n",
    "  for j in range(0, len(labels)):\n",
    "    cond = conds[j]\n",
    "    #condition_df = participant_df.query(\"RT_Bin2 == @cond\")\n",
    "    condition_df = participant_df[participant_df[\"RT_Bin2\"] == cond]\n",
    "    ANOVA_array[i, j] = condition_df[dv].mean()\n",
    "    mean_RT[i, j] = condition_df[\"Response_Time\"].mean()\n",
    "\n",
    "ANOVA_df = pd.DataFrame(ANOVA_array, columns = labels, index = ID_list)\n",
    "ANOVA_df"
   ]
  },
  {
   "cell_type": "code",
   "execution_count": null,
   "metadata": {
    "executionInfo": {
     "elapsed": 5,
     "status": "ok",
     "timestamp": 1702310094224,
     "user": {
      "displayName": "Harvey McCone",
      "userId": "11012039386955284988"
     },
     "user_tz": 0
    },
    "id": "XMreM3XEGWxr"
   },
   "outputs": [],
   "source": [
    "if stan:\n",
    "  fname = \"/content/drive/MyDrive/Time_Reproduction/JASP_Files_TR/\" + \"Encode_Offset_Beta_Amp_jasp_Med_ANOVA.csv\"\n",
    "  ANOVA_df.to_csv(fname)"
   ]
  },
  {
   "cell_type": "code",
   "execution_count": null,
   "metadata": {
    "colab": {
     "base_uri": "https://localhost:8080/",
     "height": 471
    },
    "executionInfo": {
     "elapsed": 884,
     "status": "ok",
     "timestamp": 1702310095103,
     "user": {
      "displayName": "Harvey McCone",
      "userId": "11012039386955284988"
     },
     "user_tz": 0
    },
    "id": "-WNmsDUeGWxr",
    "outputId": "9fc67401-2fb1-49f5-aaf7-8b8e2b103171"
   },
   "outputs": [],
   "source": [
    "fig, ax = plt.subplots()\n",
    "ax.set_xticks([0.25, 0.75])\n",
    "ax.set_xticklabels([\"Fast\", \"Slow\"])\n",
    "\n",
    "ax.plot(0.25, ANOVA_df[\"Fast\"].mean(), marker = \"o\", markersize = \"20\", color = colors[0])\n",
    "ax.plot(0.75, ANOVA_df[\"Slow\"].mean(), marker = \"o\", markersize = \"20\", color = colors[1])\n",
    "ax.plot(np.array([0.25, 0.75]), ANOVA_df.mean(axis = 0), color = \"k\")\n",
    "\n",
    "for ID in ID_list:\n",
    "  participant_df = ANOVA_df.loc[ID]\n",
    "  ax.plot(0.25, participant_df[\"Fast\"], marker = \"o\", alpha = 0.1, color = colors[0])\n",
    "  ax.plot(0.75, participant_df[\"Slow\"], marker = \"o\", alpha = 0.1, color = colors[1])\n",
    "  ax.plot([0.25, 0.75], np.array(participant_df), alpha = 0.1, color = \"k\")\n",
    "\n",
    "sns.despine()\n",
    "plt.xlim(0.05, 0.95)\n",
    "plt.xlabel(\"RT Bin\", fontsize = \"xx-large\", labelpad = 5)\n",
    "plt.ylabel(\"Mu/Beta Amplitude\" + \" \" + \"$(\\mu V/m^2)$\", fontsize = \"xx-large\", weight='bold')\n",
    "ax = plt.gca()\n",
    "ax.tick_params(labelsize = \"xx-large\")\n",
    "\n",
    "fname = \"/content/drive/MyDrive/Time_Reproduction/Plots/ERPs/\" + \"Encode_Offset_Beta_Amp_RT_Bins.png\"\n",
    "plt.savefig(fname, dpi = 300, bbox_inches = \"tight\")"
   ]
  },
  {
   "cell_type": "code",
   "execution_count": null,
   "metadata": {
    "colab": {
     "base_uri": "https://localhost:8080/",
     "height": 614
    },
    "executionInfo": {
     "elapsed": 8,
     "status": "ok",
     "timestamp": 1702310095103,
     "user": {
      "displayName": "Harvey McCone",
      "userId": "11012039386955284988"
     },
     "user_tz": 0
    },
    "id": "EpTXeAsBx4jM",
    "outputId": "8307e572-94b3-4d45-df7f-299a817bfad0"
   },
   "outputs": [],
   "source": [
    "labels = [\"Fast\", \"Slow\"]\n",
    "conds = [1, 2]\n",
    "\n",
    "dv = \"Encode_Offset_Beta_Slope\"\n",
    "\n",
    "ANOVA_array = np.zeros((len(ID_list), len(labels)))\n",
    "\n",
    "mean_RT = np.zeros((len(ID_list), len(conds)))\n",
    "\n",
    "for i in range(0, len(ID_list)):\n",
    "  participant_df = encode_metadata[encode_metadata[\"ID\"] == ID_list[i]]\n",
    "\n",
    "  for j in range(0, len(labels)):\n",
    "    cond = conds[j]\n",
    "    #condition_df = participant_df.query(\"RT_Bin2 == @cond\")\n",
    "    condition_df = participant_df[participant_df[\"RT_Bin2\"] == cond]\n",
    "    ANOVA_array[i, j] = condition_df[dv].mean()\n",
    "    mean_RT[i, j] = condition_df[\"Response_Time\"].mean()\n",
    "\n",
    "ANOVA_df = pd.DataFrame(ANOVA_array, columns = labels, index = ID_list)\n",
    "ANOVA_df"
   ]
  },
  {
   "cell_type": "code",
   "execution_count": null,
   "metadata": {
    "executionInfo": {
     "elapsed": 7,
     "status": "ok",
     "timestamp": 1702310095104,
     "user": {
      "displayName": "Harvey McCone",
      "userId": "11012039386955284988"
     },
     "user_tz": 0
    },
    "id": "dJqzYkayx4jN"
   },
   "outputs": [],
   "source": [
    "if stan:\n",
    "  fname = \"/content/drive/MyDrive/Time_Reproduction/JASP_Files_TR/\" + \"Encode_Offset_Beta_Slope_jasp_Med_ANOVA.csv\"\n",
    "  ANOVA_df.to_csv(fname)"
   ]
  },
  {
   "cell_type": "code",
   "execution_count": null,
   "metadata": {
    "colab": {
     "base_uri": "https://localhost:8080/",
     "height": 471
    },
    "executionInfo": {
     "elapsed": 1018,
     "status": "ok",
     "timestamp": 1702310096115,
     "user": {
      "displayName": "Harvey McCone",
      "userId": "11012039386955284988"
     },
     "user_tz": 0
    },
    "id": "xWT80mWfx4jN",
    "outputId": "98fc8767-8cda-4710-8569-31d60b0b7027"
   },
   "outputs": [],
   "source": [
    "fig, ax = plt.subplots()\n",
    "ax.set_xticks([0.25, 0.75])\n",
    "ax.set_xticklabels([\"Fast\", \"Slow\"])\n",
    "\n",
    "ax.plot(0.25, ANOVA_df[\"Fast\"].mean(), marker = \"o\", markersize = \"20\", color = colors[0])\n",
    "ax.plot(0.75, ANOVA_df[\"Slow\"].mean(), marker = \"o\", markersize = \"20\", color = colors[1])\n",
    "ax.plot(np.array([0.25, 0.75]), ANOVA_df.mean(axis = 0), color = \"k\")\n",
    "\n",
    "for ID in ID_list:\n",
    "  participant_df = ANOVA_df.loc[ID]\n",
    "  ax.plot(0.25, participant_df[\"Fast\"], marker = \"o\", alpha = 0.1, color = colors[0])\n",
    "  ax.plot(0.75, participant_df[\"Slow\"], marker = \"o\", alpha = 0.1, color = colors[1])\n",
    "  ax.plot([0.25, 0.75], np.array(participant_df), alpha = 0.1, color = \"k\")\n",
    "\n",
    "sns.despine()\n",
    "plt.xlim(0.05, 0.95)\n",
    "plt.xlabel(\"RT Bin\", fontsize = \"xx-large\", labelpad = 5)\n",
    "plt.ylabel(\"Mu/Beta Slope\" + \" \" + \"$(\\mu V/m^2/s)$\", fontsize = \"xx-large\", weight='bold')\n",
    "ax = plt.gca()\n",
    "ax.tick_params(labelsize = \"xx-large\")\n",
    "\n",
    "fname = \"/content/drive/MyDrive/Time_Reproduction/Plots/ERPs/\" + \"Encode_Offset_Beta_Slope_RT_Bins.png\"\n",
    "plt.savefig(fname, dpi = 300, bbox_inches = \"tight\")"
   ]
  }
 ],
 "metadata": {
  "colab": {
   "authorship_tag": "ABX9TyO5Ph5OvWafqSe76DlSfjTa",
   "provenance": [],
   "toc_visible": true
  },
  "kernelspec": {
   "display_name": "Python 3",
   "language": "python",
   "name": "python3"
  },
  "language_info": {
   "codemirror_mode": {
    "name": "ipython",
    "version": 3
   },
   "file_extension": ".py",
   "mimetype": "text/x-python",
   "name": "python",
   "nbconvert_exporter": "python",
   "pygments_lexer": "ipython3",
   "version": "3.7.6"
  }
 },
 "nbformat": 4,
 "nbformat_minor": 1
}
