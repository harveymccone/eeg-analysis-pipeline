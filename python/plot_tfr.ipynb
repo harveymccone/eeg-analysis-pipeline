{
 "cells": [
  {
   "cell_type": "markdown",
   "metadata": {
    "id": "vAYSQjOvFBLM"
   },
   "source": [
    "# Script Set Up"
   ]
  },
  {
   "cell_type": "code",
   "execution_count": null,
   "metadata": {
    "executionInfo": {
     "elapsed": 5,
     "status": "ok",
     "timestamp": 1702308500288,
     "user": {
      "displayName": "Harvey McCone",
      "userId": "11012039386955284988"
     },
     "user_tz": 0
    },
    "id": "bJW-Y2dFE-zI"
   },
   "outputs": [],
   "source": [
    "%matplotlib inline"
   ]
  },
  {
   "cell_type": "code",
   "execution_count": null,
   "metadata": {
    "colab": {
     "base_uri": "https://localhost:8080/"
    },
    "executionInfo": {
     "elapsed": 20902,
     "status": "ok",
     "timestamp": 1702308521187,
     "user": {
      "displayName": "Harvey McCone",
      "userId": "11012039386955284988"
     },
     "user_tz": 0
    },
    "id": "GOjs4ohiFPwL",
    "outputId": "da57dbb0-b833-4b1a-eab4-57175b01a0dd"
   },
   "outputs": [],
   "source": [
    "!pip install mne"
   ]
  },
  {
   "cell_type": "code",
   "execution_count": null,
   "metadata": {
    "colab": {
     "base_uri": "https://localhost:8080/"
    },
    "executionInfo": {
     "elapsed": 17928,
     "status": "ok",
     "timestamp": 1702308539110,
     "user": {
      "displayName": "Harvey McCone",
      "userId": "11012039386955284988"
     },
     "user_tz": 0
    },
    "id": "G13BWg7CYU1q",
    "outputId": "691c0aa5-3ff6-4c16-8e62-267e179ad050"
   },
   "outputs": [],
   "source": [
    "!pip install pingouin\n",
    "import pingouin as pg"
   ]
  },
  {
   "cell_type": "code",
   "execution_count": null,
   "metadata": {
    "colab": {
     "base_uri": "https://localhost:8080/"
    },
    "executionInfo": {
     "elapsed": 9681,
     "status": "ok",
     "timestamp": 1702308548786,
     "user": {
      "displayName": "Harvey McCone",
      "userId": "11012039386955284988"
     },
     "user_tz": 0
    },
    "id": "LRRr9s3OwQ5f",
    "outputId": "4766da87-f634-4d6b-b520-f2886d0c4900"
   },
   "outputs": [],
   "source": [
    "pip install h5io --upgrade"
   ]
  },
  {
   "cell_type": "code",
   "execution_count": null,
   "metadata": {
    "executionInfo": {
     "elapsed": 1983,
     "status": "ok",
     "timestamp": 1702308550751,
     "user": {
      "displayName": "Harvey McCone",
      "userId": "11012039386955284988"
     },
     "user_tz": 0
    },
    "id": "G1MKm3O-FbsR"
   },
   "outputs": [],
   "source": [
    "import os\n",
    "import numpy as np\n",
    "from matplotlib import pyplot as plt\n",
    "from scipy import stats\n",
    "import pandas as pd\n",
    "import seaborn as sns\n",
    "import mne\n",
    "import math\n",
    "from scipy.io import loadmat\n",
    "from scipy.fft import fft"
   ]
  },
  {
   "cell_type": "code",
   "execution_count": null,
   "metadata": {
    "colab": {
     "base_uri": "https://localhost:8080/"
    },
    "executionInfo": {
     "elapsed": 84532,
     "status": "ok",
     "timestamp": 1702308635279,
     "user": {
      "displayName": "Harvey McCone",
      "userId": "11012039386955284988"
     },
     "user_tz": 0
    },
    "id": "94eTuNOJFRLr",
    "outputId": "08df37cf-cfd0-45b7-cd53-21071a035311"
   },
   "outputs": [],
   "source": [
    "from google.colab import drive\n",
    "drive.mount('/content/drive')"
   ]
  },
  {
   "cell_type": "markdown",
   "metadata": {
    "id": "pLeJ0bDXRN3_"
   },
   "source": [
    "# Deciding what response times are outliers that should be removed"
   ]
  },
  {
   "cell_type": "code",
   "execution_count": null,
   "metadata": {
    "executionInfo": {
     "elapsed": 6,
     "status": "ok",
     "timestamp": 1702308635279,
     "user": {
      "displayName": "Harvey McCone",
      "userId": "11012039386955284988"
     },
     "user_tz": 0
    },
    "id": "W6lSTDJTRSJE"
   },
   "outputs": [],
   "source": [
    "lower_RT_cutoff = 150\n",
    "upper_RT_cutoff = 1500 # 1.5x longest SI and is less than 1% of trials"
   ]
  },
  {
   "cell_type": "markdown",
   "metadata": {
    "id": "2UsZyxi2LpTb"
   },
   "source": [
    "# Load Data"
   ]
  },
  {
   "cell_type": "code",
   "execution_count": null,
   "metadata": {
    "colab": {
     "base_uri": "https://localhost:8080/"
    },
    "executionInfo": {
     "elapsed": 137624,
     "status": "ok",
     "timestamp": 1702308772898,
     "user": {
      "displayName": "Harvey McCone",
      "userId": "11012039386955284988"
     },
     "user_tz": 0
    },
    "id": "QCQxEWCqLqfM",
    "outputId": "9b4e5070-2cf6-4ce8-e66a-1bebf429fb4f"
   },
   "outputs": [],
   "source": [
    "ID_list = ['P1', 'P3', 'P4', 'P7', 'P10', 'P12', 'P15', 'P17', 'P19',\n",
    "           'P21', 'P22', 'P23', 'P24', 'P26', 'P27', 'P28', 'P29', 'P30']\n",
    "\n",
    "n_participants = len(ID_list)\n",
    "n_channels = 128\n",
    "n_times_encode = 41\n",
    "n_times_repo = 33\n",
    "n_times_RL = 33\n",
    "n_freqs = 1\n",
    "fs_beta = [8, 30]\n",
    "\n",
    "sample_rate = 512\n",
    "\n",
    "encode_epochs = []\n",
    "encode_metadata = []\n",
    "repo_epochs = []\n",
    "repo_metadata = []\n",
    "RL_epochs = []\n",
    "RL_metadata = []\n",
    "\n",
    "all_encode_beta = np.zeros([len(ID_list), n_channels, n_freqs, n_times_encode])\n",
    "all_repo_beta = np.zeros([len(ID_list), n_channels, n_freqs, n_times_repo])\n",
    "all_RL_beta = np.zeros([len(ID_list), n_channels, n_freqs, n_times_RL])\n",
    "\n",
    "\n",
    "for i in range(0, len(ID_list)):\n",
    "  ID = ID_list[i]\n",
    "  encode_fname = \"/content/drive/MyDrive/Time_Reproduction/Beta_Epochs/\" + ID + \"_encode_beta_epochs-tfr.h5\"\n",
    "  repo_fname = \"/content/drive/MyDrive/Time_Reproduction/Beta_Epochs/\" + ID + \"_repo_beta_epochs-tfr.h5\"\n",
    "  RL_fname = \"/content/drive/MyDrive/Time_Reproduction/Beta_Epochs/\" + ID + \"_RL_beta_epochs-tfr.h5\"\n",
    "\n",
    "  encode_epochs_participant = mne.time_frequency.read_tfrs(encode_fname)\n",
    "  encode_epochs_participant = encode_epochs_participant[0]\n",
    "  repo_epochs_participant = mne.time_frequency.read_tfrs(repo_fname)\n",
    "  repo_epochs_participant = repo_epochs_participant[0]\n",
    "  RL_epochs_participant = mne.time_frequency.read_tfrs(RL_fname)\n",
    "  RL_epochs_participant = RL_epochs_participant[0]\n",
    "\n",
    "  info = encode_epochs_participant.info\n",
    "\n",
    "  encode_metadata.append(encode_epochs_participant.metadata)\n",
    "  repo_metadata.append(repo_epochs_participant.metadata)\n",
    "  RL_metadata.append(RL_epochs_participant.metadata)\n",
    "\n",
    "  beta_time = encode_epochs_participant.times # defining times\n",
    "  beta_time_repo = repo_epochs_participant.times\n",
    "  beta_time_RL = RL_epochs_participant.times\n",
    "\n",
    "  ## Average Epochs and Save Result\n",
    "  #encode_indices = encode_epochs_participant.metadata.query(\"Miss == 0 & Response_Direction == @j\").index\n",
    "  encode_participant_beta = encode_epochs_participant.average() # taking all epochs here\n",
    "  all_encode_beta[i] = encode_participant_beta.data\n",
    "\n",
    "  #repo_indices = repo_epochs_participant.metadata.query(\"Miss == 0 & Response_Direction == @j\").index\n",
    "  repo_participant_beta = repo_epochs_participant.average() # taking all epochs here\n",
    "  all_repo_beta[i] = repo_participant_beta.data\n",
    "\n",
    "  #RL_indices = RL_epochs_participant.metadata.query(\"Miss == 0 & Response_Direction == @j\").index\n",
    "  RL_participant_beta = RL_epochs_participant.average() # taking all epochs here\n",
    "  all_RL_beta[i] = RL_participant_beta.data"
   ]
  },
  {
   "cell_type": "markdown",
   "metadata": {
    "id": "C_5YQXgQO42t"
   },
   "source": [
    "# Concatenate Metadata\n",
    "Concatenate metadata so that all participants epochs are in one dataframe"
   ]
  },
  {
   "cell_type": "code",
   "execution_count": null,
   "metadata": {
    "colab": {
     "base_uri": "https://localhost:8080/",
     "height": 424
    },
    "executionInfo": {
     "elapsed": 15,
     "status": "ok",
     "timestamp": 1702308772899,
     "user": {
      "displayName": "Harvey McCone",
      "userId": "11012039386955284988"
     },
     "user_tz": 0
    },
    "id": "B2g47INYOU8x",
    "outputId": "1c5957c8-6910-40c7-aaa3-cde5a3efd837"
   },
   "outputs": [],
   "source": [
    "encode_metadata = pd.concat(encode_metadata, ignore_index = True)\n",
    "repo_metadata = pd.concat(repo_metadata, ignore_index = True)\n",
    "RL_metadata = pd.concat(RL_metadata, ignore_index = True)\n",
    "encode_metadata"
   ]
  },
  {
   "cell_type": "markdown",
   "metadata": {
    "id": "Uu7PdMPmOfwe"
   },
   "source": [
    "# Plot topomap"
   ]
  },
  {
   "cell_type": "code",
   "execution_count": null,
   "metadata": {
    "colab": {
     "base_uri": "https://localhost:8080/"
    },
    "executionInfo": {
     "elapsed": 12,
     "status": "ok",
     "timestamp": 1702308772899,
     "user": {
      "displayName": "Harvey McCone",
      "userId": "11012039386955284988"
     },
     "user_tz": 0
    },
    "id": "zE4Tc3PwOjUV",
    "outputId": "098da795-d467-4991-a5ae-f5e4d00b1e63"
   },
   "outputs": [],
   "source": [
    "print(all_RL_beta.shape)\n",
    "group_repo_beta = np.mean(all_repo_beta, axis = 0)\n",
    "group_RL_beta = np.mean(all_RL_beta, axis = 0)\n",
    "\n",
    "repo_window_start = -100 / 1000\n",
    "repo_window_start_idx = int(np.argwhere(beta_time_repo >= repo_window_start)[0])\n",
    "print(repo_window_start_idx)\n",
    "print(beta_time_repo[repo_window_start_idx])\n",
    "repo_window_end = 100 / 1000\n",
    "repo_window_end_idx = int(np.argwhere(beta_time_repo >= repo_window_end)[0])\n",
    "print(repo_window_end_idx)\n",
    "print(beta_time_repo[repo_window_end_idx])\n",
    "\n",
    "RL_window_start = -200 / 1000\n",
    "RL_window_start_idx = int(np.argwhere(beta_time_RL >= RL_window_start)[0])\n",
    "print(RL_window_start_idx)\n",
    "print(beta_time_RL[RL_window_start_idx])\n",
    "RL_window_end = -101 / 1000\n",
    "RL_window_end_idx = int(np.argwhere(beta_time_RL >= RL_window_end)[0])\n",
    "print(RL_window_end_idx)\n",
    "print(beta_time_RL[RL_window_end_idx])\n",
    "\n",
    "beta_evidence_onset = np.mean(group_repo_beta[:, :, repo_window_start_idx:repo_window_end_idx], axis = 2)\n",
    "beta_response_onset = np.mean(group_RL_beta[:, :, RL_window_start_idx:RL_window_end_idx], axis = 2)\n",
    "topo_data = beta_response_onset - beta_evidence_onset\n",
    "topo_data =  topo_data[:, np.newaxis]\n",
    "print(topo_data.shape)"
   ]
  },
  {
   "cell_type": "code",
   "execution_count": null,
   "metadata": {
    "colab": {
     "base_uri": "https://localhost:8080/",
     "height": 537
    },
    "executionInfo": {
     "elapsed": 2501,
     "status": "ok",
     "timestamp": 1702308775391,
     "user": {
      "displayName": "Harvey McCone",
      "userId": "11012039386955284988"
     },
     "user_tz": 0
    },
    "id": "HnkuotTQHbdN",
    "outputId": "29ce9fcb-2e31-4dba-c367-369e9502e958"
   },
   "outputs": [],
   "source": [
    "topo = mne.time_frequency.AverageTFR(info = info, data = topo_data, times = [0], freqs = np.array([int((fs_beta[0] + fs_beta[1]) / 2)]), nave = len(ID_list))\n",
    "plt = topo.plot_topomap(tmin = -0.14, tmax = 0.01, show_names = True, size = 5, colorbar = False, sensors = False)\n",
    "fname = \"/content/drive/MyDrive/Time_Reproduction/\" + \"Plots\" + \"/\" + \"beta_topo.png\"\n",
    "plt.savefig(fname, dpi = 300, bbox_inches = \"tight\")"
   ]
  },
  {
   "cell_type": "markdown",
   "metadata": {
    "id": "coXW53hpvT9a"
   },
   "source": [
    "# Define What Electrodes we are using"
   ]
  },
  {
   "cell_type": "code",
   "execution_count": null,
   "metadata": {
    "executionInfo": {
     "elapsed": 9,
     "status": "ok",
     "timestamp": 1702308775391,
     "user": {
      "displayName": "Harvey McCone",
      "userId": "11012039386955284988"
     },
     "user_tz": 0
    },
    "id": "5djKBn6OvXJk"
   },
   "outputs": [],
   "source": [
    "right_electrodes = [\"B18\", \"B19\", \"B21\", \"B22\"]\n",
    "left_electrodes = [\"D28\", \"D18\", \"D19\", \"D17\"]\n",
    "\n",
    "right_idx = []\n",
    "left_idx = []\n",
    "\n",
    "for i in range(0, len(info.ch_names)):\n",
    "  if info.ch_names[i] in right_electrodes:\n",
    "    right_idx.append(i)\n",
    "  elif info.ch_names[i] in left_electrodes:\n",
    "    left_idx.append(i)\n",
    "\n",
    "## Define what electrodes we are using for each participant (some used left hand) ##\n",
    "ch_idx = list(np.zeros(len(ID_list)))\n",
    "left_handers = [\"P3\", \"P7\"]\n",
    "\n",
    "for i in range(0, len(ch_idx)):\n",
    "  if ID_list[i] in left_handers:\n",
    "    ch_idx[i] = right_idx\n",
    "  else:\n",
    "    ch_idx[i] = left_idx"
   ]
  },
  {
   "cell_type": "markdown",
   "metadata": {
    "id": "v6P9VWaXeqoI"
   },
   "source": [
    "# Paper Topoplots\n",
    "Want to flip the hemispheres for people who were left handed so that we get all contralateral on one side"
   ]
  },
  {
   "cell_type": "code",
   "execution_count": null,
   "metadata": {
    "colab": {
     "base_uri": "https://localhost:8080/"
    },
    "executionInfo": {
     "elapsed": 8,
     "status": "ok",
     "timestamp": 1702308775391,
     "user": {
      "displayName": "Harvey McCone",
      "userId": "11012039386955284988"
     },
     "user_tz": 0
    },
    "id": "ONvPNdMgfWBp",
    "outputId": "8431560a-b17a-4b82-9314-931e9b6ae79b"
   },
   "outputs": [],
   "source": [
    "ch_stay_same = ['C17', 'C18','C19','C20','C21','C22', 'C23', 'A1', 'A2', 'A3', 'A4', 'A19', 'A20', 'A21', 'A22', 'A23', 'A24', 'A25'] # centre electrodes\n",
    "\n",
    "left_hem = [\"C29\", \"C28\", \"C27\", \"C26\", \"C25\", \"C24\", \"D2\", \"D1\", \"D15\", \"D16\", \"A5\", \"A18\", \"A17\", \"A16\", \"A15\", \"A14\", \"A13\",\n",
    "            \"C30\", \"C31\", \"C32\", \"D4\", \"D3\", \"D13\", \"D14\", \"D17\", \"A6\", \"A7\", \"A8\", \"A9\", \"A10\", \"A11\", \"A12\",\n",
    "            \"D7\", \"D6\", \"D5\", \"D8\", \"D9\", \"D10\", \"D11\", \"D12\", \"D23\", \"D22\", \"D21\", \"D20\", \"D19\", \"D18\", \"D24\", \"D25\", \"D26\", \"D27\", \"D28\", \"D32\", \"D31\", \"D30\", \"D29\"]\n",
    "right_hem = [\"C16\", \"C15\", \"C14\", \"C13\", \"C12\", \"C11\", \"C2\", \"C1\", \"B1\", \"B2\", \"A32\", \"A31\", \"A30\", \"A29\", \"A28\", \"A27\", \"A26\",\n",
    "             \"C8\", \"C9\", \"C10\", \"C4\", \"C3\", \"B32\", \"B20\", \"B19\", \"B3\", \"B4\", \"B5\", \"B6\", \"B7\", \"B8\", \"B9\",\n",
    "             \"C7\", \"C6\", \"C5\", \"B27\", \"B28\", \"B29\", \"B30\", \"B31\", \"B26\", \"B25\", \"B24\", \"B23\", \"B22\", \"B21\", \"B14\", \"B15\", \"B16\", \"B17\", \"B18\", \"B10\", \"B11\", \"B12\", \"B13\"]\n",
    "\n",
    "print(len(ch_stay_same) + len(left_hem) + len(right_hem))"
   ]
  },
  {
   "cell_type": "code",
   "execution_count": null,
   "metadata": {
    "colab": {
     "base_uri": "https://localhost:8080/"
    },
    "executionInfo": {
     "elapsed": 420,
     "status": "ok",
     "timestamp": 1702308775807,
     "user": {
      "displayName": "Harvey McCone",
      "userId": "11012039386955284988"
     },
     "user_tz": 0
    },
    "id": "vYgd36ARipN_",
    "outputId": "72ed7520-71d4-462e-ec02-326d4f69fe94"
   },
   "outputs": [],
   "source": [
    "topo_data_all = np.zeros((len(ID_list), 128, 1, 1))\n",
    "\n",
    "for i in range(0, len(ID_list)):\n",
    "  if ID_list[i] in left_handers:\n",
    "    beta_evidence_onset = np.mean(all_repo_beta[i, :, :, repo_window_start_idx:repo_window_end_idx], axis = 2)\n",
    "    beta_response_onset = np.mean(all_RL_beta[i, :, :, RL_window_start_idx:RL_window_end_idx], axis = 2)\n",
    "    topo_data = beta_response_onset - beta_evidence_onset\n",
    "    topo_data =  topo_data[:, np.newaxis]\n",
    "    print(topo_data.shape)\n",
    "    print(ID_list[i])\n",
    "    topo_data_flipped = np.zeros(topo_data.shape) # create empty array for containing the flipped hemispheres\n",
    "    for j in range(0, topo_data.shape[0]):\n",
    "      if topo.ch_names[j] in ch_stay_same:\n",
    "        topo_data_flipped[j] = topo_data[j]\n",
    "      elif topo.ch_names[j] in left_hem:\n",
    "        opposite_electrode = right_hem[left_hem.index(topo.ch_names[j])] # get equivalent electrode in right hem for given index position in left hem\n",
    "        topo_data_flipped[j] = topo_data[topo.ch_names.index(opposite_electrode)]\n",
    "    topo_data_all[i] = topo_data_flipped\n",
    "  else:\n",
    "    beta_evidence_onset = np.mean(all_repo_beta[i, :, :, repo_window_start_idx:repo_window_end_idx], axis = 2)\n",
    "    beta_response_onset = np.mean(all_RL_beta[i, :, :, RL_window_start_idx:RL_window_end_idx], axis = 2)\n",
    "    topo_data = beta_response_onset - beta_evidence_onset\n",
    "    topo_data =  topo_data[:, np.newaxis]\n",
    "    topo_data_all[i] = topo_data\n",
    "\n",
    "\n",
    "topo_data_all = np.mean(topo_data_all, axis = 0)"
   ]
  },
  {
   "cell_type": "code",
   "execution_count": null,
   "metadata": {
    "colab": {
     "base_uri": "https://localhost:8080/"
    },
    "executionInfo": {
     "elapsed": 7,
     "status": "ok",
     "timestamp": 1702308775807,
     "user": {
      "displayName": "Harvey McCone",
      "userId": "11012039386955284988"
     },
     "user_tz": 0
    },
    "id": "6s53n-HBtlWw",
    "outputId": "31a8d820-7be0-4c9b-bcb2-4ecbdc117c4c"
   },
   "outputs": [],
   "source": [
    "beta_mask = np.zeros(topo_data_all.shape)\n",
    "\n",
    "for ch in left_idx:\n",
    "  beta_mask[ch] = 1\n",
    "\n",
    "mask_params = dict(marker='o', markerfacecolor='w', markeredgecolor='w',\n",
    "        linewidth=0, markersize=4)\n",
    "\n",
    "print(beta_mask.shape)"
   ]
  },
  {
   "cell_type": "code",
   "execution_count": null,
   "metadata": {
    "colab": {
     "base_uri": "https://localhost:8080/",
     "height": 537
    },
    "executionInfo": {
     "elapsed": 1639,
     "status": "ok",
     "timestamp": 1702308777442,
     "user": {
      "displayName": "Harvey McCone",
      "userId": "11012039386955284988"
     },
     "user_tz": 0
    },
    "id": "I1keEFV4lZSx",
    "outputId": "77091156-1617-4f0b-94ef-03b2b8beaad5"
   },
   "outputs": [],
   "source": [
    "topo = mne.time_frequency.AverageTFR(info = info, data = topo_data_all, times = [0], freqs = np.array([int((fs_beta[0] + fs_beta[1]) / 2)]), nave = len(ID_list))\n",
    "plt = topo.plot_topomap(tmin = -0.14, tmax = 0.01, show_names = False, size = 5, colorbar = False, sensors = False, mask = beta_mask, mask_params = mask_params)\n",
    "fname = \"/content/drive/MyDrive/Time_Reproduction/\" + \"Plots\" + \"/\" + \"beta_topo_flipped.png\"\n",
    "plt.savefig(fname, dpi = 300, bbox_inches = \"tight\")"
   ]
  },
  {
   "cell_type": "markdown",
   "metadata": {
    "id": "LwAeZDhT87gU"
   },
   "source": [
    "# Define Time Windows for Calculations\n",
    "For encoding: -100ms to +100ms from encoding offset to check offset amplitude? - How do you do this for sample interval bins? Take the average offset time?\n",
    "\n",
    "For repo: check slope? Or baseline out the difference and then check the amplitude? Check amplitude at time of cue onset (-100 + 100ms)\n",
    "\n",
    "For RL: -600ms to -300ms for measuring the slope?"
   ]
  },
  {
   "cell_type": "code",
   "execution_count": null,
   "metadata": {
    "executionInfo": {
     "elapsed": 6,
     "status": "ok",
     "timestamp": 1702308777442,
     "user": {
      "displayName": "Harvey McCone",
      "userId": "11012039386955284988"
     },
     "user_tz": 0
    },
    "id": "SABqbjDx87gV"
   },
   "outputs": [],
   "source": [
    "# For checking amplitude at target offset\n",
    "encode_amplitude_window_start = -100 / 1000\n",
    "encode_amplitude_window_end = +100 / 1000# these have to be done within sample interval bin\n",
    "\n",
    "# For checking the amplitude at cue onset\n",
    "repo_amplitude_window_start = -120\n",
    "repo_amplitude_window_start_idx = int(np.argwhere(beta_time_repo >= repo_amplitude_window_start / 1000)[0])\n",
    "repo_amplitude_window_end = -65\n",
    "repo_amplitude_window_end_idx = int(np.argwhere(beta_time_repo >= repo_amplitude_window_end / 1000)[0])\n",
    "\n",
    "# For checking build-up rate in anticipation of response\n",
    "RL_slope_window_start = -600\n",
    "RL_slope_window_start_idx = int(np.argwhere(beta_time_RL >= RL_slope_window_start / 1000)[0])\n",
    "RL_slope_window_end = -300\n",
    "RL_slope_window_end_idx = int(np.argwhere(beta_time_RL >= RL_slope_window_end / 1000)[0])"
   ]
  },
  {
   "cell_type": "markdown",
   "metadata": {
    "id": "eimnEWgxT6U1"
   },
   "source": [
    "# Plot Lineplots Separated by Sample Interval"
   ]
  },
  {
   "cell_type": "markdown",
   "metadata": {
    "id": "wuhpKDkNosGV"
   },
   "source": [
    "## Load Data"
   ]
  },
  {
   "cell_type": "code",
   "execution_count": null,
   "metadata": {
    "colab": {
     "base_uri": "https://localhost:8080/"
    },
    "executionInfo": {
     "elapsed": 68118,
     "status": "ok",
     "timestamp": 1702308845555,
     "user": {
      "displayName": "Harvey McCone",
      "userId": "11012039386955284988"
     },
     "user_tz": 0
    },
    "id": "Thl5vStDUB5G",
    "outputId": "05c33d04-d534-4822-f20c-7393db42a053"
   },
   "outputs": [],
   "source": [
    "encode_SIs = np.unique(encode_metadata[\"Trigger\"]) # SI trigger codes\n",
    "repo_SIs = np.unique(repo_metadata[\"Trigger\"]) # SI trigger codes\n",
    "RL_SIs = np.unique(RL_metadata[\"Trigger\"])\n",
    "\n",
    "n_conditions = len(encode_SIs)\n",
    "encode_conditions = np.zeros([len(ID_list), n_conditions, len(ch_idx[0]), 1, n_times_encode])\n",
    "repo_conditions = np.zeros([len(ID_list), n_conditions, len(ch_idx[0]), 1, n_times_repo])\n",
    "RL_conditions = np.zeros([len(ID_list), n_conditions, len(ch_idx[0]), 1, n_times_RL])\n",
    "median_RT_conditions_unbinned = np.zeros([len(ID_list), n_conditions])\n",
    "\n",
    "for i in range(0, len(ID_list)):\n",
    "  ID = ID_list[i]\n",
    "  encode_fname = \"/content/drive/MyDrive/Time_Reproduction/Beta_Epochs/\" + ID + \"_encode_beta_epochs-tfr.h5\"\n",
    "  repo_fname = \"/content/drive/MyDrive/Time_Reproduction/Beta_Epochs/\" + ID + \"_repo_beta_epochs-tfr.h5\"\n",
    "  RL_fname = \"/content/drive/MyDrive/Time_Reproduction/Beta_Epochs/\" + ID + \"_RL_beta_epochs-tfr.h5\"\n",
    "\n",
    "  encode_epochs_participant = mne.time_frequency.read_tfrs(encode_fname)\n",
    "  encode_epochs_participant = encode_epochs_participant[0]\n",
    "  repo_epochs_participant = mne.time_frequency.read_tfrs(repo_fname)\n",
    "  repo_epochs_participant = repo_epochs_participant[0]\n",
    "  RL_epochs_participant = mne.time_frequency.read_tfrs(RL_fname)\n",
    "  RL_epochs_participant = RL_epochs_participant[0]\n",
    "\n",
    "  info = encode_epochs_participant.info\n",
    "\n",
    "  for j in range(0, n_conditions):\n",
    "    encode_SI = encode_SIs[j]\n",
    "    repo_SI = repo_SIs[j]\n",
    "    RL_SI = RL_SIs[j]\n",
    "\n",
    "    #encode_indices = encode_epochs_participant.metadata.query(\"Trigger == @encode_SI & Response_Time > @lower_RT_cutoff & Response_Time < @upper_RT_cutoff\").index # get trials for that condition\n",
    "    #repo_indices = repo_epochs_participant.metadata.query(\"Trigger == @repo_SI & Response_Time > @lower_RT_cutoff & Response_Time < @upper_RT_cutoff\").index\n",
    "    #RL_indices = RL_epochs_participant.metadata.query(\"Trigger == @RL_SI & Response_Time > @lower_RT_cutoff & Response_Time < @upper_RT_cutoff\").index\n",
    "\n",
    "    encode_indices = encode_epochs_participant.metadata[(encode_epochs_participant.metadata[\"Trigger\"] == encode_SI) & (encode_epochs_participant.metadata[\"Response_Time\"] > lower_RT_cutoff) & (encode_epochs_participant.metadata[\"Response_Time\"] < upper_RT_cutoff)].index\n",
    "    repo_indices = repo_epochs_participant.metadata[(repo_epochs_participant.metadata[\"Trigger\"] == repo_SI) & (repo_epochs_participant.metadata[\"Response_Time\"] > lower_RT_cutoff) & (repo_epochs_participant.metadata[\"Response_Time\"] < upper_RT_cutoff)].index\n",
    "    RL_indices = RL_epochs_participant.metadata[(RL_epochs_participant.metadata[\"Trigger\"] == RL_SI) & (RL_epochs_participant.metadata[\"Response_Time\"] > lower_RT_cutoff) & (RL_epochs_participant.metadata[\"Response_Time\"] < upper_RT_cutoff)].index\n",
    "\n",
    "    encode_epochs_trials = encode_epochs_participant[encode_indices]\n",
    "    repo_epochs_trials = repo_epochs_participant[repo_indices]\n",
    "    RL_epochs_trials = RL_epochs_participant[RL_indices]\n",
    "\n",
    "    encode_electrodes = encode_epochs_trials.copy().pick(ch_idx[i])\n",
    "    encode_participant_beta = encode_electrodes.average()\n",
    "    encode_conditions[i, j] = encode_participant_beta.data\n",
    "\n",
    "    repo_electrodes = repo_epochs_trials.copy().pick(ch_idx[i])\n",
    "    repo_participant_beta = repo_electrodes.average()\n",
    "    repo_conditions[i, j] = repo_participant_beta.data\n",
    "\n",
    "    median_RT_conditions_unbinned[i, j] = repo_epochs_participant[repo_indices].metadata[\"Response_Time\"].median()\n",
    "\n",
    "    RL_electrodes = RL_epochs_trials.copy().pick(ch_idx[i])\n",
    "    RL_participant_beta = RL_electrodes.average()\n",
    "    RL_conditions[i, j] = RL_participant_beta.data"
   ]
  },
  {
   "cell_type": "code",
   "execution_count": null,
   "metadata": {
    "colab": {
     "base_uri": "https://localhost:8080/"
    },
    "executionInfo": {
     "elapsed": 28,
     "status": "ok",
     "timestamp": 1702308845556,
     "user": {
      "displayName": "Harvey McCone",
      "userId": "11012039386955284988"
     },
     "user_tz": 0
    },
    "id": "SqvM4V5lppCP",
    "outputId": "7b7af240-64cc-44ad-a4a3-f5e1aa4c0757"
   },
   "outputs": [],
   "source": [
    "print(encode_conditions.shape)"
   ]
  },
  {
   "cell_type": "markdown",
   "metadata": {
    "id": "vS1Ua5zru4Pr"
   },
   "source": [
    "## Copying Data for Plotting by Sample Interval Bins\n",
    "So we don't have to load data again"
   ]
  },
  {
   "cell_type": "code",
   "execution_count": null,
   "metadata": {
    "executionInfo": {
     "elapsed": 22,
     "status": "ok",
     "timestamp": 1702308845556,
     "user": {
      "displayName": "Harvey McCone",
      "userId": "11012039386955284988"
     },
     "user_tz": 0
    },
    "id": "4vp7XYw7u_N-"
   },
   "outputs": [],
   "source": [
    "encode_conditions_unbinned = encode_conditions.copy()\n",
    "repo_conditions_unbinned = repo_conditions.copy()\n",
    "RL_conditions_unbinned = RL_conditions.copy()"
   ]
  },
  {
   "cell_type": "markdown",
   "metadata": {
    "id": "JaI7gaMhM_h8"
   },
   "source": [
    "## Average Across Channels"
   ]
  },
  {
   "cell_type": "code",
   "execution_count": null,
   "metadata": {
    "executionInfo": {
     "elapsed": 22,
     "status": "ok",
     "timestamp": 1702308845556,
     "user": {
      "displayName": "Harvey McCone",
      "userId": "11012039386955284988"
     },
     "user_tz": 0
    },
    "id": "cmeYU04GMM_h"
   },
   "outputs": [],
   "source": [
    "encode_conditions = np.mean(encode_conditions, axis = 2)\n",
    "repo_conditions = np.mean(repo_conditions, axis = 2)\n",
    "RL_conditions = np.mean(RL_conditions, axis = 2)"
   ]
  },
  {
   "cell_type": "code",
   "execution_count": null,
   "metadata": {
    "colab": {
     "base_uri": "https://localhost:8080/"
    },
    "executionInfo": {
     "elapsed": 21,
     "status": "ok",
     "timestamp": 1702308845556,
     "user": {
      "displayName": "Harvey McCone",
      "userId": "11012039386955284988"
     },
     "user_tz": 0
    },
    "id": "h7CaQFs0NSFJ",
    "outputId": "bbfa96cf-80d9-4fa1-c487-cf88815578d9"
   },
   "outputs": [],
   "source": [
    "print(encode_conditions.shape)"
   ]
  },
  {
   "cell_type": "markdown",
   "metadata": {
    "id": "onHNrhqgscCD"
   },
   "source": [
    "## Average Across Participants"
   ]
  },
  {
   "cell_type": "code",
   "execution_count": null,
   "metadata": {
    "colab": {
     "base_uri": "https://localhost:8080/"
    },
    "executionInfo": {
     "elapsed": 20,
     "status": "ok",
     "timestamp": 1702308845556,
     "user": {
      "displayName": "Harvey McCone",
      "userId": "11012039386955284988"
     },
     "user_tz": 0
    },
    "id": "rOuJ9RiwsSuP",
    "outputId": "86f209db-3851-4a23-927b-29d1bb1b8c18"
   },
   "outputs": [],
   "source": [
    "encode_conditions = np.mean(encode_conditions, axis = 0)\n",
    "repo_conditions = np.mean(repo_conditions, axis = 0)\n",
    "RL_conditions = np.mean(RL_conditions, axis = 0)\n",
    "\n",
    "print(encode_conditions.shape)"
   ]
  },
  {
   "cell_type": "markdown",
   "metadata": {
    "id": "Vuj-dMnZskIQ"
   },
   "source": [
    "## Plot"
   ]
  },
  {
   "cell_type": "code",
   "execution_count": null,
   "metadata": {
    "executionInfo": {
     "elapsed": 17,
     "status": "ok",
     "timestamp": 1702308845556,
     "user": {
      "displayName": "Harvey McCone",
      "userId": "11012039386955284988"
     },
     "user_tz": 0
    },
    "id": "d7kmj4WPmNUW"
   },
   "outputs": [],
   "source": [
    "from matplotlib import pyplot as plt\n",
    "%matplotlib inline\n",
    "labels = np.arange(600, 1001, 50)"
   ]
  },
  {
   "cell_type": "code",
   "execution_count": null,
   "metadata": {
    "colab": {
     "base_uri": "https://localhost:8080/",
     "height": 514
    },
    "executionInfo": {
     "elapsed": 2847,
     "status": "ok",
     "timestamp": 1702308848386,
     "user": {
      "displayName": "Harvey McCone",
      "userId": "11012039386955284988"
     },
     "user_tz": 0
    },
    "id": "0ZLyIFe7l1JE",
    "outputId": "38e9fa87-846a-4860-9a48-ec5c8266857b"
   },
   "outputs": [],
   "source": [
    "fig = plt.figure(figsize = (12,5))\n",
    "\n",
    "grid = plt.GridSpec(1, 3, wspace = 0.1)\n",
    "\n",
    "ax1 = fig.add_subplot(grid[0])\n",
    "ax2 = fig.add_subplot(grid[1])\n",
    "ax3 = fig.add_subplot(grid[2])\n",
    "\n",
    "## Encode Plot\n",
    "for j in range(0, n_conditions):\n",
    "  sns.lineplot(x = beta_time[beta_time <= (800/1000)] * 1000, y = encode_conditions[j, 0, beta_time <= (800/1000)], label = labels[j], linewidth = 3, ax = ax1, legend = False)\n",
    "\n",
    "## Remove box around first plot\n",
    "sns.despine(ax = ax1)\n",
    "\n",
    "## Plot legend\n",
    "#ax1.legend(fontsize = \"xx-large\", loc = \"lower left\", title = \"Sample Interval Bin\", title_fontsize = \"xx-large\")\n",
    "\n",
    "## Set Axes Labels and format of them\n",
    "ax1.set_xlabel(\"Time from SI Onset (ms)\", fontsize = \"xx-large\", labelpad = 5) # labelpad determines how far from axis the label is\n",
    "ax1.set_ylabel(\"Mu/Beta\" + \" \" + \"$(\\mu V/m^2)$\", fontsize = 25, labelpad = 5, weight='bold')\n",
    "\n",
    "## Set ylim - need to do this\n",
    "ax1.set_ylim(6.1, 8.35)\n",
    "\n",
    "## For modifying the ticks and the tick labels\n",
    "ax1.tick_params(labelsize = \"xx-large\")\n",
    "\n",
    "## Plotting vertical line at time of target onset\n",
    "ax1.vlines(0, ax1.get_ylim()[0], ax1.get_ylim()[1], color = \"k\", linestyle = \"dotted\", linewidth = 2)\n",
    "\n",
    "## Plotting text above target onset line\n",
    "ax1.text(x = -200, y = 8.4, s = \"SI Onset\", fontsize = \"xx-large\") # adjust x to move left or right\n",
    "\n",
    "## Repo Plot ##\n",
    "for j in range(0, n_conditions):\n",
    "  sns.lineplot(x = beta_time_repo * 1000, y = repo_conditions[j, 0], label = labels[j], linewidth = 3, ax = ax2, legend = False)\n",
    "\n",
    "## Remove box around second plot\n",
    "sns.despine(ax = ax2)\n",
    "## Set Axes Labels and format of them - decided not to plot y axis label on second plot\n",
    "ax2.set_xlabel(\"Time from Cue Onset (ms)\", fontsize = \"xx-large\", labelpad = 5)\n",
    "\n",
    "## Set ylim - need to do this manually for maximum customisation\n",
    "ax2.set_ylim(6.1, 8.35)\n",
    "\n",
    "## Add shaded portion ##\n",
    "b = 6.1\n",
    "t = 8.35\n",
    "bottom = b * (np.ones(len(beta_time_repo[repo_amplitude_window_start_idx : repo_amplitude_window_end_idx])))\n",
    "top =  t * (np.ones(len(beta_time_repo[repo_amplitude_window_start_idx : repo_amplitude_window_end_idx])))\n",
    "ax2.fill_between(x = beta_time_repo[repo_amplitude_window_start_idx : repo_amplitude_window_end_idx] * 1000, y1 = bottom, y2 = top, color = \"black\", alpha = 0.1)\n",
    "\n",
    "## Plotting vertical line at time of cue onset\n",
    "ax2.vlines(0, ax2.get_ylim()[0], ax2.get_ylim()[1], color = \"k\", linestyle = \"dotted\", linewidth = 2)\n",
    "\n",
    "## For modifying the ticks and the tick labels\n",
    "ax2.tick_params(labelsize = \"xx-large\")\n",
    "\n",
    "## Add Mean Response Time Vertical Lines?\n",
    "\n",
    "## Removing left spine from second plot\n",
    "ax2.spines[\"left\"].set_visible(False)\n",
    "ax2.set_yticks([])\n",
    "\n",
    "## Plotting text above cue onset line\n",
    "ax2.text(x = -150, y = 8.4, s = \"Cue Onset\", fontsize = \"xx-large\") # adjust x to move left or right\n",
    "## RL Plot ##\n",
    "for j in range(0, n_conditions):\n",
    "  sns.lineplot(x = beta_time_RL * 1000, y = RL_conditions[j, 0], label = labels[j], linewidth = 3, ax = ax3, legend = False)\n",
    "\n",
    "## Remove box around second plot\n",
    "sns.despine(ax = ax3)\n",
    "## Set Axes Labels and format of them - decided not to plot y axis label on second plot\n",
    "ax3.set_xlabel(\"Time from Response (ms)\", fontsize = \"xx-large\", labelpad = 5)\n",
    "\n",
    "## Set ylim - need to do this manually for maximum customisation\n",
    "ax3.set_ylim(6.1, 8.35)\n",
    "\n",
    "## Add shaded portion ##\n",
    "b = 6.1\n",
    "t = 8.35\n",
    "bottom = b * (np.ones(len(beta_time_RL[RL_slope_window_start_idx : RL_slope_window_end_idx])))\n",
    "top =  t * (np.ones(len(beta_time_RL[RL_slope_window_start_idx : RL_slope_window_end_idx])))\n",
    "ax3.fill_between(x = beta_time_RL[RL_slope_window_start_idx : RL_slope_window_end_idx] * 1000, y1 = bottom, y2 = top, color = \"black\", alpha = 0.1)\n",
    "\n",
    "## For modifying the ticks and the tick labels\n",
    "ax3.tick_params(labelsize = \"xx-large\")\n",
    "\n",
    "## Plotting vertical dotted line response\n",
    "ax3.vlines(0, ax2.get_ylim()[0], ax3.get_ylim()[1], color = \"k\", linestyle = \"dotted\", linewidth = 2)\n",
    "\n",
    "## Plotting text above response line\n",
    "ax3.text(x = -200, y = 8.4, s = \"Response\", fontsize = \"xx-large\") # adjust x to move left or right\n",
    "\n",
    "## Removing left spine from second plot\n",
    "ax3.spines[\"left\"].set_visible(False)\n",
    "ax3.set_yticks([])\n",
    "\n",
    "fname = \"/content/drive/MyDrive/Time_Reproduction/Plots/Beta\" + \"Beta_SI.png\"\n",
    "plt.savefig(fname, dpi = 300, bbox_inches = \"tight\")"
   ]
  },
  {
   "cell_type": "markdown",
   "metadata": {
    "id": "VUwd9ujnt82w"
   },
   "source": [
    "# Plot Lineplots Separated by Sample Interval Bin"
   ]
  },
  {
   "cell_type": "markdown",
   "metadata": {
    "id": "nGd3R9dYvLwK"
   },
   "source": [
    "## Average Across Sample Intervals"
   ]
  },
  {
   "cell_type": "code",
   "execution_count": null,
   "metadata": {
    "colab": {
     "base_uri": "https://localhost:8080/"
    },
    "executionInfo": {
     "elapsed": 17,
     "status": "ok",
     "timestamp": 1702308848386,
     "user": {
      "displayName": "Harvey McCone",
      "userId": "11012039386955284988"
     },
     "user_tz": 0
    },
    "id": "WPQ4Pf9bwHDN",
    "outputId": "9c539c9c-f698-4b13-a04c-992d4b5944a3"
   },
   "outputs": [],
   "source": [
    "print(encode_conditions_unbinned.shape)"
   ]
  },
  {
   "cell_type": "code",
   "execution_count": null,
   "metadata": {
    "executionInfo": {
     "elapsed": 12,
     "status": "ok",
     "timestamp": 1702308848386,
     "user": {
      "displayName": "Harvey McCone",
      "userId": "11012039386955284988"
     },
     "user_tz": 0
    },
    "id": "Ppq0cVfQuCSi"
   },
   "outputs": [],
   "source": [
    "n_conditions = 3\n",
    "\n",
    "encode_conditions = np.zeros([len(ID_list), n_conditions, len(ch_idx[0]), 1, n_times_encode])\n",
    "repo_conditions = np.zeros([len(ID_list), n_conditions, len(ch_idx[0]), 1, n_times_repo])\n",
    "RL_conditions = np.zeros([len(ID_list), n_conditions, len(ch_idx[0]), 1, n_times_RL])\n",
    "median_RT_conditions = np.zeros([len(ID_list), n_conditions])\n",
    "\n",
    "for i in range(0, len(ID_list)):\n",
    "  encode_conditions[i, 0] = np.nanmean(encode_conditions_unbinned[i, 0:3], axis = 0)\n",
    "  encode_conditions[i, 1] = np.nanmean(encode_conditions_unbinned[i, 3:6], axis = 0)\n",
    "  encode_conditions[i, 2] = np.nanmean(encode_conditions_unbinned[i, 6:9], axis = 0)\n",
    "\n",
    "  repo_conditions[i, 0] = np.nanmean(repo_conditions_unbinned[i, 0:3], axis = 0)\n",
    "  repo_conditions[i, 1] = np.nanmean(repo_conditions_unbinned[i, 3:6], axis = 0)\n",
    "  repo_conditions[i, 2] = np.nanmean(repo_conditions_unbinned[i, 6:9], axis = 0)\n",
    "\n",
    "  RL_conditions[i, 0] = np.nanmean(RL_conditions_unbinned[i, 0:3], axis = 0)\n",
    "  RL_conditions[i, 1] = np.nanmean(RL_conditions_unbinned[i, 3:6], axis = 0)\n",
    "  RL_conditions[i, 2] = np.nanmean(RL_conditions_unbinned[i, 6:9], axis = 0)\n",
    "\n",
    "  median_RT_conditions[i, 0] = np.nanmean(median_RT_conditions_unbinned[i, 0:3], axis = 0)\n",
    "  median_RT_conditions[i, 1] = np.nanmean(median_RT_conditions_unbinned[i, 3:6], axis = 0)\n",
    "  median_RT_conditions[i, 2] = np.nanmean(median_RT_conditions_unbinned[i, 6:9], axis = 0)"
   ]
  },
  {
   "cell_type": "markdown",
   "metadata": {
    "id": "DxDpU47hxn7c"
   },
   "source": [
    "## Average Across Channels"
   ]
  },
  {
   "cell_type": "code",
   "execution_count": null,
   "metadata": {
    "executionInfo": {
     "elapsed": 13,
     "status": "ok",
     "timestamp": 1702308848387,
     "user": {
      "displayName": "Harvey McCone",
      "userId": "11012039386955284988"
     },
     "user_tz": 0
    },
    "id": "Y5V0tVvIxn7c"
   },
   "outputs": [],
   "source": [
    "encode_conditions = np.mean(encode_conditions, axis = 2)\n",
    "repo_conditions = np.mean(repo_conditions, axis = 2)\n",
    "RL_conditions = np.mean(RL_conditions, axis = 2)"
   ]
  },
  {
   "cell_type": "code",
   "execution_count": null,
   "metadata": {
    "colab": {
     "base_uri": "https://localhost:8080/"
    },
    "executionInfo": {
     "elapsed": 12,
     "status": "ok",
     "timestamp": 1702308848387,
     "user": {
      "displayName": "Harvey McCone",
      "userId": "11012039386955284988"
     },
     "user_tz": 0
    },
    "id": "gKa33U5Lxn7d",
    "outputId": "b663233c-b80c-4977-fe29-f00d720238dc"
   },
   "outputs": [],
   "source": [
    "print(encode_conditions.shape)"
   ]
  },
  {
   "cell_type": "markdown",
   "metadata": {
    "id": "-6aBOiKtxn7d"
   },
   "source": [
    "## Average Across Participants"
   ]
  },
  {
   "cell_type": "code",
   "execution_count": null,
   "metadata": {
    "colab": {
     "base_uri": "https://localhost:8080/"
    },
    "executionInfo": {
     "elapsed": 11,
     "status": "ok",
     "timestamp": 1702308848387,
     "user": {
      "displayName": "Harvey McCone",
      "userId": "11012039386955284988"
     },
     "user_tz": 0
    },
    "id": "JRDxZxSjxn7d",
    "outputId": "b34b0b12-74b9-497c-b196-1429734de4c8"
   },
   "outputs": [],
   "source": [
    "encode_conditions = np.mean(encode_conditions, axis = 0)\n",
    "repo_conditions = np.mean(repo_conditions, axis = 0)\n",
    "RL_conditions = np.mean(RL_conditions, axis = 0)\n",
    "median_RT_conditions = np.nanmean(median_RT_conditions, axis = 0)\n",
    "\n",
    "print(encode_conditions.shape)"
   ]
  },
  {
   "cell_type": "markdown",
   "metadata": {
    "id": "AQd60FcLxrYN"
   },
   "source": [
    "## Plot"
   ]
  },
  {
   "cell_type": "code",
   "execution_count": null,
   "metadata": {
    "executionInfo": {
     "elapsed": 502,
     "status": "ok",
     "timestamp": 1702308848880,
     "user": {
      "displayName": "Harvey McCone",
      "userId": "11012039386955284988"
     },
     "user_tz": 0
    },
    "id": "8m6PDcdD9YcC"
   },
   "outputs": [],
   "source": [
    "from matplotlib import pyplot as plt\n",
    "%matplotlib inline\n",
    "alphas = [1, 0.66, 0.33]\n",
    "labels = [\"Short\", \"Medium\", \"Long\"]"
   ]
  },
  {
   "cell_type": "code",
   "execution_count": null,
   "metadata": {
    "colab": {
     "base_uri": "https://localhost:8080/",
     "height": 514
    },
    "executionInfo": {
     "elapsed": 2011,
     "status": "ok",
     "timestamp": 1702308850888,
     "user": {
      "displayName": "Harvey McCone",
      "userId": "11012039386955284988"
     },
     "user_tz": 0
    },
    "id": "mCN9qnMC9YcC",
    "outputId": "f4781da8-d9c2-478a-d46a-8cb528840771"
   },
   "outputs": [],
   "source": [
    "fig = plt.figure(figsize = (12,5))\n",
    "\n",
    "grid = plt.GridSpec(1, 3, wspace = 0.1)\n",
    "\n",
    "ax1 = fig.add_subplot(grid[0])\n",
    "ax2 = fig.add_subplot(grid[1])\n",
    "ax3 = fig.add_subplot(grid[2])\n",
    "\n",
    "## Encode Plot\n",
    "for j in range(0, n_conditions):\n",
    "  sns.lineplot(x = beta_time[beta_time <= (800/1000)] * 1000, y = encode_conditions[j, 0, beta_time <= (800/1000)], color = \"k\", alpha = alphas[j], label = labels[j], linewidth = 3, ax = ax1, legend = False)\n",
    "\n",
    "## Remove box around first plot\n",
    "sns.despine(ax = ax1)\n",
    "\n",
    "## Plot legend\n",
    "#ax1.legend(fontsize = \"xx-large\", loc = \"lower left\", title = \"Sample Interval Bin\", title_fontsize = \"xx-large\")\n",
    "\n",
    "## Set Axes Labels and format of them\n",
    "ax1.set_xlabel(\"Time from SI Onset (ms)\", fontsize = \"xx-large\", labelpad = 5) # labelpad determines how far from axis the label is\n",
    "ax1.set_ylabel(\"Mu/Beta\" + \" \" + \"$(\\mu V/m^2)$\", fontsize = 25, labelpad = 5, weight='bold')\n",
    "\n",
    "## Set ylim - need to do this\n",
    "ax1.set_ylim(6.1, 8.35)\n",
    "\n",
    "## For modifying the ticks and the tick labels\n",
    "ax1.tick_params(labelsize = \"xx-large\")\n",
    "\n",
    "## Plotting vertical line at time of target onset\n",
    "ax1.vlines(0, ax1.get_ylim()[0], ax1.get_ylim()[1], color = \"k\", linestyle = \"dotted\", linewidth = 2)\n",
    "\n",
    "## Plotting text above target onset line\n",
    "ax1.text(x = -200, y = 8.4, s = \"SI Onset\", fontsize = \"xx-large\") # adjust x to move left or right\n",
    "\n",
    "## Repo Plot ##\n",
    "for j in range(0, n_conditions):\n",
    "  sns.lineplot(x = beta_time_repo * 1000, y = repo_conditions[j, 0], label = labels[j], color = \"k\", alpha = alphas[j], linewidth = 3, ax = ax2, legend = False)\n",
    "\n",
    "## Remove box around second plot\n",
    "sns.despine(ax = ax2)\n",
    "## Set Axes Labels and format of them - decided not to plot y axis label on second plot\n",
    "ax2.set_xlabel(\"Time from Cue Onset (ms)\", fontsize = \"xx-large\", labelpad = 5)\n",
    "\n",
    "## Set ylim - need to do this manually for maximum customisation\n",
    "ax2.set_ylim(6.1, 8.35)\n",
    "\n",
    "## Add shaded portion ##\n",
    "b = 6.1\n",
    "t = 8.35\n",
    "bottom = b * (np.ones(len(beta_time_repo[repo_amplitude_window_start_idx : repo_amplitude_window_end_idx])))\n",
    "top =  t * (np.ones(len(beta_time_repo[repo_amplitude_window_start_idx : repo_amplitude_window_end_idx])))\n",
    "ax2.fill_between(x = beta_time_repo[repo_amplitude_window_start_idx : repo_amplitude_window_end_idx] * 1000, y1 = bottom, y2 = top, color = \"black\", alpha = 0.1)\n",
    "\n",
    "## Plotting vertical line at time of cue onset\n",
    "ax2.vlines(0, ax2.get_ylim()[0], ax2.get_ylim()[1], color = \"k\", linestyle = \"dotted\", linewidth = 2)\n",
    "\n",
    "## For modifying the ticks and the tick labels\n",
    "ax2.tick_params(labelsize = \"xx-large\")\n",
    "\n",
    "## Add Mean Response Time Vertical Lines?\n",
    "\n",
    "## Removing left spine from second plot\n",
    "ax2.spines[\"left\"].set_visible(False)\n",
    "ax2.set_yticks([])\n",
    "\n",
    "## Plotting text above cue onset line\n",
    "ax2.text(x = -150, y = 8.4, s = \"Cue Onset\", fontsize = \"xx-large\") # adjust x to move left or right\n",
    "## RL Plot ##\n",
    "for j in range(0, n_conditions):\n",
    "  sns.lineplot(x = beta_time_RL[(beta_time_RL * 1000) > (-median_RT_conditions[j])] * 1000, y = RL_conditions[j, 0, (beta_time_RL * 1000) > (-median_RT_conditions[j])], label = labels[j], color = \"k\", alpha = alphas[j], linewidth = 3, ax = ax3, legend = False)\n",
    "  ax3.plot(beta_time_RL[np.where((beta_time_RL * 1000) > (-median_RT_conditions[j]))[0][0]] * 1000, RL_conditions[j, 0, np.where((beta_time_RL * 1000) > (-median_RT_conditions[j]))[0][0]], marker = \"o\", markersize = 10, markeredgecolor = \"k\", color = \"k\", alpha = alphas[j])\n",
    "\n",
    "## Remove box around second plot\n",
    "sns.despine(ax = ax3)\n",
    "## Set Axes Labels and format of them - decided not to plot y axis label on second plot\n",
    "ax3.set_xlabel(\"Time from Response (ms)\", fontsize = \"xx-large\", labelpad = 5)\n",
    "\n",
    "## Set ylim - need to do this manually for maximum customisation\n",
    "ax3.set_ylim(6.1, 8.35)\n",
    "\n",
    "## Add shaded portion ##\n",
    "b = 6.1\n",
    "t = 8.35\n",
    "bottom = b * (np.ones(len(beta_time_RL[RL_slope_window_start_idx : RL_slope_window_end_idx])))\n",
    "top =  t * (np.ones(len(beta_time_RL[RL_slope_window_start_idx : RL_slope_window_end_idx])))\n",
    "ax3.fill_between(x = beta_time_RL[RL_slope_window_start_idx : RL_slope_window_end_idx] * 1000, y1 = bottom, y2 = top, color = \"black\", alpha = 0.1)\n",
    "\n",
    "## For modifying the ticks and the tick labels\n",
    "ax3.tick_params(labelsize = \"xx-large\")\n",
    "\n",
    "## Plotting vertical dotted line response\n",
    "ax3.vlines(0, ax2.get_ylim()[0], ax3.get_ylim()[1], color = \"k\", linestyle = \"dotted\", linewidth = 2)\n",
    "\n",
    "## Plotting text above response line\n",
    "ax3.text(x = -200, y = 8.4, s = \"Response\", fontsize = \"xx-large\") # adjust x to move left or right\n",
    "\n",
    "## Removing left spine from second plot\n",
    "ax3.spines[\"left\"].set_visible(False)\n",
    "ax3.set_yticks([])\n",
    "\n",
    "fname = \"/content/drive/MyDrive/Time_Reproduction/Plots/Beta\" + \"Beta_Sample_Interval_Bins.png\"\n",
    "plt.savefig(fname, dpi = 300, bbox_inches = \"tight\")"
   ]
  },
  {
   "cell_type": "markdown",
   "metadata": {
    "id": "a6OrXz-fylVj"
   },
   "source": [
    "# Plot Lineplots Separated by RT Bin"
   ]
  },
  {
   "cell_type": "code",
   "execution_count": null,
   "metadata": {
    "colab": {
     "base_uri": "https://localhost:8080/"
    },
    "executionInfo": {
     "elapsed": 74336,
     "status": "ok",
     "timestamp": 1702308925192,
     "user": {
      "displayName": "Harvey McCone",
      "userId": "11012039386955284988"
     },
     "user_tz": 0
    },
    "id": "Nt2ACI4HyVZQ",
    "outputId": "7168b29c-cd7b-416c-bdd9-3a78cac84ff2"
   },
   "outputs": [],
   "source": [
    "n_bins = 2\n",
    "n_conditions = len(encode_SIs)\n",
    "encode_conditions_SI = np.zeros([len(ID_list), n_conditions, n_bins, len(ch_idx[0]), 1, n_times_encode])\n",
    "repo_conditions_SI = np.zeros([len(ID_list), n_conditions, n_bins, len(ch_idx[0]), 1, n_times_repo])\n",
    "RL_conditions_SI = np.zeros([len(ID_list), n_conditions, n_bins, len(ch_idx[0]), 1, n_times_RL])\n",
    "\n",
    "median_RT = np.zeros([len(ID_list), n_conditions, n_bins])\n",
    "\n",
    "for i in range(0, len(ID_list)):\n",
    "  ID = ID_list[i]\n",
    "  encode_fname = \"/content/drive/MyDrive/Time_Reproduction/Beta_Epochs/\" + ID + \"_encode_beta_epochs-tfr.h5\"\n",
    "  repo_fname = \"/content/drive/MyDrive/Time_Reproduction/Beta_Epochs/\" + ID + \"_repo_beta_epochs-tfr.h5\"\n",
    "  RL_fname = \"/content/drive/MyDrive/Time_Reproduction/Beta_Epochs/\" + ID + \"_RL_beta_epochs-tfr.h5\"\n",
    "\n",
    "  encode_epochs_participant = mne.time_frequency.read_tfrs(encode_fname)\n",
    "  encode_epochs_participant = encode_epochs_participant[0]\n",
    "  repo_epochs_participant = mne.time_frequency.read_tfrs(repo_fname)\n",
    "  repo_epochs_participant = repo_epochs_participant[0]\n",
    "  RL_epochs_participant = mne.time_frequency.read_tfrs(RL_fname)\n",
    "  RL_epochs_participant = RL_epochs_participant[0]\n",
    "\n",
    "  info = encode_epochs_participant.info\n",
    "\n",
    "  for j in range(0, n_conditions):\n",
    "    encode_SI = encode_SIs[j]\n",
    "    repo_SI = repo_SIs[j]\n",
    "    RL_SI = RL_SIs[j]\n",
    "    ## Getting Median For Each Type of Epoch\n",
    "    #encode_indices_metadata = encode_epochs_participant.metadata.query(\"Trigger == @encode_SI & Response_Time > @lower_RT_cutoff & Response_Time < @upper_RT_cutoff\")\n",
    "    encode_indices_metadata = encode_epochs_participant.metadata[(encode_epochs_participant.metadata[\"Trigger\"] == encode_SI) & (encode_epochs_participant.metadata[\"Response_Time\"] > lower_RT_cutoff) & (encode_epochs_participant.metadata[\"Response_Time\"] < upper_RT_cutoff)]\n",
    "    encode_median = encode_indices_metadata[\"Response_Time\"].median()\n",
    "    #repo_indices_metadata = repo_epochs_participant.metadata.query(\"Trigger == @repo_SI & Response_Time > @lower_RT_cutoff & Response_Time < @upper_RT_cutoff\")\n",
    "    repo_indices_metadata = repo_epochs_participant.metadata[(repo_epochs_participant.metadata[\"Trigger\"] == repo_SI) & (repo_epochs_participant.metadata[\"Response_Time\"] > lower_RT_cutoff) & (repo_epochs_participant.metadata[\"Response_Time\"] < upper_RT_cutoff)]\n",
    "    repo_median = repo_indices_metadata[\"Response_Time\"].median()\n",
    "    #RL_indices_metadata = RL_epochs_participant.metadata.query(\"Trigger == @RL_SI & Response_Time > @lower_RT_cutoff & Response_Time < @upper_RT_cutoff\")\n",
    "    RL_indices_metadata = RL_epochs_participant.metadata[(RL_epochs_participant.metadata[\"Trigger\"] == RL_SI) & (RL_epochs_participant.metadata[\"Response_Time\"] > lower_RT_cutoff) & (RL_epochs_participant.metadata[\"Response_Time\"] < upper_RT_cutoff)]\n",
    "    RL_median = RL_indices_metadata[\"Response_Time\"].median()\n",
    "\n",
    "    ## Getting Trials Above and Below the Median\n",
    "    # Above\n",
    "    #encode_above_indices = encode_epochs_participant.metadata.query(\"Trigger == @encode_SI & Response_Time > @encode_median & Response_Time > @lower_RT_cutoff & Response_Time < @upper_RT_cutoff\").index # get trials for that condition\n",
    "    #repo_above_indices = repo_epochs_participant.metadata.query(\"Trigger == @repo_SI & Response_Time > @repo_median & Response_Time > @lower_RT_cutoff & Response_Time < @upper_RT_cutoff\").index\n",
    "    #RL_above_indices = RL_epochs_participant.metadata.query(\"Trigger == @RL_SI & Response_Time > @RL_median & Response_Time > @lower_RT_cutoff & Response_Time < @upper_RT_cutoff\").index\n",
    "\n",
    "    encode_above_indices = encode_epochs_participant.metadata[(encode_epochs_participant.metadata[\"Trigger\"] == encode_SI) & (encode_epochs_participant.metadata[\"Response_Time\"] > lower_RT_cutoff) & (encode_epochs_participant.metadata[\"Response_Time\"] < upper_RT_cutoff) & (encode_epochs_participant.metadata[\"Response_Time\"] > encode_median)].index\n",
    "    repo_above_indices = repo_epochs_participant.metadata[(repo_epochs_participant.metadata[\"Trigger\"] == repo_SI) & (repo_epochs_participant.metadata[\"Response_Time\"] > lower_RT_cutoff) & (repo_epochs_participant.metadata[\"Response_Time\"] < upper_RT_cutoff) & (repo_epochs_participant.metadata[\"Response_Time\"] > repo_median)].index\n",
    "    RL_above_indices = RL_epochs_participant.metadata[(RL_epochs_participant.metadata[\"Trigger\"] == RL_SI) & (RL_epochs_participant.metadata[\"Response_Time\"] > lower_RT_cutoff) & (RL_epochs_participant.metadata[\"Response_Time\"] < upper_RT_cutoff) & (RL_epochs_participant.metadata[\"Response_Time\"] > RL_median)].index\n",
    "\n",
    "    #mean_RT_metadata = RL_epochs_participant.metadata.query(\"Trigger == @RL_SI & Response_Time > @RL_median & Response_Time > @lower_RT_cutoff & Response_Time < @upper_RT_cutoff\")\n",
    "    median_RT_metadata = RL_epochs_participant.metadata[(RL_epochs_participant.metadata[\"Trigger\"] == RL_SI) & (RL_epochs_participant.metadata[\"Response_Time\"] > lower_RT_cutoff) & (RL_epochs_participant.metadata[\"Response_Time\"] < upper_RT_cutoff) & (RL_epochs_participant.metadata[\"Response_Time\"] > RL_median)]\n",
    "    median_RT[i, j, 0] = median_RT_metadata[\"Response_Time\"].median()\n",
    "    encode_epochs_above = encode_epochs_participant[encode_above_indices]\n",
    "    encode_electrodes_above = encode_epochs_above.copy().pick(ch_idx[i])\n",
    "    encode_above = encode_electrodes_above.average()\n",
    "    encode_conditions_SI[i, j, 0] = encode_above.data\n",
    "    RL_epochs_above = RL_epochs_participant[RL_above_indices]\n",
    "    RL_electrodes_above = RL_epochs_above.copy().pick(ch_idx[i])\n",
    "    RL_above = RL_electrodes_above.average()\n",
    "    RL_conditions_SI[i, j, 0] = RL_above.data\n",
    "    repo_epochs_above = repo_epochs_participant[repo_above_indices]\n",
    "    repo_electrodes_above = repo_epochs_above.copy().pick(ch_idx[i])\n",
    "    repo_above = repo_electrodes_above.average()\n",
    "    repo_conditions_SI[i, j, 0] = repo_above.data\n",
    "\n",
    "    # Below\n",
    "    #encode_below_indices = encode_epochs_participant.metadata.query(\"Trigger == @encode_SI & Response_Time < @encode_median & Response_Time > @lower_RT_cutoff & Response_Time < @upper_RT_cutoff\").index # get trials for that condition\n",
    "    #repo_below_indices = repo_epochs_participant.metadata.query(\"Trigger == @repo_SI & Response_Time < @repo_median & Response_Time > @lower_RT_cutoff & Response_Time < @upper_RT_cutoff\").index\n",
    "    #RL_below_indices = RL_epochs_participant.metadata.query(\"Trigger == @RL_SI & Response_Time < @RL_median & Response_Time > @lower_RT_cutoff & Response_Time < @upper_RT_cutoff\").index\n",
    "\n",
    "    encode_below_indices = encode_epochs_participant.metadata[(encode_epochs_participant.metadata[\"Trigger\"] == encode_SI) & (encode_epochs_participant.metadata[\"Response_Time\"] > lower_RT_cutoff) & (encode_epochs_participant.metadata[\"Response_Time\"] < upper_RT_cutoff) & (encode_epochs_participant.metadata[\"Response_Time\"] < encode_median)].index\n",
    "    repo_below_indices = repo_epochs_participant.metadata[(repo_epochs_participant.metadata[\"Trigger\"] == repo_SI) & (repo_epochs_participant.metadata[\"Response_Time\"] > lower_RT_cutoff) & (repo_epochs_participant.metadata[\"Response_Time\"] < upper_RT_cutoff) & (repo_epochs_participant.metadata[\"Response_Time\"] < repo_median)].index\n",
    "    RL_below_indices = RL_epochs_participant.metadata[(RL_epochs_participant.metadata[\"Trigger\"] == RL_SI) & (RL_epochs_participant.metadata[\"Response_Time\"] > lower_RT_cutoff) & (RL_epochs_participant.metadata[\"Response_Time\"] < upper_RT_cutoff) & (RL_epochs_participant.metadata[\"Response_Time\"] < RL_median)].index\n",
    "\n",
    "    #mean_RT_metadata = RL_epochs_participant.metadata.query(\"Trigger == @RL_SI & Response_Time < @RL_median & Response_Time > @lower_RT_cutoff & Response_Time < @upper_RT_cutoff\")\n",
    "    median_RT_metadata = RL_epochs_participant.metadata[(RL_epochs_participant.metadata[\"Trigger\"] == RL_SI) & (RL_epochs_participant.metadata[\"Response_Time\"] > lower_RT_cutoff) & (RL_epochs_participant.metadata[\"Response_Time\"] < upper_RT_cutoff) & (RL_epochs_participant.metadata[\"Response_Time\"] < RL_median)]\n",
    "    median_RT[i, j, 1] = median_RT_metadata[\"Response_Time\"].median()\n",
    "    encode_epochs_below = encode_epochs_participant[encode_below_indices]\n",
    "    encode_electrodes_below = encode_epochs_below.copy().pick(ch_idx[i])\n",
    "    encode_below = encode_electrodes_below.average()\n",
    "    encode_conditions_SI[i, j, 1] = encode_below.data\n",
    "    RL_epochs_below = RL_epochs_participant[RL_below_indices]\n",
    "    RL_electrodes_below = RL_epochs_below.copy().pick(ch_idx[i])\n",
    "    RL_below = RL_electrodes_below.average()\n",
    "    RL_conditions_SI[i, j, 1] = RL_below.data\n",
    "    repo_epochs_below = repo_epochs_participant[repo_below_indices]\n",
    "    repo_electrodes_below = repo_epochs_below.copy().pick(ch_idx[i])\n",
    "    repo_below = repo_electrodes_below.average()\n",
    "    repo_conditions_SI[i, j, 1] = repo_below.data"
   ]
  },
  {
   "cell_type": "markdown",
   "metadata": {
    "id": "TlJXmNe5M_uh"
   },
   "source": [
    "## Average Across Sample Intervals\n",
    "Averaging bins across sample intervals now to get RT bins that are separate from sample interval"
   ]
  },
  {
   "cell_type": "code",
   "execution_count": null,
   "metadata": {
    "colab": {
     "base_uri": "https://localhost:8080/"
    },
    "executionInfo": {
     "elapsed": 13,
     "status": "ok",
     "timestamp": 1702308925193,
     "user": {
      "displayName": "Harvey McCone",
      "userId": "11012039386955284988"
     },
     "user_tz": 0
    },
    "id": "Y8s_-aMjNVwn",
    "outputId": "d2ff2944-c223-4ba8-f1cb-0c0171e81074"
   },
   "outputs": [],
   "source": [
    "encode_conditions = np.zeros([len(ID_list), n_bins, len(ch_idx[0]), 1, n_times_encode])\n",
    "repo_conditions = np.zeros([len(ID_list), n_bins, len(ch_idx[0]), 1, n_times_repo])\n",
    "RL_conditions = np.zeros([len(ID_list), n_bins, len(ch_idx[0]), 1, n_times_RL])\n",
    "median_RT_conditions = np.zeros([len(ID_list), n_bins])\n",
    "\n",
    "for i in range(0, len(ID_list)):\n",
    "\n",
    "    for k in range(0, n_bins):\n",
    "      encode_conditions[i, k] = np.nanmean(encode_conditions_SI[i, :, k], axis = 0)\n",
    "      repo_conditions[i, k] = np.nanmean(repo_conditions_SI[i, :, k], axis = 0)\n",
    "      RL_conditions[i, k] = np.nanmean(RL_conditions_SI[i, :, k], axis = 0)\n",
    "      median_RT_conditions[i, k] = np.nanmean(median_RT[i, :, k], axis = 0)\n",
    "\n",
    "print(median_RT_conditions.shape)\n",
    "print(encode_conditions.shape)"
   ]
  },
  {
   "cell_type": "markdown",
   "metadata": {
    "id": "Hc7rvwSD4esg"
   },
   "source": [
    "## Average Across Channels"
   ]
  },
  {
   "cell_type": "code",
   "execution_count": null,
   "metadata": {
    "colab": {
     "base_uri": "https://localhost:8080/"
    },
    "executionInfo": {
     "elapsed": 9,
     "status": "ok",
     "timestamp": 1702308925193,
     "user": {
      "displayName": "Harvey McCone",
      "userId": "11012039386955284988"
     },
     "user_tz": 0
    },
    "id": "y09N2fuO4esg",
    "outputId": "658f9725-2a0d-459d-ffcc-5b337f959687"
   },
   "outputs": [],
   "source": [
    "encode_conditions = np.mean(encode_conditions, axis = 2)\n",
    "repo_conditions = np.mean(repo_conditions, axis = 2)\n",
    "RL_conditions = np.mean(RL_conditions, axis = 2)\n",
    "\n",
    "print(encode_conditions.shape)"
   ]
  },
  {
   "cell_type": "markdown",
   "metadata": {
    "id": "r7xAQ4wV4esh"
   },
   "source": [
    "## Average Across Participants"
   ]
  },
  {
   "cell_type": "code",
   "execution_count": null,
   "metadata": {
    "colab": {
     "base_uri": "https://localhost:8080/"
    },
    "executionInfo": {
     "elapsed": 7,
     "status": "ok",
     "timestamp": 1702308925193,
     "user": {
      "displayName": "Harvey McCone",
      "userId": "11012039386955284988"
     },
     "user_tz": 0
    },
    "id": "9-XHv2694esh",
    "outputId": "46b83db3-4224-4302-e38c-16ceadb11ee3"
   },
   "outputs": [],
   "source": [
    "encode_conditions = np.mean(encode_conditions, axis = 0)\n",
    "repo_conditions = np.mean(repo_conditions, axis = 0)\n",
    "RL_conditions = np.mean(RL_conditions, axis = 0)\n",
    "\n",
    "median_RT_conditions = np.mean(median_RT_conditions, axis = 0)\n",
    "\n",
    "print(encode_conditions.shape)"
   ]
  },
  {
   "cell_type": "markdown",
   "metadata": {
    "id": "EWJMyzrp43gY"
   },
   "source": [
    "## Plot"
   ]
  },
  {
   "cell_type": "code",
   "execution_count": null,
   "metadata": {
    "colab": {
     "base_uri": "https://localhost:8080/"
    },
    "executionInfo": {
     "elapsed": 7,
     "status": "ok",
     "timestamp": 1702308925194,
     "user": {
      "displayName": "Harvey McCone",
      "userId": "11012039386955284988"
     },
     "user_tz": 0
    },
    "id": "BpBHobIBPTH9",
    "outputId": "948b7a9f-e991-4f65-96e0-00007bef0993"
   },
   "outputs": [],
   "source": [
    "from matplotlib import pyplot as plt\n",
    "%matplotlib inline\n",
    "plt.style.use(\"seaborn-colorblind\")\n",
    "labels = [\"Slower\", \"Faster\"]\n",
    "colors = [\"blue\", \"red\"]\n",
    "\n",
    "print(median_RT_conditions)"
   ]
  },
  {
   "cell_type": "code",
   "execution_count": null,
   "metadata": {
    "colab": {
     "base_uri": "https://localhost:8080/",
     "height": 514
    },
    "executionInfo": {
     "elapsed": 1937,
     "status": "ok",
     "timestamp": 1702308927126,
     "user": {
      "displayName": "Harvey McCone",
      "userId": "11012039386955284988"
     },
     "user_tz": 0
    },
    "id": "EYlrhY07PTH9",
    "outputId": "861d105a-7023-40c9-84b2-b796e614a726"
   },
   "outputs": [],
   "source": [
    "fig = plt.figure(figsize = (12,5))\n",
    "\n",
    "grid = plt.GridSpec(1, 3, wspace = 0.1)\n",
    "\n",
    "ax1 = fig.add_subplot(grid[0])\n",
    "ax2 = fig.add_subplot(grid[1])\n",
    "ax3 = fig.add_subplot(grid[2])\n",
    "\n",
    "## Encode Plot\n",
    "for j in range(0, n_bins):\n",
    "  sns.lineplot(x = beta_time[beta_time <= (800/1000)] * 1000, y = encode_conditions[j, 0, beta_time <= (800/1000)], color = colors[j], label = labels[j], linewidth = 3, ax = ax1, legend = False)\n",
    "\n",
    "## Remove box around first plot\n",
    "sns.despine(ax = ax1)\n",
    "\n",
    "## Plot legend\n",
    "#ax1.legend(fontsize = \"xx-large\", loc = \"lower left\", title = \"RT Bin\", title_fontsize = \"xx-large\")\n",
    "\n",
    "## Set Axes Labels and format of them\n",
    "ax1.set_xlabel(\"Time from SI Onset (ms)\", fontsize = \"xx-large\", labelpad = 5) # labelpad determines how far from axis the label is\n",
    "ax1.set_ylabel(\"Mu/Beta\" + \" \" + \"$(\\mu V/m^2)$\", fontsize = 25, labelpad = 5, weight='bold')\n",
    "\n",
    "## Set ylim - need to do this\n",
    "ax1.set_ylim(6.1, 8.35)\n",
    "\n",
    "## For modifying the ticks and the tick labels\n",
    "ax1.tick_params(labelsize = \"xx-large\")\n",
    "\n",
    "## Plotting vertical line at time of target onset\n",
    "ax1.vlines(0, ax1.get_ylim()[0], ax1.get_ylim()[1], color = \"k\", linestyle = \"dotted\", linewidth = 2)\n",
    "\n",
    "## Plotting text above target onset line\n",
    "ax1.text(x = -200, y = 8.4, s = \"SI Onset\", fontsize = \"xx-large\") # adjust x to move left or right\n",
    "\n",
    "## Repo Plot ##\n",
    "for j in range(0, n_bins):\n",
    "  sns.lineplot(x = beta_time_repo * 1000, y = repo_conditions[j, 0], label = labels[j], color = colors[j], linewidth = 3, ax = ax2, legend = False)\n",
    "\n",
    "## Remove box around second plot\n",
    "sns.despine(ax = ax2)\n",
    "## Set Axes Labels and format of them - decided not to plot y axis label on second plot\n",
    "ax2.set_xlabel(\"Time from Cue Onset (ms)\", fontsize = \"xx-large\", labelpad = 5)\n",
    "\n",
    "## Set ylim - need to do this manually for maximum customisation\n",
    "ax2.set_ylim(6.1, 8.35)\n",
    "\n",
    "## Add shaded portion ##\n",
    "b = 6.1\n",
    "t = 8.35\n",
    "bottom = b * (np.ones(len(beta_time_repo[repo_amplitude_window_start_idx : repo_amplitude_window_end_idx])))\n",
    "top =  t * (np.ones(len(beta_time_repo[repo_amplitude_window_start_idx : repo_amplitude_window_end_idx])))\n",
    "ax2.fill_between(x = beta_time_repo[repo_amplitude_window_start_idx : repo_amplitude_window_end_idx] * 1000, y1 = bottom, y2 = top, color = \"black\", alpha = 0.1)\n",
    "\n",
    "## Plotting vertical line at time of cue onset\n",
    "ax2.vlines(0, ax2.get_ylim()[0], ax2.get_ylim()[1], color = \"k\", linestyle = \"dotted\", linewidth = 2)\n",
    "\n",
    "## For modifying the ticks and the tick labels\n",
    "ax2.tick_params(labelsize = \"xx-large\")\n",
    "\n",
    "## Removing left spine from second plot\n",
    "ax2.spines[\"left\"].set_visible(False)\n",
    "ax2.set_yticks([])\n",
    "\n",
    "## Plotting text above cue onset line\n",
    "ax2.text(x = -150, y = 8.4, s = \"Cue Onset\", fontsize = \"xx-large\") # adjust x to move left or right\n",
    "\n",
    "## RL Plot ##\n",
    "for j in range(0, n_bins):\n",
    "  sns.lineplot(x = beta_time_RL[(beta_time_RL * 1000) > (-median_RT_conditions[j])] * 1000, y = RL_conditions[j, 0, (beta_time_RL * 1000) > (-median_RT_conditions[j])], label = labels[j], color = colors[j], linewidth = 3, ax = ax3, legend = False)\n",
    "  ax3.plot(beta_time_RL[np.where((beta_time_RL * 1000) > (-median_RT_conditions[j]))[0][0]] * 1000, RL_conditions[j, 0, np.where((beta_time_RL * 1000) > (-median_RT_conditions[j]))[0][0]], marker = \"o\", markersize = 10, markeredgecolor = \"k\", color = colors[j])\n",
    "\n",
    "## Remove box around second plot\n",
    "sns.despine(ax = ax3)\n",
    "## Set Axes Labels and format of them - decided not to plot y axis label on second plot\n",
    "ax3.set_xlabel(\"Time from Response (ms)\", fontsize = \"xx-large\", labelpad = 5)\n",
    "\n",
    "## Set ylim - need to do this manually for maximum customisation\n",
    "ax3.set_ylim(6.1, 8.35)\n",
    "\n",
    "## Add shaded portion ##\n",
    "b = 6.1\n",
    "t = 8.35\n",
    "bottom = b * (np.ones(len(beta_time_RL[RL_slope_window_start_idx : RL_slope_window_end_idx])))\n",
    "top =  t * (np.ones(len(beta_time_RL[RL_slope_window_start_idx : RL_slope_window_end_idx])))\n",
    "ax3.fill_between(x = beta_time_RL[RL_slope_window_start_idx : RL_slope_window_end_idx] * 1000, y1 = bottom, y2 = top, color = \"black\", alpha = 0.1)\n",
    "\n",
    "## For modifying the ticks and the tick labels\n",
    "ax3.tick_params(labelsize = \"xx-large\")\n",
    "\n",
    "## Plotting vertical dotted line response\n",
    "ax3.vlines(0, ax2.get_ylim()[0], ax3.get_ylim()[1], color = \"k\", linestyle = \"dotted\", linewidth = 2)\n",
    "\n",
    "## Plotting text above response line\n",
    "ax3.text(x = -200, y = 8.4, s = \"Response\", fontsize = \"xx-large\") # adjust x to move left or right\n",
    "\n",
    "## Removing left spine from second plot\n",
    "ax3.spines[\"left\"].set_visible(False)\n",
    "ax3.set_yticks([])\n",
    "\n",
    "fname = \"/content/drive/MyDrive/Time_Reproduction/Plots/Beta\" + \"Beta_Over_Under_Bins.png\"\n",
    "plt.savefig(fname, dpi = 300, bbox_inches = \"tight\")"
   ]
  },
  {
   "cell_type": "code",
   "execution_count": null,
   "metadata": {
    "executionInfo": {
     "elapsed": 10,
     "status": "ok",
     "timestamp": 1702308927126,
     "user": {
      "displayName": "Harvey McCone",
      "userId": "11012039386955284988"
     },
     "user_tz": 0
    },
    "id": "jQnNz2wF6F9w"
   },
   "outputs": [],
   "source": []
  }
 ],
 "metadata": {
  "colab": {
   "authorship_tag": "ABX9TyPZz6QESOvl3p3nQwIoG/RE",
   "provenance": [],
   "toc_visible": true
  },
  "kernelspec": {
   "display_name": "Python 3",
   "language": "python",
   "name": "python3"
  },
  "language_info": {
   "codemirror_mode": {
    "name": "ipython",
    "version": 3
   },
   "file_extension": ".py",
   "mimetype": "text/x-python",
   "name": "python",
   "nbconvert_exporter": "python",
   "pygments_lexer": "ipython3",
   "version": "3.7.6"
  }
 },
 "nbformat": 4,
 "nbformat_minor": 1
}
