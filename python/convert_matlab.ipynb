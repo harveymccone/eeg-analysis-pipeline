{
 "cells": [
  {
   "cell_type": "markdown",
   "metadata": {},
   "source": [
    "# Script Set-Up"
   ]
  },
  {
   "cell_type": "code",
   "execution_count": null,
   "metadata": {
    "lines_to_next_cell": 2
   },
   "outputs": [],
   "source": [
    "%matplotlib inline"
   ]
  },
  {
   "cell_type": "code",
   "execution_count": null,
   "metadata": {
    "lines_to_next_cell": 2
   },
   "outputs": [],
   "source": [
    "### Import Library\n",
    "from scipy.io import loadmat\n",
    "import os\n",
    "import numpy as np\n",
    "import mne\n",
    "from matplotlib import pyplot as plt\n",
    "import pandas as pd\n",
    "import matplotlib.colors as mcolors\n",
    "import math\n",
    "import numpy.ma as ma"
   ]
  },
  {
   "cell_type": "code",
   "execution_count": null,
   "metadata": {
    "lines_to_next_cell": 2
   },
   "outputs": [],
   "source": [
    "os.chdir('../../') "
   ]
  },
  {
   "cell_type": "code",
   "execution_count": null,
   "metadata": {},
   "outputs": [],
   "source": [
    "baseline = 1"
   ]
  },
  {
   "cell_type": "code",
   "execution_count": null,
   "metadata": {
    "lines_to_next_cell": 2
   },
   "outputs": [],
   "source": [
    "if baseline == 0:\n",
    "    baseline_name = \"own_baseline\"\n",
    "elif baseline == 1:\n",
    "    baseline_name = \"pre_interval_baseline\"\n",
    "elif baseline == 2:\n",
    "    baseline_name = \"repo_baseline\""
   ]
  },
  {
   "cell_type": "markdown",
   "metadata": {},
   "source": [
    "# Load data and convert into MNE Object\n",
    "- Aids subsequent plotting and analyses"
   ]
  },
  {
   "cell_type": "code",
   "execution_count": null,
   "metadata": {},
   "outputs": [],
   "source": [
    "ID_list = ['P1', 'P3', 'P4', 'P7', 'P10', 'P12', 'P15', 'P17', 'P19', 'P21', 'P22', 'P23', 'P24',\n",
    "           'P26', 'P27', 'P28', 'P29', 'P30']\n",
    "\n",
    "for ID in ID_list:\n",
    "    \n",
    "    ## Load data\n",
    "    index = ID_list.index('P1')\n",
    "    ID = ID_list[index]\n",
    "    \n",
    "    fname = \"Time_Reproduction_Data/\" + \"Alternate_Artifact_Rejection/\" + baseline_name + \"/Epochs_Arrays_CSD/\" + \"Response_Locked/\" + ID + \"_Response_Locked_All_CSD.mat\"\n",
    "    mat_dict = loadmat(fname)\n",
    "    response_locked_epochs_MAT_CSD = mat_dict['response_locked_epochs_CSD']\n",
    "    \n",
    "    fname = \"Time_Reproduction_Data/\" + \"Alternate_Artifact_Rejection/\" + baseline_name + \"/Epochs_Arrays_CSD/\" + \"Encode/\" + ID + \"_Encode_All_CSD\"\n",
    "    encoding_mat_dict = loadmat(fname)\n",
    "    encoding_epochs_MAT_CSD = encoding_mat_dict['encode_epochs_CSD']\n",
    "    \n",
    "    fname = \"Time_Reproduction_Data/\" + \"Alternate_Artifact_Rejection/\" + baseline_name + \"/Epochs_Arrays_CSD/\" + \"Reproduction/\" + ID + \"_Reproduction_All_CSD\"\n",
    "    reproduction_mat_dict = loadmat(fname)\n",
    "    repo_epochs_MAT_CSD = reproduction_mat_dict['repo_epochs_CSD']\n",
    "    \n",
    "    fname = \"Time_Reproduction_Data/\" + \"Alternate_Artifact_Rejection/\" + baseline_name + \"/Epochs_Arrays_CSD/\" + \"Offset/\" + ID + \"_Offset_All_CSD\"\n",
    "    offset_mat_dict = loadmat(fname)\n",
    "    offset_epochs_MAT_CSD = offset_mat_dict['offset_epochs_CSD']\n",
    "    \n",
    "    ## Setting Up Epochs Array for MNE\n",
    "    # Need to change dimensions to form of n_epochs, n_channels, n_samples\n",
    "    # Need to convert from uV/m^2 to V/m^2\n",
    "    \n",
    "    # Response-Locked Epochs\n",
    "    response_locked_epochs_MAT_CSD = np.moveaxis(response_locked_epochs_MAT_CSD, -1, 0) # change shape of epochs\n",
    "    response_locked_epochs_MAT_CSD = response_locked_epochs_MAT_CSD / 1e6 # convert from uV/m^2 to V/m^2\n",
    "    \n",
    "    # Encoding Epochs\n",
    "    encoding_epochs_MAT_CSD = np.moveaxis(encoding_epochs_MAT_CSD, -1, 0) # change shape of epochs\n",
    "    encoding_epochs_MAT_CSD = encoding_epochs_MAT_CSD / 1e6 # convert from uV/m^2 to V/m^2\n",
    "    \n",
    "    # Reproduction Epochs \n",
    "    repo_epochs_MAT_CSD = np.moveaxis(repo_epochs_MAT_CSD, -1, 0) # change shape of epochs\n",
    "    repo_epochs_MAT_CSD = repo_epochs_MAT_CSD / 1e6 # convert from uV/m^2 to V/m^2\n",
    "\n",
    "    # Offset Epochs \n",
    "    offset_epochs_MAT_CSD = np.moveaxis(offset_epochs_MAT_CSD, -1, 0) # change shape of epochs\n",
    "    offset_epochs_MAT_CSD = offset_epochs_MAT_CSD / 1e6 # convert from uV/m^2 to V/m^2\n",
    "    \n",
    "    ## Loading Original Epochs Object to get metadata and info\n",
    "    fname = \"Time_Reproduction_Data/\" + \"Alternate_Artifact_Rejection/\" + baseline_name + \"/Epochs/\" + \"Response_Locked/\" + ID + \"_RL_All_epo.fif\"\n",
    "    RL_epochs = mne.read_epochs(fname = fname, preload = True)\n",
    "\n",
    "    fname = \"Time_Reproduction_Data/\" + \"Alternate_Artifact_Rejection/\" + baseline_name + \"/Epochs/\" + \"Encode/\" + ID + \"_Encode_All_epo.fif\"\n",
    "    encoding_epochs = mne.read_epochs(fname = fname, preload = True)\n",
    "    \n",
    "    fname = \"Time_Reproduction_Data/\" + \"Alternate_Artifact_Rejection/\" + baseline_name + \"/Epochs/\" + \"Reproduction/\" + ID + \"_Reproduction_All_epo.fif\"\n",
    "    repo_epochs = mne.read_epochs(fname = fname, preload = True)\n",
    "    \n",
    "    fname = \"Time_Reproduction_Data/\" + \"Alternate_Artifact_Rejection/\" + \"pre_interval_baseline/\" + \"Epochs/\" + \"Offset/\" + ID + \"_Offset_All_epo.fif\"\n",
    "    offset_epochs = mne.read_epochs(fname = fname, preload = True)\n",
    "    \n",
    "    info = offset_epochs.average().info # get info from evoked rather than epochs because 128 channels only now that CSD has been applied\n",
    "    print(info)\n",
    "    \n",
    "    ## Create Response-Locked Epochs\n",
    "    metadata = RL_epochs.metadata\n",
    "    events = RL_epochs.events\n",
    "     \n",
    "    event_dict = {'Response/600':201,'Response/650':202,'Response/700':203,'Response/750':204,'Response/800':205,\n",
    "                   'Response/850':206,'Response/900':207,'Response/950':208,'Response/1000':209}\n",
    "    \n",
    "    RL_epochs_MAT_CSD = mne.EpochsArray(data = response_locked_epochs_MAT_CSD, info = info, tmin = -1.1, events = events,\n",
    "                                        event_id = event_dict, metadata = metadata, baseline = None, reject = None)\n",
    "    \n",
    "    ## Create Encoding Epochs\n",
    "    metadata = encoding_epochs.metadata\n",
    "    events = encoding_epochs.events\n",
    "    \n",
    "    event_dict = {'Encode/600':51,'Encode/650':52,'Encode/700':53,'Encode/750':54,'Encode/800':55,\n",
    "                          'Encode/850':56,'Encode/900':57,'Encode/950':58,'Encode/1000':59}\n",
    "    \n",
    "    encoding_epochs_MAT_CSD = mne.EpochsArray(data = encoding_epochs_MAT_CSD, info = info, tmin = -0.1, events = events,\n",
    "                                              event_id = event_dict, metadata = metadata, baseline = None, reject = None)\n",
    "    \n",
    "    ## Create Reproduction Epochs\n",
    "    metadata = repo_epochs.metadata\n",
    "    events = repo_epochs.events\n",
    "    \n",
    "    event_dict = {'Reproduction/600':151,'Reproduction/650':152,'Reproduction/700':153,'Reproduction/750':154,\n",
    "                  'Reproduction/800':155, 'Reproduction/850':156,'Reproduction/900':157,'Reproduction/950':158,\n",
    "                   'Reproduction/1000':159}\n",
    "     \n",
    "    repo_epochs_MAT_CSD = mne.EpochsArray(data = repo_epochs_MAT_CSD, info = info, tmin = -0.1, events = events,\n",
    "                                           event_id = event_dict, metadata = metadata, baseline = None, reject = None)\n",
    "    \n",
    "    ## Create Offset Epochs\n",
    "    metadata = offset_epochs.metadata\n",
    "    events = offset_epochs.events\n",
    "    \n",
    "    event_dict = {'End_Encode/600':101,'End_Encode/650':102,'End_Encode/700':103,\n",
    "                       'End_Encode/750':104,'End_Encode/800':105,'End_Encode/850':106,\n",
    "                       'End_Encode/900':107,'End_Encode/950':108,'End_Encode/1000':109}\n",
    "    \n",
    "    offset_epochs_MAT_CSD = mne.EpochsArray(data = offset_epochs_MAT_CSD, info = info, tmin = offset_epochs.tmin, events = events,\n",
    "                                          event_id = event_dict, metadata = metadata, baseline = None, reject = None)\n",
    "    \n",
    "    ## Save Files\n",
    "    fname = \"Time_Reproduction_Data/\" + \"Alternate_Artifact_Rejection/\" + baseline_name + \"/Epochs/\" + \"Response_Locked/\" + ID + \"_RL_All_MAT_CSD_epo.fif\"\n",
    "    RL_epochs_MAT_CSD.save(fname = fname, overwrite = True)\n",
    "    \n",
    "    fname = \"Time_Reproduction_Data/\" + \"Alternate_Artifact_Rejection/\" + baseline_name + \"/Epochs/\" + \"Encode/\" + ID + \"_Encode_All_MAT_CSD_epo.fif\"\n",
    "    encoding_epochs_MAT_CSD.save(fname = fname, overwrite = True)\n",
    "    \n",
    "    fname = \"Time_Reproduction_Data/\" + \"Alternate_Artifact_Rejection/\" + baseline_name + \"/Epochs/\" + \"Reproduction/\" + ID + \"_Reproduction_All_MAT_CSD_epo.fif\"\n",
    "    repo_epochs_MAT_CSD.save(fname = fname, overwrite = True)\n",
    "    \n",
    "    fname = \"Time_Reproduction_Data/\" + \"Alternate_Artifact_Rejection/\" + \"pre_interval_baseline/\" + \"Epochs/\" + \"Offset/\" + ID + \"_Offset_All_MAT_CSD_epo.fif\"\n",
    "    offset_epochs_MAT_CSD.save(fname = fname, overwrite = True)"
   ]
  }
 ],
 "metadata": {
  "jupytext": {
   "formats": "py:light,ipynb"
  },
  "kernelspec": {
   "display_name": "Python 3",
   "language": "python",
   "name": "python3"
  },
  "language_info": {
   "codemirror_mode": {
    "name": "ipython",
    "version": 3
   },
   "file_extension": ".py",
   "mimetype": "text/x-python",
   "name": "python",
   "nbconvert_exporter": "python",
   "pygments_lexer": "ipython3",
   "version": "3.7.6"
  }
 },
 "nbformat": 4,
 "nbformat_minor": 4
}
